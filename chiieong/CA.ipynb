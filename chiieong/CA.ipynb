{
 "cells": [
  {
   "cell_type": "code",
   "execution_count": 4,
   "id": "bb8e7141",
   "metadata": {},
   "outputs": [],
   "source": [
    "import pandas as pd"
   ]
  },
  {
   "cell_type": "code",
   "execution_count": 57,
   "id": "4b5aa3c8",
   "metadata": {},
   "outputs": [],
   "source": [
    "import numpy as np"
   ]
  },
  {
   "cell_type": "code",
   "execution_count": 5,
   "id": "38ffe6be",
   "metadata": {},
   "outputs": [],
   "source": [
    "import matplotlib.pyplot as plt"
   ]
  },
  {
   "cell_type": "code",
   "execution_count": 6,
   "id": "0a37e802",
   "metadata": {},
   "outputs": [],
   "source": [
    "import datetime as dt"
   ]
  },
  {
   "cell_type": "code",
   "execution_count": 135,
   "id": "7a14863c",
   "metadata": {},
   "outputs": [],
   "source": [
    "# time series\n",
    "from statsmodels.tsa.seasonal import seasonal_decompose"
   ]
  },
  {
   "cell_type": "code",
   "execution_count": null,
   "id": "6ab88a98",
   "metadata": {},
   "outputs": [],
   "source": [
    "from statsmodels.tsa.seasonal import STL"
   ]
  },
  {
   "cell_type": "code",
   "execution_count": 7,
   "id": "b72be283",
   "metadata": {
    "scrolled": false
   },
   "outputs": [],
   "source": [
    "data = pd.read_csv(\"gemini_BTCUSD_day.csv\")"
   ]
  },
  {
   "cell_type": "code",
   "execution_count": 8,
   "id": "15cc359a",
   "metadata": {},
   "outputs": [
    {
     "data": {
      "text/html": [
       "<div>\n",
       "<style scoped>\n",
       "    .dataframe tbody tr th:only-of-type {\n",
       "        vertical-align: middle;\n",
       "    }\n",
       "\n",
       "    .dataframe tbody tr th {\n",
       "        vertical-align: top;\n",
       "    }\n",
       "\n",
       "    .dataframe thead th {\n",
       "        text-align: right;\n",
       "    }\n",
       "</style>\n",
       "<table border=\"1\" class=\"dataframe\">\n",
       "  <thead>\n",
       "    <tr style=\"text-align: right;\">\n",
       "      <th></th>\n",
       "      <th>Unix Timestamp</th>\n",
       "      <th>Date</th>\n",
       "      <th>Symbol</th>\n",
       "      <th>Open</th>\n",
       "      <th>High</th>\n",
       "      <th>Low</th>\n",
       "      <th>Close</th>\n",
       "      <th>Volume</th>\n",
       "    </tr>\n",
       "  </thead>\n",
       "  <tbody>\n",
       "    <tr>\n",
       "      <th>0</th>\n",
       "      <td>1.642390e+12</td>\n",
       "      <td>17/01/2022 04:00</td>\n",
       "      <td>BTCUSD</td>\n",
       "      <td>42655.12</td>\n",
       "      <td>42976.61</td>\n",
       "      <td>41559.11</td>\n",
       "      <td>42236.96</td>\n",
       "      <td>556.178715</td>\n",
       "    </tr>\n",
       "    <tr>\n",
       "      <th>1</th>\n",
       "      <td>1.642310e+12</td>\n",
       "      <td>16/01/2022 04:00</td>\n",
       "      <td>BTCUSD</td>\n",
       "      <td>43022.38</td>\n",
       "      <td>43499.99</td>\n",
       "      <td>42583.00</td>\n",
       "      <td>42655.12</td>\n",
       "      <td>622.078099</td>\n",
       "    </tr>\n",
       "    <tr>\n",
       "      <th>2</th>\n",
       "      <td>1.642220e+12</td>\n",
       "      <td>15/01/2022 04:00</td>\n",
       "      <td>BTCUSD</td>\n",
       "      <td>42947.72</td>\n",
       "      <td>43811.44</td>\n",
       "      <td>42590.52</td>\n",
       "      <td>43022.38</td>\n",
       "      <td>850.111677</td>\n",
       "    </tr>\n",
       "    <tr>\n",
       "      <th>3</th>\n",
       "      <td>1.642130e+12</td>\n",
       "      <td>14/01/2022 04:00</td>\n",
       "      <td>BTCUSD</td>\n",
       "      <td>42679.68</td>\n",
       "      <td>43462.53</td>\n",
       "      <td>41789.82</td>\n",
       "      <td>42947.72</td>\n",
       "      <td>800.802511</td>\n",
       "    </tr>\n",
       "    <tr>\n",
       "      <th>4</th>\n",
       "      <td>1.642050e+12</td>\n",
       "      <td>13/01/2022 04:00</td>\n",
       "      <td>BTCUSD</td>\n",
       "      <td>43525.85</td>\n",
       "      <td>44443.94</td>\n",
       "      <td>42326.63</td>\n",
       "      <td>42679.68</td>\n",
       "      <td>1120.790154</td>\n",
       "    </tr>\n",
       "  </tbody>\n",
       "</table>\n",
       "</div>"
      ],
      "text/plain": [
       "   Unix Timestamp              Date  Symbol      Open      High       Low  \\\n",
       "0    1.642390e+12  17/01/2022 04:00  BTCUSD  42655.12  42976.61  41559.11   \n",
       "1    1.642310e+12  16/01/2022 04:00  BTCUSD  43022.38  43499.99  42583.00   \n",
       "2    1.642220e+12  15/01/2022 04:00  BTCUSD  42947.72  43811.44  42590.52   \n",
       "3    1.642130e+12  14/01/2022 04:00  BTCUSD  42679.68  43462.53  41789.82   \n",
       "4    1.642050e+12  13/01/2022 04:00  BTCUSD  43525.85  44443.94  42326.63   \n",
       "\n",
       "      Close       Volume  \n",
       "0  42236.96   556.178715  \n",
       "1  42655.12   622.078099  \n",
       "2  43022.38   850.111677  \n",
       "3  42947.72   800.802511  \n",
       "4  42679.68  1120.790154  "
      ]
     },
     "execution_count": 8,
     "metadata": {},
     "output_type": "execute_result"
    }
   ],
   "source": [
    "data.head()"
   ]
  },
  {
   "cell_type": "code",
   "execution_count": 9,
   "id": "2aef171b",
   "metadata": {},
   "outputs": [
    {
     "data": {
      "text/html": [
       "<div>\n",
       "<style scoped>\n",
       "    .dataframe tbody tr th:only-of-type {\n",
       "        vertical-align: middle;\n",
       "    }\n",
       "\n",
       "    .dataframe tbody tr th {\n",
       "        vertical-align: top;\n",
       "    }\n",
       "\n",
       "    .dataframe thead th {\n",
       "        text-align: right;\n",
       "    }\n",
       "</style>\n",
       "<table border=\"1\" class=\"dataframe\">\n",
       "  <thead>\n",
       "    <tr style=\"text-align: right;\">\n",
       "      <th></th>\n",
       "      <th>Unix Timestamp</th>\n",
       "      <th>Date</th>\n",
       "      <th>Symbol</th>\n",
       "      <th>Open</th>\n",
       "      <th>High</th>\n",
       "      <th>Low</th>\n",
       "      <th>Close</th>\n",
       "      <th>Volume</th>\n",
       "    </tr>\n",
       "  </thead>\n",
       "  <tbody>\n",
       "    <tr>\n",
       "      <th>2289</th>\n",
       "      <td>1.444622e+09</td>\n",
       "      <td>12/10/2015 04:00</td>\n",
       "      <td>BTCUSD</td>\n",
       "      <td>248.98</td>\n",
       "      <td>248.98</td>\n",
       "      <td>245.75</td>\n",
       "      <td>245.75</td>\n",
       "      <td>71.047743</td>\n",
       "    </tr>\n",
       "    <tr>\n",
       "      <th>2290</th>\n",
       "      <td>1.444536e+09</td>\n",
       "      <td>11/10/2015 04:00</td>\n",
       "      <td>BTCUSD</td>\n",
       "      <td>246.30</td>\n",
       "      <td>249.50</td>\n",
       "      <td>245.96</td>\n",
       "      <td>248.98</td>\n",
       "      <td>22.747091</td>\n",
       "    </tr>\n",
       "    <tr>\n",
       "      <th>2291</th>\n",
       "      <td>1.444450e+09</td>\n",
       "      <td>10/10/2015 04:00</td>\n",
       "      <td>BTCUSD</td>\n",
       "      <td>245.51</td>\n",
       "      <td>246.30</td>\n",
       "      <td>244.60</td>\n",
       "      <td>246.30</td>\n",
       "      <td>30.870549</td>\n",
       "    </tr>\n",
       "    <tr>\n",
       "      <th>2292</th>\n",
       "      <td>1.444363e+09</td>\n",
       "      <td>09/10/2015 04:00</td>\n",
       "      <td>BTCUSD</td>\n",
       "      <td>243.60</td>\n",
       "      <td>249.97</td>\n",
       "      <td>243.60</td>\n",
       "      <td>245.51</td>\n",
       "      <td>61.587068</td>\n",
       "    </tr>\n",
       "    <tr>\n",
       "      <th>2293</th>\n",
       "      <td>1.444277e+09</td>\n",
       "      <td>08/10/2015 04:00</td>\n",
       "      <td>BTCUSD</td>\n",
       "      <td>0.00</td>\n",
       "      <td>245.00</td>\n",
       "      <td>0.00</td>\n",
       "      <td>243.60</td>\n",
       "      <td>34.754703</td>\n",
       "    </tr>\n",
       "  </tbody>\n",
       "</table>\n",
       "</div>"
      ],
      "text/plain": [
       "      Unix Timestamp              Date  Symbol    Open    High     Low  \\\n",
       "2289    1.444622e+09  12/10/2015 04:00  BTCUSD  248.98  248.98  245.75   \n",
       "2290    1.444536e+09  11/10/2015 04:00  BTCUSD  246.30  249.50  245.96   \n",
       "2291    1.444450e+09  10/10/2015 04:00  BTCUSD  245.51  246.30  244.60   \n",
       "2292    1.444363e+09  09/10/2015 04:00  BTCUSD  243.60  249.97  243.60   \n",
       "2293    1.444277e+09  08/10/2015 04:00  BTCUSD    0.00  245.00    0.00   \n",
       "\n",
       "       Close     Volume  \n",
       "2289  245.75  71.047743  \n",
       "2290  248.98  22.747091  \n",
       "2291  246.30  30.870549  \n",
       "2292  245.51  61.587068  \n",
       "2293  243.60  34.754703  "
      ]
     },
     "execution_count": 9,
     "metadata": {},
     "output_type": "execute_result"
    }
   ],
   "source": [
    "data.tail()"
   ]
  },
  {
   "cell_type": "code",
   "execution_count": 10,
   "id": "6cd5600c",
   "metadata": {},
   "outputs": [],
   "source": [
    "data_close = data['Close']"
   ]
  },
  {
   "cell_type": "code",
   "execution_count": 11,
   "id": "40f8322f",
   "metadata": {},
   "outputs": [],
   "source": [
    "data_close = data_close.values.reshape(len(data_close), 1)"
   ]
  },
  {
   "cell_type": "code",
   "execution_count": 12,
   "id": "328bd0d1",
   "metadata": {},
   "outputs": [],
   "source": [
    "data_date = data['Date']"
   ]
  },
  {
   "cell_type": "code",
   "execution_count": 14,
   "id": "73fc59e7",
   "metadata": {},
   "outputs": [
    {
     "data": {
      "text/plain": [
       "'17/01/2022 04:00'"
      ]
     },
     "execution_count": 14,
     "metadata": {},
     "output_type": "execute_result"
    }
   ],
   "source": [
    "data_date[0]"
   ]
  },
  {
   "cell_type": "code",
   "execution_count": 76,
   "id": "c132758d",
   "metadata": {},
   "outputs": [
    {
     "data": {
      "text/plain": [
       "2294"
      ]
     },
     "execution_count": 76,
     "metadata": {},
     "output_type": "execute_result"
    }
   ],
   "source": [
    "len(data_date)"
   ]
  },
  {
   "cell_type": "code",
   "execution_count": 132,
   "id": "618f0c66",
   "metadata": {
    "scrolled": false
   },
   "outputs": [
    {
     "data": {
      "image/png": "[encoded data removed]",
      "text/plain": [
       "<Figure size 1008x288 with 1 Axes>"
      ]
     },
     "metadata": {
      "needs_background": "light"
     },
     "output_type": "display_data"
    },
    {
     "data": {
      "text/plain": [
       "<Figure size 1008x288 with 0 Axes>"
      ]
     },
     "metadata": {},
     "output_type": "display_data"
    }
   ],
   "source": [
    "plt.title(\"BitCoin Price\", fontsize=20)\n",
    "plt.xlabel('year')\n",
    "plt.ylabel('USD')\n",
    "plt.rcParams[\"figure.figsize\"] = (14,4)\n",
    "plt.plot(data_close)\n",
    "plt.xticks(np.linspace(0,len(data_date),8,endpoint=True),['2015','2016','2017','2018','2019','2020','2021','2022'])\n",
    "plt.figure()\n",
    "plt.show()"
   ]
  },
  {
   "cell_type": "code",
   "execution_count": 188,
   "id": "da0f8d7e",
   "metadata": {
    "scrolled": false
   },
   "outputs": [
    {
     "data": {
      "image/png": "[encoded data removed]",
      "text/plain": [
       "<Figure size 1008x288 with 4 Axes>"
      ]
     },
     "metadata": {
      "needs_background": "light"
     },
     "output_type": "display_data"
    }
   ],
   "source": [
    "# Time Series:\n",
    "# multiplicative: yt = St x Tt x Et*\n",
    "forecast = seasonal_decompose(data['Close'].values, 'multiplicative', period=1)\n",
    "# freq 5(trading days per week), 20(per month), 253(per year)\n",
    "forecast.plot()\n",
    "plt.show()"
   ]
  }
 ],
 "metadata": {
  "kernelspec": {
   "display_name": "Python 3 (ipykernel)",
   "language": "python",
   "name": "python3"
  },
  "language_info": {
   "codemirror_mode": {
    "name": "ipython",
    "version": 3
   },
   "file_extension": ".py",
   "mimetype": "text/x-python",
   "name": "python",
   "nbconvert_exporter": "python",
   "pygments_lexer": "ipython3",
   "version": "3.8.10"
  }
 },
 "nbformat": 4,
 "nbformat_minor": 5
}
