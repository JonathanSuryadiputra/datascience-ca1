{
 "cells": [
  {
   "cell_type": "code",
   "execution_count": 1,
   "id": "1a215d4c-56ac-4087-8f64-3c40cb5b46c2",
   "metadata": {},
   "outputs": [],
   "source": [
    "import pandas as pd"
   ]
  },
  {
   "cell_type": "code",
   "execution_count": 2,
   "id": "8e24ea1a-f652-4207-995b-704c0348c318",
   "metadata": {},
   "outputs": [],
   "source": [
    "csv_path = \"file/gemini_BTCUSD_2015_1min.csv\"\n",
    "df = pd.read_csv(csv_path, parse_dates=['Date'])\n",
    "df = df.sort_values('Date')"
   ]
  },
  {
   "cell_type": "code",
   "execution_count": 3,
   "id": "981f9a9e-2d60-47e3-8266-99abafe9f0c6",
   "metadata": {},
   "outputs": [
    {
     "name": "stdout",
     "output_type": "stream",
     "text": [
      "        Unix Timestamp                Date  Symbol    Open    High     Low  \\\n",
      "121579      1444311600 2015-10-08 13:40:00  BTCUSD    0.00  242.50    0.00   \n",
      "121578      1444311660 2015-10-08 13:41:00  BTCUSD  242.50  242.95  242.50   \n",
      "121577      1444311720 2015-10-08 13:42:00  BTCUSD  242.95  242.95  242.95   \n",
      "121576      1444311780 2015-10-08 13:43:00  BTCUSD  242.95  242.96  242.95   \n",
      "121575      1444311840 2015-10-08 13:44:00  BTCUSD  242.96  242.96  242.96   \n",
      "...                ...                 ...     ...     ...     ...     ...   \n",
      "4           1451606100 2015-12-31 23:55:00  BTCUSD  429.95  429.95  429.95   \n",
      "3           1451606160 2015-12-31 23:56:00  BTCUSD  429.95  429.95  429.95   \n",
      "2           1451606220 2015-12-31 23:57:00  BTCUSD  429.95  429.95  429.95   \n",
      "1           1451606280 2015-12-31 23:58:00  BTCUSD  429.95  429.95  429.95   \n",
      "0           1451606340 2015-12-31 23:59:00  BTCUSD  429.95  429.95  429.95   \n",
      "\n",
      "         Close    Volume  \n",
      "121579  242.50  0.050000  \n",
      "121578  242.95  0.001000  \n",
      "121577  242.95  0.000000  \n",
      "121576  242.96  0.010000  \n",
      "121575  242.96  0.033491  \n",
      "...        ...       ...  \n",
      "4       429.95  0.000000  \n",
      "3       429.95  0.000000  \n",
      "2       429.95  0.000000  \n",
      "1       429.95  0.000000  \n",
      "0       429.95  0.000000  \n",
      "\n",
      "[121580 rows x 8 columns]\n"
     ]
    }
   ],
   "source": [
    "print(df)"
   ]
  },
  {
   "cell_type": "code",
   "execution_count": null,
   "id": "499d2b44-3bd2-4172-9358-567b09d4c0cf",
   "metadata": {},
   "outputs": [],
   "source": []
  }
 ],
 "metadata": {
  "kernelspec": {
   "display_name": "Python 3 (ipykernel)",
   "language": "python",
   "name": "python3"
  },
  "language_info": {
   "codemirror_mode": {
    "name": "ipython",
    "version": 3
   },
   "file_extension": ".py",
   "mimetype": "text/x-python",
   "name": "python",
   "nbconvert_exporter": "python",
   "pygments_lexer": "ipython3",
   "version": "3.9.0"
  }
 },
 "nbformat": 4,
 "nbformat_minor": 5
}
