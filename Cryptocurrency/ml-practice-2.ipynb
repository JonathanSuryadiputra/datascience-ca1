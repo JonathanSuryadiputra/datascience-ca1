{
 "cells": [
  {
   "cell_type": "markdown",
   "id": "8028ca5f",
   "metadata": {},
   "source": [
    "# Predicting BitCoin prices"
   ]
  },
  {
   "cell_type": "code",
   "execution_count": 1,
   "id": "b50ac225",
   "metadata": {},
   "outputs": [],
   "source": [
    "# Import the libraries\n",
    "import numpy as np\n",
    "import pandas as pd"
   ]
  },
  {
   "cell_type": "code",
   "execution_count": 4,
   "id": "f4629748",
   "metadata": {},
   "outputs": [],
   "source": [
    "# 1. Get historic stock prices\n",
    "data = pd.read_csv(\"/Users/karenzhang/Documents/DS_Project/datascience-ca1/Cryptocurrency/file/gemini_BTCUSD_2015_1min.csv\")"
   ]
  },
  {
   "cell_type": "code",
   "execution_count": 5,
   "id": "9592a0b4",
   "metadata": {},
   "outputs": [
    {
     "data": {
      "text/plain": "   Unix Timestamp                 Date  Symbol    Open    High     Low  \\\n0      1451606340  2015-12-31 23:59:00  BTCUSD  429.95  429.95  429.95   \n1      1451606280  2015-12-31 23:58:00  BTCUSD  429.95  429.95  429.95   \n2      1451606220  2015-12-31 23:57:00  BTCUSD  429.95  429.95  429.95   \n3      1451606160  2015-12-31 23:56:00  BTCUSD  429.95  429.95  429.95   \n4      1451606100  2015-12-31 23:55:00  BTCUSD  429.95  429.95  429.95   \n5      1451606040  2015-12-31 23:54:00  BTCUSD  432.01  432.01  429.95   \n6      1451605980  2015-12-31 23:53:00  BTCUSD  432.01  432.01  432.01   \n\n    Close  Volume  \n0  429.95   0.000  \n1  429.95   0.000  \n2  429.95   0.000  \n3  429.95   0.000  \n4  429.95   0.000  \n5  429.95   0.137  \n6  432.01   0.000  ",
      "text/html": "<div>\n<style scoped>\n    .dataframe tbody tr th:only-of-type {\n        vertical-align: middle;\n    }\n\n    .dataframe tbody tr th {\n        vertical-align: top;\n    }\n\n    .dataframe thead th {\n        text-align: right;\n    }\n</style>\n<table border=\"1\" class=\"dataframe\">\n  <thead>\n    <tr style=\"text-align: right;\">\n      <th></th>\n      <th>Unix Timestamp</th>\n      <th>Date</th>\n      <th>Symbol</th>\n      <th>Open</th>\n      <th>High</th>\n      <th>Low</th>\n      <th>Close</th>\n      <th>Volume</th>\n    </tr>\n  </thead>\n  <tbody>\n    <tr>\n      <th>0</th>\n      <td>1451606340</td>\n      <td>2015-12-31 23:59:00</td>\n      <td>BTCUSD</td>\n      <td>429.95</td>\n      <td>429.95</td>\n      <td>429.95</td>\n      <td>429.95</td>\n      <td>0.000</td>\n    </tr>\n    <tr>\n      <th>1</th>\n      <td>1451606280</td>\n      <td>2015-12-31 23:58:00</td>\n      <td>BTCUSD</td>\n      <td>429.95</td>\n      <td>429.95</td>\n      <td>429.95</td>\n      <td>429.95</td>\n      <td>0.000</td>\n    </tr>\n    <tr>\n      <th>2</th>\n      <td>1451606220</td>\n      <td>2015-12-31 23:57:00</td>\n      <td>BTCUSD</td>\n      <td>429.95</td>\n      <td>429.95</td>\n      <td>429.95</td>\n      <td>429.95</td>\n      <td>0.000</td>\n    </tr>\n    <tr>\n      <th>3</th>\n      <td>1451606160</td>\n      <td>2015-12-31 23:56:00</td>\n      <td>BTCUSD</td>\n      <td>429.95</td>\n      <td>429.95</td>\n      <td>429.95</td>\n      <td>429.95</td>\n      <td>0.000</td>\n    </tr>\n    <tr>\n      <th>4</th>\n      <td>1451606100</td>\n      <td>2015-12-31 23:55:00</td>\n      <td>BTCUSD</td>\n      <td>429.95</td>\n      <td>429.95</td>\n      <td>429.95</td>\n      <td>429.95</td>\n      <td>0.000</td>\n    </tr>\n    <tr>\n      <th>5</th>\n      <td>1451606040</td>\n      <td>2015-12-31 23:54:00</td>\n      <td>BTCUSD</td>\n      <td>432.01</td>\n      <td>432.01</td>\n      <td>429.95</td>\n      <td>429.95</td>\n      <td>0.137</td>\n    </tr>\n    <tr>\n      <th>6</th>\n      <td>1451605980</td>\n      <td>2015-12-31 23:53:00</td>\n      <td>BTCUSD</td>\n      <td>432.01</td>\n      <td>432.01</td>\n      <td>432.01</td>\n      <td>432.01</td>\n      <td>0.000</td>\n    </tr>\n  </tbody>\n</table>\n</div>"
     },
     "execution_count": 5,
     "metadata": {},
     "output_type": "execute_result"
    }
   ],
   "source": [
    "data.head(7)"
   ]
  },
  {
   "cell_type": "code",
   "execution_count": 7,
   "id": "042c8fc5",
   "metadata": {},
   "outputs": [
    {
     "name": "stderr",
     "output_type": "stream",
     "text": [
      "/var/folders/vg/g5plvkb95md1461h4qh30d200000gn/T/ipykernel_30116/468800241.py:1: FutureWarning: In a future version of pandas all arguments of DataFrame.drop except for the argument 'labels' will be keyword-only\n",
      "  data.drop(['Date'], 1, inplace=True)\n"
     ]
    }
   ],
   "source": [
    "data.drop(['Date'], 1, inplace=True)"
   ]
  },
  {
   "cell_type": "code",
   "execution_count": 8,
   "id": "759c79f6",
   "metadata": {},
   "outputs": [
    {
     "data": {
      "text/plain": "   Unix Timestamp  Symbol    Open    High     Low   Close  Volume\n0      1451606340  BTCUSD  429.95  429.95  429.95  429.95   0.000\n1      1451606280  BTCUSD  429.95  429.95  429.95  429.95   0.000\n2      1451606220  BTCUSD  429.95  429.95  429.95  429.95   0.000\n3      1451606160  BTCUSD  429.95  429.95  429.95  429.95   0.000\n4      1451606100  BTCUSD  429.95  429.95  429.95  429.95   0.000\n5      1451606040  BTCUSD  432.01  432.01  429.95  429.95   0.137\n6      1451605980  BTCUSD  432.01  432.01  432.01  432.01   0.000",
      "text/html": "<div>\n<style scoped>\n    .dataframe tbody tr th:only-of-type {\n        vertical-align: middle;\n    }\n\n    .dataframe tbody tr th {\n        vertical-align: top;\n    }\n\n    .dataframe thead th {\n        text-align: right;\n    }\n</style>\n<table border=\"1\" class=\"dataframe\">\n  <thead>\n    <tr style=\"text-align: right;\">\n      <th></th>\n      <th>Unix Timestamp</th>\n      <th>Symbol</th>\n      <th>Open</th>\n      <th>High</th>\n      <th>Low</th>\n      <th>Close</th>\n      <th>Volume</th>\n    </tr>\n  </thead>\n  <tbody>\n    <tr>\n      <th>0</th>\n      <td>1451606340</td>\n      <td>BTCUSD</td>\n      <td>429.95</td>\n      <td>429.95</td>\n      <td>429.95</td>\n      <td>429.95</td>\n      <td>0.000</td>\n    </tr>\n    <tr>\n      <th>1</th>\n      <td>1451606280</td>\n      <td>BTCUSD</td>\n      <td>429.95</td>\n      <td>429.95</td>\n      <td>429.95</td>\n      <td>429.95</td>\n      <td>0.000</td>\n    </tr>\n    <tr>\n      <th>2</th>\n      <td>1451606220</td>\n      <td>BTCUSD</td>\n      <td>429.95</td>\n      <td>429.95</td>\n      <td>429.95</td>\n      <td>429.95</td>\n      <td>0.000</td>\n    </tr>\n    <tr>\n      <th>3</th>\n      <td>1451606160</td>\n      <td>BTCUSD</td>\n      <td>429.95</td>\n      <td>429.95</td>\n      <td>429.95</td>\n      <td>429.95</td>\n      <td>0.000</td>\n    </tr>\n    <tr>\n      <th>4</th>\n      <td>1451606100</td>\n      <td>BTCUSD</td>\n      <td>429.95</td>\n      <td>429.95</td>\n      <td>429.95</td>\n      <td>429.95</td>\n      <td>0.000</td>\n    </tr>\n    <tr>\n      <th>5</th>\n      <td>1451606040</td>\n      <td>BTCUSD</td>\n      <td>432.01</td>\n      <td>432.01</td>\n      <td>429.95</td>\n      <td>429.95</td>\n      <td>0.137</td>\n    </tr>\n    <tr>\n      <th>6</th>\n      <td>1451605980</td>\n      <td>BTCUSD</td>\n      <td>432.01</td>\n      <td>432.01</td>\n      <td>432.01</td>\n      <td>432.01</td>\n      <td>0.000</td>\n    </tr>\n  </tbody>\n</table>\n</div>"
     },
     "execution_count": 8,
     "metadata": {},
     "output_type": "execute_result"
    }
   ],
   "source": [
    "data.head(7)"
   ]
  },
  {
   "cell_type": "code",
   "execution_count": 9,
   "id": "8c0b3672",
   "metadata": {},
   "outputs": [],
   "source": [
    "# a variable for predicting 'n' days out into the future\n",
    "prediction_days = 90 #n = prediction_days\n",
    "\n",
    "# create another column shifted 'n' units up\n",
    "data['Prediction'] = data[['Close']].shift(-prediction_days)"
   ]
  },
  {
   "cell_type": "code",
   "execution_count": 10,
   "id": "0ec408b1",
   "metadata": {},
   "outputs": [
    {
     "data": {
      "text/plain": "   Unix Timestamp  Symbol    Open    High     Low   Close  Volume  Prediction\n0      1451606340  BTCUSD  429.95  429.95  429.95  429.95   0.000       433.5\n1      1451606280  BTCUSD  429.95  429.95  429.95  429.95   0.000       433.5\n2      1451606220  BTCUSD  429.95  429.95  429.95  429.95   0.000       433.5\n3      1451606160  BTCUSD  429.95  429.95  429.95  429.95   0.000       433.5\n4      1451606100  BTCUSD  429.95  429.95  429.95  429.95   0.000       433.5\n5      1451606040  BTCUSD  432.01  432.01  429.95  429.95   0.137       433.5\n6      1451605980  BTCUSD  432.01  432.01  432.01  432.01   0.000       433.5",
      "text/html": "<div>\n<style scoped>\n    .dataframe tbody tr th:only-of-type {\n        vertical-align: middle;\n    }\n\n    .dataframe tbody tr th {\n        vertical-align: top;\n    }\n\n    .dataframe thead th {\n        text-align: right;\n    }\n</style>\n<table border=\"1\" class=\"dataframe\">\n  <thead>\n    <tr style=\"text-align: right;\">\n      <th></th>\n      <th>Unix Timestamp</th>\n      <th>Symbol</th>\n      <th>Open</th>\n      <th>High</th>\n      <th>Low</th>\n      <th>Close</th>\n      <th>Volume</th>\n      <th>Prediction</th>\n    </tr>\n  </thead>\n  <tbody>\n    <tr>\n      <th>0</th>\n      <td>1451606340</td>\n      <td>BTCUSD</td>\n      <td>429.95</td>\n      <td>429.95</td>\n      <td>429.95</td>\n      <td>429.95</td>\n      <td>0.000</td>\n      <td>433.5</td>\n    </tr>\n    <tr>\n      <th>1</th>\n      <td>1451606280</td>\n      <td>BTCUSD</td>\n      <td>429.95</td>\n      <td>429.95</td>\n      <td>429.95</td>\n      <td>429.95</td>\n      <td>0.000</td>\n      <td>433.5</td>\n    </tr>\n    <tr>\n      <th>2</th>\n      <td>1451606220</td>\n      <td>BTCUSD</td>\n      <td>429.95</td>\n      <td>429.95</td>\n      <td>429.95</td>\n      <td>429.95</td>\n      <td>0.000</td>\n      <td>433.5</td>\n    </tr>\n    <tr>\n      <th>3</th>\n      <td>1451606160</td>\n      <td>BTCUSD</td>\n      <td>429.95</td>\n      <td>429.95</td>\n      <td>429.95</td>\n      <td>429.95</td>\n      <td>0.000</td>\n      <td>433.5</td>\n    </tr>\n    <tr>\n      <th>4</th>\n      <td>1451606100</td>\n      <td>BTCUSD</td>\n      <td>429.95</td>\n      <td>429.95</td>\n      <td>429.95</td>\n      <td>429.95</td>\n      <td>0.000</td>\n      <td>433.5</td>\n    </tr>\n    <tr>\n      <th>5</th>\n      <td>1451606040</td>\n      <td>BTCUSD</td>\n      <td>432.01</td>\n      <td>432.01</td>\n      <td>429.95</td>\n      <td>429.95</td>\n      <td>0.137</td>\n      <td>433.5</td>\n    </tr>\n    <tr>\n      <th>6</th>\n      <td>1451605980</td>\n      <td>BTCUSD</td>\n      <td>432.01</td>\n      <td>432.01</td>\n      <td>432.01</td>\n      <td>432.01</td>\n      <td>0.000</td>\n      <td>433.5</td>\n    </tr>\n  </tbody>\n</table>\n</div>"
     },
     "execution_count": 10,
     "metadata": {},
     "output_type": "execute_result"
    }
   ],
   "source": [
    "# show first 7 rows of the new dataset\n",
    "data.head(7)"
   ]
  },
  {
   "cell_type": "code",
   "execution_count": 11,
   "id": "e5f9bbce",
   "metadata": {},
   "outputs": [
    {
     "data": {
      "text/plain": "        Unix Timestamp  Symbol    Open    High     Low   Close    Volume  \\\n121573      1444311960  BTCUSD  242.96  242.96  242.96  242.96  0.004000   \n121574      1444311900  BTCUSD  242.96  242.96  242.96  242.96  0.000000   \n121575      1444311840  BTCUSD  242.96  242.96  242.96  242.96  0.033491   \n121576      1444311780  BTCUSD  242.95  242.96  242.95  242.96  0.010000   \n121577      1444311720  BTCUSD  242.95  242.95  242.95  242.95  0.000000   \n121578      1444311660  BTCUSD  242.50  242.95  242.50  242.95  0.001000   \n121579      1444311600  BTCUSD    0.00  242.50    0.00  242.50  0.050000   \n\n        Prediction  \n121573         NaN  \n121574         NaN  \n121575         NaN  \n121576         NaN  \n121577         NaN  \n121578         NaN  \n121579         NaN  ",
      "text/html": "<div>\n<style scoped>\n    .dataframe tbody tr th:only-of-type {\n        vertical-align: middle;\n    }\n\n    .dataframe tbody tr th {\n        vertical-align: top;\n    }\n\n    .dataframe thead th {\n        text-align: right;\n    }\n</style>\n<table border=\"1\" class=\"dataframe\">\n  <thead>\n    <tr style=\"text-align: right;\">\n      <th></th>\n      <th>Unix Timestamp</th>\n      <th>Symbol</th>\n      <th>Open</th>\n      <th>High</th>\n      <th>Low</th>\n      <th>Close</th>\n      <th>Volume</th>\n      <th>Prediction</th>\n    </tr>\n  </thead>\n  <tbody>\n    <tr>\n      <th>121573</th>\n      <td>1444311960</td>\n      <td>BTCUSD</td>\n      <td>242.96</td>\n      <td>242.96</td>\n      <td>242.96</td>\n      <td>242.96</td>\n      <td>0.004000</td>\n      <td>NaN</td>\n    </tr>\n    <tr>\n      <th>121574</th>\n      <td>1444311900</td>\n      <td>BTCUSD</td>\n      <td>242.96</td>\n      <td>242.96</td>\n      <td>242.96</td>\n      <td>242.96</td>\n      <td>0.000000</td>\n      <td>NaN</td>\n    </tr>\n    <tr>\n      <th>121575</th>\n      <td>1444311840</td>\n      <td>BTCUSD</td>\n      <td>242.96</td>\n      <td>242.96</td>\n      <td>242.96</td>\n      <td>242.96</td>\n      <td>0.033491</td>\n      <td>NaN</td>\n    </tr>\n    <tr>\n      <th>121576</th>\n      <td>1444311780</td>\n      <td>BTCUSD</td>\n      <td>242.95</td>\n      <td>242.96</td>\n      <td>242.95</td>\n      <td>242.96</td>\n      <td>0.010000</td>\n      <td>NaN</td>\n    </tr>\n    <tr>\n      <th>121577</th>\n      <td>1444311720</td>\n      <td>BTCUSD</td>\n      <td>242.95</td>\n      <td>242.95</td>\n      <td>242.95</td>\n      <td>242.95</td>\n      <td>0.000000</td>\n      <td>NaN</td>\n    </tr>\n    <tr>\n      <th>121578</th>\n      <td>1444311660</td>\n      <td>BTCUSD</td>\n      <td>242.50</td>\n      <td>242.95</td>\n      <td>242.50</td>\n      <td>242.95</td>\n      <td>0.001000</td>\n      <td>NaN</td>\n    </tr>\n    <tr>\n      <th>121579</th>\n      <td>1444311600</td>\n      <td>BTCUSD</td>\n      <td>0.00</td>\n      <td>242.50</td>\n      <td>0.00</td>\n      <td>242.50</td>\n      <td>0.050000</td>\n      <td>NaN</td>\n    </tr>\n  </tbody>\n</table>\n</div>"
     },
     "execution_count": 11,
     "metadata": {},
     "output_type": "execute_result"
    }
   ],
   "source": [
    "# show last 7 rows of the new dataset\n",
    "data.tail(7)"
   ]
  },
  {
   "cell_type": "code",
   "execution_count": 12,
   "id": "75f31d7f",
   "metadata": {},
   "outputs": [
    {
     "name": "stdout",
     "output_type": "stream",
     "text": [
      "[429.95 429.95 429.95 ... 245.   245.   245.  ]\n"
     ]
    }
   ],
   "source": [
    "# create the independent dataset\n",
    "\n",
    "# convert to np dataframe to a numpy array and drop the prediction column\n",
    "X = np.array(data['Close'])\n",
    "\n",
    "# Remove the last 'n' rows where 'n' is the prediction_days\n",
    "X = X[:len(data)-prediction_days]\n",
    "print(X)"
   ]
  },
  {
   "cell_type": "code",
   "execution_count": 13,
   "id": "a3650201",
   "metadata": {},
   "outputs": [
    {
     "name": "stdout",
     "output_type": "stream",
     "text": [
      "[433.5  433.5  433.5  ... 242.95 242.95 242.5 ]\n"
     ]
    }
   ],
   "source": [
    "# Create the dependent dataset\n",
    "\n",
    "# Convert the data frame to a numpy array\n",
    "y = np.array(data['Prediction'])\n",
    "\n",
    "# Get all of the values except the last 'n' rows\n",
    "y = y[:-prediction_days]\n",
    "print(y)"
   ]
  },
  {
   "cell_type": "code",
   "execution_count": 14,
   "id": "80e654e3",
   "metadata": {},
   "outputs": [
    {
     "ename": "ModuleNotFoundError",
     "evalue": "No module named 'sklearn'",
     "output_type": "error",
     "traceback": [
      "\u001B[0;31m---------------------------------------------------------------------------\u001B[0m",
      "\u001B[0;31mModuleNotFoundError\u001B[0m                       Traceback (most recent call last)",
      "\u001B[0;32m/var/folders/vg/g5plvkb95md1461h4qh30d200000gn/T/ipykernel_30116/4049055456.py\u001B[0m in \u001B[0;36m<module>\u001B[0;34m\u001B[0m\n\u001B[1;32m      1\u001B[0m \u001B[0;31m# Split the data into 80% training and 20% testing\u001B[0m\u001B[0;34m\u001B[0m\u001B[0;34m\u001B[0m\u001B[0m\n\u001B[0;32m----> 2\u001B[0;31m \u001B[0;32mfrom\u001B[0m \u001B[0msklearn\u001B[0m\u001B[0;34m.\u001B[0m\u001B[0mmodel_selection\u001B[0m \u001B[0;32mimport\u001B[0m \u001B[0mtrain_test_split\u001B[0m\u001B[0;34m\u001B[0m\u001B[0;34m\u001B[0m\u001B[0m\n\u001B[0m\u001B[1;32m      3\u001B[0m \u001B[0mx_train\u001B[0m\u001B[0;34m,\u001B[0m \u001B[0mx_test\u001B[0m\u001B[0;34m,\u001B[0m \u001B[0my_train\u001B[0m\u001B[0;34m,\u001B[0m \u001B[0my_test\u001B[0m \u001B[0;34m=\u001B[0m \u001B[0mtrain_test_split\u001B[0m\u001B[0;34m(\u001B[0m\u001B[0mX\u001B[0m\u001B[0;34m,\u001B[0m \u001B[0my\u001B[0m\u001B[0;34m,\u001B[0m \u001B[0mtest_size\u001B[0m \u001B[0;34m=\u001B[0m \u001B[0;36m0.2\u001B[0m\u001B[0;34m)\u001B[0m\u001B[0;34m\u001B[0m\u001B[0;34m\u001B[0m\u001B[0m\n\u001B[1;32m      4\u001B[0m \u001B[0;34m\u001B[0m\u001B[0m\n",
      "\u001B[0;31mModuleNotFoundError\u001B[0m: No module named 'sklearn'"
     ]
    }
   ],
   "source": [
    "# Split the data into 80% training and 20% testing\n",
    "from sklearn.model_selection import train_test_split\n",
    "x_train, x_test, y_train, y_test = train_test_split(X, y, test_size = 0.2)"
   ]
  },
  {
   "cell_type": "code",
   "execution_count": 15,
   "id": "791fb7f9",
   "metadata": {},
   "outputs": [
    {
     "name": "stdout",
     "output_type": "stream",
     "text": [
      "[245.   245.   245.   245.   245.   245.   245.   245.   245.   245.\n",
      " 245.   245.   245.   245.   245.   245.   245.   245.   245.   245.\n",
      " 245.   245.   245.   245.   245.   245.   245.   244.95 244.95 244.95\n",
      " 244.95 244.95 244.95 244.95 244.95 244.95 244.95 244.95 244.95 244.95\n",
      " 244.95 244.95 244.95 244.95 244.9  244.9  244.5  244.5  244.9  244.9\n",
      " 244.9  244.5  244.5  244.5  244.5  244.5  244.5  244.5  244.5  244.5\n",
      " 244.5  244.5  244.5  244.5  244.5  244.5  244.5  244.5  245.   245.\n",
      " 245.   245.   245.   245.   245.   245.   245.   245.   245.   245.\n",
      " 243.   242.96 242.96 242.96 242.96 242.96 242.96 242.95 242.95 242.5 ]\n"
     ]
    }
   ],
   "source": [
    "# Set the prediction_days_array equal to the last 90 rows from the original dataset\n",
    "prediction_days_array = np.array(data['Close'])[-prediction_days:]\n",
    "print(prediction_days_array)"
   ]
  },
  {
   "cell_type": "code",
   "execution_count": 16,
   "id": "a56eb07b",
   "metadata": {},
   "outputs": [
    {
     "ename": "ModuleNotFoundError",
     "evalue": "No module named 'sklearn'",
     "output_type": "error",
     "traceback": [
      "\u001B[0;31m---------------------------------------------------------------------------\u001B[0m",
      "\u001B[0;31mModuleNotFoundError\u001B[0m                       Traceback (most recent call last)",
      "\u001B[0;32m/var/folders/vg/g5plvkb95md1461h4qh30d200000gn/T/ipykernel_30116/3677226247.py\u001B[0m in \u001B[0;36m<module>\u001B[0;34m\u001B[0m\n\u001B[0;32m----> 1\u001B[0;31m \u001B[0;32mfrom\u001B[0m \u001B[0msklearn\u001B[0m\u001B[0;34m.\u001B[0m\u001B[0msvm\u001B[0m \u001B[0;32mimport\u001B[0m \u001B[0mSVR\u001B[0m\u001B[0;34m\u001B[0m\u001B[0;34m\u001B[0m\u001B[0m\n\u001B[0m\u001B[1;32m      2\u001B[0m \u001B[0;34m\u001B[0m\u001B[0m\n\u001B[1;32m      3\u001B[0m \u001B[0;31m# Create and train the support vector machine (Regression) using radial basis function\u001B[0m\u001B[0;34m\u001B[0m\u001B[0;34m\u001B[0m\u001B[0m\n\u001B[1;32m      4\u001B[0m \u001B[0msvr_rbf\u001B[0m \u001B[0;34m=\u001B[0m \u001B[0mSVR\u001B[0m\u001B[0;34m(\u001B[0m\u001B[0mkernel\u001B[0m\u001B[0;34m=\u001B[0m\u001B[0;34m'rbf'\u001B[0m\u001B[0;34m,\u001B[0m \u001B[0mC\u001B[0m\u001B[0;34m=\u001B[0m\u001B[0;36m1e3\u001B[0m\u001B[0;34m,\u001B[0m \u001B[0mgamma\u001B[0m\u001B[0;34m=\u001B[0m\u001B[0;36m0.00001\u001B[0m\u001B[0;34m)\u001B[0m\u001B[0;34m\u001B[0m\u001B[0;34m\u001B[0m\u001B[0m\n\u001B[1;32m      5\u001B[0m \u001B[0msvr_rbf\u001B[0m\u001B[0;34m.\u001B[0m\u001B[0mfit\u001B[0m\u001B[0;34m(\u001B[0m\u001B[0mx_train\u001B[0m\u001B[0;34m,\u001B[0m \u001B[0my_train\u001B[0m\u001B[0;34m)\u001B[0m\u001B[0;34m\u001B[0m\u001B[0;34m\u001B[0m\u001B[0m\n",
      "\u001B[0;31mModuleNotFoundError\u001B[0m: No module named 'sklearn'"
     ]
    }
   ],
   "source": [
    "from sklearn.svm import SVR\n",
    "\n",
    "# Create and train the support vector machine (Regression) using radial basis function\n",
    "svr_rbf = SVR(kernel='rbf', C=1e3, gamma=0.00001)\n",
    "svr_rbf.fit(x_train, y_train)"
   ]
  },
  {
   "cell_type": "code",
   "execution_count": null,
   "id": "73f1ed78",
   "metadata": {},
   "outputs": [],
   "source": []
  }
 ],
 "metadata": {
  "kernelspec": {
   "display_name": "Python 3 (ipykernel)",
   "language": "python",
   "name": "python3"
  },
  "language_info": {
   "codemirror_mode": {
    "name": "ipython",
    "version": 3
   },
   "file_extension": ".py",
   "mimetype": "text/x-python",
   "name": "python",
   "nbconvert_exporter": "python",
   "pygments_lexer": "ipython3",
   "version": "3.9.0"
  }
 },
 "nbformat": 4,
 "nbformat_minor": 5
}