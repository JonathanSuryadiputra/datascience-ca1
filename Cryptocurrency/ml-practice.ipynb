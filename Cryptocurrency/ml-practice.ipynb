{
 "cells": [
  {
   "cell_type": "markdown",
   "id": "8028ca5f",
   "metadata": {},
   "source": [
    "# Predicting BitCoin prices\n",
    "1. Get historic stock prices\n",
    "2. Extract prices to predict\n",
    "3. Normalise\n",
    "4. Create Time Series\n",
    "5. Build model\n",
    "6. Fit model\n",
    "7. Test and evaluate"
   ]
  },
  {
   "cell_type": "code",
   "execution_count": 1,
   "id": "f8782451",
   "metadata": {},
   "outputs": [],
   "source": [
    "# Change Keras backend\n",
    "from keras import backend as K\n",
    "import os\n",
    "os.environ['KERAS_BACKEND'] = \"cntk\""
   ]
  },
  {
   "cell_type": "code",
   "execution_count": 2,
   "id": "d0f05025",
   "metadata": {},
   "outputs": [],
   "source": [
    "# install dependencies\n",
    "import numpy as np\n",
    "import pandas as pd\n",
    "import matplotlib.pyplot as plt\n",
    "import math\n",
    "from keras.layers.core import Dense, Activation, Dropout\n",
    "from keras.layers.recurrent import LSTM\n",
    "from keras.models import Sequential\n",
    "from sklearn.model_selection import  train_test_split\n",
    "from sklearn.preprocessing import MinMaxScaler\n",
    "from sklearn.metrics import mean_squared_error"
   ]
  },
  {
   "cell_type": "code",
   "execution_count": 3,
   "id": "f4629748",
   "metadata": {},
   "outputs": [],
   "source": [
    "# 1. Get historic stock prices\n",
    "data = pd.read_csv(\"/Users/Jonathan/Desktop/datascience-ca1/Cryptocurrency/file/gemini_BTCUSD_2015_1min.csv\")"
   ]
  },
  {
   "cell_type": "markdown",
   "id": "5f84e265",
   "metadata": {},
   "source": [
    "# Data review"
   ]
  },
  {
   "cell_type": "code",
   "execution_count": 4,
   "id": "dbd95fef",
   "metadata": {},
   "outputs": [
    {
     "data": {
      "text/html": [
       "<div>\n",
       "<style scoped>\n",
       "    .dataframe tbody tr th:only-of-type {\n",
       "        vertical-align: middle;\n",
       "    }\n",
       "\n",
       "    .dataframe tbody tr th {\n",
       "        vertical-align: top;\n",
       "    }\n",
       "\n",
       "    .dataframe thead th {\n",
       "        text-align: right;\n",
       "    }\n",
       "</style>\n",
       "<table border=\"1\" class=\"dataframe\">\n",
       "  <thead>\n",
       "    <tr style=\"text-align: right;\">\n",
       "      <th></th>\n",
       "      <th>Unix Timestamp</th>\n",
       "      <th>Date</th>\n",
       "      <th>Symbol</th>\n",
       "      <th>Open</th>\n",
       "      <th>High</th>\n",
       "      <th>Low</th>\n",
       "      <th>Close</th>\n",
       "      <th>Volume</th>\n",
       "    </tr>\n",
       "  </thead>\n",
       "  <tbody>\n",
       "    <tr>\n",
       "      <th>0</th>\n",
       "      <td>1451606340</td>\n",
       "      <td>2015-12-31 23:59:00</td>\n",
       "      <td>BTCUSD</td>\n",
       "      <td>429.95</td>\n",
       "      <td>429.95</td>\n",
       "      <td>429.95</td>\n",
       "      <td>429.95</td>\n",
       "      <td>0.0</td>\n",
       "    </tr>\n",
       "    <tr>\n",
       "      <th>1</th>\n",
       "      <td>1451606280</td>\n",
       "      <td>2015-12-31 23:58:00</td>\n",
       "      <td>BTCUSD</td>\n",
       "      <td>429.95</td>\n",
       "      <td>429.95</td>\n",
       "      <td>429.95</td>\n",
       "      <td>429.95</td>\n",
       "      <td>0.0</td>\n",
       "    </tr>\n",
       "    <tr>\n",
       "      <th>2</th>\n",
       "      <td>1451606220</td>\n",
       "      <td>2015-12-31 23:57:00</td>\n",
       "      <td>BTCUSD</td>\n",
       "      <td>429.95</td>\n",
       "      <td>429.95</td>\n",
       "      <td>429.95</td>\n",
       "      <td>429.95</td>\n",
       "      <td>0.0</td>\n",
       "    </tr>\n",
       "    <tr>\n",
       "      <th>3</th>\n",
       "      <td>1451606160</td>\n",
       "      <td>2015-12-31 23:56:00</td>\n",
       "      <td>BTCUSD</td>\n",
       "      <td>429.95</td>\n",
       "      <td>429.95</td>\n",
       "      <td>429.95</td>\n",
       "      <td>429.95</td>\n",
       "      <td>0.0</td>\n",
       "    </tr>\n",
       "    <tr>\n",
       "      <th>4</th>\n",
       "      <td>1451606100</td>\n",
       "      <td>2015-12-31 23:55:00</td>\n",
       "      <td>BTCUSD</td>\n",
       "      <td>429.95</td>\n",
       "      <td>429.95</td>\n",
       "      <td>429.95</td>\n",
       "      <td>429.95</td>\n",
       "      <td>0.0</td>\n",
       "    </tr>\n",
       "  </tbody>\n",
       "</table>\n",
       "</div>"
      ],
      "text/plain": [
       "   Unix Timestamp                 Date  Symbol    Open    High     Low  \\\n",
       "0      1451606340  2015-12-31 23:59:00  BTCUSD  429.95  429.95  429.95   \n",
       "1      1451606280  2015-12-31 23:58:00  BTCUSD  429.95  429.95  429.95   \n",
       "2      1451606220  2015-12-31 23:57:00  BTCUSD  429.95  429.95  429.95   \n",
       "3      1451606160  2015-12-31 23:56:00  BTCUSD  429.95  429.95  429.95   \n",
       "4      1451606100  2015-12-31 23:55:00  BTCUSD  429.95  429.95  429.95   \n",
       "\n",
       "    Close  Volume  \n",
       "0  429.95     0.0  \n",
       "1  429.95     0.0  \n",
       "2  429.95     0.0  \n",
       "3  429.95     0.0  \n",
       "4  429.95     0.0  "
      ]
     },
     "execution_count": 4,
     "metadata": {},
     "output_type": "execute_result"
    }
   ],
   "source": [
    "data.head()"
   ]
  },
  {
   "cell_type": "code",
   "execution_count": 5,
   "id": "c29d96c3",
   "metadata": {},
   "outputs": [
    {
     "data": {
      "text/html": [
       "<div>\n",
       "<style scoped>\n",
       "    .dataframe tbody tr th:only-of-type {\n",
       "        vertical-align: middle;\n",
       "    }\n",
       "\n",
       "    .dataframe tbody tr th {\n",
       "        vertical-align: top;\n",
       "    }\n",
       "\n",
       "    .dataframe thead th {\n",
       "        text-align: right;\n",
       "    }\n",
       "</style>\n",
       "<table border=\"1\" class=\"dataframe\">\n",
       "  <thead>\n",
       "    <tr style=\"text-align: right;\">\n",
       "      <th></th>\n",
       "      <th>Unix Timestamp</th>\n",
       "      <th>Date</th>\n",
       "      <th>Symbol</th>\n",
       "      <th>Open</th>\n",
       "      <th>High</th>\n",
       "      <th>Low</th>\n",
       "      <th>Close</th>\n",
       "      <th>Volume</th>\n",
       "    </tr>\n",
       "  </thead>\n",
       "  <tbody>\n",
       "    <tr>\n",
       "      <th>121575</th>\n",
       "      <td>1444311840</td>\n",
       "      <td>2015-10-08 13:44:00</td>\n",
       "      <td>BTCUSD</td>\n",
       "      <td>242.96</td>\n",
       "      <td>242.96</td>\n",
       "      <td>242.96</td>\n",
       "      <td>242.96</td>\n",
       "      <td>0.033491</td>\n",
       "    </tr>\n",
       "    <tr>\n",
       "      <th>121576</th>\n",
       "      <td>1444311780</td>\n",
       "      <td>2015-10-08 13:43:00</td>\n",
       "      <td>BTCUSD</td>\n",
       "      <td>242.95</td>\n",
       "      <td>242.96</td>\n",
       "      <td>242.95</td>\n",
       "      <td>242.96</td>\n",
       "      <td>0.010000</td>\n",
       "    </tr>\n",
       "    <tr>\n",
       "      <th>121577</th>\n",
       "      <td>1444311720</td>\n",
       "      <td>2015-10-08 13:42:00</td>\n",
       "      <td>BTCUSD</td>\n",
       "      <td>242.95</td>\n",
       "      <td>242.95</td>\n",
       "      <td>242.95</td>\n",
       "      <td>242.95</td>\n",
       "      <td>0.000000</td>\n",
       "    </tr>\n",
       "    <tr>\n",
       "      <th>121578</th>\n",
       "      <td>1444311660</td>\n",
       "      <td>2015-10-08 13:41:00</td>\n",
       "      <td>BTCUSD</td>\n",
       "      <td>242.50</td>\n",
       "      <td>242.95</td>\n",
       "      <td>242.50</td>\n",
       "      <td>242.95</td>\n",
       "      <td>0.001000</td>\n",
       "    </tr>\n",
       "    <tr>\n",
       "      <th>121579</th>\n",
       "      <td>1444311600</td>\n",
       "      <td>2015-10-08 13:40:00</td>\n",
       "      <td>BTCUSD</td>\n",
       "      <td>0.00</td>\n",
       "      <td>242.50</td>\n",
       "      <td>0.00</td>\n",
       "      <td>242.50</td>\n",
       "      <td>0.050000</td>\n",
       "    </tr>\n",
       "  </tbody>\n",
       "</table>\n",
       "</div>"
      ],
      "text/plain": [
       "        Unix Timestamp                 Date  Symbol    Open    High     Low  \\\n",
       "121575      1444311840  2015-10-08 13:44:00  BTCUSD  242.96  242.96  242.96   \n",
       "121576      1444311780  2015-10-08 13:43:00  BTCUSD  242.95  242.96  242.95   \n",
       "121577      1444311720  2015-10-08 13:42:00  BTCUSD  242.95  242.95  242.95   \n",
       "121578      1444311660  2015-10-08 13:41:00  BTCUSD  242.50  242.95  242.50   \n",
       "121579      1444311600  2015-10-08 13:40:00  BTCUSD    0.00  242.50    0.00   \n",
       "\n",
       "         Close    Volume  \n",
       "121575  242.96  0.033491  \n",
       "121576  242.96  0.010000  \n",
       "121577  242.95  0.000000  \n",
       "121578  242.95  0.001000  \n",
       "121579  242.50  0.050000  "
      ]
     },
     "execution_count": 5,
     "metadata": {},
     "output_type": "execute_result"
    }
   ],
   "source": [
    "data.tail()"
   ]
  },
  {
   "cell_type": "code",
   "execution_count": 6,
   "id": "b9f6c231",
   "metadata": {},
   "outputs": [
    {
     "data": {
      "text/plain": [
       "Index(['Unix Timestamp', 'Date', 'Symbol', 'Open', 'High', 'Low', 'Close',\n",
       "       'Volume'],\n",
       "      dtype='object')"
      ]
     },
     "execution_count": 6,
     "metadata": {},
     "output_type": "execute_result"
    }
   ],
   "source": [
    "data.columns"
   ]
  },
  {
   "cell_type": "code",
   "execution_count": 7,
   "id": "bf77ee32",
   "metadata": {},
   "outputs": [
    {
     "data": {
      "text/plain": [
       "(121580, 8)"
      ]
     },
     "execution_count": 7,
     "metadata": {},
     "output_type": "execute_result"
    }
   ],
   "source": [
    "data.shape"
   ]
  },
  {
   "cell_type": "code",
   "execution_count": 8,
   "id": "d164287d",
   "metadata": {},
   "outputs": [
    {
     "data": {
      "text/html": [
       "<div>\n",
       "<style scoped>\n",
       "    .dataframe tbody tr th:only-of-type {\n",
       "        vertical-align: middle;\n",
       "    }\n",
       "\n",
       "    .dataframe tbody tr th {\n",
       "        vertical-align: top;\n",
       "    }\n",
       "\n",
       "    .dataframe thead th {\n",
       "        text-align: right;\n",
       "    }\n",
       "</style>\n",
       "<table border=\"1\" class=\"dataframe\">\n",
       "  <thead>\n",
       "    <tr style=\"text-align: right;\">\n",
       "      <th></th>\n",
       "      <th>Unix Timestamp</th>\n",
       "      <th>Open</th>\n",
       "      <th>High</th>\n",
       "      <th>Low</th>\n",
       "      <th>Close</th>\n",
       "      <th>Volume</th>\n",
       "    </tr>\n",
       "  </thead>\n",
       "  <tbody>\n",
       "    <tr>\n",
       "      <th>count</th>\n",
       "      <td>1.215800e+05</td>\n",
       "      <td>121580.000000</td>\n",
       "      <td>121580.000000</td>\n",
       "      <td>121580.000000</td>\n",
       "      <td>121580.000000</td>\n",
       "      <td>121580.000000</td>\n",
       "    </tr>\n",
       "    <tr>\n",
       "      <th>mean</th>\n",
       "      <td>1.447959e+09</td>\n",
       "      <td>355.978047</td>\n",
       "      <td>356.052682</td>\n",
       "      <td>355.907340</td>\n",
       "      <td>355.981583</td>\n",
       "      <td>0.447339</td>\n",
       "    </tr>\n",
       "    <tr>\n",
       "      <th>std</th>\n",
       "      <td>2.105836e+06</td>\n",
       "      <td>68.462155</td>\n",
       "      <td>68.676106</td>\n",
       "      <td>68.239924</td>\n",
       "      <td>68.454872</td>\n",
       "      <td>3.574566</td>\n",
       "    </tr>\n",
       "    <tr>\n",
       "      <th>min</th>\n",
       "      <td>1.444312e+09</td>\n",
       "      <td>0.000000</td>\n",
       "      <td>242.500000</td>\n",
       "      <td>0.000000</td>\n",
       "      <td>236.000000</td>\n",
       "      <td>0.000000</td>\n",
       "    </tr>\n",
       "    <tr>\n",
       "      <th>25%</th>\n",
       "      <td>1.446135e+09</td>\n",
       "      <td>310.000000</td>\n",
       "      <td>310.000000</td>\n",
       "      <td>310.000000</td>\n",
       "      <td>310.000000</td>\n",
       "      <td>0.000000</td>\n",
       "    </tr>\n",
       "    <tr>\n",
       "      <th>50%</th>\n",
       "      <td>1.447959e+09</td>\n",
       "      <td>353.780000</td>\n",
       "      <td>353.780000</td>\n",
       "      <td>353.500000</td>\n",
       "      <td>353.780000</td>\n",
       "      <td>0.000000</td>\n",
       "    </tr>\n",
       "    <tr>\n",
       "      <th>75%</th>\n",
       "      <td>1.449783e+09</td>\n",
       "      <td>420.500000</td>\n",
       "      <td>420.605000</td>\n",
       "      <td>420.500000</td>\n",
       "      <td>420.500000</td>\n",
       "      <td>0.000000</td>\n",
       "    </tr>\n",
       "    <tr>\n",
       "      <th>max</th>\n",
       "      <td>1.451606e+09</td>\n",
       "      <td>2200.000000</td>\n",
       "      <td>2200.000000</td>\n",
       "      <td>2200.000000</td>\n",
       "      <td>2200.000000</td>\n",
       "      <td>224.265300</td>\n",
       "    </tr>\n",
       "  </tbody>\n",
       "</table>\n",
       "</div>"
      ],
      "text/plain": [
       "       Unix Timestamp           Open           High            Low  \\\n",
       "count    1.215800e+05  121580.000000  121580.000000  121580.000000   \n",
       "mean     1.447959e+09     355.978047     356.052682     355.907340   \n",
       "std      2.105836e+06      68.462155      68.676106      68.239924   \n",
       "min      1.444312e+09       0.000000     242.500000       0.000000   \n",
       "25%      1.446135e+09     310.000000     310.000000     310.000000   \n",
       "50%      1.447959e+09     353.780000     353.780000     353.500000   \n",
       "75%      1.449783e+09     420.500000     420.605000     420.500000   \n",
       "max      1.451606e+09    2200.000000    2200.000000    2200.000000   \n",
       "\n",
       "               Close         Volume  \n",
       "count  121580.000000  121580.000000  \n",
       "mean      355.981583       0.447339  \n",
       "std        68.454872       3.574566  \n",
       "min       236.000000       0.000000  \n",
       "25%       310.000000       0.000000  \n",
       "50%       353.780000       0.000000  \n",
       "75%       420.500000       0.000000  \n",
       "max      2200.000000     224.265300  "
      ]
     },
     "execution_count": 8,
     "metadata": {},
     "output_type": "execute_result"
    }
   ],
   "source": [
    "data.describe()"
   ]
  },
  {
   "cell_type": "code",
   "execution_count": 9,
   "id": "6f9268fa",
   "metadata": {},
   "outputs": [
    {
     "data": {
      "text/plain": [
       "Unix Timestamp      int64\n",
       "Date               object\n",
       "Symbol             object\n",
       "Open              float64\n",
       "High              float64\n",
       "Low               float64\n",
       "Close             float64\n",
       "Volume            float64\n",
       "dtype: object"
      ]
     },
     "execution_count": 9,
     "metadata": {},
     "output_type": "execute_result"
    }
   ],
   "source": [
    "data.dtypes"
   ]
  },
  {
   "cell_type": "code",
   "execution_count": 10,
   "id": "08a84f3d",
   "metadata": {},
   "outputs": [
    {
     "name": "stdout",
     "output_type": "stream",
     "text": [
      "<class 'pandas.core.frame.DataFrame'>\n",
      "Int64Index: 121580 entries, 1451606340 to 1444311600\n",
      "Data columns (total 7 columns):\n",
      " #   Column  Non-Null Count   Dtype  \n",
      "---  ------  --------------   -----  \n",
      " 0   Date    121580 non-null  object \n",
      " 1   Symbol  121580 non-null  object \n",
      " 2   Open    121580 non-null  float64\n",
      " 3   High    121580 non-null  float64\n",
      " 4   Low     121580 non-null  float64\n",
      " 5   Close   121580 non-null  float64\n",
      " 6   Volume  121580 non-null  float64\n",
      "dtypes: float64(5), object(2)\n",
      "memory usage: 7.4+ MB\n"
     ]
    }
   ],
   "source": [
    "data.set_index('Unix Timestamp', inplace=True)\n",
    "data.info()"
   ]
  },
  {
   "cell_type": "code",
   "execution_count": 11,
   "id": "31dd2f9b",
   "metadata": {},
   "outputs": [],
   "source": [
    "data.sort_index(inplace=True)"
   ]
  },
  {
   "cell_type": "code",
   "execution_count": 12,
   "id": "28b5f23a",
   "metadata": {},
   "outputs": [
    {
     "data": {
      "image/png": "[encoded data removed]",
      "text/plain": [
       "<Figure size 432x288 with 1 Axes>"
      ]
     },
     "metadata": {
      "needs_background": "light"
     },
     "output_type": "display_data"
    }
   ],
   "source": [
    "data_close = data['Open']\n",
    "data_close = data_close.values.reshape(len(data_close), 1)\n",
    "plt.plot(data_close)\n",
    "plt.show()"
   ]
  },
  {
   "cell_type": "code",
   "execution_count": 13,
   "id": "bc8ae7f5",
   "metadata": {},
   "outputs": [],
   "source": [
    "scaler = MinMaxScaler(feature_range=(0,1))"
   ]
  },
  {
   "cell_type": "code",
   "execution_count": 14,
   "id": "2ff19af5",
   "metadata": {},
   "outputs": [
    {
     "data": {
      "text/plain": [
       "array([[0.        ],\n",
       "       [0.11022727],\n",
       "       [0.11043182],\n",
       "       ...,\n",
       "       [0.19543182],\n",
       "       [0.19543182],\n",
       "       [0.19543182]])"
      ]
     },
     "execution_count": 14,
     "metadata": {},
     "output_type": "execute_result"
    }
   ],
   "source": [
    "data_close = scaler.fit_transform(data_close)\n",
    "data_close"
   ]
  },
  {
   "cell_type": "code",
   "execution_count": 15,
   "id": "88ec16fc",
   "metadata": {},
   "outputs": [
    {
     "name": "stdout",
     "output_type": "stream",
     "text": [
      "Split data into train and test:  85106 36474\n"
     ]
    }
   ],
   "source": [
    "# split data into train and test\n",
    "train_size = int(len(data_close)*0.7)\n",
    "test_size = len(data_close) - train_size\n",
    "\n",
    "data_train, data_test = data_close[0:train_size, :], data_close[train_size:len(data_close), :]\n",
    "print('Split data into train and test: ', len(data_train), len(data_test))"
   ]
  },
  {
   "cell_type": "code",
   "execution_count": 16,
   "id": "b8290fd5",
   "metadata": {},
   "outputs": [],
   "source": [
    "# need to now convert the data into time series looking back over a period of days...e.g. use last 7 days to predict price\n",
    "def create_ts(ds, series):\n",
    "    X, Y =[], []\n",
    "    for i in range(len(ds)-series - 1):\n",
    "        item = ds[i:(i+series), 0]\n",
    "        X.append(item)\n",
    "        Y.append(ds[i+series, 0])\n",
    "    return np.array(X), np.array(Y)\n",
    "\n",
    "series = 7\n",
    "\n",
    "trainX, trainY = create_ts(data_train, series)\n",
    "testX, testY = create_ts(data_test, series)"
   ]
  },
  {
   "cell_type": "code",
   "execution_count": 17,
   "id": "15ba7715",
   "metadata": {},
   "outputs": [
    {
     "data": {
      "text/plain": [
       "array([[0.        , 0.11022727, 0.11043182, ..., 0.11043636, 0.11043636,\n",
       "        0.11043636],\n",
       "       [0.11022727, 0.11043182, 0.11043182, ..., 0.11043636, 0.11043636,\n",
       "        0.11043636],\n",
       "       [0.11043182, 0.11043182, 0.11043636, ..., 0.11043636, 0.11043636,\n",
       "        0.11043636],\n",
       "       ...,\n",
       "       [0.17772727, 0.17772727, 0.17772727, ..., 0.17772727, 0.17772727,\n",
       "        0.17772727],\n",
       "       [0.17772727, 0.17772727, 0.17772727, ..., 0.17772727, 0.17772727,\n",
       "        0.17772727],\n",
       "       [0.17772727, 0.17772727, 0.17772727, ..., 0.17772727, 0.17772727,\n",
       "        0.17772727]])"
      ]
     },
     "execution_count": 17,
     "metadata": {},
     "output_type": "execute_result"
    }
   ],
   "source": [
    "trainX"
   ]
  },
  {
   "cell_type": "code",
   "execution_count": 18,
   "id": "b41c1c69",
   "metadata": {},
   "outputs": [
    {
     "data": {
      "text/plain": [
       "array([0.        , 0.11022727, 0.11043182, 0.11043182, 0.11043636,\n",
       "       0.11043636, 0.11043636])"
      ]
     },
     "execution_count": 18,
     "metadata": {},
     "output_type": "execute_result"
    }
   ],
   "source": [
    "trainX[0]"
   ]
  },
  {
   "cell_type": "code",
   "execution_count": 19,
   "id": "8da6cc4e",
   "metadata": {},
   "outputs": [],
   "source": [
    "# reshape into  LSTM format - samples, steps, features\n",
    "trainX = np.reshape(trainX, (trainX.shape[0], trainX.shape[1], 1))\n",
    "testX = np.reshape(testX, (testX.shape[0], testX.shape[1], 1))"
   ]
  },
  {
   "cell_type": "code",
   "execution_count": 20,
   "id": "87bd8996",
   "metadata": {},
   "outputs": [
    {
     "name": "stderr",
     "output_type": "stream",
     "text": [
      "2021-11-16 21:17:34.165140: I tensorflow/core/platform/cpu_feature_guard.cc:142] This TensorFlow binary is optimized with oneAPI Deep Neural Network Library (oneDNN) to use the following CPU instructions in performance-critical operations:  AVX2 FMA\n",
      "To enable them in other operations, rebuild TensorFlow with the appropriate compiler flags.\n",
      "2021-11-16 21:17:34.535642: I tensorflow/compiler/mlir/mlir_graph_optimization_pass.cc:185] None of the MLIR Optimization Passes are enabled (registered 2)\n"
     ]
    },
    {
     "name": "stdout",
     "output_type": "stream",
     "text": [
      "Epoch 1/100\n",
      "2660/2660 [==============================] - 27s 9ms/step - loss: 3.7547e-04\n",
      "Epoch 2/100\n",
      "2660/2660 [==============================] - 24s 9ms/step - loss: 5.4119e-05\n",
      "Epoch 3/100\n",
      "2660/2660 [==============================] - 31s 12ms/step - loss: 4.4849e-05\n",
      "Epoch 4/100\n",
      "2660/2660 [==============================] - 23s 9ms/step - loss: 3.9553e-05\n",
      "Epoch 5/100\n",
      "2660/2660 [==============================] - 28s 10ms/step - loss: 3.5090e-05\n",
      "Epoch 6/100\n",
      "2660/2660 [==============================] - 27s 10ms/step - loss: 3.1990e-05\n",
      "Epoch 7/100\n",
      "2660/2660 [==============================] - 28s 10ms/step - loss: 2.9081e-05\n",
      "Epoch 8/100\n",
      "2660/2660 [==============================] - 22s 8ms/step - loss: 2.6836e-05\n",
      "Epoch 9/100\n",
      "2660/2660 [==============================] - 22s 8ms/step - loss: 2.4176e-05\n",
      "Epoch 10/100\n",
      "2660/2660 [==============================] - 21s 8ms/step - loss: 2.3602e-05\n",
      "Epoch 11/100\n",
      "2660/2660 [==============================] - 21s 8ms/step - loss: 2.1623e-05\n",
      "Epoch 12/100\n",
      "2660/2660 [==============================] - 20s 8ms/step - loss: 2.0444e-05\n",
      "Epoch 13/100\n",
      "2660/2660 [==============================] - 20s 8ms/step - loss: 2.0222e-05\n",
      "Epoch 14/100\n",
      "2660/2660 [==============================] - 20s 8ms/step - loss: 2.0100e-05\n",
      "Epoch 15/100\n",
      "2660/2660 [==============================] - 21s 8ms/step - loss: 1.9165e-05\n",
      "Epoch 16/100\n",
      "2660/2660 [==============================] - 21s 8ms/step - loss: 1.8291e-05\n",
      "Epoch 17/100\n",
      "2660/2660 [==============================] - 22s 8ms/step - loss: 1.8856e-05\n",
      "Epoch 18/100\n",
      "2660/2660 [==============================] - 23s 9ms/step - loss: 1.8868e-05\n",
      "Epoch 19/100\n",
      "2660/2660 [==============================] - 31s 12ms/step - loss: 1.8717e-05\n",
      "Epoch 20/100\n",
      "2660/2660 [==============================] - 24s 9ms/step - loss: 1.8190e-05\n",
      "Epoch 21/100\n",
      "2660/2660 [==============================] - 20s 8ms/step - loss: 1.7682e-05\n",
      "Epoch 22/100\n",
      "2660/2660 [==============================] - 21s 8ms/step - loss: 1.8607e-05\n",
      "Epoch 23/100\n",
      "2660/2660 [==============================] - 20s 8ms/step - loss: 1.7983e-05\n",
      "Epoch 24/100\n",
      "2660/2660 [==============================] - 30s 11ms/step - loss: 1.7973e-05\n",
      "Epoch 25/100\n",
      "2660/2660 [==============================] - 26s 10ms/step - loss: 1.8027e-05\n",
      "Epoch 26/100\n",
      "2660/2660 [==============================] - 52s 19ms/step - loss: 1.8290e-05\n",
      "Epoch 27/100\n",
      "2660/2660 [==============================] - 33s 13ms/step - loss: 1.7736e-05\n",
      "Epoch 28/100\n",
      "2660/2660 [==============================] - 23s 9ms/step - loss: 1.7808e-05\n",
      "Epoch 29/100\n",
      "2660/2660 [==============================] - 24s 9ms/step - loss: 1.7950e-05\n",
      "Epoch 30/100\n",
      "2660/2660 [==============================] - 25s 9ms/step - loss: 1.7518e-05\n",
      "Epoch 31/100\n",
      "2660/2660 [==============================] - 31s 11ms/step - loss: 1.8022e-05\n",
      "Epoch 32/100\n",
      "2660/2660 [==============================] - 27s 10ms/step - loss: 1.8061e-05\n",
      "Epoch 33/100\n",
      "2660/2660 [==============================] - 38s 14ms/step - loss: 1.8123e-05\n",
      "Epoch 34/100\n",
      "2660/2660 [==============================] - 29s 11ms/step - loss: 1.7479e-05\n",
      "Epoch 35/100\n",
      "2660/2660 [==============================] - 29s 11ms/step - loss: 1.8062e-05\n",
      "Epoch 36/100\n",
      "2660/2660 [==============================] - 20s 8ms/step - loss: 1.7672e-05\n",
      "Epoch 37/100\n",
      "2660/2660 [==============================] - 22s 8ms/step - loss: 1.7401e-05\n",
      "Epoch 38/100\n",
      "2660/2660 [==============================] - 27s 10ms/step - loss: 1.7708e-05\n",
      "Epoch 39/100\n",
      "2660/2660 [==============================] - 27s 10ms/step - loss: 1.7995e-05\n",
      "Epoch 40/100\n",
      "2660/2660 [==============================] - 32s 12ms/step - loss: 1.7487e-05\n",
      "Epoch 41/100\n",
      "2660/2660 [==============================] - 22s 8ms/step - loss: 1.8018e-05\n",
      "Epoch 42/100\n",
      "2660/2660 [==============================] - 25s 10ms/step - loss: 1.7501e-05\n",
      "Epoch 43/100\n",
      "2660/2660 [==============================] - 21s 8ms/step - loss: 1.7458e-05\n",
      "Epoch 44/100\n",
      "2660/2660 [==============================] - 20s 8ms/step - loss: 1.7959e-05\n",
      "Epoch 45/100\n",
      "2660/2660 [==============================] - 20s 8ms/step - loss: 1.7477e-05\n",
      "Epoch 46/100\n",
      "2660/2660 [==============================] - 21s 8ms/step - loss: 1.7546e-05\n",
      "Epoch 47/100\n",
      "2660/2660 [==============================] - 20s 8ms/step - loss: 1.7737e-05\n",
      "Epoch 48/100\n",
      "2660/2660 [==============================] - 24s 9ms/step - loss: 1.7285e-05\n",
      "Epoch 49/100\n",
      "2660/2660 [==============================] - 22s 8ms/step - loss: 1.7647e-05\n",
      "Epoch 50/100\n",
      "2660/2660 [==============================] - 21s 8ms/step - loss: 1.7735e-05\n",
      "Epoch 51/100\n",
      "2660/2660 [==============================] - 23s 9ms/step - loss: 1.7652e-05\n",
      "Epoch 52/100\n",
      "2660/2660 [==============================] - 30s 11ms/step - loss: 1.7548e-05\n",
      "Epoch 53/100\n",
      "2660/2660 [==============================] - 29s 11ms/step - loss: 1.7464e-05\n",
      "Epoch 54/100\n",
      "2660/2660 [==============================] - 28s 11ms/step - loss: 1.7802e-05\n",
      "Epoch 55/100\n",
      "2660/2660 [==============================] - 28s 11ms/step - loss: 1.7339e-05\n",
      "Epoch 56/100\n",
      "2660/2660 [==============================] - 28s 11ms/step - loss: 1.7698e-05\n",
      "Epoch 57/100\n",
      "2660/2660 [==============================] - 25s 9ms/step - loss: 1.7301e-05\n",
      "Epoch 58/100\n",
      "2660/2660 [==============================] - 23s 9ms/step - loss: 1.7757e-05\n",
      "Epoch 59/100\n",
      "2660/2660 [==============================] - 23s 9ms/step - loss: 1.7521e-05\n",
      "Epoch 60/100\n",
      "2660/2660 [==============================] - 22s 8ms/step - loss: 1.7662e-05\n",
      "Epoch 61/100\n",
      "2660/2660 [==============================] - 23s 9ms/step - loss: 1.7424e-05\n",
      "Epoch 62/100\n",
      "2660/2660 [==============================] - 23s 8ms/step - loss: 1.7540e-05\n",
      "Epoch 63/100\n",
      "2660/2660 [==============================] - 24s 9ms/step - loss: 1.7325e-05\n",
      "Epoch 64/100\n",
      "2660/2660 [==============================] - 24s 9ms/step - loss: 1.7719e-05\n",
      "Epoch 65/100\n",
      "2660/2660 [==============================] - 23s 9ms/step - loss: 1.7473e-05\n",
      "Epoch 66/100\n",
      "2660/2660 [==============================] - 23s 9ms/step - loss: 1.7512e-05\n",
      "Epoch 67/100\n",
      "2660/2660 [==============================] - 23s 9ms/step - loss: 1.7569e-05\n",
      "Epoch 68/100\n",
      "2660/2660 [==============================] - 27s 10ms/step - loss: 1.7196e-05\n",
      "Epoch 69/100\n",
      "2660/2660 [==============================] - 24s 9ms/step - loss: 1.7432e-05\n",
      "Epoch 70/100\n",
      "2660/2660 [==============================] - 24s 9ms/step - loss: 1.7557e-05\n",
      "Epoch 71/100\n",
      "2660/2660 [==============================] - 25s 9ms/step - loss: 1.7537e-05\n",
      "Epoch 72/100\n",
      "2660/2660 [==============================] - 24s 9ms/step - loss: 1.6993e-05\n",
      "Epoch 73/100\n",
      "2660/2660 [==============================] - 25s 9ms/step - loss: 1.7632e-05\n",
      "Epoch 74/100\n",
      "2660/2660 [==============================] - 24s 9ms/step - loss: 1.7423e-05\n",
      "Epoch 75/100\n",
      "2660/2660 [==============================] - 24s 9ms/step - loss: 1.7469e-05\n",
      "Epoch 76/100\n",
      "2660/2660 [==============================] - 24s 9ms/step - loss: 1.7377e-05\n",
      "Epoch 77/100\n",
      "2660/2660 [==============================] - 29s 11ms/step - loss: 1.7480e-05\n",
      "Epoch 78/100\n",
      "2660/2660 [==============================] - 24s 9ms/step - loss: 1.7259e-05\n",
      "Epoch 79/100\n",
      "2660/2660 [==============================] - 619s 233ms/step - loss: 1.7374e-05\n",
      "Epoch 80/100\n",
      "2660/2660 [==============================] - 25s 10ms/step - loss: 1.7605e-05\n",
      "Epoch 81/100\n",
      "2660/2660 [==============================] - 21s 8ms/step - loss: 1.7327e-05\n",
      "Epoch 82/100\n",
      "2660/2660 [==============================] - 23s 9ms/step - loss: 1.7388e-05\n",
      "Epoch 83/100\n",
      "2660/2660 [==============================] - 24s 9ms/step - loss: 1.7389e-05\n",
      "Epoch 84/100\n",
      "2660/2660 [==============================] - 23s 9ms/step - loss: 1.7592e-05\n",
      "Epoch 85/100\n",
      "2660/2660 [==============================] - 28s 10ms/step - loss: 1.7424e-05\n",
      "Epoch 86/100\n",
      "2660/2660 [==============================] - 31s 12ms/step - loss: 1.7164e-05\n",
      "Epoch 87/100\n",
      "2660/2660 [==============================] - 29s 11ms/step - loss: 1.7622e-05\n",
      "Epoch 88/100\n",
      "2660/2660 [==============================] - 37s 14ms/step - loss: 1.7343e-05\n",
      "Epoch 89/100\n",
      "2660/2660 [==============================] - 31s 12ms/step - loss: 1.7310e-05\n",
      "Epoch 90/100\n",
      "2660/2660 [==============================] - 31s 12ms/step - loss: 1.7239e-05\n",
      "Epoch 91/100\n",
      "2660/2660 [==============================] - 36s 14ms/step - loss: 1.7615e-05 0s - los\n",
      "Epoch 92/100\n",
      "2660/2660 [==============================] - 36s 14ms/step - loss: 1.7206e-05\n",
      "Epoch 93/100\n",
      "2660/2660 [==============================] - 26s 10ms/step - loss: 1.7523e-05\n",
      "Epoch 94/100\n",
      "2660/2660 [==============================] - 29s 11ms/step - loss: 1.7275e-05 0s - l\n",
      "Epoch 95/100\n",
      "2660/2660 [==============================] - 35s 13ms/step - loss: 1.7444e-05\n",
      "Epoch 96/100\n",
      "2660/2660 [==============================] - 25s 9ms/step - loss: 1.7346e-05\n",
      "Epoch 97/100\n",
      "2660/2660 [==============================] - 25s 9ms/step - loss: 1.7299e-05\n",
      "Epoch 98/100\n",
      "2660/2660 [==============================] - 26s 10ms/step - loss: 1.7422e-05\n",
      "Epoch 99/100\n",
      "2660/2660 [==============================] - 32s 12ms/step - loss: 1.7028e-05\n",
      "Epoch 100/100\n",
      "2660/2660 [==============================] - 33s 12ms/step - loss: 1.7081e-05\n"
     ]
    },
    {
     "data": {
      "text/plain": [
       "<keras.callbacks.History at 0x7f858e796640>"
      ]
     },
     "execution_count": 20,
     "metadata": {},
     "output_type": "execute_result"
    }
   ],
   "source": [
    "# build the model\n",
    "model = Sequential()\n",
    "model.add(LSTM(4, input_shape=(series, 1)))\n",
    "model.add(Dense(1))\n",
    "model.compile(loss='mse', optimizer='adam')\n",
    "# fit the model\n",
    "model.fit(trainX, trainY, epochs=100, batch_size=32)"
   ]
  },
  {
   "cell_type": "code",
   "execution_count": 21,
   "id": "84ec19d5",
   "metadata": {},
   "outputs": [],
   "source": [
    "# test this model out\n",
    "trainPredictions = model.predict(trainX)\n",
    "testPredictions = model.predict(testX)\n",
    "\n",
    "# unscale predictions\n",
    "trainPredictions = scaler.inverse_transform(trainPredictions)\n",
    "testPredictions = scaler.inverse_transform(testPredictions)\n",
    "trainY = scaler.inverse_transform([trainY])\n",
    "testY = scaler.inverse_transform([testY])"
   ]
  },
  {
   "cell_type": "code",
   "execution_count": 22,
   "id": "5ad9709a",
   "metadata": {},
   "outputs": [
    {
     "name": "stdout",
     "output_type": "stream",
     "text": [
      "Train score: %.2f rmse 8.853184511509545\n",
      "Test score: %.2f rmse 0.7961560528593044\n"
     ]
    }
   ],
   "source": [
    "# lets calculate the root mean squared error\n",
    "trainScore = math.sqrt(mean_squared_error(trainY[0], trainPredictions[:, 0]))\n",
    "testScore = math.sqrt(mean_squared_error(testY[0], testPredictions[:, 0]))\n",
    "print('Train score: %.2f rmse', trainScore)\n",
    "print('Test score: %.2f rmse', testScore)"
   ]
  },
  {
   "cell_type": "code",
   "execution_count": 23,
   "id": "954c9442",
   "metadata": {},
   "outputs": [
    {
     "data": {
      "image/png": "[encoded data removed]",
      "text/plain": [
       "<Figure size 432x288 with 1 Axes>"
      ]
     },
     "metadata": {
      "needs_background": "light"
     },
     "output_type": "display_data"
    }
   ],
   "source": [
    "# lets plot the predictions on a graph and see how well it did\n",
    "train_plot = np.empty_like(data_close)\n",
    "train_plot[:,:] = np.nan\n",
    "train_plot[series:len(trainPredictions)+series, :] = trainPredictions\n",
    "\n",
    "test_plot = np.empty_like(data_close)\n",
    "test_plot[:,:] = np.nan\n",
    "test_plot[len(trainPredictions)+(series*2)+1:len(data_close)-1, :] = testPredictions\n",
    "\n",
    "# plot on graph\n",
    "plt.plot(scaler.inverse_transform(data_close))\n",
    "plt.plot(train_plot)\n",
    "plt.plot(test_plot)\n",
    "plt.show()"
   ]
  }
 ],
 "metadata": {
  "kernelspec": {
   "display_name": "Python 3 (ipykernel)",
   "language": "python",
   "name": "python3"
  },
  "language_info": {
   "codemirror_mode": {
    "name": "ipython",
    "version": 3
   },
   "file_extension": ".py",
   "mimetype": "text/x-python",
   "name": "python",
   "nbconvert_exporter": "python",
   "pygments_lexer": "ipython3",
   "version": "3.9.0"
  }
 },
 "nbformat": 4,
 "nbformat_minor": 5
}
