{
 "cells": [
  {
   "cell_type": "code",
   "execution_count": null,
   "id": "d12d8e2c",
   "metadata": {},
   "outputs": [],
   "source": [
    "# Change Keras backend\n",
    "from keras import backend as K\n",
    "import os\n",
    "os.environ['KERAS_BACKEND'] = \"cntk\""
   ]
  },
  {
   "cell_type": "code",
   "execution_count": null,
   "id": "a5d1c25c-c063-40b6-a2d1-f6d5767b967c",
   "metadata": {},
   "outputs": [],
   "source": [
    "# install dependencies\n",
    "import numpy as np\n",
    "import pandas as pd\n",
    "import matplotlib.pyplot as plt\n",
    "import math\n",
    "from keras.layers.core import Dense, Activation, Dropout\n",
    "from keras.layers.recurrent import LSTM\n",
    "from keras.models import Sequential\n",
    "from sklearn.model_selection import  train_test_split\n",
    "from sklearn.preprocessing import MinMaxScaler\n",
    "from sklearn.metrics import mean_squared_error"
   ]
  },
  {
   "cell_type": "code",
   "execution_count": null,
   "id": "a72749a0-3a58-4a1d-be53-859e7bee5c71",
   "metadata": {
    "pycharm": {
     "name": "#%%\n"
    }
   },
   "outputs": [],
   "source": [
    "ori_df = pd.read_csv(\"./gemini_BTCUSD_2015_1min.csv\")\n",
    "for item in range(2016,2022):\n",
    "    df = pd.read_csv(f\"./gemini_BTCUSD_{item}_1min.csv\")\n",
    "    new_df = pd.concat([ori_df,df], ignore_index=True)\n",
    "    ori_df = new_df"
   ]
  },
  {
   "cell_type": "code",
   "execution_count": null,
   "id": "d9c273af",
   "metadata": {
    "pycharm": {
     "name": "#%%\n"
    }
   },
   "outputs": [],
   "source": [
    "ori_df.rename({\"Unix Timestamp\":\"Timestamp\"}, axis=1, inplace = True)"
   ]
  },
  {
   "cell_type": "code",
   "execution_count": null,
   "id": "d1b316c3",
   "metadata": {
    "pycharm": {
     "name": "#%%\n"
    }
   },
   "outputs": [],
   "source": [
    "combine_df = ori_df"
   ]
  },
  {
   "cell_type": "code",
   "execution_count": null,
   "id": "9a73fb7f",
   "metadata": {
    "pycharm": {
     "name": "#%%\n"
    }
   },
   "outputs": [],
   "source": [
    "combine_df.drop_duplicates(subset=[\"Timestamp\"], keep='first',inplace=True)"
   ]
  },
  {
   "cell_type": "code",
   "execution_count": null,
   "id": "cf13241c",
   "metadata": {
    "pycharm": {
     "name": "#%%\n"
    }
   },
   "outputs": [],
   "source": [
    "combine_df.head()"
   ]
  },
  {
   "cell_type": "code",
   "execution_count": null,
   "id": "a74d47e3",
   "metadata": {},
   "outputs": [],
   "source": [
    "combine_df.tail()"
   ]
  },
  {
   "cell_type": "code",
   "execution_count": null,
   "id": "30323518",
   "metadata": {},
   "outputs": [],
   "source": [
    "combine_df.columns"
   ]
  },
  {
   "cell_type": "code",
   "execution_count": null,
   "id": "506da9bc",
   "metadata": {},
   "outputs": [],
   "source": [
    "combine_df.shape"
   ]
  },
  {
   "cell_type": "code",
   "execution_count": null,
   "id": "c9b35e3e",
   "metadata": {},
   "outputs": [],
   "source": [
    "combine_df.describe()"
   ]
  },
  {
   "cell_type": "code",
   "execution_count": null,
   "id": "c911f77a",
   "metadata": {},
   "outputs": [],
   "source": [
    "combine_df.dtypes"
   ]
  },
  {
   "cell_type": "code",
   "execution_count": null,
   "id": "cb9fc7c2",
   "metadata": {},
   "outputs": [],
   "source": [
    "combine_df.set_index('Timestamp', inplace=True)\n",
    "combine_df.info()"
   ]
  },
  {
   "cell_type": "code",
   "execution_count": null,
   "id": "5b529d4a",
   "metadata": {},
   "outputs": [],
   "source": [
    "combine_df.sort_index(inplace=True)"
   ]
  },
  {
   "cell_type": "code",
   "execution_count": null,
   "id": "bd7b866c",
   "metadata": {
    "pycharm": {
     "name": "#%%\n"
    }
   },
   "outputs": [],
   "source": [
    "data_close = combine_df['Close']\n",
    "data_close = data_close.values.reshape(len(data_close), 1)\n",
    "plt.plot(data_close)\n",
    "plt.show()"
   ]
  },
  {
   "cell_type": "code",
   "execution_count": null,
   "id": "999265fe",
   "metadata": {},
   "outputs": [],
   "source": [
    "scaler = MinMaxScaler(feature_range=(0,1))"
   ]
  },
  {
   "cell_type": "code",
   "execution_count": null,
   "id": "fdc64a32",
   "metadata": {},
   "outputs": [],
   "source": [
    "data_close = scaler.fit_transform(data_close)\n",
    "data_close"
   ]
  },
  {
   "cell_type": "code",
   "execution_count": null,
   "id": "e707bbfb",
   "metadata": {},
   "outputs": [],
   "source": [
    "# split data into train and test\n",
    "train_size = int(len(data_close)*0.7)\n",
    "test_size = len(data_close) - train_size\n",
    "\n",
    "data_train, data_test = data_close[0:train_size, :], data_close[train_size:len(data_close), :]\n",
    "print('Split data into train and test: ', len(data_train), len(data_test))"
   ]
  },
  {
   "cell_type": "code",
   "execution_count": null,
   "id": "0cbdc18c",
   "metadata": {},
   "outputs": [],
   "source": [
    "# need to now convert the data into time series looking back over a period of days...e.g. use last 7 days to predict price\n",
    "def create_ts(ds, series):\n",
    "    X, Y =[], []\n",
    "    for i in range(len(ds)-series - 1):\n",
    "        item = ds[i:(i+series), 0]\n",
    "        X.append(item)\n",
    "        Y.append(ds[i+series, 0])\n",
    "    return np.array(X), np.array(Y)\n",
    "\n",
    "series = 10080\n",
    "\n",
    "trainX, trainY = create_ts(data_train, series)\n",
    "testX, testY = create_ts(data_test, series)"
   ]
  },
  {
   "cell_type": "code",
   "execution_count": null,
   "id": "d965f926",
   "metadata": {},
   "outputs": [],
   "source": [
    "trainX"
   ]
  },
  {
   "cell_type": "code",
   "execution_count": null,
   "id": "f5127981",
   "metadata": {},
   "outputs": [],
   "source": [
    "trainX[0]"
   ]
  },
  {
   "cell_type": "code",
   "execution_count": null,
   "id": "6209d5d7",
   "metadata": {},
   "outputs": [],
   "source": [
    "# reshape into  LSTM format - samples, steps, features\n",
    "trainX = np.reshape(trainX, (trainX.shape[0], trainX.shape[1], 1))\n",
    "testX = np.reshape(testX, (testX.shape[0], testX.shape[1], 1))"
   ]
  },
  {
   "cell_type": "code",
   "execution_count": null,
   "id": "e0c13dd9",
   "metadata": {},
   "outputs": [],
   "source": [
    "# build the model\n",
    "model = Sequential()\n",
    "model.add(LSTM(4, input_shape=(series, 1)))\n",
    "model.add(Dense(1))\n",
    "model.compile(loss='mse', optimizer='adam')\n",
    "# fit the model\n",
    "model.fit(trainX, trainY, epochs=100, batch_size=32)"
   ]
  },
  {
   "cell_type": "code",
   "execution_count": null,
   "id": "bf97139f",
   "metadata": {},
   "outputs": [],
   "source": [
    "# test this model out\n",
    "trainPredictions = model.predict(trainX)\n",
    "testPredictions = model.predict(testX)\n",
    "\n",
    "# unscale predictions\n",
    "trainPredictions = scaler.inverse_transform(trainPredictions)\n",
    "testPredictions = scaler.inverse_transform(testPredictions)\n",
    "trainY = scaler.inverse_transform([trainY])\n",
    "testY = scaler.inverse_transform([testY])"
   ]
  },
  {
   "cell_type": "code",
   "execution_count": null,
   "id": "60b49a3c",
   "metadata": {},
   "outputs": [],
   "source": [
    "# lets calculate the root mean squared error\n",
    "trainScore = math.sqrt(mean_squared_error(trainY[0], trainPredictions[:, 0]))\n",
    "testScore = math.sqrt(mean_squared_error(testY[0], testPredictions[:, 0]))\n",
    "print('Train score: %.2f rmse', trainScore)\n",
    "print('Test score: %.2f rmse', testScore)"
   ]
  },
  {
   "cell_type": "code",
   "execution_count": null,
   "id": "e7875e55",
   "metadata": {},
   "outputs": [],
   "source": [
    "# lets plot the predictions on a graph and see how well it did\n",
    "train_plot = np.empty_like(data_close)\n",
    "train_plot[:,:] = np.nan\n",
    "train_plot[series:len(trainPredictions)+series, :] = trainPredictions\n",
    "\n",
    "test_plot = np.empty_like(data_close)\n",
    "test_plot[:,:] = np.nan\n",
    "test_plot[len(trainPredictions)+(series*2)+1:len(data_close)-1, :] = testPredictions\n",
    "\n",
    "# plot on graph\n",
    "plt.plot(scaler.inverse_transform(data_close))\n",
    "plt.plot(train_plot)\n",
    "plt.plot(test_plot)\n",
    "plt.show()"
   ]
  },
  {
   "cell_type": "code",
   "execution_count": null,
   "id": "bf0102d4",
   "metadata": {},
   "outputs": [],
   "source": []
  }
 ],
 "metadata": {
  "kernelspec": {
   "display_name": "Python 3 (ipykernel)",
   "language": "python",
   "name": "python3"
  },
  "language_info": {
   "codemirror_mode": {
    "name": "ipython",
    "version": 3
   },
   "file_extension": ".py",
   "mimetype": "text/x-python",
   "name": "python",
   "nbconvert_exporter": "python",
   "pygments_lexer": "ipython3",
   "version": "3.9.0"
  }
 },
 "nbformat": 4,
 "nbformat_minor": 5
}
