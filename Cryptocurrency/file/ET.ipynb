{
 "cells": [
  {
   "cell_type": "code",
   "execution_count": 8,
   "id": "a5d1c25c-c063-40b6-a2d1-f6d5767b967c",
   "metadata": {},
   "outputs": [],
   "source": [
    "import pandas as pd\n"
   ]
  },
  {
   "cell_type": "code",
   "execution_count": 34,
   "id": "a72749a0-3a58-4a1d-be53-859e7bee5c71",
   "metadata": {
    "pycharm": {
     "name": "#%%\n"
    }
   },
   "outputs": [],
   "source": [
    "ori_df = pd.read_csv(\"./gemini_BTCUSD_2015_1min.csv\")\n",
    "for item in range(2016,2022):\n",
    "    df = pd.read_csv(f\"./gemini_BTCUSD_{item}_1min.csv\")\n",
    "    new_df = pd.concat([ori_df,df])\n",
    "    ori_df = new_df"
   ]
  },
  {
   "cell_type": "code",
   "execution_count": 39,
   "outputs": [],
   "source": [
    "ori_df.rename({\"Unix Timestamp\":\"Timestamp\"}, axis=1, inplace = True)"
   ],
   "metadata": {
    "collapsed": false,
    "pycharm": {
     "name": "#%%\n"
    }
   }
  },
  {
   "cell_type": "code",
   "execution_count": 40,
   "outputs": [],
   "source": [
    "combine_df = ori_df"
   ],
   "metadata": {
    "collapsed": false,
    "pycharm": {
     "name": "#%%\n"
    }
   }
  },
  {
   "cell_type": "code",
   "execution_count": 42,
   "outputs": [],
   "source": [
    "combine_df.drop_duplicates(subset=[\"Timestamp\"], keep='first',inplace=True)"
   ],
   "metadata": {
    "collapsed": false,
    "pycharm": {
     "name": "#%%\n"
    }
   }
  },
  {
   "cell_type": "code",
   "execution_count": 43,
   "outputs": [
    {
     "data": {
      "text/plain": "            Timestamp                 Date  Symbol      Open      High  \\\n0          1451606340  2015-12-31 23:59:00  BTCUSD    429.95    429.95   \n1          1451606280  2015-12-31 23:58:00  BTCUSD    429.95    429.95   \n2          1451606220  2015-12-31 23:57:00  BTCUSD    429.95    429.95   \n3          1451606160  2015-12-31 23:56:00  BTCUSD    429.95    429.95   \n4          1451606100  2015-12-31 23:55:00  BTCUSD    429.95    429.95   \n...               ...                  ...     ...       ...       ...   \n401636  1609459440000  2021-01-01 00:04:00  BTCUSD  29056.21  29056.21   \n401637  1609459380000  2021-01-01 00:03:00  BTCUSD  29057.27  29057.27   \n401638  1609459320000  2021-01-01 00:02:00  BTCUSD  29085.38  29086.14   \n401639  1609459260000  2021-01-01 00:01:00  BTCUSD  29033.01  29086.14   \n401640  1609459200000  2021-01-01 00:00:00  BTCUSD  28979.74  29033.01   \n\n             Low     Close    Volume  \n0         429.95    429.95  0.000000  \n1         429.95    429.95  0.000000  \n2         429.95    429.95  0.000000  \n3         429.95    429.95  0.000000  \n4         429.95    429.95  0.000000  \n...          ...       ...       ...  \n401636  29046.04  29048.46  0.032502  \n401637  29028.69  29056.21  0.049909  \n401638  29043.25  29057.27  5.075271  \n401639  29033.01  29085.38  1.451389  \n401640  28956.18  29033.01  0.126441  \n\n[3050927 rows x 8 columns]",
      "text/html": "<div>\n<style scoped>\n    .dataframe tbody tr th:only-of-type {\n        vertical-align: middle;\n    }\n\n    .dataframe tbody tr th {\n        vertical-align: top;\n    }\n\n    .dataframe thead th {\n        text-align: right;\n    }\n</style>\n<table border=\"1\" class=\"dataframe\">\n  <thead>\n    <tr style=\"text-align: right;\">\n      <th></th>\n      <th>Timestamp</th>\n      <th>Date</th>\n      <th>Symbol</th>\n      <th>Open</th>\n      <th>High</th>\n      <th>Low</th>\n      <th>Close</th>\n      <th>Volume</th>\n    </tr>\n  </thead>\n  <tbody>\n    <tr>\n      <th>0</th>\n      <td>1451606340</td>\n      <td>2015-12-31 23:59:00</td>\n      <td>BTCUSD</td>\n      <td>429.95</td>\n      <td>429.95</td>\n      <td>429.95</td>\n      <td>429.95</td>\n      <td>0.000000</td>\n    </tr>\n    <tr>\n      <th>1</th>\n      <td>1451606280</td>\n      <td>2015-12-31 23:58:00</td>\n      <td>BTCUSD</td>\n      <td>429.95</td>\n      <td>429.95</td>\n      <td>429.95</td>\n      <td>429.95</td>\n      <td>0.000000</td>\n    </tr>\n    <tr>\n      <th>2</th>\n      <td>1451606220</td>\n      <td>2015-12-31 23:57:00</td>\n      <td>BTCUSD</td>\n      <td>429.95</td>\n      <td>429.95</td>\n      <td>429.95</td>\n      <td>429.95</td>\n      <td>0.000000</td>\n    </tr>\n    <tr>\n      <th>3</th>\n      <td>1451606160</td>\n      <td>2015-12-31 23:56:00</td>\n      <td>BTCUSD</td>\n      <td>429.95</td>\n      <td>429.95</td>\n      <td>429.95</td>\n      <td>429.95</td>\n      <td>0.000000</td>\n    </tr>\n    <tr>\n      <th>4</th>\n      <td>1451606100</td>\n      <td>2015-12-31 23:55:00</td>\n      <td>BTCUSD</td>\n      <td>429.95</td>\n      <td>429.95</td>\n      <td>429.95</td>\n      <td>429.95</td>\n      <td>0.000000</td>\n    </tr>\n    <tr>\n      <th>...</th>\n      <td>...</td>\n      <td>...</td>\n      <td>...</td>\n      <td>...</td>\n      <td>...</td>\n      <td>...</td>\n      <td>...</td>\n      <td>...</td>\n    </tr>\n    <tr>\n      <th>401636</th>\n      <td>1609459440000</td>\n      <td>2021-01-01 00:04:00</td>\n      <td>BTCUSD</td>\n      <td>29056.21</td>\n      <td>29056.21</td>\n      <td>29046.04</td>\n      <td>29048.46</td>\n      <td>0.032502</td>\n    </tr>\n    <tr>\n      <th>401637</th>\n      <td>1609459380000</td>\n      <td>2021-01-01 00:03:00</td>\n      <td>BTCUSD</td>\n      <td>29057.27</td>\n      <td>29057.27</td>\n      <td>29028.69</td>\n      <td>29056.21</td>\n      <td>0.049909</td>\n    </tr>\n    <tr>\n      <th>401638</th>\n      <td>1609459320000</td>\n      <td>2021-01-01 00:02:00</td>\n      <td>BTCUSD</td>\n      <td>29085.38</td>\n      <td>29086.14</td>\n      <td>29043.25</td>\n      <td>29057.27</td>\n      <td>5.075271</td>\n    </tr>\n    <tr>\n      <th>401639</th>\n      <td>1609459260000</td>\n      <td>2021-01-01 00:01:00</td>\n      <td>BTCUSD</td>\n      <td>29033.01</td>\n      <td>29086.14</td>\n      <td>29033.01</td>\n      <td>29085.38</td>\n      <td>1.451389</td>\n    </tr>\n    <tr>\n      <th>401640</th>\n      <td>1609459200000</td>\n      <td>2021-01-01 00:00:00</td>\n      <td>BTCUSD</td>\n      <td>28979.74</td>\n      <td>29033.01</td>\n      <td>28956.18</td>\n      <td>29033.01</td>\n      <td>0.126441</td>\n    </tr>\n  </tbody>\n</table>\n<p>3050927 rows × 8 columns</p>\n</div>"
     },
     "execution_count": 43,
     "metadata": {},
     "output_type": "execute_result"
    }
   ],
   "source": [
    "combine_df"
   ],
   "metadata": {
    "collapsed": false,
    "pycharm": {
     "name": "#%%\n"
    }
   }
  },
  {
   "cell_type": "code",
   "execution_count": null,
   "outputs": [],
   "source": [],
   "metadata": {
    "collapsed": false,
    "pycharm": {
     "name": "#%%\n"
    }
   }
  }
 ],
 "metadata": {
  "kernelspec": {
   "display_name": "Python 3 (ipykernel)",
   "language": "python",
   "name": "python3"
  },
  "language_info": {
   "codemirror_mode": {
    "name": "ipython",
    "version": 3
   },
   "file_extension": ".py",
   "mimetype": "text/x-python",
   "name": "python",
   "nbconvert_exporter": "python",
   "pygments_lexer": "ipython3",
   "version": "3.9.7"
  }
 },
 "nbformat": 4,
 "nbformat_minor": 5
}