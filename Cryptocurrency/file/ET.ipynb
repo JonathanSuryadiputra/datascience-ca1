{
 "cells": [
  {
   "cell_type": "code",
   "execution_count": 4,
   "id": "a5d1c25c-c063-40b6-a2d1-f6d5767b967c",
   "metadata": {},
   "outputs": [],
   "source": [
    "import pandas as pd"
   ]
  },
  {
   "cell_type": "code",
   "execution_count": 12,
   "id": "a72749a0-3a58-4a1d-be53-859e7bee5c71",
   "metadata": {},
   "outputs": [],
   "source": [
    "ori_df = pd.read_csv(\"./gemini_BTCUSD_2015_1min.csv\")\n",
    "df = pd.read_csv(\"./gemini_BTCUSD_2016_1min.csv\")\n",
    "\n",
    "# for item in range(2016,2021):\n",
    "#     df = pd.read_csv(f\"./gemini_BTCUSD_{item}_1min.csv\")"
   ]
  },
  {
   "cell_type": "code",
   "execution_count": 9,
   "id": "9a7faf0c-556a-4631-b7cf-d081b2af8e7a",
   "metadata": {},
   "outputs": [
    {
     "name": "stdout",
     "output_type": "stream",
     "text": [
      "                                                               Created on 08-29-2018  \\\n",
      "Unix Timestamp Date                Symbol Open   High   Low                    Close   \n",
      "1483228740     2016-12-31 23:59:00 BTCUSD 974.55 974.55 974.55                974.55   \n",
      "1483228680     2016-12-31 23:58:00 BTCUSD 974.55 974.55 974.55                974.55   \n",
      "1483228620     2016-12-31 23:57:00 BTCUSD 974.55 974.55 974.55                974.55   \n",
      "1483228560     2016-12-31 23:56:00 BTCUSD 974.0  974.55 974.0                 974.55   \n",
      "...                                                                              ...   \n",
      "1451606640     2016-01-01 00:04:00 BTCUSD 429.95 429.95 429.95                429.95   \n",
      "1451606580     2016-01-01 00:03:00 BTCUSD 429.95 429.95 429.95                429.95   \n",
      "1451606520     2016-01-01 00:02:00 BTCUSD 429.95 429.95 429.95                429.95   \n",
      "1451606460     2016-01-01 00:01:00 BTCUSD 429.95 429.95 429.95                429.95   \n",
      "1451606400     2016-01-01 00:00:00 BTCUSD 429.95 429.95 429.95                429.95   \n",
      "\n",
      "                                                               http://www.CryptoDataDownload.com  \n",
      "Unix Timestamp Date                Symbol Open   High   Low                               Volume  \n",
      "1483228740     2016-12-31 23:59:00 BTCUSD 974.55 974.55 974.55                        0.02320545  \n",
      "1483228680     2016-12-31 23:58:00 BTCUSD 974.55 974.55 974.55                               0.0  \n",
      "1483228620     2016-12-31 23:57:00 BTCUSD 974.55 974.55 974.55                        0.04643379  \n",
      "1483228560     2016-12-31 23:56:00 BTCUSD 974.0  974.55 974.0                         0.02784628  \n",
      "...                                                                                          ...  \n",
      "1451606640     2016-01-01 00:04:00 BTCUSD 429.95 429.95 429.95                               0.0  \n",
      "1451606580     2016-01-01 00:03:00 BTCUSD 429.95 429.95 429.95                               0.0  \n",
      "1451606520     2016-01-01 00:02:00 BTCUSD 429.95 429.95 429.95                               0.0  \n",
      "1451606460     2016-01-01 00:01:00 BTCUSD 429.95 429.95 429.95                               0.0  \n",
      "1451606400     2016-01-01 00:00:00 BTCUSD 429.95 429.95 429.95                               0.0  \n",
      "\n",
      "[527041 rows x 2 columns]\n"
     ]
    }
   ],
   "source": [
    "df"
   ]
  },
  {
   "cell_type": "code",
   "execution_count": 13,
   "id": "6f9d6064-ee9f-4f29-92fb-591bfe61f3c9",
   "metadata": {},
   "outputs": [
    {
     "data": {
      "text/plain": "                                                               Created on 08-29-2018  \\\nUnix Timestamp Date                Symbol Open   High   Low                    Close   \n1483228740     2016-12-31 23:59:00 BTCUSD 974.55 974.55 974.55                974.55   \n1483228680     2016-12-31 23:58:00 BTCUSD 974.55 974.55 974.55                974.55   \n1483228620     2016-12-31 23:57:00 BTCUSD 974.55 974.55 974.55                974.55   \n1483228560     2016-12-31 23:56:00 BTCUSD 974.0  974.55 974.0                 974.55   \n...                                                                              ...   \n1451606640     2016-01-01 00:04:00 BTCUSD 429.95 429.95 429.95                429.95   \n1451606580     2016-01-01 00:03:00 BTCUSD 429.95 429.95 429.95                429.95   \n1451606520     2016-01-01 00:02:00 BTCUSD 429.95 429.95 429.95                429.95   \n1451606460     2016-01-01 00:01:00 BTCUSD 429.95 429.95 429.95                429.95   \n1451606400     2016-01-01 00:00:00 BTCUSD 429.95 429.95 429.95                429.95   \n\n                                                               http://www.CryptoDataDownload.com  \nUnix Timestamp Date                Symbol Open   High   Low                               Volume  \n1483228740     2016-12-31 23:59:00 BTCUSD 974.55 974.55 974.55                        0.02320545  \n1483228680     2016-12-31 23:58:00 BTCUSD 974.55 974.55 974.55                               0.0  \n1483228620     2016-12-31 23:57:00 BTCUSD 974.55 974.55 974.55                        0.04643379  \n1483228560     2016-12-31 23:56:00 BTCUSD 974.0  974.55 974.0                         0.02784628  \n...                                                                                          ...  \n1451606640     2016-01-01 00:04:00 BTCUSD 429.95 429.95 429.95                               0.0  \n1451606580     2016-01-01 00:03:00 BTCUSD 429.95 429.95 429.95                               0.0  \n1451606520     2016-01-01 00:02:00 BTCUSD 429.95 429.95 429.95                               0.0  \n1451606460     2016-01-01 00:01:00 BTCUSD 429.95 429.95 429.95                               0.0  \n1451606400     2016-01-01 00:00:00 BTCUSD 429.95 429.95 429.95                               0.0  \n\n[527041 rows x 2 columns]",
      "text/html": "<div>\n<style scoped>\n    .dataframe tbody tr th:only-of-type {\n        vertical-align: middle;\n    }\n\n    .dataframe tbody tr th {\n        vertical-align: top;\n    }\n\n    .dataframe thead th {\n        text-align: right;\n    }\n</style>\n<table border=\"1\" class=\"dataframe\">\n  <thead>\n    <tr style=\"text-align: right;\">\n      <th></th>\n      <th></th>\n      <th></th>\n      <th></th>\n      <th></th>\n      <th></th>\n      <th>Created on 08-29-2018</th>\n      <th>http://www.CryptoDataDownload.com</th>\n    </tr>\n  </thead>\n  <tbody>\n    <tr>\n      <th>Unix Timestamp</th>\n      <th>Date</th>\n      <th>Symbol</th>\n      <th>Open</th>\n      <th>High</th>\n      <th>Low</th>\n      <td>Close</td>\n      <td>Volume</td>\n    </tr>\n    <tr>\n      <th>1483228740</th>\n      <th>2016-12-31 23:59:00</th>\n      <th>BTCUSD</th>\n      <th>974.55</th>\n      <th>974.55</th>\n      <th>974.55</th>\n      <td>974.55</td>\n      <td>0.02320545</td>\n    </tr>\n    <tr>\n      <th>1483228680</th>\n      <th>2016-12-31 23:58:00</th>\n      <th>BTCUSD</th>\n      <th>974.55</th>\n      <th>974.55</th>\n      <th>974.55</th>\n      <td>974.55</td>\n      <td>0.0</td>\n    </tr>\n    <tr>\n      <th>1483228620</th>\n      <th>2016-12-31 23:57:00</th>\n      <th>BTCUSD</th>\n      <th>974.55</th>\n      <th>974.55</th>\n      <th>974.55</th>\n      <td>974.55</td>\n      <td>0.04643379</td>\n    </tr>\n    <tr>\n      <th>1483228560</th>\n      <th>2016-12-31 23:56:00</th>\n      <th>BTCUSD</th>\n      <th>974.0</th>\n      <th>974.55</th>\n      <th>974.0</th>\n      <td>974.55</td>\n      <td>0.02784628</td>\n    </tr>\n    <tr>\n      <th>...</th>\n      <th>...</th>\n      <th>...</th>\n      <th>...</th>\n      <th>...</th>\n      <th>...</th>\n      <td>...</td>\n      <td>...</td>\n    </tr>\n    <tr>\n      <th>1451606640</th>\n      <th>2016-01-01 00:04:00</th>\n      <th>BTCUSD</th>\n      <th>429.95</th>\n      <th>429.95</th>\n      <th>429.95</th>\n      <td>429.95</td>\n      <td>0.0</td>\n    </tr>\n    <tr>\n      <th>1451606580</th>\n      <th>2016-01-01 00:03:00</th>\n      <th>BTCUSD</th>\n      <th>429.95</th>\n      <th>429.95</th>\n      <th>429.95</th>\n      <td>429.95</td>\n      <td>0.0</td>\n    </tr>\n    <tr>\n      <th>1451606520</th>\n      <th>2016-01-01 00:02:00</th>\n      <th>BTCUSD</th>\n      <th>429.95</th>\n      <th>429.95</th>\n      <th>429.95</th>\n      <td>429.95</td>\n      <td>0.0</td>\n    </tr>\n    <tr>\n      <th>1451606460</th>\n      <th>2016-01-01 00:01:00</th>\n      <th>BTCUSD</th>\n      <th>429.95</th>\n      <th>429.95</th>\n      <th>429.95</th>\n      <td>429.95</td>\n      <td>0.0</td>\n    </tr>\n    <tr>\n      <th>1451606400</th>\n      <th>2016-01-01 00:00:00</th>\n      <th>BTCUSD</th>\n      <th>429.95</th>\n      <th>429.95</th>\n      <th>429.95</th>\n      <td>429.95</td>\n      <td>0.0</td>\n    </tr>\n  </tbody>\n</table>\n<p>527041 rows × 2 columns</p>\n</div>"
     },
     "execution_count": 13,
     "metadata": {},
     "output_type": "execute_result"
    }
   ],
   "source": [
    "df"
   ]
  },
  {
   "cell_type": "code",
   "execution_count": null,
   "id": "4520654e-9136-43e0-98c9-5a0f346bd868",
   "metadata": {},
   "outputs": [],
   "source": []
  }
 ],
 "metadata": {
  "kernelspec": {
   "display_name": "Python 3 (ipykernel)",
   "language": "python",
   "name": "python3"
  },
  "language_info": {
   "codemirror_mode": {
    "name": "ipython",
    "version": 3
   },
   "file_extension": ".py",
   "mimetype": "text/x-python",
   "name": "python",
   "nbconvert_exporter": "python",
   "pygments_lexer": "ipython3",
   "version": "3.9.7"
  }
 },
 "nbformat": 4,
 "nbformat_minor": 5
}