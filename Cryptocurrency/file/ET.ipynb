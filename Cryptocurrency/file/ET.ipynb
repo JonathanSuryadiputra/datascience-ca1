{
 "cells": [
  {
   "cell_type": "code",
   "execution_count": null,
   "id": "a5d1c25c-c063-40b6-a2d1-f6d5767b967c",
   "metadata": {},
   "outputs": [],
   "source": [
    "import pandas as pd\n",
    "import matplotlib.pyplot as plt"
   ]
  },
  {
   "cell_type": "code",
   "execution_count": null,
   "id": "a72749a0-3a58-4a1d-be53-859e7bee5c71",
   "metadata": {
    "pycharm": {
     "name": "#%%\n"
    }
   },
   "outputs": [],
   "source": [
    "ori_df = pd.read_csv(\"./gemini_BTCUSD_2015_1min.csv\")\n",
    "for item in range(2016,2022):\n",
    "    df = pd.read_csv(f\"./gemini_BTCUSD_{item}_1min.csv\")\n",
    "    new_df = pd.concat([ori_df,df], ignore_index=True)\n",
    "    ori_df = new_df"
   ]
  },
  {
   "cell_type": "code",
   "execution_count": null,
   "id": "d9c273af",
   "metadata": {
    "pycharm": {
     "name": "#%%\n"
    }
   },
   "outputs": [],
   "source": [
    "ori_df.rename({\"Unix Timestamp\":\"Timestamp\"}, axis=1, inplace = True)"
   ]
  },
  {
   "cell_type": "code",
   "execution_count": null,
   "id": "d1b316c3",
   "metadata": {
    "pycharm": {
     "name": "#%%\n"
    }
   },
   "outputs": [],
   "source": [
    "combine_df = ori_df"
   ]
  },
  {
   "cell_type": "code",
   "execution_count": null,
   "id": "9a73fb7f",
   "metadata": {
    "pycharm": {
     "name": "#%%\n"
    }
   },
   "outputs": [],
   "source": [
    "combine_df.drop_duplicates(subset=[\"Timestamp\"], keep='first',inplace=True)"
   ]
  },
  {
   "cell_type": "code",
   "execution_count": null,
   "id": "cf13241c",
   "metadata": {
    "pycharm": {
     "name": "#%%\n"
    }
   },
   "outputs": [],
   "source": [
    "combine_df"
   ]
  },
  {
   "cell_type": "code",
   "execution_count": null,
   "id": "bd7b866c",
   "metadata": {
    "pycharm": {
     "name": "#%%\n"
    }
   },
   "outputs": [],
   "source": [
    "plt.plot(combine_df['Close'])\n",
    "plt.show()"
   ]
  },
  {
   "cell_type": "code",
   "execution_count": null,
   "id": "369033ee",
   "metadata": {},
   "outputs": [],
   "source": []
  }
 ],
 "metadata": {
  "kernelspec": {
   "display_name": "Python 3 (ipykernel)",
   "language": "python",
   "name": "python3"
  },
  "language_info": {
   "codemirror_mode": {
    "name": "ipython",
    "version": 3
   },
   "file_extension": ".py",
   "mimetype": "text/x-python",
   "name": "python",
   "nbconvert_exporter": "python",
   "pygments_lexer": "ipython3",
   "version": "3.9.0"
  }
 },
 "nbformat": 4,
 "nbformat_minor": 5
}
