{
 "cells": [
  {
   "cell_type": "markdown",
   "id": "8028ca5f",
   "metadata": {},
   "source": [
    "# Student Names\n",
    "Jonathan Suryadiputra C00235450<br>\n",
    "Weihao Liao C00253515<br>\n",
    "Chi Ieong Ng  C00223421<br><br>\n",
    "<b>Date:</b> 18th of February 2022"
   ]
  },
  {
   "cell_type": "markdown",
   "id": "373fdc5d",
   "metadata": {},
   "source": [
    "# X and Y\n",
    "X = Goes back looking over a series of time e.g. past 7 days.<br>\n",
    "Y = The last nth of the series of time e.g. the price of BTC on the day after the past 7 days.<br>"
   ]
  },
  {
   "cell_type": "code",
   "execution_count": 1,
   "id": "b69654c2",
   "metadata": {},
   "outputs": [
    {
     "data": {
      "text/plain": [
       "'\\nlook_back = 3\\ndata = [1,2,4,5,7,8,9]\\n\\n   X      Y\\n[1,2,4]->[5]\\n[2,4,5]->[7]\\n[4,5,7]->[8]\\n[5,7,8]->[9]\\n'"
      ]
     },
     "execution_count": 1,
     "metadata": {},
     "output_type": "execute_result"
    }
   ],
   "source": [
    "# Example\n",
    "\"\"\"\n",
    "look_back = 3\n",
    "data = [1,2,4,5,7,8,9]\n",
    "\n",
    "   X      Y\n",
    "[1,2,4]->[5]\n",
    "[2,4,5]->[7]\n",
    "[4,5,7]->[8]\n",
    "[5,7,8]->[9]\n",
    "\"\"\""
   ]
  },
  {
   "cell_type": "markdown",
   "id": "76b94706",
   "metadata": {},
   "source": [
    "# Import dependencies"
   ]
  },
  {
   "cell_type": "code",
   "execution_count": 2,
   "id": "d0f05025",
   "metadata": {},
   "outputs": [],
   "source": [
    "# install dependencies\n",
    "import pandas as pd\n",
    "import numpy as np\n",
    "import keras\n",
    "import tensorflow as tf\n",
    "from keras.preprocessing.sequence import TimeseriesGenerator"
   ]
  },
  {
   "cell_type": "markdown",
   "id": "5f84e265",
   "metadata": {},
   "source": [
    "# Load dataset"
   ]
  },
  {
   "cell_type": "code",
   "execution_count": 3,
   "id": "f4629748",
   "metadata": {},
   "outputs": [],
   "source": [
    "data = pd.read_csv('../datasets/Daily/gemini_ETHUSD_day.csv')"
   ]
  },
  {
   "cell_type": "markdown",
   "id": "2c905585",
   "metadata": {},
   "source": [
    "# Explore dataset"
   ]
  },
  {
   "cell_type": "code",
   "execution_count": 4,
   "id": "dbd95fef",
   "metadata": {},
   "outputs": [
    {
     "data": {
      "text/html": [
       "<div>\n",
       "<style scoped>\n",
       "    .dataframe tbody tr th:only-of-type {\n",
       "        vertical-align: middle;\n",
       "    }\n",
       "\n",
       "    .dataframe tbody tr th {\n",
       "        vertical-align: top;\n",
       "    }\n",
       "\n",
       "    .dataframe thead th {\n",
       "        text-align: right;\n",
       "    }\n",
       "</style>\n",
       "<table border=\"1\" class=\"dataframe\">\n",
       "  <thead>\n",
       "    <tr style=\"text-align: right;\">\n",
       "      <th></th>\n",
       "      <th>Unix Timestamp</th>\n",
       "      <th>Date</th>\n",
       "      <th>Symbol</th>\n",
       "      <th>Open</th>\n",
       "      <th>High</th>\n",
       "      <th>Low</th>\n",
       "      <th>Close</th>\n",
       "      <th>Volume</th>\n",
       "    </tr>\n",
       "  </thead>\n",
       "  <tbody>\n",
       "    <tr>\n",
       "      <th>0</th>\n",
       "      <td>1644033600000</td>\n",
       "      <td>2022-02-05 04:00:00</td>\n",
       "      <td>ETHUSD</td>\n",
       "      <td>3000.46</td>\n",
       "      <td>3062.85</td>\n",
       "      <td>2964.23</td>\n",
       "      <td>3023.46</td>\n",
       "      <td>6873.778128</td>\n",
       "    </tr>\n",
       "    <tr>\n",
       "      <th>1</th>\n",
       "      <td>1643947200000</td>\n",
       "      <td>2022-02-04 04:00:00</td>\n",
       "      <td>ETHUSD</td>\n",
       "      <td>2685.66</td>\n",
       "      <td>3018.68</td>\n",
       "      <td>2678.05</td>\n",
       "      <td>3000.46</td>\n",
       "      <td>30992.365110</td>\n",
       "    </tr>\n",
       "    <tr>\n",
       "      <th>2</th>\n",
       "      <td>1643860800000</td>\n",
       "      <td>2022-02-03 04:00:00</td>\n",
       "      <td>ETHUSD</td>\n",
       "      <td>2659.30</td>\n",
       "      <td>2700.00</td>\n",
       "      <td>2576.87</td>\n",
       "      <td>2685.66</td>\n",
       "      <td>11232.318486</td>\n",
       "    </tr>\n",
       "    <tr>\n",
       "      <th>3</th>\n",
       "      <td>1643774400000</td>\n",
       "      <td>2022-02-02 04:00:00</td>\n",
       "      <td>ETHUSD</td>\n",
       "      <td>2783.81</td>\n",
       "      <td>2909.13</td>\n",
       "      <td>2615.32</td>\n",
       "      <td>2659.30</td>\n",
       "      <td>16921.173294</td>\n",
       "    </tr>\n",
       "    <tr>\n",
       "      <th>4</th>\n",
       "      <td>1643688000000</td>\n",
       "      <td>2022-02-01 04:00:00</td>\n",
       "      <td>ETHUSD</td>\n",
       "      <td>2754.14</td>\n",
       "      <td>2815.69</td>\n",
       "      <td>2719.52</td>\n",
       "      <td>2783.81</td>\n",
       "      <td>17279.053623</td>\n",
       "    </tr>\n",
       "  </tbody>\n",
       "</table>\n",
       "</div>"
      ],
      "text/plain": [
       "   Unix Timestamp                 Date  Symbol     Open     High      Low  \\\n",
       "0   1644033600000  2022-02-05 04:00:00  ETHUSD  3000.46  3062.85  2964.23   \n",
       "1   1643947200000  2022-02-04 04:00:00  ETHUSD  2685.66  3018.68  2678.05   \n",
       "2   1643860800000  2022-02-03 04:00:00  ETHUSD  2659.30  2700.00  2576.87   \n",
       "3   1643774400000  2022-02-02 04:00:00  ETHUSD  2783.81  2909.13  2615.32   \n",
       "4   1643688000000  2022-02-01 04:00:00  ETHUSD  2754.14  2815.69  2719.52   \n",
       "\n",
       "     Close        Volume  \n",
       "0  3023.46   6873.778128  \n",
       "1  3000.46  30992.365110  \n",
       "2  2685.66  11232.318486  \n",
       "3  2659.30  16921.173294  \n",
       "4  2783.81  17279.053623  "
      ]
     },
     "execution_count": 4,
     "metadata": {},
     "output_type": "execute_result"
    }
   ],
   "source": [
    "data.head()"
   ]
  },
  {
   "cell_type": "code",
   "execution_count": 5,
   "id": "c29d96c3",
   "metadata": {},
   "outputs": [
    {
     "data": {
      "text/html": [
       "<div>\n",
       "<style scoped>\n",
       "    .dataframe tbody tr th:only-of-type {\n",
       "        vertical-align: middle;\n",
       "    }\n",
       "\n",
       "    .dataframe tbody tr th {\n",
       "        vertical-align: top;\n",
       "    }\n",
       "\n",
       "    .dataframe thead th {\n",
       "        text-align: right;\n",
       "    }\n",
       "</style>\n",
       "<table border=\"1\" class=\"dataframe\">\n",
       "  <thead>\n",
       "    <tr style=\"text-align: right;\">\n",
       "      <th></th>\n",
       "      <th>Unix Timestamp</th>\n",
       "      <th>Date</th>\n",
       "      <th>Symbol</th>\n",
       "      <th>Open</th>\n",
       "      <th>High</th>\n",
       "      <th>Low</th>\n",
       "      <th>Close</th>\n",
       "      <th>Volume</th>\n",
       "    </tr>\n",
       "  </thead>\n",
       "  <tbody>\n",
       "    <tr>\n",
       "      <th>2094</th>\n",
       "      <td>1463112000</td>\n",
       "      <td>2016-05-13 04:00:00</td>\n",
       "      <td>ETHUSD</td>\n",
       "      <td>10.40</td>\n",
       "      <td>11.59</td>\n",
       "      <td>10.20</td>\n",
       "      <td>10.50</td>\n",
       "      <td>1788.043079</td>\n",
       "    </tr>\n",
       "    <tr>\n",
       "      <th>2095</th>\n",
       "      <td>1463025600</td>\n",
       "      <td>2016-05-12 04:00:00</td>\n",
       "      <td>ETHUSD</td>\n",
       "      <td>10.45</td>\n",
       "      <td>12.00</td>\n",
       "      <td>9.92</td>\n",
       "      <td>10.40</td>\n",
       "      <td>2061.012106</td>\n",
       "    </tr>\n",
       "    <tr>\n",
       "      <th>2096</th>\n",
       "      <td>1462939200</td>\n",
       "      <td>2016-05-11 04:00:00</td>\n",
       "      <td>ETHUSD</td>\n",
       "      <td>9.74</td>\n",
       "      <td>10.47</td>\n",
       "      <td>9.69</td>\n",
       "      <td>10.45</td>\n",
       "      <td>3079.531401</td>\n",
       "    </tr>\n",
       "    <tr>\n",
       "      <th>2097</th>\n",
       "      <td>1462852800</td>\n",
       "      <td>2016-05-10 04:00:00</td>\n",
       "      <td>ETHUSD</td>\n",
       "      <td>9.36</td>\n",
       "      <td>9.95</td>\n",
       "      <td>9.36</td>\n",
       "      <td>9.74</td>\n",
       "      <td>764.628290</td>\n",
       "    </tr>\n",
       "    <tr>\n",
       "      <th>2098</th>\n",
       "      <td>1462766400</td>\n",
       "      <td>2016-05-09 04:00:00</td>\n",
       "      <td>ETHUSD</td>\n",
       "      <td>0.00</td>\n",
       "      <td>12.00</td>\n",
       "      <td>0.00</td>\n",
       "      <td>9.36</td>\n",
       "      <td>1376.614767</td>\n",
       "    </tr>\n",
       "  </tbody>\n",
       "</table>\n",
       "</div>"
      ],
      "text/plain": [
       "      Unix Timestamp                 Date  Symbol   Open   High    Low  Close  \\\n",
       "2094      1463112000  2016-05-13 04:00:00  ETHUSD  10.40  11.59  10.20  10.50   \n",
       "2095      1463025600  2016-05-12 04:00:00  ETHUSD  10.45  12.00   9.92  10.40   \n",
       "2096      1462939200  2016-05-11 04:00:00  ETHUSD   9.74  10.47   9.69  10.45   \n",
       "2097      1462852800  2016-05-10 04:00:00  ETHUSD   9.36   9.95   9.36   9.74   \n",
       "2098      1462766400  2016-05-09 04:00:00  ETHUSD   0.00  12.00   0.00   9.36   \n",
       "\n",
       "           Volume  \n",
       "2094  1788.043079  \n",
       "2095  2061.012106  \n",
       "2096  3079.531401  \n",
       "2097   764.628290  \n",
       "2098  1376.614767  "
      ]
     },
     "execution_count": 5,
     "metadata": {},
     "output_type": "execute_result"
    }
   ],
   "source": [
    "data.tail()"
   ]
  },
  {
   "cell_type": "code",
   "execution_count": 6,
   "id": "b9f6c231",
   "metadata": {},
   "outputs": [
    {
     "data": {
      "text/plain": [
       "Index(['Unix Timestamp', 'Date', 'Symbol', 'Open', 'High', 'Low', 'Close',\n",
       "       'Volume'],\n",
       "      dtype='object')"
      ]
     },
     "execution_count": 6,
     "metadata": {},
     "output_type": "execute_result"
    }
   ],
   "source": [
    "data.columns"
   ]
  },
  {
   "cell_type": "code",
   "execution_count": 7,
   "id": "8416a0b4",
   "metadata": {},
   "outputs": [],
   "source": [
    "data = data.drop(columns=['Unix Timestamp', 'Symbol', 'Open', 'High', 'Low', 'Volume'])"
   ]
  },
  {
   "cell_type": "code",
   "execution_count": 8,
   "id": "bf77ee32",
   "metadata": {},
   "outputs": [
    {
     "data": {
      "text/plain": [
       "(2099, 2)"
      ]
     },
     "execution_count": 8,
     "metadata": {},
     "output_type": "execute_result"
    }
   ],
   "source": [
    "data.shape"
   ]
  },
  {
   "cell_type": "code",
   "execution_count": 9,
   "id": "d164287d",
   "metadata": {},
   "outputs": [
    {
     "data": {
      "text/html": [
       "<div>\n",
       "<style scoped>\n",
       "    .dataframe tbody tr th:only-of-type {\n",
       "        vertical-align: middle;\n",
       "    }\n",
       "\n",
       "    .dataframe tbody tr th {\n",
       "        vertical-align: top;\n",
       "    }\n",
       "\n",
       "    .dataframe thead th {\n",
       "        text-align: right;\n",
       "    }\n",
       "</style>\n",
       "<table border=\"1\" class=\"dataframe\">\n",
       "  <thead>\n",
       "    <tr style=\"text-align: right;\">\n",
       "      <th></th>\n",
       "      <th>Close</th>\n",
       "    </tr>\n",
       "  </thead>\n",
       "  <tbody>\n",
       "    <tr>\n",
       "      <th>count</th>\n",
       "      <td>2099.000000</td>\n",
       "    </tr>\n",
       "    <tr>\n",
       "      <th>mean</th>\n",
       "      <td>742.382844</td>\n",
       "    </tr>\n",
       "    <tr>\n",
       "      <th>std</th>\n",
       "      <td>1106.312649</td>\n",
       "    </tr>\n",
       "    <tr>\n",
       "      <th>min</th>\n",
       "      <td>7.030000</td>\n",
       "    </tr>\n",
       "    <tr>\n",
       "      <th>25%</th>\n",
       "      <td>137.930000</td>\n",
       "    </tr>\n",
       "    <tr>\n",
       "      <th>50%</th>\n",
       "      <td>249.760000</td>\n",
       "    </tr>\n",
       "    <tr>\n",
       "      <th>75%</th>\n",
       "      <td>646.450000</td>\n",
       "    </tr>\n",
       "    <tr>\n",
       "      <th>max</th>\n",
       "      <td>4816.000000</td>\n",
       "    </tr>\n",
       "  </tbody>\n",
       "</table>\n",
       "</div>"
      ],
      "text/plain": [
       "             Close\n",
       "count  2099.000000\n",
       "mean    742.382844\n",
       "std    1106.312649\n",
       "min       7.030000\n",
       "25%     137.930000\n",
       "50%     249.760000\n",
       "75%     646.450000\n",
       "max    4816.000000"
      ]
     },
     "execution_count": 9,
     "metadata": {},
     "output_type": "execute_result"
    }
   ],
   "source": [
    "data.describe()"
   ]
  },
  {
   "cell_type": "code",
   "execution_count": 10,
   "id": "6f9268fa",
   "metadata": {},
   "outputs": [
    {
     "data": {
      "text/plain": [
       "Date      object\n",
       "Close    float64\n",
       "dtype: object"
      ]
     },
     "execution_count": 10,
     "metadata": {},
     "output_type": "execute_result"
    }
   ],
   "source": [
    "data.dtypes"
   ]
  },
  {
   "cell_type": "code",
   "execution_count": 11,
   "id": "08a84f3d",
   "metadata": {},
   "outputs": [],
   "source": [
    "data['Date'] = pd.to_datetime(data['Date'])\n",
    "data.set_axis(data['Date'], inplace=True)\n",
    "data.set_index('Date', inplace=True)"
   ]
  },
  {
   "cell_type": "code",
   "execution_count": 12,
   "id": "31dd2f9b",
   "metadata": {},
   "outputs": [],
   "source": [
    "data.sort_index(inplace=True)"
   ]
  },
  {
   "cell_type": "code",
   "execution_count": 13,
   "id": "5875c7f7",
   "metadata": {},
   "outputs": [
    {
     "name": "stdout",
     "output_type": "stream",
     "text": [
      "<class 'pandas.core.frame.DataFrame'>\n",
      "DatetimeIndex: 2099 entries, 2016-05-09 04:00:00 to 2022-02-05 04:00:00\n",
      "Data columns (total 1 columns):\n",
      " #   Column  Non-Null Count  Dtype  \n",
      "---  ------  --------------  -----  \n",
      " 0   Close   2099 non-null   float64\n",
      "dtypes: float64(1)\n",
      "memory usage: 32.8 KB\n"
     ]
    }
   ],
   "source": [
    "data.info()"
   ]
  },
  {
   "cell_type": "code",
   "execution_count": 14,
   "id": "c59312cf",
   "metadata": {},
   "outputs": [
    {
     "data": {
      "text/html": [
       "<div>\n",
       "<style scoped>\n",
       "    .dataframe tbody tr th:only-of-type {\n",
       "        vertical-align: middle;\n",
       "    }\n",
       "\n",
       "    .dataframe tbody tr th {\n",
       "        vertical-align: top;\n",
       "    }\n",
       "\n",
       "    .dataframe thead th {\n",
       "        text-align: right;\n",
       "    }\n",
       "</style>\n",
       "<table border=\"1\" class=\"dataframe\">\n",
       "  <thead>\n",
       "    <tr style=\"text-align: right;\">\n",
       "      <th></th>\n",
       "      <th>Close</th>\n",
       "    </tr>\n",
       "    <tr>\n",
       "      <th>Date</th>\n",
       "      <th></th>\n",
       "    </tr>\n",
       "  </thead>\n",
       "  <tbody>\n",
       "    <tr>\n",
       "      <th>2016-05-09 04:00:00</th>\n",
       "      <td>9.36</td>\n",
       "    </tr>\n",
       "    <tr>\n",
       "      <th>2016-05-10 04:00:00</th>\n",
       "      <td>9.74</td>\n",
       "    </tr>\n",
       "    <tr>\n",
       "      <th>2016-05-11 04:00:00</th>\n",
       "      <td>10.45</td>\n",
       "    </tr>\n",
       "    <tr>\n",
       "      <th>2016-05-12 04:00:00</th>\n",
       "      <td>10.40</td>\n",
       "    </tr>\n",
       "    <tr>\n",
       "      <th>2016-05-13 04:00:00</th>\n",
       "      <td>10.50</td>\n",
       "    </tr>\n",
       "    <tr>\n",
       "      <th>...</th>\n",
       "      <td>...</td>\n",
       "    </tr>\n",
       "    <tr>\n",
       "      <th>2022-02-01 04:00:00</th>\n",
       "      <td>2783.81</td>\n",
       "    </tr>\n",
       "    <tr>\n",
       "      <th>2022-02-02 04:00:00</th>\n",
       "      <td>2659.30</td>\n",
       "    </tr>\n",
       "    <tr>\n",
       "      <th>2022-02-03 04:00:00</th>\n",
       "      <td>2685.66</td>\n",
       "    </tr>\n",
       "    <tr>\n",
       "      <th>2022-02-04 04:00:00</th>\n",
       "      <td>3000.46</td>\n",
       "    </tr>\n",
       "    <tr>\n",
       "      <th>2022-02-05 04:00:00</th>\n",
       "      <td>3023.46</td>\n",
       "    </tr>\n",
       "  </tbody>\n",
       "</table>\n",
       "<p>2099 rows × 1 columns</p>\n",
       "</div>"
      ],
      "text/plain": [
       "                       Close\n",
       "Date                        \n",
       "2016-05-09 04:00:00     9.36\n",
       "2016-05-10 04:00:00     9.74\n",
       "2016-05-11 04:00:00    10.45\n",
       "2016-05-12 04:00:00    10.40\n",
       "2016-05-13 04:00:00    10.50\n",
       "...                      ...\n",
       "2022-02-01 04:00:00  2783.81\n",
       "2022-02-02 04:00:00  2659.30\n",
       "2022-02-03 04:00:00  2685.66\n",
       "2022-02-04 04:00:00  3000.46\n",
       "2022-02-05 04:00:00  3023.46\n",
       "\n",
       "[2099 rows x 1 columns]"
      ]
     },
     "execution_count": 14,
     "metadata": {},
     "output_type": "execute_result"
    }
   ],
   "source": [
    "data"
   ]
  },
  {
   "cell_type": "markdown",
   "id": "0e36775b",
   "metadata": {},
   "source": [
    "# Data visualisation"
   ]
  },
  {
   "cell_type": "code",
   "execution_count": 15,
   "id": "5e06c6c1",
   "metadata": {},
   "outputs": [],
   "source": [
    "import matplotlib.pyplot as plt"
   ]
  },
  {
   "cell_type": "code",
   "execution_count": 16,
   "id": "f3906ad3",
   "metadata": {},
   "outputs": [
    {
     "data": {
      "text/plain": [
       "Date\n",
       "2016-05-09 04:00:00       9.36\n",
       "2016-05-10 04:00:00       9.74\n",
       "2016-05-11 04:00:00      10.45\n",
       "2016-05-12 04:00:00      10.40\n",
       "2016-05-13 04:00:00      10.50\n",
       "                        ...   \n",
       "2022-02-01 04:00:00    2783.81\n",
       "2022-02-02 04:00:00    2659.30\n",
       "2022-02-03 04:00:00    2685.66\n",
       "2022-02-04 04:00:00    3000.46\n",
       "2022-02-05 04:00:00    3023.46\n",
       "Name: Close, Length: 2099, dtype: float64"
      ]
     },
     "execution_count": 16,
     "metadata": {},
     "output_type": "execute_result"
    }
   ],
   "source": [
    "data['Close']"
   ]
  },
  {
   "cell_type": "code",
   "execution_count": 17,
   "id": "de5e19b5",
   "metadata": {},
   "outputs": [
    {
     "data": {
      "text/plain": [
       "array([   9.36,    9.74,   10.45, ..., 2685.66, 3000.46, 3023.46])"
      ]
     },
     "execution_count": 17,
     "metadata": {},
     "output_type": "execute_result"
    }
   ],
   "source": [
    "data_close = data['Close'].values\n",
    "data_close"
   ]
  },
  {
   "cell_type": "code",
   "execution_count": 18,
   "id": "28b5f23a",
   "metadata": {
    "scrolled": true
   },
   "outputs": [
    {
     "data": {
      "image/png": "[encoded data removed]",
      "text/plain": [
       "<Figure size 432x288 with 1 Axes>"
      ]
     },
     "metadata": {
      "needs_background": "light"
     },
     "output_type": "display_data"
    }
   ],
   "source": [
    "data_close = data_close.reshape((-1, 1))\n",
    "plt.plot(data_close)\n",
    "plt.show()"
   ]
  },
  {
   "cell_type": "markdown",
   "id": "d65e36e0",
   "metadata": {},
   "source": [
    "# Split data into train and test"
   ]
  },
  {
   "cell_type": "code",
   "execution_count": 19,
   "id": "48a1380a",
   "metadata": {},
   "outputs": [
    {
     "name": "stdout",
     "output_type": "stream",
     "text": [
      "Train data size:  1679\n",
      "Test data size:  420\n"
     ]
    }
   ],
   "source": [
    "train_size = int(len(data_close) * 0.8) # 80% of data will be for training\n",
    "\n",
    "data_train = data_close[:train_size]\n",
    "data_test = data_close[train_size:] # the rest will be for testing\n",
    "\n",
    "print('Train data size: ', len(data_train))\n",
    "print('Test data size: ', len(data_test))"
   ]
  },
  {
   "cell_type": "markdown",
   "id": "beb2b52d",
   "metadata": {},
   "source": [
    "# Create time series out of data"
   ]
  },
  {
   "cell_type": "code",
   "execution_count": 20,
   "id": "12c2b700",
   "metadata": {},
   "outputs": [],
   "source": [
    "look_back = 15 # look back to the past 60 minutes (one hour) of the prices\n",
    "\n",
    "train_generator = TimeseriesGenerator(data_train, data_train, length=look_back, batch_size=64)     \n",
    "test_generator = TimeseriesGenerator(data_test, data_test, length=look_back, batch_size=1)"
   ]
  },
  {
   "cell_type": "markdown",
   "id": "9f88b2df",
   "metadata": {},
   "source": [
    "# Set up and build LSTM model"
   ]
  },
  {
   "cell_type": "code",
   "execution_count": 21,
   "id": "4eb33ebd",
   "metadata": {},
   "outputs": [],
   "source": [
    "from keras.models import Sequential\n",
    "from keras.layers import LSTM, Dense, Dropout\n",
    "from keras.regularizers import L2"
   ]
  },
  {
   "cell_type": "code",
   "execution_count": 22,
   "id": "5a4a6ee1",
   "metadata": {},
   "outputs": [],
   "source": [
    "# initialise model\n",
    "model = Sequential()\n",
    "# add layers\n",
    "model.add(LSTM(60, activation='relu', input_shape=(look_back, 1), recurrent_dropout=0.2))\n",
    "model.add(Dense(1))\n",
    "# compile model\n",
    "model.compile(loss='mse', optimizer='adam')"
   ]
  },
  {
   "cell_type": "code",
   "execution_count": 23,
   "id": "44d7ebe5",
   "metadata": {},
   "outputs": [
    {
     "name": "stdout",
     "output_type": "stream",
     "text": [
      "Epoch 1/20\n",
      "26/26 [==============================] - 2s 10ms/step - loss: 49832.8281\n",
      "Epoch 2/20\n",
      "26/26 [==============================] - 0s 10ms/step - loss: 35593.3945\n",
      "Epoch 3/20\n",
      "26/26 [==============================] - 0s 10ms/step - loss: 30732.5332\n",
      "Epoch 4/20\n",
      "26/26 [==============================] - 0s 11ms/step - loss: 22783.5273\n",
      "Epoch 5/20\n",
      "26/26 [==============================] - 0s 11ms/step - loss: 30929.7812\n",
      "Epoch 6/20\n",
      "26/26 [==============================] - 0s 10ms/step - loss: 24338.4492\n",
      "Epoch 7/20\n",
      "26/26 [==============================] - 0s 11ms/step - loss: 14635.4014\n",
      "Epoch 8/20\n",
      "26/26 [==============================] - 0s 10ms/step - loss: 7850.7319\n",
      "Epoch 9/20\n",
      "26/26 [==============================] - 0s 11ms/step - loss: 5930.6475\n",
      "Epoch 10/20\n",
      "26/26 [==============================] - 0s 10ms/step - loss: 7005.6533\n",
      "Epoch 11/20\n",
      "26/26 [==============================] - 0s 11ms/step - loss: 5473.8667\n",
      "Epoch 12/20\n",
      "26/26 [==============================] - 0s 11ms/step - loss: 5144.9580\n",
      "Epoch 13/20\n",
      "26/26 [==============================] - 0s 10ms/step - loss: 4464.1660\n",
      "Epoch 14/20\n",
      "26/26 [==============================] - 0s 11ms/step - loss: 3786.7971\n",
      "Epoch 15/20\n",
      "26/26 [==============================] - 0s 11ms/step - loss: 3445.5366\n",
      "Epoch 16/20\n",
      "26/26 [==============================] - 0s 11ms/step - loss: 3867.8350\n",
      "Epoch 17/20\n",
      "26/26 [==============================] - 0s 11ms/step - loss: 3389.2632\n",
      "Epoch 18/20\n",
      "26/26 [==============================] - 0s 11ms/step - loss: 3375.0544\n",
      "Epoch 19/20\n",
      "26/26 [==============================] - 0s 10ms/step - loss: 3254.1211\n",
      "Epoch 20/20\n",
      "26/26 [==============================] - 0s 11ms/step - loss: 3107.7534\n"
     ]
    },
    {
     "data": {
      "text/plain": [
       "<keras.callbacks.History at 0x1f3c9d7c9d0>"
      ]
     },
     "execution_count": 23,
     "metadata": {},
     "output_type": "execute_result"
    }
   ],
   "source": [
    "# fit the model\n",
    "num_epochs = 20\n",
    "model.fit(train_generator, epochs=num_epochs, verbose=1)"
   ]
  },
  {
   "cell_type": "code",
   "execution_count": 24,
   "id": "6d283e1d",
   "metadata": {},
   "outputs": [],
   "source": [
    "prediction = model.predict(test_generator)\n",
    "\n",
    "data_train = data_train.reshape((-1))\n",
    "data_test = data_test.reshape((-1))\n",
    "prediction = prediction.reshape((-1))"
   ]
  },
  {
   "cell_type": "code",
   "execution_count": 25,
   "id": "6f8e8b2f",
   "metadata": {},
   "outputs": [
    {
     "data": {
      "image/png": "[encoded data removed]",
      "text/plain": [
       "<Figure size 432x288 with 1 Axes>"
      ]
     },
     "metadata": {
      "needs_background": "light"
     },
     "output_type": "display_data"
    }
   ],
   "source": [
    "# Plot the predictions on a graph\n",
    "prediction_plot = np.empty_like(data_close.reshape((-1)))\n",
    "prediction_plot[:] = np.nan\n",
    "prediction_plot[(len(data_train) + look_back):] = prediction\n",
    "\n",
    "plt.plot(data_close)\n",
    "plt.plot(prediction_plot)\n",
    "plt.show()"
   ]
  },
  {
   "cell_type": "markdown",
   "id": "9585ec70",
   "metadata": {},
   "source": [
    "# Make forecast"
   ]
  },
  {
   "cell_type": "code",
   "execution_count": 26,
   "id": "5ed6cae1",
   "metadata": {},
   "outputs": [],
   "source": [
    "data_close = data_close.reshape((-1))\n",
    "\n",
    "def predict(num_prediction, model):\n",
    "    prediction_list = data_close[-look_back:]\n",
    "    \n",
    "    for _ in range(num_prediction):\n",
    "        x = prediction_list[-look_back:]\n",
    "        x = x.reshape((1, look_back, 1))\n",
    "        out = model.predict(x)[0][0]\n",
    "        prediction_list = np.append(prediction_list, out)\n",
    "    prediction_list = prediction_list[look_back-1:]\n",
    "        \n",
    "    return prediction_list\n",
    "\n",
    "num_prediction = 100\n",
    "forecast = predict(num_prediction, model)"
   ]
  },
  {
   "cell_type": "code",
   "execution_count": 27,
   "id": "27162e66",
   "metadata": {},
   "outputs": [
    {
     "data": {
      "image/png": "[encoded data removed]",
      "text/plain": [
       "<Figure size 432x288 with 1 Axes>"
      ]
     },
     "metadata": {
      "needs_background": "light"
     },
     "output_type": "display_data"
    }
   ],
   "source": [
    "forecast = forecast.reshape((-1))\n",
    "plt.plot(forecast)\n",
    "plt.show()"
   ]
  },
  {
   "cell_type": "code",
   "execution_count": 28,
   "id": "d8d6b4a9",
   "metadata": {},
   "outputs": [],
   "source": [
    "data_forecast = np.append(data_close, forecast)"
   ]
  },
  {
   "cell_type": "code",
   "execution_count": 29,
   "id": "e61b5ecb",
   "metadata": {},
   "outputs": [
    {
     "data": {
      "image/png": "[encoded data removed]",
      "text/plain": [
       "<Figure size 432x288 with 1 Axes>"
      ]
     },
     "metadata": {
      "needs_background": "light"
     },
     "output_type": "display_data"
    }
   ],
   "source": [
    "# Plot the forec on a graph\n",
    "forecast_plot = np.empty_like(data_forecast)\n",
    "forecast_plot[:] = np.nan\n",
    "forecast_plot[len(data_close):] = forecast\n",
    "\n",
    "plt.plot(data_close)\n",
    "plt.plot(forecast_plot)\n",
    "plt.show()"
   ]
  }
 ],
 "metadata": {
  "kernelspec": {
   "display_name": "Python 3 (ipykernel)",
   "language": "python",
   "name": "python3"
  },
  "language_info": {
   "codemirror_mode": {
    "name": "ipython",
    "version": 3
   },
   "file_extension": ".py",
   "mimetype": "text/x-python",
   "name": "python",
   "nbconvert_exporter": "python",
   "pygments_lexer": "ipython3",
   "version": "3.10.1"
  }
 },
 "nbformat": 4,
 "nbformat_minor": 5
}
