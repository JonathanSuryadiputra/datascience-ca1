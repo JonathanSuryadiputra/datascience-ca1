{
 "cells": [
  {
   "cell_type": "markdown",
   "id": "8028ca5f",
   "metadata": {},
   "source": [
    "# Predicting Crypto prices\n",
    "1. Get historic stock prices\n",
    "2. Extract prices to predict\n",
    "3. Normalise\n",
    "4. Create Time Series\n",
    "5. Build model\n",
    "6. Fit model\n",
    "7. Test and evaluate"
   ]
  },
  {
   "cell_type": "markdown",
   "id": "373fdc5d",
   "metadata": {},
   "source": [
    "# X and Y\n",
    "X = Goes back looking over a series of time e.g. past 7 minutes.<br>\n",
    "Y = The last nth of the series of time e.g. the price of BTC on the 7th minute of the past 7 minutes.<br>"
   ]
  },
  {
   "cell_type": "code",
   "execution_count": 1,
   "id": "b69654c2",
   "metadata": {},
   "outputs": [
    {
     "data": {
      "text/plain": [
       "'\\nlook_back = 3\\ndata = [1,2,4,5,7,8,9]\\n\\n   X      Y\\n[1,2,4]->[5]\\n[2,4,5]->[7]\\n[4,5,7]->[8]\\n[5,7,8]->[9]\\n'"
      ]
     },
     "execution_count": 1,
     "metadata": {},
     "output_type": "execute_result"
    }
   ],
   "source": [
    "# Example\n",
    "\"\"\"\n",
    "look_back = 3\n",
    "data = [1,2,4,5,7,8,9]\n",
    "\n",
    "   X      Y\n",
    "[1,2,4]->[5]\n",
    "[2,4,5]->[7]\n",
    "[4,5,7]->[8]\n",
    "[5,7,8]->[9]\n",
    "\"\"\""
   ]
  },
  {
   "cell_type": "markdown",
   "id": "76b94706",
   "metadata": {},
   "source": [
    "# Import dependencies"
   ]
  },
  {
   "cell_type": "code",
   "execution_count": 2,
   "id": "d0f05025",
   "metadata": {},
   "outputs": [],
   "source": [
    "# install dependencies\n",
    "import pandas as pd\n",
    "import numpy as np\n",
    "import keras\n",
    "import tensorflow as tf\n",
    "from keras.preprocessing.sequence import TimeseriesGenerator"
   ]
  },
  {
   "cell_type": "markdown",
   "id": "5f84e265",
   "metadata": {},
   "source": [
    "# Load dataset"
   ]
  },
  {
   "cell_type": "code",
   "execution_count": 3,
   "id": "f4629748",
   "metadata": {},
   "outputs": [],
   "source": [
    "data = pd.read_csv('../datasets/Daily/gemini_LTCUSD_day.csv')"
   ]
  },
  {
   "cell_type": "markdown",
   "id": "2c905585",
   "metadata": {},
   "source": [
    "# Explore dataset"
   ]
  },
  {
   "cell_type": "code",
   "execution_count": 4,
   "id": "dbd95fef",
   "metadata": {},
   "outputs": [
    {
     "data": {
      "text/html": [
       "<div>\n",
       "<style scoped>\n",
       "    .dataframe tbody tr th:only-of-type {\n",
       "        vertical-align: middle;\n",
       "    }\n",
       "\n",
       "    .dataframe tbody tr th {\n",
       "        vertical-align: top;\n",
       "    }\n",
       "\n",
       "    .dataframe thead th {\n",
       "        text-align: right;\n",
       "    }\n",
       "</style>\n",
       "<table border=\"1\" class=\"dataframe\">\n",
       "  <thead>\n",
       "    <tr style=\"text-align: right;\">\n",
       "      <th></th>\n",
       "      <th>Unix Timestamp</th>\n",
       "      <th>Date</th>\n",
       "      <th>Symbol</th>\n",
       "      <th>Open</th>\n",
       "      <th>High</th>\n",
       "      <th>Low</th>\n",
       "      <th>Close</th>\n",
       "      <th>Volume</th>\n",
       "    </tr>\n",
       "  </thead>\n",
       "  <tbody>\n",
       "    <tr>\n",
       "      <th>0</th>\n",
       "      <td>1644033600000</td>\n",
       "      <td>2022-02-05 04:00:00</td>\n",
       "      <td>LTCUSD</td>\n",
       "      <td>121.51</td>\n",
       "      <td>123.93</td>\n",
       "      <td>119.21</td>\n",
       "      <td>121.85</td>\n",
       "      <td>11120.25055</td>\n",
       "    </tr>\n",
       "    <tr>\n",
       "      <th>1</th>\n",
       "      <td>1643947200000</td>\n",
       "      <td>2022-02-04 04:00:00</td>\n",
       "      <td>LTCUSD</td>\n",
       "      <td>108.98</td>\n",
       "      <td>121.56</td>\n",
       "      <td>108.85</td>\n",
       "      <td>121.51</td>\n",
       "      <td>27101.62957</td>\n",
       "    </tr>\n",
       "    <tr>\n",
       "      <th>2</th>\n",
       "      <td>1643860800000</td>\n",
       "      <td>2022-02-03 04:00:00</td>\n",
       "      <td>LTCUSD</td>\n",
       "      <td>107.73</td>\n",
       "      <td>111.19</td>\n",
       "      <td>105.46</td>\n",
       "      <td>108.98</td>\n",
       "      <td>12407.62209</td>\n",
       "    </tr>\n",
       "    <tr>\n",
       "      <th>3</th>\n",
       "      <td>1643774400000</td>\n",
       "      <td>2022-02-02 04:00:00</td>\n",
       "      <td>LTCUSD</td>\n",
       "      <td>114.74</td>\n",
       "      <td>114.74</td>\n",
       "      <td>107.00</td>\n",
       "      <td>107.73</td>\n",
       "      <td>12103.81171</td>\n",
       "    </tr>\n",
       "    <tr>\n",
       "      <th>4</th>\n",
       "      <td>1643688000000</td>\n",
       "      <td>2022-02-01 04:00:00</td>\n",
       "      <td>LTCUSD</td>\n",
       "      <td>111.48</td>\n",
       "      <td>116.83</td>\n",
       "      <td>108.63</td>\n",
       "      <td>114.74</td>\n",
       "      <td>23140.65704</td>\n",
       "    </tr>\n",
       "  </tbody>\n",
       "</table>\n",
       "</div>"
      ],
      "text/plain": [
       "   Unix Timestamp                 Date  Symbol    Open    High     Low  \\\n",
       "0   1644033600000  2022-02-05 04:00:00  LTCUSD  121.51  123.93  119.21   \n",
       "1   1643947200000  2022-02-04 04:00:00  LTCUSD  108.98  121.56  108.85   \n",
       "2   1643860800000  2022-02-03 04:00:00  LTCUSD  107.73  111.19  105.46   \n",
       "3   1643774400000  2022-02-02 04:00:00  LTCUSD  114.74  114.74  107.00   \n",
       "4   1643688000000  2022-02-01 04:00:00  LTCUSD  111.48  116.83  108.63   \n",
       "\n",
       "    Close       Volume  \n",
       "0  121.85  11120.25055  \n",
       "1  121.51  27101.62957  \n",
       "2  108.98  12407.62209  \n",
       "3  107.73  12103.81171  \n",
       "4  114.74  23140.65704  "
      ]
     },
     "execution_count": 4,
     "metadata": {},
     "output_type": "execute_result"
    }
   ],
   "source": [
    "data.head()"
   ]
  },
  {
   "cell_type": "code",
   "execution_count": 5,
   "id": "c29d96c3",
   "metadata": {},
   "outputs": [
    {
     "data": {
      "text/html": [
       "<div>\n",
       "<style scoped>\n",
       "    .dataframe tbody tr th:only-of-type {\n",
       "        vertical-align: middle;\n",
       "    }\n",
       "\n",
       "    .dataframe tbody tr th {\n",
       "        vertical-align: top;\n",
       "    }\n",
       "\n",
       "    .dataframe thead th {\n",
       "        text-align: right;\n",
       "    }\n",
       "</style>\n",
       "<table border=\"1\" class=\"dataframe\">\n",
       "  <thead>\n",
       "    <tr style=\"text-align: right;\">\n",
       "      <th></th>\n",
       "      <th>Unix Timestamp</th>\n",
       "      <th>Date</th>\n",
       "      <th>Symbol</th>\n",
       "      <th>Open</th>\n",
       "      <th>High</th>\n",
       "      <th>Low</th>\n",
       "      <th>Close</th>\n",
       "      <th>Volume</th>\n",
       "    </tr>\n",
       "  </thead>\n",
       "  <tbody>\n",
       "    <tr>\n",
       "      <th>1204</th>\n",
       "      <td>1540008000000</td>\n",
       "      <td>2018-10-20 04:00:00</td>\n",
       "      <td>LTCUSD</td>\n",
       "      <td>51.88</td>\n",
       "      <td>52.75</td>\n",
       "      <td>51.88</td>\n",
       "      <td>52.75</td>\n",
       "      <td>1.000000</td>\n",
       "    </tr>\n",
       "    <tr>\n",
       "      <th>1205</th>\n",
       "      <td>1539921600000</td>\n",
       "      <td>2018-10-19 04:00:00</td>\n",
       "      <td>LTCUSD</td>\n",
       "      <td>51.88</td>\n",
       "      <td>51.88</td>\n",
       "      <td>51.88</td>\n",
       "      <td>51.88</td>\n",
       "      <td>0.000000</td>\n",
       "    </tr>\n",
       "    <tr>\n",
       "      <th>1206</th>\n",
       "      <td>1539835200000</td>\n",
       "      <td>2018-10-18 04:00:00</td>\n",
       "      <td>LTCUSD</td>\n",
       "      <td>53.52</td>\n",
       "      <td>53.87</td>\n",
       "      <td>51.25</td>\n",
       "      <td>51.88</td>\n",
       "      <td>3150.270139</td>\n",
       "    </tr>\n",
       "    <tr>\n",
       "      <th>1207</th>\n",
       "      <td>1539748800000</td>\n",
       "      <td>2018-10-17 04:00:00</td>\n",
       "      <td>LTCUSD</td>\n",
       "      <td>52.92</td>\n",
       "      <td>54.50</td>\n",
       "      <td>52.43</td>\n",
       "      <td>53.52</td>\n",
       "      <td>4206.391895</td>\n",
       "    </tr>\n",
       "    <tr>\n",
       "      <th>1208</th>\n",
       "      <td>1539662400000</td>\n",
       "      <td>2018-10-16 04:00:00</td>\n",
       "      <td>LTCUSD</td>\n",
       "      <td>0.00</td>\n",
       "      <td>55.20</td>\n",
       "      <td>0.00</td>\n",
       "      <td>52.92</td>\n",
       "      <td>5601.926989</td>\n",
       "    </tr>\n",
       "  </tbody>\n",
       "</table>\n",
       "</div>"
      ],
      "text/plain": [
       "      Unix Timestamp                 Date  Symbol   Open   High    Low  Close  \\\n",
       "1204   1540008000000  2018-10-20 04:00:00  LTCUSD  51.88  52.75  51.88  52.75   \n",
       "1205   1539921600000  2018-10-19 04:00:00  LTCUSD  51.88  51.88  51.88  51.88   \n",
       "1206   1539835200000  2018-10-18 04:00:00  LTCUSD  53.52  53.87  51.25  51.88   \n",
       "1207   1539748800000  2018-10-17 04:00:00  LTCUSD  52.92  54.50  52.43  53.52   \n",
       "1208   1539662400000  2018-10-16 04:00:00  LTCUSD   0.00  55.20   0.00  52.92   \n",
       "\n",
       "           Volume  \n",
       "1204     1.000000  \n",
       "1205     0.000000  \n",
       "1206  3150.270139  \n",
       "1207  4206.391895  \n",
       "1208  5601.926989  "
      ]
     },
     "execution_count": 5,
     "metadata": {},
     "output_type": "execute_result"
    }
   ],
   "source": [
    "data.tail()"
   ]
  },
  {
   "cell_type": "code",
   "execution_count": 6,
   "id": "b9f6c231",
   "metadata": {},
   "outputs": [
    {
     "data": {
      "text/plain": [
       "Index(['Unix Timestamp', 'Date', 'Symbol', 'Open', 'High', 'Low', 'Close',\n",
       "       'Volume'],\n",
       "      dtype='object')"
      ]
     },
     "execution_count": 6,
     "metadata": {},
     "output_type": "execute_result"
    }
   ],
   "source": [
    "data.columns"
   ]
  },
  {
   "cell_type": "code",
   "execution_count": 7,
   "id": "8416a0b4",
   "metadata": {},
   "outputs": [],
   "source": [
    "data = data.drop(columns=['Unix Timestamp', 'Symbol', 'Open', 'High', 'Low', 'Volume'])"
   ]
  },
  {
   "cell_type": "code",
   "execution_count": 8,
   "id": "bf77ee32",
   "metadata": {},
   "outputs": [
    {
     "data": {
      "text/plain": [
       "(1209, 2)"
      ]
     },
     "execution_count": 8,
     "metadata": {},
     "output_type": "execute_result"
    }
   ],
   "source": [
    "data.shape"
   ]
  },
  {
   "cell_type": "code",
   "execution_count": 9,
   "id": "d164287d",
   "metadata": {},
   "outputs": [
    {
     "data": {
      "text/html": [
       "<div>\n",
       "<style scoped>\n",
       "    .dataframe tbody tr th:only-of-type {\n",
       "        vertical-align: middle;\n",
       "    }\n",
       "\n",
       "    .dataframe tbody tr th {\n",
       "        vertical-align: top;\n",
       "    }\n",
       "\n",
       "    .dataframe thead th {\n",
       "        text-align: right;\n",
       "    }\n",
       "</style>\n",
       "<table border=\"1\" class=\"dataframe\">\n",
       "  <thead>\n",
       "    <tr style=\"text-align: right;\">\n",
       "      <th></th>\n",
       "      <th>Close</th>\n",
       "    </tr>\n",
       "  </thead>\n",
       "  <tbody>\n",
       "    <tr>\n",
       "      <th>count</th>\n",
       "      <td>1209.000000</td>\n",
       "    </tr>\n",
       "    <tr>\n",
       "      <th>mean</th>\n",
       "      <td>100.227353</td>\n",
       "    </tr>\n",
       "    <tr>\n",
       "      <th>std</th>\n",
       "      <td>66.257530</td>\n",
       "    </tr>\n",
       "    <tr>\n",
       "      <th>min</th>\n",
       "      <td>22.810000</td>\n",
       "    </tr>\n",
       "    <tr>\n",
       "      <th>25%</th>\n",
       "      <td>47.490000</td>\n",
       "    </tr>\n",
       "    <tr>\n",
       "      <th>50%</th>\n",
       "      <td>72.420000</td>\n",
       "    </tr>\n",
       "    <tr>\n",
       "      <th>75%</th>\n",
       "      <td>146.530000</td>\n",
       "    </tr>\n",
       "    <tr>\n",
       "      <th>max</th>\n",
       "      <td>409.760000</td>\n",
       "    </tr>\n",
       "  </tbody>\n",
       "</table>\n",
       "</div>"
      ],
      "text/plain": [
       "             Close\n",
       "count  1209.000000\n",
       "mean    100.227353\n",
       "std      66.257530\n",
       "min      22.810000\n",
       "25%      47.490000\n",
       "50%      72.420000\n",
       "75%     146.530000\n",
       "max     409.760000"
      ]
     },
     "execution_count": 9,
     "metadata": {},
     "output_type": "execute_result"
    }
   ],
   "source": [
    "data.describe()"
   ]
  },
  {
   "cell_type": "code",
   "execution_count": 10,
   "id": "6f9268fa",
   "metadata": {},
   "outputs": [
    {
     "data": {
      "text/plain": [
       "Date      object\n",
       "Close    float64\n",
       "dtype: object"
      ]
     },
     "execution_count": 10,
     "metadata": {},
     "output_type": "execute_result"
    }
   ],
   "source": [
    "data.dtypes"
   ]
  },
  {
   "cell_type": "code",
   "execution_count": 11,
   "id": "08a84f3d",
   "metadata": {},
   "outputs": [],
   "source": [
    "data['Date'] = pd.to_datetime(data['Date'])\n",
    "data.set_axis(data['Date'], inplace=True)\n",
    "data.set_index('Date', inplace=True)"
   ]
  },
  {
   "cell_type": "code",
   "execution_count": 12,
   "id": "31dd2f9b",
   "metadata": {},
   "outputs": [],
   "source": [
    "data.sort_index(inplace=True)"
   ]
  },
  {
   "cell_type": "code",
   "execution_count": 13,
   "id": "5875c7f7",
   "metadata": {},
   "outputs": [
    {
     "name": "stdout",
     "output_type": "stream",
     "text": [
      "<class 'pandas.core.frame.DataFrame'>\n",
      "DatetimeIndex: 1209 entries, 2018-10-16 04:00:00 to 2022-02-05 04:00:00\n",
      "Data columns (total 1 columns):\n",
      " #   Column  Non-Null Count  Dtype  \n",
      "---  ------  --------------  -----  \n",
      " 0   Close   1209 non-null   float64\n",
      "dtypes: float64(1)\n",
      "memory usage: 18.9 KB\n"
     ]
    }
   ],
   "source": [
    "data.info()"
   ]
  },
  {
   "cell_type": "code",
   "execution_count": 14,
   "id": "c59312cf",
   "metadata": {},
   "outputs": [
    {
     "data": {
      "text/html": [
       "<div>\n",
       "<style scoped>\n",
       "    .dataframe tbody tr th:only-of-type {\n",
       "        vertical-align: middle;\n",
       "    }\n",
       "\n",
       "    .dataframe tbody tr th {\n",
       "        vertical-align: top;\n",
       "    }\n",
       "\n",
       "    .dataframe thead th {\n",
       "        text-align: right;\n",
       "    }\n",
       "</style>\n",
       "<table border=\"1\" class=\"dataframe\">\n",
       "  <thead>\n",
       "    <tr style=\"text-align: right;\">\n",
       "      <th></th>\n",
       "      <th>Close</th>\n",
       "    </tr>\n",
       "    <tr>\n",
       "      <th>Date</th>\n",
       "      <th></th>\n",
       "    </tr>\n",
       "  </thead>\n",
       "  <tbody>\n",
       "    <tr>\n",
       "      <th>2018-10-16 04:00:00</th>\n",
       "      <td>52.92</td>\n",
       "    </tr>\n",
       "    <tr>\n",
       "      <th>2018-10-17 04:00:00</th>\n",
       "      <td>53.52</td>\n",
       "    </tr>\n",
       "    <tr>\n",
       "      <th>2018-10-18 04:00:00</th>\n",
       "      <td>51.88</td>\n",
       "    </tr>\n",
       "    <tr>\n",
       "      <th>2018-10-19 04:00:00</th>\n",
       "      <td>51.88</td>\n",
       "    </tr>\n",
       "    <tr>\n",
       "      <th>2018-10-20 04:00:00</th>\n",
       "      <td>52.75</td>\n",
       "    </tr>\n",
       "    <tr>\n",
       "      <th>...</th>\n",
       "      <td>...</td>\n",
       "    </tr>\n",
       "    <tr>\n",
       "      <th>2022-02-01 04:00:00</th>\n",
       "      <td>114.74</td>\n",
       "    </tr>\n",
       "    <tr>\n",
       "      <th>2022-02-02 04:00:00</th>\n",
       "      <td>107.73</td>\n",
       "    </tr>\n",
       "    <tr>\n",
       "      <th>2022-02-03 04:00:00</th>\n",
       "      <td>108.98</td>\n",
       "    </tr>\n",
       "    <tr>\n",
       "      <th>2022-02-04 04:00:00</th>\n",
       "      <td>121.51</td>\n",
       "    </tr>\n",
       "    <tr>\n",
       "      <th>2022-02-05 04:00:00</th>\n",
       "      <td>121.85</td>\n",
       "    </tr>\n",
       "  </tbody>\n",
       "</table>\n",
       "<p>1209 rows × 1 columns</p>\n",
       "</div>"
      ],
      "text/plain": [
       "                      Close\n",
       "Date                       \n",
       "2018-10-16 04:00:00   52.92\n",
       "2018-10-17 04:00:00   53.52\n",
       "2018-10-18 04:00:00   51.88\n",
       "2018-10-19 04:00:00   51.88\n",
       "2018-10-20 04:00:00   52.75\n",
       "...                     ...\n",
       "2022-02-01 04:00:00  114.74\n",
       "2022-02-02 04:00:00  107.73\n",
       "2022-02-03 04:00:00  108.98\n",
       "2022-02-04 04:00:00  121.51\n",
       "2022-02-05 04:00:00  121.85\n",
       "\n",
       "[1209 rows x 1 columns]"
      ]
     },
     "execution_count": 14,
     "metadata": {},
     "output_type": "execute_result"
    }
   ],
   "source": [
    "data"
   ]
  },
  {
   "cell_type": "markdown",
   "id": "0e36775b",
   "metadata": {},
   "source": [
    "# Data visualisation"
   ]
  },
  {
   "cell_type": "code",
   "execution_count": 15,
   "id": "5e06c6c1",
   "metadata": {},
   "outputs": [],
   "source": [
    "import matplotlib.pyplot as plt"
   ]
  },
  {
   "cell_type": "code",
   "execution_count": 16,
   "id": "f3906ad3",
   "metadata": {},
   "outputs": [
    {
     "data": {
      "text/plain": [
       "Date\n",
       "2018-10-16 04:00:00     52.92\n",
       "2018-10-17 04:00:00     53.52\n",
       "2018-10-18 04:00:00     51.88\n",
       "2018-10-19 04:00:00     51.88\n",
       "2018-10-20 04:00:00     52.75\n",
       "                        ...  \n",
       "2022-02-01 04:00:00    114.74\n",
       "2022-02-02 04:00:00    107.73\n",
       "2022-02-03 04:00:00    108.98\n",
       "2022-02-04 04:00:00    121.51\n",
       "2022-02-05 04:00:00    121.85\n",
       "Name: Close, Length: 1209, dtype: float64"
      ]
     },
     "execution_count": 16,
     "metadata": {},
     "output_type": "execute_result"
    }
   ],
   "source": [
    "data['Close']"
   ]
  },
  {
   "cell_type": "code",
   "execution_count": 17,
   "id": "de5e19b5",
   "metadata": {},
   "outputs": [
    {
     "data": {
      "text/plain": [
       "array([ 52.92,  53.52,  51.88, ..., 108.98, 121.51, 121.85])"
      ]
     },
     "execution_count": 17,
     "metadata": {},
     "output_type": "execute_result"
    }
   ],
   "source": [
    "data_close = data['Close'].values\n",
    "data_close"
   ]
  },
  {
   "cell_type": "code",
   "execution_count": 18,
   "id": "28b5f23a",
   "metadata": {
    "scrolled": true
   },
   "outputs": [
    {
     "data": {
      "image/png": "[encoded data removed]",
      "text/plain": [
       "<Figure size 432x288 with 1 Axes>"
      ]
     },
     "metadata": {
      "needs_background": "light"
     },
     "output_type": "display_data"
    }
   ],
   "source": [
    "data_close = data_close.reshape((-1, 1))\n",
    "plt.plot(data_close)\n",
    "plt.show()"
   ]
  },
  {
   "cell_type": "markdown",
   "id": "d65e36e0",
   "metadata": {},
   "source": [
    "# Split data into train and test"
   ]
  },
  {
   "cell_type": "code",
   "execution_count": 19,
   "id": "48a1380a",
   "metadata": {},
   "outputs": [
    {
     "name": "stdout",
     "output_type": "stream",
     "text": [
      "Train data size:  967\n",
      "Test data size:  242\n"
     ]
    }
   ],
   "source": [
    "train_size = int(len(data_close) * 0.8) # 80% of data will be for training\n",
    "\n",
    "data_train = data_close[:train_size]\n",
    "data_test = data_close[train_size:] # the rest will be for testing\n",
    "\n",
    "print('Train data size: ', len(data_train))\n",
    "print('Test data size: ', len(data_test))"
   ]
  },
  {
   "cell_type": "markdown",
   "id": "beb2b52d",
   "metadata": {},
   "source": [
    "# Create time series out of data"
   ]
  },
  {
   "cell_type": "code",
   "execution_count": 20,
   "id": "12c2b700",
   "metadata": {},
   "outputs": [],
   "source": [
    "look_back = 15 # look back to the past 60 minutes (one hour) of the prices\n",
    "\n",
    "train_generator = TimeseriesGenerator(data_train, data_train, length=look_back, batch_size=64)     \n",
    "test_generator = TimeseriesGenerator(data_test, data_test, length=look_back, batch_size=1)"
   ]
  },
  {
   "cell_type": "markdown",
   "id": "9f88b2df",
   "metadata": {},
   "source": [
    "# Set up and build LSTM model"
   ]
  },
  {
   "cell_type": "code",
   "execution_count": 21,
   "id": "4eb33ebd",
   "metadata": {},
   "outputs": [],
   "source": [
    "from keras.models import Sequential\n",
    "from keras.layers import LSTM, Dense, Dropout\n",
    "from keras.regularizers import L2"
   ]
  },
  {
   "cell_type": "code",
   "execution_count": 22,
   "id": "5a4a6ee1",
   "metadata": {},
   "outputs": [],
   "source": [
    "# initialise model\n",
    "model = Sequential()\n",
    "# add layers\n",
    "model.add(LSTM(50, activation='relu', input_shape=(look_back, 1), recurrent_dropout=0.2))\n",
    "model.add(Dense(1))\n",
    "# compile model\n",
    "model.compile(loss='mse', optimizer='adam')"
   ]
  },
  {
   "cell_type": "code",
   "execution_count": 23,
   "id": "44d7ebe5",
   "metadata": {},
   "outputs": [
    {
     "name": "stdout",
     "output_type": "stream",
     "text": [
      "Epoch 1/20\n",
      "15/15 [==============================] - 2s 9ms/step - loss: 10714.1699\n",
      "Epoch 2/20\n",
      "15/15 [==============================] - 0s 9ms/step - loss: 5851.9028\n",
      "Epoch 3/20\n",
      "15/15 [==============================] - 0s 9ms/step - loss: 1410.0155\n",
      "Epoch 4/20\n",
      "15/15 [==============================] - 0s 9ms/step - loss: 1300.1350\n",
      "Epoch 5/20\n",
      "15/15 [==============================] - 0s 9ms/step - loss: 1308.5173\n",
      "Epoch 6/20\n",
      "15/15 [==============================] - 0s 9ms/step - loss: 1335.5339\n",
      "Epoch 7/20\n",
      "15/15 [==============================] - 0s 9ms/step - loss: 1539.1967\n",
      "Epoch 8/20\n",
      "15/15 [==============================] - 0s 9ms/step - loss: 1892.3060\n",
      "Epoch 9/20\n",
      "15/15 [==============================] - 0s 9ms/step - loss: 1761.4126\n",
      "Epoch 10/20\n",
      "15/15 [==============================] - 0s 9ms/step - loss: 1578.0480\n",
      "Epoch 11/20\n",
      "15/15 [==============================] - 0s 10ms/step - loss: 1720.1310\n",
      "Epoch 12/20\n",
      "15/15 [==============================] - 0s 9ms/step - loss: 2406.4136\n",
      "Epoch 13/20\n",
      "15/15 [==============================] - 0s 9ms/step - loss: 1844.3918\n",
      "Epoch 14/20\n",
      "15/15 [==============================] - 0s 9ms/step - loss: 1569.1031\n",
      "Epoch 15/20\n",
      "15/15 [==============================] - 0s 10ms/step - loss: 1448.9659\n",
      "Epoch 16/20\n",
      "15/15 [==============================] - 0s 10ms/step - loss: 1055.4971\n",
      "Epoch 17/20\n",
      "15/15 [==============================] - 0s 9ms/step - loss: 1211.1628\n",
      "Epoch 18/20\n",
      "15/15 [==============================] - 0s 10ms/step - loss: 1286.4036\n",
      "Epoch 19/20\n",
      "15/15 [==============================] - 0s 9ms/step - loss: 1192.2582\n",
      "Epoch 20/20\n",
      "15/15 [==============================] - 0s 9ms/step - loss: 1208.8538\n"
     ]
    },
    {
     "data": {
      "text/plain": [
       "<keras.callbacks.History at 0x1e94bf08160>"
      ]
     },
     "execution_count": 23,
     "metadata": {},
     "output_type": "execute_result"
    }
   ],
   "source": [
    "# fit the model\n",
    "num_epochs = 20\n",
    "model.fit(train_generator, epochs=num_epochs, verbose=1)"
   ]
  },
  {
   "cell_type": "code",
   "execution_count": 24,
   "id": "6d283e1d",
   "metadata": {},
   "outputs": [],
   "source": [
    "prediction = model.predict(test_generator)\n",
    "\n",
    "data_train = data_train.reshape((-1))\n",
    "data_test = data_test.reshape((-1))\n",
    "prediction = prediction.reshape((-1))"
   ]
  },
  {
   "cell_type": "code",
   "execution_count": 25,
   "id": "6f8e8b2f",
   "metadata": {},
   "outputs": [
    {
     "data": {
      "image/png": "[encoded data removed]",
      "text/plain": [
       "<Figure size 432x288 with 1 Axes>"
      ]
     },
     "metadata": {
      "needs_background": "light"
     },
     "output_type": "display_data"
    }
   ],
   "source": [
    "# Plot the predictions on a graph\n",
    "prediction_plot = np.empty_like(data_close.reshape((-1)))\n",
    "prediction_plot[:] = np.nan\n",
    "prediction_plot[(len(data_train) + look_back):] = prediction\n",
    "\n",
    "plt.plot(data_close)\n",
    "plt.plot(prediction_plot)\n",
    "plt.show()"
   ]
  },
  {
   "cell_type": "markdown",
   "id": "9585ec70",
   "metadata": {},
   "source": [
    "# Make forecast"
   ]
  },
  {
   "cell_type": "code",
   "execution_count": 26,
   "id": "5ed6cae1",
   "metadata": {},
   "outputs": [],
   "source": [
    "data_close = data_close.reshape((-1))\n",
    "\n",
    "def predict(num_prediction, model):\n",
    "    prediction_list = data_close[-look_back:]\n",
    "    \n",
    "    for _ in range(num_prediction):\n",
    "        x = prediction_list[-look_back:]\n",
    "        x = x.reshape((1, look_back, 1))\n",
    "        out = model.predict(x)[0][0]\n",
    "        prediction_list = np.append(prediction_list, out)\n",
    "    prediction_list = prediction_list[look_back-1:]\n",
    "        \n",
    "    return prediction_list\n",
    "\n",
    "num_prediction = 100\n",
    "forecast = predict(num_prediction, model)"
   ]
  },
  {
   "cell_type": "code",
   "execution_count": 27,
   "id": "27162e66",
   "metadata": {},
   "outputs": [
    {
     "data": {
      "image/png": "[encoded data removed]",
      "text/plain": [
       "<Figure size 432x288 with 1 Axes>"
      ]
     },
     "metadata": {
      "needs_background": "light"
     },
     "output_type": "display_data"
    }
   ],
   "source": [
    "forecast = forecast.reshape((-1))\n",
    "plt.plot(forecast)\n",
    "plt.show()"
   ]
  },
  {
   "cell_type": "code",
   "execution_count": 28,
   "id": "d8d6b4a9",
   "metadata": {},
   "outputs": [],
   "source": [
    "data_forecast = np.append(data_close, forecast)"
   ]
  },
  {
   "cell_type": "code",
   "execution_count": 29,
   "id": "e61b5ecb",
   "metadata": {},
   "outputs": [
    {
     "data": {
      "image/png": "[encoded data removed]",
      "text/plain": [
       "<Figure size 432x288 with 1 Axes>"
      ]
     },
     "metadata": {
      "needs_background": "light"
     },
     "output_type": "display_data"
    }
   ],
   "source": [
    "# Plot the forec on a graph\n",
    "forecast_plot = np.empty_like(data_forecast)\n",
    "forecast_plot[:] = np.nan\n",
    "forecast_plot[len(data_close):] = forecast\n",
    "\n",
    "plt.plot(data_close)\n",
    "plt.plot(forecast_plot)\n",
    "plt.show()"
   ]
  }
 ],
 "metadata": {
  "kernelspec": {
   "display_name": "Python 3 (ipykernel)",
   "language": "python",
   "name": "python3"
  },
  "language_info": {
   "codemirror_mode": {
    "name": "ipython",
    "version": 3
   },
   "file_extension": ".py",
   "mimetype": "text/x-python",
   "name": "python",
   "nbconvert_exporter": "python",
   "pygments_lexer": "ipython3",
   "version": "3.10.1"
  }
 },
 "nbformat": 4,
 "nbformat_minor": 5
}
