{
 "cells": [
  {
   "cell_type": "markdown",
   "id": "8473e118",
   "metadata": {},
   "source": [
    "# Import dependencies"
   ]
  },
  {
   "cell_type": "code",
   "execution_count": 1,
   "id": "9748c231",
   "metadata": {},
   "outputs": [],
   "source": [
    "import numpy as np\n",
    "import pandas as pd\n",
    "import matplotlib.pyplot as plt\n",
    "\n",
    "from keras.layers.core import Dense, Activation, Dropout\n",
    "from keras.layers.recurrent import LSTM\n",
    "from keras.models import Sequential\n",
    "from sklearn.model_selection import  train_test_split\n",
    "from sklearn.preprocessing import MinMaxScaler"
   ]
  },
  {
   "cell_type": "markdown",
   "id": "fd92c432",
   "metadata": {},
   "source": [
    "# Combine and explore dataset"
   ]
  },
  {
   "cell_type": "code",
   "execution_count": 2,
   "id": "4d8fccfa",
   "metadata": {},
   "outputs": [],
   "source": [
    "def allData():\n",
    "    path = '../datasets/'\n",
    "    \n",
    "    ori_df = pd.read_csv(f\"{path}gemini_BTCUSD_2015_1min.csv\")\n",
    "    for item in range(2016, 2022):\n",
    "        df = pd.read_csv(f\"{path}/gemini_BTCUSD_{item}_1min.csv\")\n",
    "        new_df = pd.concat([ori_df, df], ignore_index=True)\n",
    "        ori_df = new_df\n",
    "\n",
    "    ori_df.rename({\"Unix Timestamp\": \"Timestamp\"}, axis=1, inplace=True)\n",
    "    combine_df = ori_df\n",
    "    combine_df.drop_duplicates(subset=[\"Timestamp\"], keep='first', inplace=True)\n",
    "    \n",
    "    return combine_df"
   ]
  },
  {
   "cell_type": "code",
   "execution_count": 3,
   "id": "ea128dff",
   "metadata": {},
   "outputs": [],
   "source": [
    "df = allData()"
   ]
  },
  {
   "cell_type": "code",
   "execution_count": 4,
   "id": "893c1b88",
   "metadata": {},
   "outputs": [
    {
     "data": {
      "text/html": [
       "<div>\n",
       "<style scoped>\n",
       "    .dataframe tbody tr th:only-of-type {\n",
       "        vertical-align: middle;\n",
       "    }\n",
       "\n",
       "    .dataframe tbody tr th {\n",
       "        vertical-align: top;\n",
       "    }\n",
       "\n",
       "    .dataframe thead th {\n",
       "        text-align: right;\n",
       "    }\n",
       "</style>\n",
       "<table border=\"1\" class=\"dataframe\">\n",
       "  <thead>\n",
       "    <tr style=\"text-align: right;\">\n",
       "      <th></th>\n",
       "      <th>Timestamp</th>\n",
       "      <th>Date</th>\n",
       "      <th>Symbol</th>\n",
       "      <th>Open</th>\n",
       "      <th>High</th>\n",
       "      <th>Low</th>\n",
       "      <th>Close</th>\n",
       "      <th>Volume</th>\n",
       "    </tr>\n",
       "  </thead>\n",
       "  <tbody>\n",
       "    <tr>\n",
       "      <th>0</th>\n",
       "      <td>1451606340</td>\n",
       "      <td>2015-12-31 23:59:00</td>\n",
       "      <td>BTCUSD</td>\n",
       "      <td>429.95</td>\n",
       "      <td>429.95</td>\n",
       "      <td>429.95</td>\n",
       "      <td>429.95</td>\n",
       "      <td>0.000000</td>\n",
       "    </tr>\n",
       "    <tr>\n",
       "      <th>1</th>\n",
       "      <td>1451606280</td>\n",
       "      <td>2015-12-31 23:58:00</td>\n",
       "      <td>BTCUSD</td>\n",
       "      <td>429.95</td>\n",
       "      <td>429.95</td>\n",
       "      <td>429.95</td>\n",
       "      <td>429.95</td>\n",
       "      <td>0.000000</td>\n",
       "    </tr>\n",
       "    <tr>\n",
       "      <th>2</th>\n",
       "      <td>1451606220</td>\n",
       "      <td>2015-12-31 23:57:00</td>\n",
       "      <td>BTCUSD</td>\n",
       "      <td>429.95</td>\n",
       "      <td>429.95</td>\n",
       "      <td>429.95</td>\n",
       "      <td>429.95</td>\n",
       "      <td>0.000000</td>\n",
       "    </tr>\n",
       "    <tr>\n",
       "      <th>3</th>\n",
       "      <td>1451606160</td>\n",
       "      <td>2015-12-31 23:56:00</td>\n",
       "      <td>BTCUSD</td>\n",
       "      <td>429.95</td>\n",
       "      <td>429.95</td>\n",
       "      <td>429.95</td>\n",
       "      <td>429.95</td>\n",
       "      <td>0.000000</td>\n",
       "    </tr>\n",
       "    <tr>\n",
       "      <th>4</th>\n",
       "      <td>1451606100</td>\n",
       "      <td>2015-12-31 23:55:00</td>\n",
       "      <td>BTCUSD</td>\n",
       "      <td>429.95</td>\n",
       "      <td>429.95</td>\n",
       "      <td>429.95</td>\n",
       "      <td>429.95</td>\n",
       "      <td>0.000000</td>\n",
       "    </tr>\n",
       "    <tr>\n",
       "      <th>...</th>\n",
       "      <td>...</td>\n",
       "      <td>...</td>\n",
       "      <td>...</td>\n",
       "      <td>...</td>\n",
       "      <td>...</td>\n",
       "      <td>...</td>\n",
       "      <td>...</td>\n",
       "      <td>...</td>\n",
       "    </tr>\n",
       "    <tr>\n",
       "      <th>3050922</th>\n",
       "      <td>1609459440000</td>\n",
       "      <td>2021-01-01 00:04:00</td>\n",
       "      <td>BTCUSD</td>\n",
       "      <td>29056.21</td>\n",
       "      <td>29056.21</td>\n",
       "      <td>29046.04</td>\n",
       "      <td>29048.46</td>\n",
       "      <td>0.032502</td>\n",
       "    </tr>\n",
       "    <tr>\n",
       "      <th>3050923</th>\n",
       "      <td>1609459380000</td>\n",
       "      <td>2021-01-01 00:03:00</td>\n",
       "      <td>BTCUSD</td>\n",
       "      <td>29057.27</td>\n",
       "      <td>29057.27</td>\n",
       "      <td>29028.69</td>\n",
       "      <td>29056.21</td>\n",
       "      <td>0.049909</td>\n",
       "    </tr>\n",
       "    <tr>\n",
       "      <th>3050924</th>\n",
       "      <td>1609459320000</td>\n",
       "      <td>2021-01-01 00:02:00</td>\n",
       "      <td>BTCUSD</td>\n",
       "      <td>29085.38</td>\n",
       "      <td>29086.14</td>\n",
       "      <td>29043.25</td>\n",
       "      <td>29057.27</td>\n",
       "      <td>5.075271</td>\n",
       "    </tr>\n",
       "    <tr>\n",
       "      <th>3050925</th>\n",
       "      <td>1609459260000</td>\n",
       "      <td>2021-01-01 00:01:00</td>\n",
       "      <td>BTCUSD</td>\n",
       "      <td>29033.01</td>\n",
       "      <td>29086.14</td>\n",
       "      <td>29033.01</td>\n",
       "      <td>29085.38</td>\n",
       "      <td>1.451389</td>\n",
       "    </tr>\n",
       "    <tr>\n",
       "      <th>3050926</th>\n",
       "      <td>1609459200000</td>\n",
       "      <td>2021-01-01 00:00:00</td>\n",
       "      <td>BTCUSD</td>\n",
       "      <td>28979.74</td>\n",
       "      <td>29033.01</td>\n",
       "      <td>28956.18</td>\n",
       "      <td>29033.01</td>\n",
       "      <td>0.126441</td>\n",
       "    </tr>\n",
       "  </tbody>\n",
       "</table>\n",
       "<p>3050927 rows × 8 columns</p>\n",
       "</div>"
      ],
      "text/plain": [
       "             Timestamp                 Date  Symbol      Open      High  \\\n",
       "0           1451606340  2015-12-31 23:59:00  BTCUSD    429.95    429.95   \n",
       "1           1451606280  2015-12-31 23:58:00  BTCUSD    429.95    429.95   \n",
       "2           1451606220  2015-12-31 23:57:00  BTCUSD    429.95    429.95   \n",
       "3           1451606160  2015-12-31 23:56:00  BTCUSD    429.95    429.95   \n",
       "4           1451606100  2015-12-31 23:55:00  BTCUSD    429.95    429.95   \n",
       "...                ...                  ...     ...       ...       ...   \n",
       "3050922  1609459440000  2021-01-01 00:04:00  BTCUSD  29056.21  29056.21   \n",
       "3050923  1609459380000  2021-01-01 00:03:00  BTCUSD  29057.27  29057.27   \n",
       "3050924  1609459320000  2021-01-01 00:02:00  BTCUSD  29085.38  29086.14   \n",
       "3050925  1609459260000  2021-01-01 00:01:00  BTCUSD  29033.01  29086.14   \n",
       "3050926  1609459200000  2021-01-01 00:00:00  BTCUSD  28979.74  29033.01   \n",
       "\n",
       "              Low     Close    Volume  \n",
       "0          429.95    429.95  0.000000  \n",
       "1          429.95    429.95  0.000000  \n",
       "2          429.95    429.95  0.000000  \n",
       "3          429.95    429.95  0.000000  \n",
       "4          429.95    429.95  0.000000  \n",
       "...           ...       ...       ...  \n",
       "3050922  29046.04  29048.46  0.032502  \n",
       "3050923  29028.69  29056.21  0.049909  \n",
       "3050924  29043.25  29057.27  5.075271  \n",
       "3050925  29033.01  29085.38  1.451389  \n",
       "3050926  28956.18  29033.01  0.126441  \n",
       "\n",
       "[3050927 rows x 8 columns]"
      ]
     },
     "execution_count": 4,
     "metadata": {},
     "output_type": "execute_result"
    }
   ],
   "source": [
    "df"
   ]
  },
  {
   "cell_type": "code",
   "execution_count": 5,
   "id": "fed90e1c",
   "metadata": {
    "scrolled": true
   },
   "outputs": [
    {
     "name": "stdout",
     "output_type": "stream",
     "text": [
      "<class 'pandas.core.frame.DataFrame'>\n",
      "Int64Index: 3050927 entries, 1451606340 to 1609459200000\n",
      "Data columns (total 7 columns):\n",
      " #   Column  Dtype  \n",
      "---  ------  -----  \n",
      " 0   Date    object \n",
      " 1   Symbol  object \n",
      " 2   Open    float64\n",
      " 3   High    float64\n",
      " 4   Low     float64\n",
      " 5   Close   float64\n",
      " 6   Volume  float64\n",
      "dtypes: float64(5), object(2)\n",
      "memory usage: 186.2+ MB\n"
     ]
    }
   ],
   "source": [
    "df.set_index('Timestamp', inplace=True)\n",
    "df.info()"
   ]
  },
  {
   "cell_type": "code",
   "execution_count": 6,
   "id": "a1773461",
   "metadata": {},
   "outputs": [],
   "source": [
    "df.sort_index(inplace=True)"
   ]
  },
  {
   "cell_type": "code",
   "execution_count": 7,
   "id": "3f4a8db0",
   "metadata": {},
   "outputs": [
    {
     "data": {
      "image/png": "[encoded data removed]",
      "text/plain": [
       "<Figure size 432x288 with 1 Axes>"
      ]
     },
     "metadata": {
      "needs_background": "light"
     },
     "output_type": "display_data"
    }
   ],
   "source": [
    "data_close = df['Close']\n",
    "data_close = data_close.values.reshape(len(data_close), 1)\n",
    "plt.plot(data_close)\n",
    "plt.show()"
   ]
  },
  {
   "cell_type": "markdown",
   "id": "09969774",
   "metadata": {},
   "source": [
    "# Scale dataset"
   ]
  },
  {
   "cell_type": "code",
   "execution_count": 8,
   "id": "15c808f1",
   "metadata": {},
   "outputs": [],
   "source": [
    "scaler = MinMaxScaler(feature_range=(0,1))"
   ]
  },
  {
   "cell_type": "code",
   "execution_count": 9,
   "id": "01d332bc",
   "metadata": {},
   "outputs": [
    {
     "data": {
      "text/plain": [
       "array([[1.00535156e-04],\n",
       "       [1.07495283e-04],\n",
       "       [1.07495283e-04],\n",
       "       ...,\n",
       "       [8.28160052e-01],\n",
       "       [8.27606181e-01],\n",
       "       [8.28841680e-01]])"
      ]
     },
     "execution_count": 9,
     "metadata": {},
     "output_type": "execute_result"
    }
   ],
   "source": [
    "scaled = scaler.fit_transform(data_close)\n",
    "scaled"
   ]
  },
  {
   "cell_type": "markdown",
   "id": "e33fb0c6",
   "metadata": {},
   "source": [
    "# Split dataset to training and testing"
   ]
  },
  {
   "cell_type": "code",
   "execution_count": 10,
   "id": "80859a2c",
   "metadata": {},
   "outputs": [
    {
     "name": "stdout",
     "output_type": "stream",
     "text": [
      "Split data into train and test:  2135648 915279\n"
     ]
    }
   ],
   "source": [
    "# split data into train and test\n",
    "train_size = int(len(data_close)*0.7) # 70% of the data will be for training\n",
    "test_size = len(data_close) - train_size # the rest of the data will be for testing (100-70)%\n",
    "\n",
    "data_train, data_test = data_close[0:train_size, :], data_close[train_size:len(data_close), :]\n",
    "print('Split data into train and test: ', len(data_train), len(data_test))"
   ]
  },
  {
   "cell_type": "markdown",
   "id": "2c325b0b",
   "metadata": {},
   "source": [
    "# Convert to Time Series, reshape to LSTM and build model"
   ]
  },
  {
   "cell_type": "code",
   "execution_count": 11,
   "id": "a27a2583",
   "metadata": {},
   "outputs": [],
   "source": [
    "# need to now convert the data into time series looking back over a period of days...e.g. use last 7 days to predict price\n",
    "def create_ts(ds, series):\n",
    "    X, Y =[], []\n",
    "    for i in range(len(ds)-series - 1):\n",
    "        item = ds[i:(i+series), 0]\n",
    "        X.append(item)\n",
    "        Y.append(ds[i+series, 0])\n",
    "    return np.array(X), np.array(Y)\n",
    "\n",
    "series = 7\n",
    "\n",
    "trainX, trainY = create_ts(data_train, series)\n",
    "testX, testY = create_ts(data_test, series)"
   ]
  },
  {
   "cell_type": "code",
   "execution_count": 12,
   "id": "081d0511",
   "metadata": {},
   "outputs": [],
   "source": [
    "# reshape into  LSTM format - samples, steps, features\n",
    "trainX = np.reshape(trainX, (trainX.shape[0], trainX.shape[1], 1))\n",
    "testX = np.reshape(testX, (testX.shape[0], testX.shape[1], 1))"
   ]
  },
  {
   "cell_type": "code",
   "execution_count": 13,
   "id": "144c0e6e",
   "metadata": {},
   "outputs": [
    {
     "name": "stdout",
     "output_type": "stream",
     "text": [
      "Epoch 1/100\n",
      "66739/66739 [==============================] - 546s 8ms/step - loss: 35595500.0000\n",
      "Epoch 2/100\n",
      "66739/66739 [==============================] - 495s 7ms/step - loss: 35010656.0000\n",
      "Epoch 3/100\n",
      "66739/66739 [==============================] - 482s 7ms/step - loss: 34434332.0000\n",
      "Epoch 4/100\n",
      "66739/66739 [==============================] - 474s 7ms/step - loss: 33866660.0000\n",
      "Epoch 5/100\n",
      "66739/66739 [==============================] - 467s 7ms/step - loss: 33308188.0000\n",
      "Epoch 6/100\n",
      "66739/66739 [==============================] - 471s 7ms/step - loss: 32758318.0000\n",
      "Epoch 7/100\n",
      "66739/66739 [==============================] - 472s 7ms/step - loss: 32217336.0000\n",
      "Epoch 8/100\n",
      "66739/66739 [==============================] - 469s 7ms/step - loss: 31685920.0000\n",
      "Epoch 9/100\n",
      "66739/66739 [==============================] - 448s 7ms/step - loss: 31162446.0000\n",
      "Epoch 10/100\n",
      "66739/66739 [==============================] - 437s 7ms/step - loss: 30648532.0000\n",
      "Epoch 11/100\n",
      "66739/66739 [==============================] - 437s 7ms/step - loss: 30143170.0000\n",
      "Epoch 12/100\n",
      "66739/66739 [==============================] - 431s 6ms/step - loss: 29646926.0000\n",
      "Epoch 13/100\n",
      "66739/66739 [==============================] - 437s 7ms/step - loss: 29159228.0000\n",
      "Epoch 14/100\n",
      "66739/66739 [==============================] - 435s 7ms/step - loss: 28680836.0000\n",
      "Epoch 15/100\n",
      "66739/66739 [==============================] - 428s 6ms/step - loss: 28211220.0000\n",
      "Epoch 16/100\n",
      "66739/66739 [==============================] - 432s 6ms/step - loss: 27750512.0000\n",
      "Epoch 17/100\n",
      "66739/66739 [==============================] - 435s 7ms/step - loss: 27298838.0000\n",
      "Epoch 18/100\n",
      "66739/66739 [==============================] - 433s 6ms/step - loss: 26856094.0000\n",
      "Epoch 19/100\n",
      "66739/66739 [==============================] - 433s 6ms/step - loss: 26422254.0000\n",
      "Epoch 20/100\n",
      "66739/66739 [==============================] - 438s 7ms/step - loss: 25996980.0000\n",
      "Epoch 21/100\n",
      "66739/66739 [==============================] - 435s 7ms/step - loss: 25580426.0000\n",
      "Epoch 22/100\n",
      "66739/66739 [==============================] - 433s 6ms/step - loss: 25173102.0000\n",
      "Epoch 23/100\n",
      "66739/66739 [==============================] - 433s 6ms/step - loss: 24774002.0000\n",
      "Epoch 24/100\n",
      "66739/66739 [==============================] - 439s 7ms/step - loss: 24384770.0000\n",
      "Epoch 25/100\n",
      "66739/66739 [==============================] - 437s 7ms/step - loss: 24003882.0000\n",
      "Epoch 26/100\n",
      "66739/66739 [==============================] - 431s 6ms/step - loss: 23631728.0000\n",
      "Epoch 27/100\n",
      "66739/66739 [==============================] - 430s 6ms/step - loss: 23268624.0000\n",
      "Epoch 28/100\n",
      "66739/66739 [==============================] - 436s 7ms/step - loss: 22914458.0000\n",
      "Epoch 29/100\n",
      "66739/66739 [==============================] - 435s 7ms/step - loss: 22569188.0000\n",
      "Epoch 30/100\n",
      "66739/66739 [==============================] - 426s 6ms/step - loss: 22232630.0000\n",
      "Epoch 31/100\n",
      "66739/66739 [==============================] - 436s 7ms/step - loss: 21904984.0000\n",
      "Epoch 32/100\n",
      "66739/66739 [==============================] - 429s 6ms/step - loss: 21585612.0000\n",
      "Epoch 33/100\n",
      "66739/66739 [==============================] - 423s 6ms/step - loss: 21273152.0000\n",
      "Epoch 34/100\n",
      "66739/66739 [==============================] - 430s 6ms/step - loss: 20969506.0000\n",
      "Epoch 35/100\n",
      "66739/66739 [==============================] - 429s 6ms/step - loss: 20674910.0000\n",
      "Epoch 36/100\n",
      "66739/66739 [==============================] - 428s 6ms/step - loss: 20389036.0000\n",
      "Epoch 37/100\n",
      "66739/66739 [==============================] - 428s 6ms/step - loss: 20112040.0000\n",
      "Epoch 38/100\n",
      "66739/66739 [==============================] - 426s 6ms/step - loss: 19844060.0000\n",
      "Epoch 39/100\n",
      "66739/66739 [==============================] - 428s 6ms/step - loss: 19585368.0000\n",
      "Epoch 40/100\n",
      "66739/66739 [==============================] - 427s 6ms/step - loss: 19335356.0000\n",
      "Epoch 41/100\n",
      "66739/66739 [==============================] - 427s 6ms/step - loss: 19094710.0000\n",
      "Epoch 42/100\n",
      "66739/66739 [==============================] - 428s 6ms/step - loss: 18862980.0000\n",
      "Epoch 43/100\n",
      "66739/66739 [==============================] - 423s 6ms/step - loss: 18640232.0000\n",
      "Epoch 44/100\n",
      "66739/66739 [==============================] - 427s 6ms/step - loss: 18426500.0000\n",
      "Epoch 45/100\n",
      "66739/66739 [==============================] - 423s 6ms/step - loss: 18222168.0000\n",
      "Epoch 46/100\n",
      "66739/66739 [==============================] - 423s 6ms/step - loss: 18026282.0000\n",
      "Epoch 47/100\n",
      "66739/66739 [==============================] - 422s 6ms/step - loss: 17839564.0000\n",
      "Epoch 48/100\n",
      "66739/66739 [==============================] - 428s 6ms/step - loss: 17661776.0000\n",
      "Epoch 49/100\n",
      "66739/66739 [==============================] - 429s 6ms/step - loss: 17492778.0000\n",
      "Epoch 50/100\n",
      "66739/66739 [==============================] - 425s 6ms/step - loss: 17332650.0000\n",
      "Epoch 51/100\n",
      "66739/66739 [==============================] - 424s 6ms/step - loss: 17180746.0000\n",
      "Epoch 52/100\n",
      "66739/66739 [==============================] - 424s 6ms/step - loss: 17037506.0000\n",
      "Epoch 53/100\n",
      "66739/66739 [==============================] - 428s 6ms/step - loss: 16903058.0000\n",
      "Epoch 54/100\n",
      "66739/66739 [==============================] - 416s 6ms/step - loss: 16776159.0000\n",
      "Epoch 55/100\n",
      "66739/66739 [==============================] - 426s 6ms/step - loss: 16658122.0000\n",
      "Epoch 56/100\n",
      "66739/66739 [==============================] - 421s 6ms/step - loss: 16547887.0000\n",
      "Epoch 57/100\n",
      "66739/66739 [==============================] - 418s 6ms/step - loss: 16445400.0000\n",
      "Epoch 58/100\n",
      "66739/66739 [==============================] - 420s 6ms/step - loss: 16350911.0000\n",
      "Epoch 59/100\n",
      "66739/66739 [==============================] - 419s 6ms/step - loss: 16263591.0000\n",
      "Epoch 60/100\n",
      "66739/66739 [==============================] - 422s 6ms/step - loss: 16183638.0000\n",
      "Epoch 61/100\n",
      "66739/66739 [==============================] - 416s 6ms/step - loss: 16110833.0000\n",
      "Epoch 62/100\n",
      "66739/66739 [==============================] - 419s 6ms/step - loss: 16044876.0000\n",
      "Epoch 63/100\n",
      "66739/66739 [==============================] - 416s 6ms/step - loss: 15985250.0000\n",
      "Epoch 64/100\n",
      "66739/66739 [==============================] - 420s 6ms/step - loss: 15931929.0000\n",
      "Epoch 65/100\n",
      "66739/66739 [==============================] - 417s 6ms/step - loss: 15884515.0000\n",
      "Epoch 66/100\n",
      "66739/66739 [==============================] - 415s 6ms/step - loss: 15842526.0000\n",
      "Epoch 67/100\n",
      "66739/66739 [==============================] - 414s 6ms/step - loss: 15805565.0000\n",
      "Epoch 68/100\n",
      "66739/66739 [==============================] - 409s 6ms/step - loss: 15773285.0000\n",
      "Epoch 69/100\n",
      "66739/66739 [==============================] - 416s 6ms/step - loss: 15745270.0000\n",
      "Epoch 70/100\n",
      "66739/66739 [==============================] - 431s 6ms/step - loss: 15720948.0000\n",
      "Epoch 71/100\n",
      "66739/66739 [==============================] - 440s 7ms/step - loss: 15699978.0000\n",
      "Epoch 72/100\n",
      "66739/66739 [==============================] - 438s 7ms/step - loss: 15682152.0000\n",
      "Epoch 73/100\n",
      "66739/66739 [==============================] - 432s 6ms/step - loss: 15666794.0000\n",
      "Epoch 74/100\n",
      "66739/66739 [==============================] - 432s 6ms/step - loss: 15653828.0000\n",
      "Epoch 75/100\n",
      "66739/66739 [==============================] - 440s 7ms/step - loss: 15642864.0000\n",
      "Epoch 76/100\n",
      "66739/66739 [==============================] - 433s 6ms/step - loss: 15633694.0000\n",
      "Epoch 77/100\n",
      "66739/66739 [==============================] - 434s 6ms/step - loss: 15626028.0000\n",
      "Epoch 78/100\n",
      "66739/66739 [==============================] - 432s 6ms/step - loss: 15619715.0000\n",
      "Epoch 79/100\n",
      "66739/66739 [==============================] - 431s 6ms/step - loss: 15614331.0000\n",
      "Epoch 80/100\n",
      "66739/66739 [==============================] - 426s 6ms/step - loss: 15609925.0000\n",
      "Epoch 81/100\n",
      "66739/66739 [==============================] - 435s 7ms/step - loss: 15606322.0000\n",
      "Epoch 82/100\n",
      "66739/66739 [==============================] - 417s 6ms/step - loss: 15603124.0000\n",
      "Epoch 83/100\n",
      "66739/66739 [==============================] - 414s 6ms/step - loss: 15600607.0000\n",
      "Epoch 84/100\n",
      "66739/66739 [==============================] - 414s 6ms/step - loss: 15598516.0000\n",
      "Epoch 85/100\n",
      "66739/66739 [==============================] - 418s 6ms/step - loss: 15596823.0000\n",
      "Epoch 86/100\n",
      "66739/66739 [==============================] - 464s 7ms/step - loss: 15595414.0000\n",
      "Epoch 87/100\n",
      "66739/66739 [==============================] - 466s 7ms/step - loss: 15594181.0000\n",
      "Epoch 88/100\n",
      "66739/66739 [==============================] - 455s 7ms/step - loss: 15593106.0000\n",
      "Epoch 89/100\n",
      "66739/66739 [==============================] - 456s 7ms/step - loss: 15592452.0000\n",
      "Epoch 90/100\n",
      "66739/66739 [==============================] - 604s 9ms/step - loss: 15591581.0000\n",
      "Epoch 91/100\n",
      "66739/66739 [==============================] - 601s 9ms/step - loss: 15591193.0000\n",
      "Epoch 92/100\n",
      "66739/66739 [==============================] - 601s 9ms/step - loss: 15590552.0000\n",
      "Epoch 93/100\n",
      "66739/66739 [==============================] - 602s 9ms/step - loss: 15590112.0000\n",
      "Epoch 94/100\n",
      "66739/66739 [==============================] - 601s 9ms/step - loss: 15589851.0000\n",
      "Epoch 95/100\n",
      "66739/66739 [==============================] - 599s 9ms/step - loss: 15589576.0000\n",
      "Epoch 96/100\n",
      "66739/66739 [==============================] - 598s 9ms/step - loss: 15589307.0000\n",
      "Epoch 97/100\n",
      "66739/66739 [==============================] - 590s 9ms/step - loss: 15589181.0000\n",
      "Epoch 98/100\n",
      "66739/66739 [==============================] - 619s 9ms/step - loss: 15589020.0000\n",
      "Epoch 99/100\n",
      "66739/66739 [==============================] - 621s 9ms/step - loss: 15588938.0000\n",
      "Epoch 100/100\n",
      "66739/66739 [==============================] - 621s 9ms/step - loss: 15588761.0000\n"
     ]
    },
    {
     "data": {
      "text/plain": [
       "<keras.callbacks.History at 0x1dba1a31060>"
      ]
     },
     "execution_count": 13,
     "metadata": {},
     "output_type": "execute_result"
    }
   ],
   "source": [
    "# build the model\n",
    "model = Sequential()\n",
    "model.add(LSTM(4, input_shape=(series, 1)))\n",
    "model.add(Dense(1))\n",
    "model.compile(loss='mse', optimizer='adam')\n",
    "# fit the model\n",
    "model.fit(trainX, trainY, epochs=100, batch_size=32)"
   ]
  },
  {
   "cell_type": "code",
   "execution_count": 14,
   "id": "7621fdc3",
   "metadata": {},
   "outputs": [],
   "source": [
    "# test this model out\n",
    "trainPredictions = model.predict(trainX)\n",
    "testPredictions = model.predict(testX)\n",
    "\n",
    "# unscale predictions\n",
    "trainPredictions = scaler.inverse_transform(trainPredictions)\n",
    "testPredictions = scaler.inverse_transform(testPredictions)\n",
    "trainY = scaler.inverse_transform([trainY])\n",
    "testY = scaler.inverse_transform([testY])"
   ]
  },
  {
   "cell_type": "code",
   "execution_count": 15,
   "id": "7b8cc01d",
   "metadata": {},
   "outputs": [
    {
     "data": {
      "image/png": "[encoded data removed]",
      "text/plain": [
       "<Figure size 432x288 with 1 Axes>"
      ]
     },
     "metadata": {
      "needs_background": "light"
     },
     "output_type": "display_data"
    }
   ],
   "source": [
    "# lets plot the predictions on a graph and see how well it did\n",
    "train_plot = np.empty_like(data_close)\n",
    "train_plot[:,:] = np.nan\n",
    "train_plot[series:len(trainPredictions)+series, :] = trainPredictions\n",
    "\n",
    "test_plot = np.empty_like(data_close)\n",
    "test_plot[:,:] = np.nan\n",
    "test_plot[len(trainPredictions)+(series*2)+1:len(data_close)-1, :] = testPredictions\n",
    "\n",
    "# plot on graph\n",
    "plt.plot(scaler.inverse_transform(data_close))\n",
    "plt.plot(train_plot)\n",
    "plt.plot(test_plot)\n",
    "plt.show()"
   ]
  }
 ],
 "metadata": {
  "kernelspec": {
   "display_name": "Python 3 (ipykernel)",
   "language": "python",
   "name": "python3"
  },
  "language_info": {
   "codemirror_mode": {
    "name": "ipython",
    "version": 3
   },
   "file_extension": ".py",
   "mimetype": "text/x-python",
   "name": "python",
   "nbconvert_exporter": "python",
   "pygments_lexer": "ipython3",
   "version": "3.10.1"
  }
 },
 "nbformat": 4,
 "nbformat_minor": 5
}
