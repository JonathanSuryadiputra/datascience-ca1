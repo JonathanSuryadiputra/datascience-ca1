{
 "cells": [
  {
   "cell_type": "markdown",
   "id": "8028ca5f",
   "metadata": {},
   "source": [
    "# Predicting Crypto prices\n",
    "1. Get historic stock prices\n",
    "2. Extract prices to predict\n",
    "3. Normalise\n",
    "4. Create Time Series\n",
    "5. Build model\n",
    "6. Fit model\n",
    "7. Test and evaluate"
   ]
  },
  {
   "cell_type": "markdown",
   "id": "373fdc5d",
   "metadata": {},
   "source": [
    "# X and Y\n",
    "X = Goes back looking over a series of time e.g. past 7 minutes.<br>\n",
    "Y = The last nth of the series of time e.g. the price of BTC on the 7th minute of the past 7 minutes.<br>"
   ]
  },
  {
   "cell_type": "code",
   "execution_count": 1,
   "id": "b69654c2",
   "metadata": {},
   "outputs": [
    {
     "data": {
      "text/plain": [
       "'\\nlook_back = 3\\ndata = [1,2,4,5,7,8,9]\\n\\n   X      Y\\n[1,2,4]->[5]\\n[2,4,5]->[7]\\n[4,5,7]->[8]\\n[5,7,8]->[9]\\n'"
      ]
     },
     "execution_count": 1,
     "metadata": {},
     "output_type": "execute_result"
    }
   ],
   "source": [
    "# Example\n",
    "\"\"\"\n",
    "look_back = 3\n",
    "data = [1,2,4,5,7,8,9]\n",
    "\n",
    "   X      Y\n",
    "[1,2,4]->[5]\n",
    "[2,4,5]->[7]\n",
    "[4,5,7]->[8]\n",
    "[5,7,8]->[9]\n",
    "\"\"\""
   ]
  },
  {
   "cell_type": "markdown",
   "id": "76b94706",
   "metadata": {},
   "source": [
    "# Import dependencies"
   ]
  },
  {
   "cell_type": "code",
   "execution_count": 2,
   "id": "d0f05025",
   "metadata": {},
   "outputs": [],
   "source": [
    "# install dependencies\n",
    "import pandas as pd\n",
    "import numpy as np\n",
    "import keras\n",
    "import tensorflow as tf\n",
    "from keras.preprocessing.sequence import TimeseriesGenerator"
   ]
  },
  {
   "cell_type": "markdown",
   "id": "5f84e265",
   "metadata": {},
   "source": [
    "# Load dataset"
   ]
  },
  {
   "cell_type": "code",
   "execution_count": 3,
   "id": "f4629748",
   "metadata": {},
   "outputs": [],
   "source": [
    "# 1. Get historic stock prices\n",
    "def allData():\n",
    "    path = '../datasets/BTC/'\n",
    "    \n",
    "    ori_df = pd.read_csv(f\"{path}gemini_BTCUSD_2015_1min.csv\")\n",
    "    for item in range(2016, 2022):\n",
    "        df = pd.read_csv(f\"{path}/gemini_BTCUSD_{item}_1min.csv\")\n",
    "        new_df = pd.concat([ori_df, df], ignore_index=True)\n",
    "        ori_df = new_df\n",
    "\n",
    "    ori_df.rename({\"Unix Timestamp\": \"Timestamp\"}, axis=1, inplace=True)\n",
    "    combine_df = ori_df\n",
    "    combine_df.drop_duplicates(subset=[\"Timestamp\"], keep='first', inplace=True)\n",
    "    \n",
    "    return combine_df\n",
    "\n",
    "data = allData()"
   ]
  },
  {
   "cell_type": "markdown",
   "id": "2c905585",
   "metadata": {},
   "source": [
    "# Explore dataset"
   ]
  },
  {
   "cell_type": "code",
   "execution_count": 4,
   "id": "dbd95fef",
   "metadata": {},
   "outputs": [
    {
     "data": {
      "text/html": [
       "<div>\n",
       "<style scoped>\n",
       "    .dataframe tbody tr th:only-of-type {\n",
       "        vertical-align: middle;\n",
       "    }\n",
       "\n",
       "    .dataframe tbody tr th {\n",
       "        vertical-align: top;\n",
       "    }\n",
       "\n",
       "    .dataframe thead th {\n",
       "        text-align: right;\n",
       "    }\n",
       "</style>\n",
       "<table border=\"1\" class=\"dataframe\">\n",
       "  <thead>\n",
       "    <tr style=\"text-align: right;\">\n",
       "      <th></th>\n",
       "      <th>Timestamp</th>\n",
       "      <th>Date</th>\n",
       "      <th>Symbol</th>\n",
       "      <th>Open</th>\n",
       "      <th>High</th>\n",
       "      <th>Low</th>\n",
       "      <th>Close</th>\n",
       "      <th>Volume</th>\n",
       "    </tr>\n",
       "  </thead>\n",
       "  <tbody>\n",
       "    <tr>\n",
       "      <th>0</th>\n",
       "      <td>1451606340</td>\n",
       "      <td>2015-12-31 23:59:00</td>\n",
       "      <td>BTCUSD</td>\n",
       "      <td>429.95</td>\n",
       "      <td>429.95</td>\n",
       "      <td>429.95</td>\n",
       "      <td>429.95</td>\n",
       "      <td>0.0</td>\n",
       "    </tr>\n",
       "    <tr>\n",
       "      <th>1</th>\n",
       "      <td>1451606280</td>\n",
       "      <td>2015-12-31 23:58:00</td>\n",
       "      <td>BTCUSD</td>\n",
       "      <td>429.95</td>\n",
       "      <td>429.95</td>\n",
       "      <td>429.95</td>\n",
       "      <td>429.95</td>\n",
       "      <td>0.0</td>\n",
       "    </tr>\n",
       "    <tr>\n",
       "      <th>2</th>\n",
       "      <td>1451606220</td>\n",
       "      <td>2015-12-31 23:57:00</td>\n",
       "      <td>BTCUSD</td>\n",
       "      <td>429.95</td>\n",
       "      <td>429.95</td>\n",
       "      <td>429.95</td>\n",
       "      <td>429.95</td>\n",
       "      <td>0.0</td>\n",
       "    </tr>\n",
       "    <tr>\n",
       "      <th>3</th>\n",
       "      <td>1451606160</td>\n",
       "      <td>2015-12-31 23:56:00</td>\n",
       "      <td>BTCUSD</td>\n",
       "      <td>429.95</td>\n",
       "      <td>429.95</td>\n",
       "      <td>429.95</td>\n",
       "      <td>429.95</td>\n",
       "      <td>0.0</td>\n",
       "    </tr>\n",
       "    <tr>\n",
       "      <th>4</th>\n",
       "      <td>1451606100</td>\n",
       "      <td>2015-12-31 23:55:00</td>\n",
       "      <td>BTCUSD</td>\n",
       "      <td>429.95</td>\n",
       "      <td>429.95</td>\n",
       "      <td>429.95</td>\n",
       "      <td>429.95</td>\n",
       "      <td>0.0</td>\n",
       "    </tr>\n",
       "  </tbody>\n",
       "</table>\n",
       "</div>"
      ],
      "text/plain": [
       "    Timestamp                 Date  Symbol    Open    High     Low   Close  \\\n",
       "0  1451606340  2015-12-31 23:59:00  BTCUSD  429.95  429.95  429.95  429.95   \n",
       "1  1451606280  2015-12-31 23:58:00  BTCUSD  429.95  429.95  429.95  429.95   \n",
       "2  1451606220  2015-12-31 23:57:00  BTCUSD  429.95  429.95  429.95  429.95   \n",
       "3  1451606160  2015-12-31 23:56:00  BTCUSD  429.95  429.95  429.95  429.95   \n",
       "4  1451606100  2015-12-31 23:55:00  BTCUSD  429.95  429.95  429.95  429.95   \n",
       "\n",
       "   Volume  \n",
       "0     0.0  \n",
       "1     0.0  \n",
       "2     0.0  \n",
       "3     0.0  \n",
       "4     0.0  "
      ]
     },
     "execution_count": 4,
     "metadata": {},
     "output_type": "execute_result"
    }
   ],
   "source": [
    "data.head()"
   ]
  },
  {
   "cell_type": "code",
   "execution_count": 5,
   "id": "c29d96c3",
   "metadata": {},
   "outputs": [
    {
     "data": {
      "text/html": [
       "<div>\n",
       "<style scoped>\n",
       "    .dataframe tbody tr th:only-of-type {\n",
       "        vertical-align: middle;\n",
       "    }\n",
       "\n",
       "    .dataframe tbody tr th {\n",
       "        vertical-align: top;\n",
       "    }\n",
       "\n",
       "    .dataframe thead th {\n",
       "        text-align: right;\n",
       "    }\n",
       "</style>\n",
       "<table border=\"1\" class=\"dataframe\">\n",
       "  <thead>\n",
       "    <tr style=\"text-align: right;\">\n",
       "      <th></th>\n",
       "      <th>Timestamp</th>\n",
       "      <th>Date</th>\n",
       "      <th>Symbol</th>\n",
       "      <th>Open</th>\n",
       "      <th>High</th>\n",
       "      <th>Low</th>\n",
       "      <th>Close</th>\n",
       "      <th>Volume</th>\n",
       "    </tr>\n",
       "  </thead>\n",
       "  <tbody>\n",
       "    <tr>\n",
       "      <th>3050922</th>\n",
       "      <td>1609459440000</td>\n",
       "      <td>2021-01-01 00:04:00</td>\n",
       "      <td>BTCUSD</td>\n",
       "      <td>29056.21</td>\n",
       "      <td>29056.21</td>\n",
       "      <td>29046.04</td>\n",
       "      <td>29048.46</td>\n",
       "      <td>0.032502</td>\n",
       "    </tr>\n",
       "    <tr>\n",
       "      <th>3050923</th>\n",
       "      <td>1609459380000</td>\n",
       "      <td>2021-01-01 00:03:00</td>\n",
       "      <td>BTCUSD</td>\n",
       "      <td>29057.27</td>\n",
       "      <td>29057.27</td>\n",
       "      <td>29028.69</td>\n",
       "      <td>29056.21</td>\n",
       "      <td>0.049909</td>\n",
       "    </tr>\n",
       "    <tr>\n",
       "      <th>3050924</th>\n",
       "      <td>1609459320000</td>\n",
       "      <td>2021-01-01 00:02:00</td>\n",
       "      <td>BTCUSD</td>\n",
       "      <td>29085.38</td>\n",
       "      <td>29086.14</td>\n",
       "      <td>29043.25</td>\n",
       "      <td>29057.27</td>\n",
       "      <td>5.075271</td>\n",
       "    </tr>\n",
       "    <tr>\n",
       "      <th>3050925</th>\n",
       "      <td>1609459260000</td>\n",
       "      <td>2021-01-01 00:01:00</td>\n",
       "      <td>BTCUSD</td>\n",
       "      <td>29033.01</td>\n",
       "      <td>29086.14</td>\n",
       "      <td>29033.01</td>\n",
       "      <td>29085.38</td>\n",
       "      <td>1.451389</td>\n",
       "    </tr>\n",
       "    <tr>\n",
       "      <th>3050926</th>\n",
       "      <td>1609459200000</td>\n",
       "      <td>2021-01-01 00:00:00</td>\n",
       "      <td>BTCUSD</td>\n",
       "      <td>28979.74</td>\n",
       "      <td>29033.01</td>\n",
       "      <td>28956.18</td>\n",
       "      <td>29033.01</td>\n",
       "      <td>0.126441</td>\n",
       "    </tr>\n",
       "  </tbody>\n",
       "</table>\n",
       "</div>"
      ],
      "text/plain": [
       "             Timestamp                 Date  Symbol      Open      High  \\\n",
       "3050922  1609459440000  2021-01-01 00:04:00  BTCUSD  29056.21  29056.21   \n",
       "3050923  1609459380000  2021-01-01 00:03:00  BTCUSD  29057.27  29057.27   \n",
       "3050924  1609459320000  2021-01-01 00:02:00  BTCUSD  29085.38  29086.14   \n",
       "3050925  1609459260000  2021-01-01 00:01:00  BTCUSD  29033.01  29086.14   \n",
       "3050926  1609459200000  2021-01-01 00:00:00  BTCUSD  28979.74  29033.01   \n",
       "\n",
       "              Low     Close    Volume  \n",
       "3050922  29046.04  29048.46  0.032502  \n",
       "3050923  29028.69  29056.21  0.049909  \n",
       "3050924  29043.25  29057.27  5.075271  \n",
       "3050925  29033.01  29085.38  1.451389  \n",
       "3050926  28956.18  29033.01  0.126441  "
      ]
     },
     "execution_count": 5,
     "metadata": {},
     "output_type": "execute_result"
    }
   ],
   "source": [
    "data.tail()"
   ]
  },
  {
   "cell_type": "code",
   "execution_count": 6,
   "id": "b9f6c231",
   "metadata": {},
   "outputs": [
    {
     "data": {
      "text/plain": [
       "Index(['Timestamp', 'Date', 'Symbol', 'Open', 'High', 'Low', 'Close',\n",
       "       'Volume'],\n",
       "      dtype='object')"
      ]
     },
     "execution_count": 6,
     "metadata": {},
     "output_type": "execute_result"
    }
   ],
   "source": [
    "data.columns"
   ]
  },
  {
   "cell_type": "code",
   "execution_count": 7,
   "id": "8416a0b4",
   "metadata": {},
   "outputs": [],
   "source": [
    "data = data.drop(columns=['Timestamp', 'Symbol', 'Open', 'High', 'Low', 'Volume'])"
   ]
  },
  {
   "cell_type": "code",
   "execution_count": 8,
   "id": "bf77ee32",
   "metadata": {},
   "outputs": [
    {
     "data": {
      "text/plain": [
       "(3050927, 2)"
      ]
     },
     "execution_count": 8,
     "metadata": {},
     "output_type": "execute_result"
    }
   ],
   "source": [
    "data.shape"
   ]
  },
  {
   "cell_type": "code",
   "execution_count": 9,
   "id": "d164287d",
   "metadata": {},
   "outputs": [
    {
     "data": {
      "text/html": [
       "<div>\n",
       "<style scoped>\n",
       "    .dataframe tbody tr th:only-of-type {\n",
       "        vertical-align: middle;\n",
       "    }\n",
       "\n",
       "    .dataframe tbody tr th {\n",
       "        vertical-align: top;\n",
       "    }\n",
       "\n",
       "    .dataframe thead th {\n",
       "        text-align: right;\n",
       "    }\n",
       "</style>\n",
       "<table border=\"1\" class=\"dataframe\">\n",
       "  <thead>\n",
       "    <tr style=\"text-align: right;\">\n",
       "      <th></th>\n",
       "      <th>Close</th>\n",
       "    </tr>\n",
       "  </thead>\n",
       "  <tbody>\n",
       "    <tr>\n",
       "      <th>count</th>\n",
       "      <td>3.050927e+06</td>\n",
       "    </tr>\n",
       "    <tr>\n",
       "      <th>mean</th>\n",
       "      <td>1.089529e+04</td>\n",
       "    </tr>\n",
       "    <tr>\n",
       "      <th>std</th>\n",
       "      <td>1.427358e+04</td>\n",
       "    </tr>\n",
       "    <tr>\n",
       "      <th>min</th>\n",
       "      <td>2.360000e+02</td>\n",
       "    </tr>\n",
       "    <tr>\n",
       "      <th>25%</th>\n",
       "      <td>1.178570e+03</td>\n",
       "    </tr>\n",
       "    <tr>\n",
       "      <th>50%</th>\n",
       "      <td>6.765350e+03</td>\n",
       "    </tr>\n",
       "    <tr>\n",
       "      <th>75%</th>\n",
       "      <td>1.042789e+04</td>\n",
       "    </tr>\n",
       "    <tr>\n",
       "      <th>max</th>\n",
       "      <td>6.489000e+04</td>\n",
       "    </tr>\n",
       "  </tbody>\n",
       "</table>\n",
       "</div>"
      ],
      "text/plain": [
       "              Close\n",
       "count  3.050927e+06\n",
       "mean   1.089529e+04\n",
       "std    1.427358e+04\n",
       "min    2.360000e+02\n",
       "25%    1.178570e+03\n",
       "50%    6.765350e+03\n",
       "75%    1.042789e+04\n",
       "max    6.489000e+04"
      ]
     },
     "execution_count": 9,
     "metadata": {},
     "output_type": "execute_result"
    }
   ],
   "source": [
    "data.describe()"
   ]
  },
  {
   "cell_type": "code",
   "execution_count": 10,
   "id": "6f9268fa",
   "metadata": {},
   "outputs": [
    {
     "data": {
      "text/plain": [
       "Date      object\n",
       "Close    float64\n",
       "dtype: object"
      ]
     },
     "execution_count": 10,
     "metadata": {},
     "output_type": "execute_result"
    }
   ],
   "source": [
    "data.dtypes"
   ]
  },
  {
   "cell_type": "code",
   "execution_count": 11,
   "id": "08a84f3d",
   "metadata": {},
   "outputs": [],
   "source": [
    "data['Date'] = pd.to_datetime(data['Date'])\n",
    "data.set_axis(data['Date'], inplace=True)\n",
    "data.set_index('Date', inplace=True)"
   ]
  },
  {
   "cell_type": "code",
   "execution_count": 12,
   "id": "31dd2f9b",
   "metadata": {},
   "outputs": [],
   "source": [
    "data.sort_index(inplace=True)"
   ]
  },
  {
   "cell_type": "code",
   "execution_count": 13,
   "id": "5875c7f7",
   "metadata": {},
   "outputs": [
    {
     "name": "stdout",
     "output_type": "stream",
     "text": [
      "<class 'pandas.core.frame.DataFrame'>\n",
      "DatetimeIndex: 3050927 entries, 2015-10-08 13:40:00 to 2021-10-08 00:04:00\n",
      "Data columns (total 1 columns):\n",
      " #   Column  Dtype  \n",
      "---  ------  -----  \n",
      " 0   Close   float64\n",
      "dtypes: float64(1)\n",
      "memory usage: 46.6 MB\n"
     ]
    }
   ],
   "source": [
    "data.info()"
   ]
  },
  {
   "cell_type": "code",
   "execution_count": 14,
   "id": "c59312cf",
   "metadata": {},
   "outputs": [
    {
     "data": {
      "text/html": [
       "<div>\n",
       "<style scoped>\n",
       "    .dataframe tbody tr th:only-of-type {\n",
       "        vertical-align: middle;\n",
       "    }\n",
       "\n",
       "    .dataframe tbody tr th {\n",
       "        vertical-align: top;\n",
       "    }\n",
       "\n",
       "    .dataframe thead th {\n",
       "        text-align: right;\n",
       "    }\n",
       "</style>\n",
       "<table border=\"1\" class=\"dataframe\">\n",
       "  <thead>\n",
       "    <tr style=\"text-align: right;\">\n",
       "      <th></th>\n",
       "      <th>Close</th>\n",
       "    </tr>\n",
       "    <tr>\n",
       "      <th>Date</th>\n",
       "      <th></th>\n",
       "    </tr>\n",
       "  </thead>\n",
       "  <tbody>\n",
       "    <tr>\n",
       "      <th>2015-10-08 13:40:00</th>\n",
       "      <td>242.50</td>\n",
       "    </tr>\n",
       "    <tr>\n",
       "      <th>2015-10-08 13:41:00</th>\n",
       "      <td>242.95</td>\n",
       "    </tr>\n",
       "    <tr>\n",
       "      <th>2015-10-08 13:42:00</th>\n",
       "      <td>242.95</td>\n",
       "    </tr>\n",
       "    <tr>\n",
       "      <th>2015-10-08 13:43:00</th>\n",
       "      <td>242.96</td>\n",
       "    </tr>\n",
       "    <tr>\n",
       "      <th>2015-10-08 13:44:00</th>\n",
       "      <td>242.96</td>\n",
       "    </tr>\n",
       "    <tr>\n",
       "      <th>...</th>\n",
       "      <td>...</td>\n",
       "    </tr>\n",
       "    <tr>\n",
       "      <th>2021-10-08 00:00:00</th>\n",
       "      <td>53841.33</td>\n",
       "    </tr>\n",
       "    <tr>\n",
       "      <th>2021-10-08 00:01:00</th>\n",
       "      <td>53857.19</td>\n",
       "    </tr>\n",
       "    <tr>\n",
       "      <th>2021-10-08 00:02:00</th>\n",
       "      <td>53779.86</td>\n",
       "    </tr>\n",
       "    <tr>\n",
       "      <th>2021-10-08 00:03:00</th>\n",
       "      <td>53744.05</td>\n",
       "    </tr>\n",
       "    <tr>\n",
       "      <th>2021-10-08 00:04:00</th>\n",
       "      <td>53823.93</td>\n",
       "    </tr>\n",
       "  </tbody>\n",
       "</table>\n",
       "<p>3050927 rows × 1 columns</p>\n",
       "</div>"
      ],
      "text/plain": [
       "                        Close\n",
       "Date                         \n",
       "2015-10-08 13:40:00    242.50\n",
       "2015-10-08 13:41:00    242.95\n",
       "2015-10-08 13:42:00    242.95\n",
       "2015-10-08 13:43:00    242.96\n",
       "2015-10-08 13:44:00    242.96\n",
       "...                       ...\n",
       "2021-10-08 00:00:00  53841.33\n",
       "2021-10-08 00:01:00  53857.19\n",
       "2021-10-08 00:02:00  53779.86\n",
       "2021-10-08 00:03:00  53744.05\n",
       "2021-10-08 00:04:00  53823.93\n",
       "\n",
       "[3050927 rows x 1 columns]"
      ]
     },
     "execution_count": 14,
     "metadata": {},
     "output_type": "execute_result"
    }
   ],
   "source": [
    "data"
   ]
  },
  {
   "cell_type": "markdown",
   "id": "0e36775b",
   "metadata": {},
   "source": [
    "# Data visualisation"
   ]
  },
  {
   "cell_type": "code",
   "execution_count": 15,
   "id": "5e06c6c1",
   "metadata": {},
   "outputs": [],
   "source": [
    "import matplotlib.pyplot as plt"
   ]
  },
  {
   "cell_type": "code",
   "execution_count": 16,
   "id": "f3906ad3",
   "metadata": {},
   "outputs": [
    {
     "data": {
      "text/plain": [
       "Date\n",
       "2015-10-08 13:40:00      242.50\n",
       "2015-10-08 13:41:00      242.95\n",
       "2015-10-08 13:42:00      242.95\n",
       "2015-10-08 13:43:00      242.96\n",
       "2015-10-08 13:44:00      242.96\n",
       "                         ...   \n",
       "2021-10-08 00:00:00    53841.33\n",
       "2021-10-08 00:01:00    53857.19\n",
       "2021-10-08 00:02:00    53779.86\n",
       "2021-10-08 00:03:00    53744.05\n",
       "2021-10-08 00:04:00    53823.93\n",
       "Name: Close, Length: 3050927, dtype: float64"
      ]
     },
     "execution_count": 16,
     "metadata": {},
     "output_type": "execute_result"
    }
   ],
   "source": [
    "data['Close']"
   ]
  },
  {
   "cell_type": "code",
   "execution_count": 17,
   "id": "de5e19b5",
   "metadata": {},
   "outputs": [
    {
     "data": {
      "text/plain": [
       "array([  242.5 ,   242.95,   242.95, ..., 53779.86, 53744.05, 53823.93])"
      ]
     },
     "execution_count": 17,
     "metadata": {},
     "output_type": "execute_result"
    }
   ],
   "source": [
    "data_close = data['Close'].values\n",
    "data_close"
   ]
  },
  {
   "cell_type": "code",
   "execution_count": 18,
   "id": "28b5f23a",
   "metadata": {
    "scrolled": true
   },
   "outputs": [
    {
     "data": {
      "image/png": "[encoded data removed]",
      "text/plain": [
       "<Figure size 432x288 with 1 Axes>"
      ]
     },
     "metadata": {
      "needs_background": "light"
     },
     "output_type": "display_data"
    }
   ],
   "source": [
    "data_close = data_close.reshape((-1, 1))\n",
    "plt.plot(data_close)\n",
    "plt.show()"
   ]
  },
  {
   "cell_type": "markdown",
   "id": "d65e36e0",
   "metadata": {},
   "source": [
    "# Split data into train and test"
   ]
  },
  {
   "cell_type": "code",
   "execution_count": 19,
   "id": "48a1380a",
   "metadata": {},
   "outputs": [
    {
     "name": "stdout",
     "output_type": "stream",
     "text": [
      "Train data size:  2440741\n",
      "Test data size:  610186\n"
     ]
    }
   ],
   "source": [
    "train_size = int(len(data_close) * 0.8) # 80% of data will be for training\n",
    "\n",
    "data_train = data_close[:train_size]\n",
    "data_test = data_close[train_size:] # the rest will be for testing\n",
    "\n",
    "print('Train data size: ', len(data_train))\n",
    "print('Test data size: ', len(data_test))"
   ]
  },
  {
   "cell_type": "markdown",
   "id": "beb2b52d",
   "metadata": {},
   "source": [
    "# Create time series out of data"
   ]
  },
  {
   "cell_type": "code",
   "execution_count": 20,
   "id": "12c2b700",
   "metadata": {},
   "outputs": [],
   "source": [
    "look_back = 15 # look back to the past 60 minutes (one hour) of the prices\n",
    "\n",
    "train_generator = TimeseriesGenerator(data_train, data_train, length=look_back, batch_size=64)     \n",
    "test_generator = TimeseriesGenerator(data_test, data_test, length=look_back, batch_size=1)"
   ]
  },
  {
   "cell_type": "markdown",
   "id": "9f88b2df",
   "metadata": {},
   "source": [
    "# Set up and build LSTM model"
   ]
  },
  {
   "cell_type": "code",
   "execution_count": 21,
   "id": "4eb33ebd",
   "metadata": {},
   "outputs": [],
   "source": [
    "from keras.models import Sequential\n",
    "from keras.layers import LSTM, Dense, Dropout\n",
    "from keras.regularizers import L2"
   ]
  },
  {
   "cell_type": "code",
   "execution_count": 22,
   "id": "5a4a6ee1",
   "metadata": {},
   "outputs": [],
   "source": [
    "# initialise model\n",
    "model = Sequential()\n",
    "# add layers\n",
    "model.add(LSTM(5, activation='relu', input_shape=(look_back, 1)))\n",
    "model.add(Dropout(0.2, input_shape=(look_back, 1)))\n",
    "model.add(Dense(1))\n",
    "# compile model\n",
    "model.compile(loss='mse', optimizer='adam')"
   ]
  },
  {
   "cell_type": "code",
   "execution_count": 23,
   "id": "44d7ebe5",
   "metadata": {},
   "outputs": [
    {
     "name": "stdout",
     "output_type": "stream",
     "text": [
      "Epoch 1/11\n",
      "38137/38137 [==============================] - 101s 3ms/step - loss: 32027210.0000\n",
      "Epoch 2/11\n",
      "38137/38137 [==============================] - 101s 3ms/step - loss: 8061422.5000\n",
      "Epoch 3/11\n",
      "38137/38137 [==============================] - 102s 3ms/step - loss: 8021009.5000\n",
      "Epoch 4/11\n",
      "38137/38137 [==============================] - 105s 3ms/step - loss: 8002133.5000\n",
      "Epoch 5/11\n",
      "38137/38137 [==============================] - 105s 3ms/step - loss: 7936161.5000\n",
      "Epoch 6/11\n",
      "38137/38137 [==============================] - 105s 3ms/step - loss: 7849270.0000\n",
      "Epoch 7/11\n",
      "38137/38137 [==============================] - 105s 3ms/step - loss: 7820016.0000\n",
      "Epoch 8/11\n",
      "38137/38137 [==============================] - 106s 3ms/step - loss: 7725387.5000\n",
      "Epoch 9/11\n",
      "38137/38137 [==============================] - 105s 3ms/step - loss: 7699472.5000\n",
      "Epoch 10/11\n",
      "38137/38137 [==============================] - 106s 3ms/step - loss: 7617010.0000\n",
      "Epoch 11/11\n",
      "38137/38137 [==============================] - 105s 3ms/step - loss: 7573940.0000\n"
     ]
    },
    {
     "data": {
      "text/plain": [
       "<keras.callbacks.History at 0x1a443721240>"
      ]
     },
     "execution_count": 23,
     "metadata": {},
     "output_type": "execute_result"
    }
   ],
   "source": [
    "# fit the model\n",
    "num_epochs = 11\n",
    "model.fit(train_generator, epochs=num_epochs, verbose=1)"
   ]
  },
  {
   "cell_type": "code",
   "execution_count": 24,
   "id": "6d283e1d",
   "metadata": {},
   "outputs": [],
   "source": [
    "prediction = model.predict(test_generator)\n",
    "\n",
    "data_train = data_train.reshape((-1))\n",
    "data_test = data_test.reshape((-1))\n",
    "prediction = prediction.reshape((-1))"
   ]
  },
  {
   "cell_type": "code",
   "execution_count": 25,
   "id": "6f8e8b2f",
   "metadata": {},
   "outputs": [
    {
     "data": {
      "image/png": "[encoded data removed]",
      "text/plain": [
       "<Figure size 432x288 with 1 Axes>"
      ]
     },
     "metadata": {
      "needs_background": "light"
     },
     "output_type": "display_data"
    }
   ],
   "source": [
    "# Plot the predictions on a graph\n",
    "prediction_plot = np.empty_like(data_close.reshape((-1)))\n",
    "prediction_plot[:] = np.nan\n",
    "prediction_plot[(len(data_train) + look_back):] = prediction\n",
    "\n",
    "plt.plot(data_close)\n",
    "plt.plot(prediction_plot)\n",
    "plt.show()"
   ]
  },
  {
   "cell_type": "markdown",
   "id": "9585ec70",
   "metadata": {},
   "source": [
    "# Make forecast"
   ]
  },
  {
   "cell_type": "code",
   "execution_count": 26,
   "id": "5ed6cae1",
   "metadata": {},
   "outputs": [],
   "source": [
    "data_close = data_close.reshape((-1))\n",
    "\n",
    "def predict(num_prediction, model):\n",
    "    prediction_list = data_close[-look_back:]\n",
    "    \n",
    "    for _ in range(num_prediction):\n",
    "        x = prediction_list[-look_back:]\n",
    "        x = x.reshape((1, look_back, 1))\n",
    "        out = model.predict(x)[0][0]\n",
    "        prediction_list = np.append(prediction_list, out)\n",
    "    prediction_list = prediction_list[look_back-1:]\n",
    "        \n",
    "    return prediction_list\n",
    "\n",
    "num_prediction = 100\n",
    "forecast = predict(num_prediction, model)"
   ]
  },
  {
   "cell_type": "code",
   "execution_count": 27,
   "id": "27162e66",
   "metadata": {},
   "outputs": [
    {
     "data": {
      "image/png": "[encoded data removed]",
      "text/plain": [
       "<Figure size 432x288 with 1 Axes>"
      ]
     },
     "metadata": {
      "needs_background": "light"
     },
     "output_type": "display_data"
    }
   ],
   "source": [
    "forecast = forecast.reshape((-1))\n",
    "plt.plot(forecast)\n",
    "plt.show()"
   ]
  },
  {
   "cell_type": "code",
   "execution_count": 28,
   "id": "d8d6b4a9",
   "metadata": {},
   "outputs": [],
   "source": [
    "data_forecast = np.append(data_close, forecast)"
   ]
  },
  {
   "cell_type": "code",
   "execution_count": 29,
   "id": "e61b5ecb",
   "metadata": {},
   "outputs": [
    {
     "data": {
      "image/png": "[encoded data removed]",
      "text/plain": [
       "<Figure size 432x288 with 1 Axes>"
      ]
     },
     "metadata": {
      "needs_background": "light"
     },
     "output_type": "display_data"
    }
   ],
   "source": [
    "# Plot the predictions on a graph\n",
    "forecast_plot = np.empty_like(data_forecast)\n",
    "forecast_plot[:] = np.nan\n",
    "forecast_plot[len(data_close):] = forecast\n",
    "\n",
    "plt.plot(data_close)\n",
    "plt.plot(forecast_plot)\n",
    "plt.show()"
   ]
  }
 ],
 "metadata": {
  "kernelspec": {
   "display_name": "Python 3 (ipykernel)",
   "language": "python",
   "name": "python3"
  },
  "language_info": {
   "codemirror_mode": {
    "name": "ipython",
    "version": 3
   },
   "file_extension": ".py",
   "mimetype": "text/x-python",
   "name": "python",
   "nbconvert_exporter": "python",
   "pygments_lexer": "ipython3",
   "version": "3.10.1"
  }
 },
 "nbformat": 4,
 "nbformat_minor": 5
}
