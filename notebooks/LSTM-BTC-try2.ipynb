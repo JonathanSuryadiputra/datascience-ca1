{
 "cells": [
  {
   "cell_type": "markdown",
   "id": "8028ca5f",
   "metadata": {},
   "source": [
    "# Predicting Crypto prices\n",
    "1. Get historic stock prices\n",
    "2. Extract prices to predict\n",
    "3. Normalise\n",
    "4. Create Time Series\n",
    "5. Build model\n",
    "6. Fit model\n",
    "7. Test and evaluate"
   ]
  },
  {
   "cell_type": "markdown",
   "id": "373fdc5d",
   "metadata": {},
   "source": [
    "# X and Y\n",
    "X = Goes back looking over a series of time e.g. past 7 minutes.<br>\n",
    "Y = The last nth of the series of time e.g. the price of BTC on the 7th minute of the past 7 minutes.<br>"
   ]
  },
  {
   "cell_type": "code",
   "execution_count": 1,
   "id": "b69654c2",
   "metadata": {},
   "outputs": [
    {
     "data": {
      "text/plain": [
       "'\\nlook_back = 3\\ndata = [1,2,4,5,7,8,9]\\n\\n   X      Y\\n[1,2,4]->[5]\\n[2,4,5]->[7]\\n[4,5,7]->[8]\\n[5,7,8]->[9]\\n'"
      ]
     },
     "execution_count": 1,
     "metadata": {},
     "output_type": "execute_result"
    }
   ],
   "source": [
    "# Example\n",
    "\"\"\"\n",
    "look_back = 3\n",
    "data = [1,2,4,5,7,8,9]\n",
    "\n",
    "   X      Y\n",
    "[1,2,4]->[5]\n",
    "[2,4,5]->[7]\n",
    "[4,5,7]->[8]\n",
    "[5,7,8]->[9]\n",
    "\"\"\""
   ]
  },
  {
   "cell_type": "markdown",
   "id": "76b94706",
   "metadata": {},
   "source": [
    "# Import dependencies"
   ]
  },
  {
   "cell_type": "code",
   "execution_count": 2,
   "id": "d0f05025",
   "metadata": {},
   "outputs": [],
   "source": [
    "# install dependencies\n",
    "import pandas as pd\n",
    "import numpy as np\n",
    "import keras\n",
    "import tensorflow as tf\n",
    "from keras.preprocessing.sequence import TimeseriesGenerator"
   ]
  },
  {
   "cell_type": "markdown",
   "id": "5f84e265",
   "metadata": {},
   "source": [
    "# Load dataset"
   ]
  },
  {
   "cell_type": "code",
   "execution_count": 3,
   "id": "f4629748",
   "metadata": {},
   "outputs": [],
   "source": [
    "data = pd.read_csv('../datasets/Daily/gemini_BTCUSD_day.csv')"
   ]
  },
  {
   "cell_type": "markdown",
   "id": "2c905585",
   "metadata": {},
   "source": [
    "# Explore dataset"
   ]
  },
  {
   "cell_type": "code",
   "execution_count": 4,
   "id": "dbd95fef",
   "metadata": {},
   "outputs": [
    {
     "data": {
      "text/html": [
       "<div>\n",
       "<style scoped>\n",
       "    .dataframe tbody tr th:only-of-type {\n",
       "        vertical-align: middle;\n",
       "    }\n",
       "\n",
       "    .dataframe tbody tr th {\n",
       "        vertical-align: top;\n",
       "    }\n",
       "\n",
       "    .dataframe thead th {\n",
       "        text-align: right;\n",
       "    }\n",
       "</style>\n",
       "<table border=\"1\" class=\"dataframe\">\n",
       "  <thead>\n",
       "    <tr style=\"text-align: right;\">\n",
       "      <th></th>\n",
       "      <th>Unix Timestamp</th>\n",
       "      <th>Date</th>\n",
       "      <th>Symbol</th>\n",
       "      <th>Open</th>\n",
       "      <th>High</th>\n",
       "      <th>Low</th>\n",
       "      <th>Close</th>\n",
       "      <th>Volume</th>\n",
       "    </tr>\n",
       "  </thead>\n",
       "  <tbody>\n",
       "    <tr>\n",
       "      <th>0</th>\n",
       "      <td>1644033600000</td>\n",
       "      <td>2022-02-05 04:00:00</td>\n",
       "      <td>BTCUSD</td>\n",
       "      <td>41487.51</td>\n",
       "      <td>41942.68</td>\n",
       "      <td>40971.46</td>\n",
       "      <td>41471.00</td>\n",
       "      <td>478.545315</td>\n",
       "    </tr>\n",
       "    <tr>\n",
       "      <th>1</th>\n",
       "      <td>1643947200000</td>\n",
       "      <td>2022-02-04 04:00:00</td>\n",
       "      <td>BTCUSD</td>\n",
       "      <td>37330.90</td>\n",
       "      <td>41996.48</td>\n",
       "      <td>37270.19</td>\n",
       "      <td>41487.51</td>\n",
       "      <td>2401.067754</td>\n",
       "    </tr>\n",
       "    <tr>\n",
       "      <th>2</th>\n",
       "      <td>1643860800000</td>\n",
       "      <td>2022-02-03 04:00:00</td>\n",
       "      <td>BTCUSD</td>\n",
       "      <td>36839.21</td>\n",
       "      <td>37454.49</td>\n",
       "      <td>36272.06</td>\n",
       "      <td>37330.90</td>\n",
       "      <td>1133.191332</td>\n",
       "    </tr>\n",
       "    <tr>\n",
       "      <th>3</th>\n",
       "      <td>1643774400000</td>\n",
       "      <td>2022-02-02 04:00:00</td>\n",
       "      <td>BTCUSD</td>\n",
       "      <td>38591.08</td>\n",
       "      <td>38801.00</td>\n",
       "      <td>36622.85</td>\n",
       "      <td>36839.21</td>\n",
       "      <td>1115.491394</td>\n",
       "    </tr>\n",
       "    <tr>\n",
       "      <th>4</th>\n",
       "      <td>1643688000000</td>\n",
       "      <td>2022-02-01 04:00:00</td>\n",
       "      <td>BTCUSD</td>\n",
       "      <td>38640.92</td>\n",
       "      <td>39280.00</td>\n",
       "      <td>38037.11</td>\n",
       "      <td>38591.08</td>\n",
       "      <td>1296.960431</td>\n",
       "    </tr>\n",
       "  </tbody>\n",
       "</table>\n",
       "</div>"
      ],
      "text/plain": [
       "   Unix Timestamp                 Date  Symbol      Open      High       Low  \\\n",
       "0   1644033600000  2022-02-05 04:00:00  BTCUSD  41487.51  41942.68  40971.46   \n",
       "1   1643947200000  2022-02-04 04:00:00  BTCUSD  37330.90  41996.48  37270.19   \n",
       "2   1643860800000  2022-02-03 04:00:00  BTCUSD  36839.21  37454.49  36272.06   \n",
       "3   1643774400000  2022-02-02 04:00:00  BTCUSD  38591.08  38801.00  36622.85   \n",
       "4   1643688000000  2022-02-01 04:00:00  BTCUSD  38640.92  39280.00  38037.11   \n",
       "\n",
       "      Close       Volume  \n",
       "0  41471.00   478.545315  \n",
       "1  41487.51  2401.067754  \n",
       "2  37330.90  1133.191332  \n",
       "3  36839.21  1115.491394  \n",
       "4  38591.08  1296.960431  "
      ]
     },
     "execution_count": 4,
     "metadata": {},
     "output_type": "execute_result"
    }
   ],
   "source": [
    "data.head()"
   ]
  },
  {
   "cell_type": "code",
   "execution_count": 5,
   "id": "c29d96c3",
   "metadata": {},
   "outputs": [
    {
     "data": {
      "text/html": [
       "<div>\n",
       "<style scoped>\n",
       "    .dataframe tbody tr th:only-of-type {\n",
       "        vertical-align: middle;\n",
       "    }\n",
       "\n",
       "    .dataframe tbody tr th {\n",
       "        vertical-align: top;\n",
       "    }\n",
       "\n",
       "    .dataframe thead th {\n",
       "        text-align: right;\n",
       "    }\n",
       "</style>\n",
       "<table border=\"1\" class=\"dataframe\">\n",
       "  <thead>\n",
       "    <tr style=\"text-align: right;\">\n",
       "      <th></th>\n",
       "      <th>Unix Timestamp</th>\n",
       "      <th>Date</th>\n",
       "      <th>Symbol</th>\n",
       "      <th>Open</th>\n",
       "      <th>High</th>\n",
       "      <th>Low</th>\n",
       "      <th>Close</th>\n",
       "      <th>Volume</th>\n",
       "    </tr>\n",
       "  </thead>\n",
       "  <tbody>\n",
       "    <tr>\n",
       "      <th>2308</th>\n",
       "      <td>1444622400</td>\n",
       "      <td>2015-10-12 04:00:00</td>\n",
       "      <td>BTCUSD</td>\n",
       "      <td>248.98</td>\n",
       "      <td>248.98</td>\n",
       "      <td>245.75</td>\n",
       "      <td>245.75</td>\n",
       "      <td>71.047743</td>\n",
       "    </tr>\n",
       "    <tr>\n",
       "      <th>2309</th>\n",
       "      <td>1444536000</td>\n",
       "      <td>2015-10-11 04:00:00</td>\n",
       "      <td>BTCUSD</td>\n",
       "      <td>246.30</td>\n",
       "      <td>249.50</td>\n",
       "      <td>245.96</td>\n",
       "      <td>248.98</td>\n",
       "      <td>22.747091</td>\n",
       "    </tr>\n",
       "    <tr>\n",
       "      <th>2310</th>\n",
       "      <td>1444449600</td>\n",
       "      <td>2015-10-10 04:00:00</td>\n",
       "      <td>BTCUSD</td>\n",
       "      <td>245.51</td>\n",
       "      <td>246.30</td>\n",
       "      <td>244.60</td>\n",
       "      <td>246.30</td>\n",
       "      <td>30.870549</td>\n",
       "    </tr>\n",
       "    <tr>\n",
       "      <th>2311</th>\n",
       "      <td>1444363200</td>\n",
       "      <td>2015-10-09 04:00:00</td>\n",
       "      <td>BTCUSD</td>\n",
       "      <td>243.60</td>\n",
       "      <td>249.97</td>\n",
       "      <td>243.60</td>\n",
       "      <td>245.51</td>\n",
       "      <td>61.587068</td>\n",
       "    </tr>\n",
       "    <tr>\n",
       "      <th>2312</th>\n",
       "      <td>1444276800</td>\n",
       "      <td>2015-10-08 04:00:00</td>\n",
       "      <td>BTCUSD</td>\n",
       "      <td>0.00</td>\n",
       "      <td>245.00</td>\n",
       "      <td>0.00</td>\n",
       "      <td>243.60</td>\n",
       "      <td>34.754703</td>\n",
       "    </tr>\n",
       "  </tbody>\n",
       "</table>\n",
       "</div>"
      ],
      "text/plain": [
       "      Unix Timestamp                 Date  Symbol    Open    High     Low  \\\n",
       "2308      1444622400  2015-10-12 04:00:00  BTCUSD  248.98  248.98  245.75   \n",
       "2309      1444536000  2015-10-11 04:00:00  BTCUSD  246.30  249.50  245.96   \n",
       "2310      1444449600  2015-10-10 04:00:00  BTCUSD  245.51  246.30  244.60   \n",
       "2311      1444363200  2015-10-09 04:00:00  BTCUSD  243.60  249.97  243.60   \n",
       "2312      1444276800  2015-10-08 04:00:00  BTCUSD    0.00  245.00    0.00   \n",
       "\n",
       "       Close     Volume  \n",
       "2308  245.75  71.047743  \n",
       "2309  248.98  22.747091  \n",
       "2310  246.30  30.870549  \n",
       "2311  245.51  61.587068  \n",
       "2312  243.60  34.754703  "
      ]
     },
     "execution_count": 5,
     "metadata": {},
     "output_type": "execute_result"
    }
   ],
   "source": [
    "data.tail()"
   ]
  },
  {
   "cell_type": "code",
   "execution_count": 6,
   "id": "b9f6c231",
   "metadata": {},
   "outputs": [
    {
     "data": {
      "text/plain": [
       "Index(['Unix Timestamp', 'Date', 'Symbol', 'Open', 'High', 'Low', 'Close',\n",
       "       'Volume'],\n",
       "      dtype='object')"
      ]
     },
     "execution_count": 6,
     "metadata": {},
     "output_type": "execute_result"
    }
   ],
   "source": [
    "data.columns"
   ]
  },
  {
   "cell_type": "code",
   "execution_count": 7,
   "id": "8416a0b4",
   "metadata": {},
   "outputs": [],
   "source": [
    "data = data.drop(columns=['Unix Timestamp', 'Symbol', 'Open', 'High', 'Low', 'Volume'])"
   ]
  },
  {
   "cell_type": "code",
   "execution_count": 8,
   "id": "bf77ee32",
   "metadata": {},
   "outputs": [
    {
     "data": {
      "text/plain": [
       "(2313, 2)"
      ]
     },
     "execution_count": 8,
     "metadata": {},
     "output_type": "execute_result"
    }
   ],
   "source": [
    "data.shape"
   ]
  },
  {
   "cell_type": "code",
   "execution_count": 9,
   "id": "d164287d",
   "metadata": {},
   "outputs": [
    {
     "data": {
      "text/html": [
       "<div>\n",
       "<style scoped>\n",
       "    .dataframe tbody tr th:only-of-type {\n",
       "        vertical-align: middle;\n",
       "    }\n",
       "\n",
       "    .dataframe tbody tr th {\n",
       "        vertical-align: top;\n",
       "    }\n",
       "\n",
       "    .dataframe thead th {\n",
       "        text-align: right;\n",
       "    }\n",
       "</style>\n",
       "<table border=\"1\" class=\"dataframe\">\n",
       "  <thead>\n",
       "    <tr style=\"text-align: right;\">\n",
       "      <th></th>\n",
       "      <th>Close</th>\n",
       "    </tr>\n",
       "  </thead>\n",
       "  <tbody>\n",
       "    <tr>\n",
       "      <th>count</th>\n",
       "      <td>2313.000000</td>\n",
       "    </tr>\n",
       "    <tr>\n",
       "      <th>mean</th>\n",
       "      <td>12948.253623</td>\n",
       "    </tr>\n",
       "    <tr>\n",
       "      <th>std</th>\n",
       "      <td>16579.596438</td>\n",
       "    </tr>\n",
       "    <tr>\n",
       "      <th>min</th>\n",
       "      <td>243.600000</td>\n",
       "    </tr>\n",
       "    <tr>\n",
       "      <th>25%</th>\n",
       "      <td>1648.560000</td>\n",
       "    </tr>\n",
       "    <tr>\n",
       "      <th>50%</th>\n",
       "      <td>7227.120000</td>\n",
       "    </tr>\n",
       "    <tr>\n",
       "      <th>75%</th>\n",
       "      <td>11378.230000</td>\n",
       "    </tr>\n",
       "    <tr>\n",
       "      <th>max</th>\n",
       "      <td>68525.750000</td>\n",
       "    </tr>\n",
       "  </tbody>\n",
       "</table>\n",
       "</div>"
      ],
      "text/plain": [
       "              Close\n",
       "count   2313.000000\n",
       "mean   12948.253623\n",
       "std    16579.596438\n",
       "min      243.600000\n",
       "25%     1648.560000\n",
       "50%     7227.120000\n",
       "75%    11378.230000\n",
       "max    68525.750000"
      ]
     },
     "execution_count": 9,
     "metadata": {},
     "output_type": "execute_result"
    }
   ],
   "source": [
    "data.describe()"
   ]
  },
  {
   "cell_type": "code",
   "execution_count": 10,
   "id": "6f9268fa",
   "metadata": {},
   "outputs": [
    {
     "data": {
      "text/plain": [
       "Date      object\n",
       "Close    float64\n",
       "dtype: object"
      ]
     },
     "execution_count": 10,
     "metadata": {},
     "output_type": "execute_result"
    }
   ],
   "source": [
    "data.dtypes"
   ]
  },
  {
   "cell_type": "code",
   "execution_count": 11,
   "id": "08a84f3d",
   "metadata": {},
   "outputs": [],
   "source": [
    "data['Date'] = pd.to_datetime(data['Date'])\n",
    "data.set_axis(data['Date'], inplace=True)\n",
    "data.set_index('Date', inplace=True)"
   ]
  },
  {
   "cell_type": "code",
   "execution_count": 12,
   "id": "31dd2f9b",
   "metadata": {},
   "outputs": [],
   "source": [
    "data.sort_index(inplace=True)"
   ]
  },
  {
   "cell_type": "code",
   "execution_count": 13,
   "id": "5875c7f7",
   "metadata": {},
   "outputs": [
    {
     "name": "stdout",
     "output_type": "stream",
     "text": [
      "<class 'pandas.core.frame.DataFrame'>\n",
      "DatetimeIndex: 2313 entries, 2015-10-08 04:00:00 to 2022-02-05 04:00:00\n",
      "Data columns (total 1 columns):\n",
      " #   Column  Non-Null Count  Dtype  \n",
      "---  ------  --------------  -----  \n",
      " 0   Close   2313 non-null   float64\n",
      "dtypes: float64(1)\n",
      "memory usage: 36.1 KB\n"
     ]
    }
   ],
   "source": [
    "data.info()"
   ]
  },
  {
   "cell_type": "code",
   "execution_count": 14,
   "id": "c59312cf",
   "metadata": {},
   "outputs": [
    {
     "data": {
      "text/html": [
       "<div>\n",
       "<style scoped>\n",
       "    .dataframe tbody tr th:only-of-type {\n",
       "        vertical-align: middle;\n",
       "    }\n",
       "\n",
       "    .dataframe tbody tr th {\n",
       "        vertical-align: top;\n",
       "    }\n",
       "\n",
       "    .dataframe thead th {\n",
       "        text-align: right;\n",
       "    }\n",
       "</style>\n",
       "<table border=\"1\" class=\"dataframe\">\n",
       "  <thead>\n",
       "    <tr style=\"text-align: right;\">\n",
       "      <th></th>\n",
       "      <th>Close</th>\n",
       "    </tr>\n",
       "    <tr>\n",
       "      <th>Date</th>\n",
       "      <th></th>\n",
       "    </tr>\n",
       "  </thead>\n",
       "  <tbody>\n",
       "    <tr>\n",
       "      <th>2015-10-08 04:00:00</th>\n",
       "      <td>243.60</td>\n",
       "    </tr>\n",
       "    <tr>\n",
       "      <th>2015-10-09 04:00:00</th>\n",
       "      <td>245.51</td>\n",
       "    </tr>\n",
       "    <tr>\n",
       "      <th>2015-10-10 04:00:00</th>\n",
       "      <td>246.30</td>\n",
       "    </tr>\n",
       "    <tr>\n",
       "      <th>2015-10-11 04:00:00</th>\n",
       "      <td>248.98</td>\n",
       "    </tr>\n",
       "    <tr>\n",
       "      <th>2015-10-12 04:00:00</th>\n",
       "      <td>245.75</td>\n",
       "    </tr>\n",
       "    <tr>\n",
       "      <th>...</th>\n",
       "      <td>...</td>\n",
       "    </tr>\n",
       "    <tr>\n",
       "      <th>2022-02-01 04:00:00</th>\n",
       "      <td>38591.08</td>\n",
       "    </tr>\n",
       "    <tr>\n",
       "      <th>2022-02-02 04:00:00</th>\n",
       "      <td>36839.21</td>\n",
       "    </tr>\n",
       "    <tr>\n",
       "      <th>2022-02-03 04:00:00</th>\n",
       "      <td>37330.90</td>\n",
       "    </tr>\n",
       "    <tr>\n",
       "      <th>2022-02-04 04:00:00</th>\n",
       "      <td>41487.51</td>\n",
       "    </tr>\n",
       "    <tr>\n",
       "      <th>2022-02-05 04:00:00</th>\n",
       "      <td>41471.00</td>\n",
       "    </tr>\n",
       "  </tbody>\n",
       "</table>\n",
       "<p>2313 rows × 1 columns</p>\n",
       "</div>"
      ],
      "text/plain": [
       "                        Close\n",
       "Date                         \n",
       "2015-10-08 04:00:00    243.60\n",
       "2015-10-09 04:00:00    245.51\n",
       "2015-10-10 04:00:00    246.30\n",
       "2015-10-11 04:00:00    248.98\n",
       "2015-10-12 04:00:00    245.75\n",
       "...                       ...\n",
       "2022-02-01 04:00:00  38591.08\n",
       "2022-02-02 04:00:00  36839.21\n",
       "2022-02-03 04:00:00  37330.90\n",
       "2022-02-04 04:00:00  41487.51\n",
       "2022-02-05 04:00:00  41471.00\n",
       "\n",
       "[2313 rows x 1 columns]"
      ]
     },
     "execution_count": 14,
     "metadata": {},
     "output_type": "execute_result"
    }
   ],
   "source": [
    "data"
   ]
  },
  {
   "cell_type": "markdown",
   "id": "0e36775b",
   "metadata": {},
   "source": [
    "# Data visualisation"
   ]
  },
  {
   "cell_type": "code",
   "execution_count": 15,
   "id": "5e06c6c1",
   "metadata": {},
   "outputs": [],
   "source": [
    "import matplotlib.pyplot as plt"
   ]
  },
  {
   "cell_type": "code",
   "execution_count": 16,
   "id": "f3906ad3",
   "metadata": {},
   "outputs": [
    {
     "data": {
      "text/plain": [
       "Date\n",
       "2015-10-08 04:00:00      243.60\n",
       "2015-10-09 04:00:00      245.51\n",
       "2015-10-10 04:00:00      246.30\n",
       "2015-10-11 04:00:00      248.98\n",
       "2015-10-12 04:00:00      245.75\n",
       "                         ...   \n",
       "2022-02-01 04:00:00    38591.08\n",
       "2022-02-02 04:00:00    36839.21\n",
       "2022-02-03 04:00:00    37330.90\n",
       "2022-02-04 04:00:00    41487.51\n",
       "2022-02-05 04:00:00    41471.00\n",
       "Name: Close, Length: 2313, dtype: float64"
      ]
     },
     "execution_count": 16,
     "metadata": {},
     "output_type": "execute_result"
    }
   ],
   "source": [
    "data['Close']"
   ]
  },
  {
   "cell_type": "code",
   "execution_count": 17,
   "id": "de5e19b5",
   "metadata": {},
   "outputs": [
    {
     "data": {
      "text/plain": [
       "array([  243.6 ,   245.51,   246.3 , ..., 37330.9 , 41487.51, 41471.  ])"
      ]
     },
     "execution_count": 17,
     "metadata": {},
     "output_type": "execute_result"
    }
   ],
   "source": [
    "data_close = data['Close'].values\n",
    "data_close"
   ]
  },
  {
   "cell_type": "code",
   "execution_count": 18,
   "id": "28b5f23a",
   "metadata": {
    "scrolled": true
   },
   "outputs": [
    {
     "data": {
      "image/png": "[encoded data removed]",
      "text/plain": [
       "<Figure size 432x288 with 1 Axes>"
      ]
     },
     "metadata": {
      "needs_background": "light"
     },
     "output_type": "display_data"
    }
   ],
   "source": [
    "data_close = data_close.reshape((-1, 1))\n",
    "plt.plot(data_close)\n",
    "plt.show()"
   ]
  },
  {
   "cell_type": "markdown",
   "id": "d65e36e0",
   "metadata": {},
   "source": [
    "# Split data into train and test"
   ]
  },
  {
   "cell_type": "code",
   "execution_count": 19,
   "id": "48a1380a",
   "metadata": {},
   "outputs": [
    {
     "name": "stdout",
     "output_type": "stream",
     "text": [
      "Train data size:  1850\n",
      "Test data size:  463\n"
     ]
    }
   ],
   "source": [
    "train_size = int(len(data_close) * 0.8) # 80% of data will be for training\n",
    "\n",
    "data_train = data_close[:train_size]\n",
    "data_test = data_close[train_size:] # the rest will be for testing\n",
    "\n",
    "print('Train data size: ', len(data_train))\n",
    "print('Test data size: ', len(data_test))"
   ]
  },
  {
   "cell_type": "markdown",
   "id": "beb2b52d",
   "metadata": {},
   "source": [
    "# Create time series out of data"
   ]
  },
  {
   "cell_type": "code",
   "execution_count": 20,
   "id": "12c2b700",
   "metadata": {},
   "outputs": [],
   "source": [
    "look_back = 15 # look back to the past 60 minutes (one hour) of the prices\n",
    "\n",
    "train_generator = TimeseriesGenerator(data_train, data_train, length=look_back, batch_size=64)     \n",
    "test_generator = TimeseriesGenerator(data_test, data_test, length=look_back, batch_size=1)"
   ]
  },
  {
   "cell_type": "markdown",
   "id": "9f88b2df",
   "metadata": {},
   "source": [
    "# Set up and build LSTM model"
   ]
  },
  {
   "cell_type": "code",
   "execution_count": 21,
   "id": "4eb33ebd",
   "metadata": {},
   "outputs": [],
   "source": [
    "from keras.models import Sequential\n",
    "from keras.layers import LSTM, Dense, Dropout\n",
    "from keras.regularizers import L2"
   ]
  },
  {
   "cell_type": "code",
   "execution_count": 22,
   "id": "5a4a6ee1",
   "metadata": {},
   "outputs": [],
   "source": [
    "# initialise model\n",
    "model = Sequential()\n",
    "# add layers\n",
    "model.add(LSTM(50, activation='relu', input_shape=(look_back, 1), recurrent_dropout=0.5))\n",
    "#model.add(Dropout(0.2, input_shape=(look_back, 1)))\n",
    "model.add(Dense(1))\n",
    "# compile model\n",
    "model.compile(loss='mse', optimizer='adam')"
   ]
  },
  {
   "cell_type": "code",
   "execution_count": 23,
   "id": "44d7ebe5",
   "metadata": {},
   "outputs": [
    {
     "name": "stdout",
     "output_type": "stream",
     "text": [
      "Epoch 1/15\n",
      "29/29 [==============================] - 2s 14ms/step - loss: 54727572.0000\n",
      "Epoch 2/15\n",
      "29/29 [==============================] - 0s 13ms/step - loss: 34959228.0000\n",
      "Epoch 3/15\n",
      "29/29 [==============================] - 0s 16ms/step - loss: 27432566.0000\n",
      "Epoch 4/15\n",
      "29/29 [==============================] - 0s 14ms/step - loss: 21515928.0000\n",
      "Epoch 5/15\n",
      "29/29 [==============================] - 0s 15ms/step - loss: 19094510.0000\n",
      "Epoch 6/15\n",
      "29/29 [==============================] - 0s 15ms/step - loss: 18383606.0000\n",
      "Epoch 7/15\n",
      "29/29 [==============================] - 0s 15ms/step - loss: 17844722.0000\n",
      "Epoch 8/15\n",
      "29/29 [==============================] - 0s 15ms/step - loss: 16435093.0000\n",
      "Epoch 9/15\n",
      "29/29 [==============================] - 0s 14ms/step - loss: 17370756.0000\n",
      "Epoch 10/15\n",
      "29/29 [==============================] - 0s 10ms/step - loss: 16149194.0000\n",
      "Epoch 11/15\n",
      "29/29 [==============================] - 0s 10ms/step - loss: 14433927.0000\n",
      "Epoch 12/15\n",
      "29/29 [==============================] - 0s 14ms/step - loss: 18393850.0000\n",
      "Epoch 13/15\n",
      "29/29 [==============================] - 0s 14ms/step - loss: 18617764.0000\n",
      "Epoch 14/15\n",
      "29/29 [==============================] - 0s 14ms/step - loss: 15931067.0000\n",
      "Epoch 15/15\n",
      "29/29 [==============================] - 0s 14ms/step - loss: 13862583.0000\n"
     ]
    },
    {
     "data": {
      "text/plain": [
       "<keras.callbacks.History at 0x1e2a78d1960>"
      ]
     },
     "execution_count": 23,
     "metadata": {},
     "output_type": "execute_result"
    }
   ],
   "source": [
    "# fit the model\n",
    "num_epochs = 15\n",
    "model.fit(train_generator, epochs=num_epochs, verbose=1)"
   ]
  },
  {
   "cell_type": "code",
   "execution_count": 24,
   "id": "6d283e1d",
   "metadata": {},
   "outputs": [],
   "source": [
    "prediction = model.predict(test_generator)\n",
    "\n",
    "data_train = data_train.reshape((-1))\n",
    "data_test = data_test.reshape((-1))\n",
    "prediction = prediction.reshape((-1))"
   ]
  },
  {
   "cell_type": "code",
   "execution_count": 25,
   "id": "6f8e8b2f",
   "metadata": {},
   "outputs": [
    {
     "data": {
      "image/png": "[encoded data removed]",
      "text/plain": [
       "<Figure size 432x288 with 1 Axes>"
      ]
     },
     "metadata": {
      "needs_background": "light"
     },
     "output_type": "display_data"
    }
   ],
   "source": [
    "# Plot the predictions on a graph\n",
    "prediction_plot = np.empty_like(data_close.reshape((-1)))\n",
    "prediction_plot[:] = np.nan\n",
    "prediction_plot[(len(data_train) + look_back):] = prediction\n",
    "\n",
    "plt.plot(data_close)\n",
    "plt.plot(prediction_plot)\n",
    "plt.show()"
   ]
  },
  {
   "cell_type": "markdown",
   "id": "9585ec70",
   "metadata": {},
   "source": [
    "# Make forecast"
   ]
  },
  {
   "cell_type": "code",
   "execution_count": 26,
   "id": "5ed6cae1",
   "metadata": {},
   "outputs": [],
   "source": [
    "data_close = data_close.reshape((-1))\n",
    "\n",
    "def predict(num_prediction, model):\n",
    "    prediction_list = data_close[-look_back:]\n",
    "    \n",
    "    for _ in range(num_prediction):\n",
    "        x = prediction_list[-look_back:]\n",
    "        x = x.reshape((1, look_back, 1))\n",
    "        out = model.predict(x)[0][0]\n",
    "        prediction_list = np.append(prediction_list, out)\n",
    "    prediction_list = prediction_list[look_back-1:]\n",
    "        \n",
    "    return prediction_list\n",
    "\n",
    "num_prediction = 200\n",
    "forecast = predict(num_prediction, model)"
   ]
  },
  {
   "cell_type": "code",
   "execution_count": 27,
   "id": "27162e66",
   "metadata": {},
   "outputs": [
    {
     "data": {
      "image/png": "[encoded data removed]",
      "text/plain": [
       "<Figure size 432x288 with 1 Axes>"
      ]
     },
     "metadata": {
      "needs_background": "light"
     },
     "output_type": "display_data"
    }
   ],
   "source": [
    "forecast = forecast.reshape((-1))\n",
    "plt.plot(forecast)\n",
    "plt.show()"
   ]
  },
  {
   "cell_type": "code",
   "execution_count": 28,
   "id": "d8d6b4a9",
   "metadata": {},
   "outputs": [],
   "source": [
    "data_forecast = np.append(data_close, forecast)"
   ]
  },
  {
   "cell_type": "code",
   "execution_count": 29,
   "id": "e61b5ecb",
   "metadata": {},
   "outputs": [
    {
     "data": {
      "image/png": "[encoded data removed]",
      "text/plain": [
       "<Figure size 432x288 with 1 Axes>"
      ]
     },
     "metadata": {
      "needs_background": "light"
     },
     "output_type": "display_data"
    }
   ],
   "source": [
    "# Plot the forec on a graph\n",
    "forecast_plot = np.empty_like(data_forecast)\n",
    "forecast_plot[:] = np.nan\n",
    "forecast_plot[len(data_close):] = forecast\n",
    "\n",
    "plt.plot(data_close)\n",
    "plt.plot(forecast_plot)\n",
    "plt.show()"
   ]
  }
 ],
 "metadata": {
  "kernelspec": {
   "display_name": "Python 3 (ipykernel)",
   "language": "python",
   "name": "python3"
  },
  "language_info": {
   "codemirror_mode": {
    "name": "ipython",
    "version": 3
   },
   "file_extension": ".py",
   "mimetype": "text/x-python",
   "name": "python",
   "nbconvert_exporter": "python",
   "pygments_lexer": "ipython3",
   "version": "3.10.1"
  }
 },
 "nbformat": 4,
 "nbformat_minor": 5
}
