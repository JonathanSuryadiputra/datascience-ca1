{
 "cells": [
  {
   "cell_type": "markdown",
   "id": "d794f52b",
   "metadata": {},
   "source": [
    "# Import dependencies"
   ]
  },
  {
   "cell_type": "code",
   "execution_count": null,
   "id": "a4a95d16",
   "metadata": {},
   "outputs": [],
   "source": [
    "#!pip install prophet"
   ]
  },
  {
   "cell_type": "code",
   "execution_count": null,
   "id": "7f2e867c",
   "metadata": {},
   "outputs": [],
   "source": [
    "import numpy as np\n",
    "import pandas as pd\n",
    "import matplotlib.pyplot as plt\n",
    "import datetime as datetime\n",
    "\n",
    "from prophet import Prophet"
   ]
  },
  {
   "cell_type": "markdown",
   "id": "5a8433e4",
   "metadata": {},
   "source": [
    "# Combine and explore dataset"
   ]
  },
  {
   "cell_type": "code",
   "execution_count": null,
   "id": "31169190",
   "metadata": {},
   "outputs": [],
   "source": [
    "def allData():\n",
    "    path = '../datasets/BTC/'\n",
    "    \n",
    "    ori_df = pd.read_csv(f\"{path}gemini_BTCUSD_2015_1min.csv\")\n",
    "    for item in range(2016, 2022):\n",
    "        df = pd.read_csv(f\"{path}/gemini_BTCUSD_{item}_1min.csv\")\n",
    "        new_df = pd.concat([ori_df, df], ignore_index=True)\n",
    "        ori_df = new_df\n",
    "\n",
    "    ori_df.rename({\"Unix Timestamp\": \"Timestamp\"}, axis=1, inplace=True)\n",
    "    combine_df = ori_df\n",
    "    combine_df.drop_duplicates(subset=[\"Timestamp\"], keep='first', inplace=True)\n",
    "    \n",
    "    return combine_df"
   ]
  },
  {
   "cell_type": "code",
   "execution_count": null,
   "id": "6ea46f9b",
   "metadata": {},
   "outputs": [],
   "source": [
    "df = allData()"
   ]
  },
  {
   "cell_type": "code",
   "execution_count": null,
   "id": "4fdf33c8",
   "metadata": {},
   "outputs": [],
   "source": [
    "df"
   ]
  },
  {
   "cell_type": "code",
   "execution_count": null,
   "id": "d317fd16",
   "metadata": {},
   "outputs": [],
   "source": [
    "df.set_index('Timestamp', inplace=True)\n",
    "df.info()"
   ]
  },
  {
   "cell_type": "code",
   "execution_count": null,
   "id": "bfcd8fa0",
   "metadata": {},
   "outputs": [],
   "source": [
    "df.sort_index(inplace=True)"
   ]
  },
  {
   "cell_type": "code",
   "execution_count": null,
   "id": "da11705d",
   "metadata": {},
   "outputs": [],
   "source": [
    "data_close = df['Close']\n",
    "data_close = data_close.values.reshape(len(data_close), 1)\n",
    "plt.plot(data_close)\n",
    "plt.show()"
   ]
  },
  {
   "cell_type": "code",
   "execution_count": null,
   "id": "68ac04a3",
   "metadata": {},
   "outputs": [],
   "source": [
    "len(data_close)"
   ]
  },
  {
   "cell_type": "markdown",
   "id": "a82eaefc",
   "metadata": {},
   "source": [
    "# Build model"
   ]
  },
  {
   "cell_type": "code",
   "execution_count": null,
   "id": "c13e32d3",
   "metadata": {},
   "outputs": [],
   "source": [
    "# initialise the forecasting model\n",
    "model = Prophet(daily_seasonality=False, weekly_seasonality=False, yearly_seasonality=True, seasonality_mode='multiplicative', growth='linear')"
   ]
  },
  {
   "cell_type": "code",
   "execution_count": null,
   "id": "44580b7d",
   "metadata": {},
   "outputs": [],
   "source": [
    "df = df.rename({'Date': 'ds', 'Close': 'y'}, axis='columns')\n",
    "df"
   ]
  },
  {
   "cell_type": "code",
   "execution_count": null,
   "id": "e59b5b89",
   "metadata": {},
   "outputs": [],
   "source": [
    "model.fit(df)\n",
    "future = model.make_future_dataframe(periods = 91)\n",
    "forecast = model.predict(future)"
   ]
  },
  {
   "cell_type": "code",
   "execution_count": null,
   "id": "8406a14c",
   "metadata": {},
   "outputs": [],
   "source": [
    "# plot the model forecast chart with component charts in trend and seasonality \n",
    "model.plot_components(forecast)\n",
    "model.plot(forecast)"
   ]
  }
 ],
 "metadata": {
  "kernelspec": {
   "display_name": "Python 3 (ipykernel)",
   "language": "python",
   "name": "python3"
  },
  "language_info": {
   "codemirror_mode": {
    "name": "ipython",
    "version": 3
   },
   "file_extension": ".py",
   "mimetype": "text/x-python",
   "name": "python",
   "nbconvert_exporter": "python",
   "pygments_lexer": "ipython3",
   "version": "3.9.0"
  }
 },
 "nbformat": 4,
 "nbformat_minor": 5
}
