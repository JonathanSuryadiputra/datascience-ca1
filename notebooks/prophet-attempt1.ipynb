{
 "cells": [
  {
   "cell_type": "markdown",
   "id": "d794f52b",
   "metadata": {},
   "source": [
    "# Import dependencies"
   ]
  },
  {
   "cell_type": "code",
   "execution_count": null,
   "id": "a4a95d16",
   "metadata": {},
   "outputs": [],
   "source": [
    "#!pip install prophet"
   ]
  },
  {
   "cell_type": "code",
   "execution_count": 1,
   "id": "7f2e867c",
   "metadata": {},
   "outputs": [],
   "source": [
    "import numpy as np\n",
    "import pandas as pd\n",
    "import matplotlib.pyplot as plt\n",
    "import datetime as datetime\n",
    "\n",
    "from prophet import Prophet"
   ]
  },
  {
   "cell_type": "markdown",
   "id": "5a8433e4",
   "metadata": {},
   "source": [
    "# Combine and explore dataset"
   ]
  },
  {
   "cell_type": "code",
   "execution_count": 2,
   "id": "31169190",
   "metadata": {},
   "outputs": [],
   "source": [
    "def allData():\n",
    "    path = '../datasets/BTC/'\n",
    "    \n",
    "    ori_df = pd.read_csv(f\"{path}gemini_BTCUSD_2015_1min.csv\")\n",
    "    for item in range(2016, 2022):\n",
    "        df = pd.read_csv(f\"{path}/gemini_BTCUSD_{item}_1min.csv\")\n",
    "        new_df = pd.concat([ori_df, df], ignore_index=True)\n",
    "        ori_df = new_df\n",
    "\n",
    "    ori_df.rename({\"Unix Timestamp\": \"Timestamp\"}, axis=1, inplace=True)\n",
    "    combine_df = ori_df\n",
    "    combine_df.drop_duplicates(subset=[\"Timestamp\"], keep='first', inplace=True)\n",
    "    \n",
    "    return combine_df"
   ]
  },
  {
   "cell_type": "code",
   "execution_count": 3,
   "id": "6ea46f9b",
   "metadata": {},
   "outputs": [],
   "source": [
    "df = allData()"
   ]
  },
  {
   "cell_type": "code",
   "execution_count": 4,
   "id": "4fdf33c8",
   "metadata": {},
   "outputs": [
    {
     "data": {
      "text/html": [
       "<div>\n",
       "<style scoped>\n",
       "    .dataframe tbody tr th:only-of-type {\n",
       "        vertical-align: middle;\n",
       "    }\n",
       "\n",
       "    .dataframe tbody tr th {\n",
       "        vertical-align: top;\n",
       "    }\n",
       "\n",
       "    .dataframe thead th {\n",
       "        text-align: right;\n",
       "    }\n",
       "</style>\n",
       "<table border=\"1\" class=\"dataframe\">\n",
       "  <thead>\n",
       "    <tr style=\"text-align: right;\">\n",
       "      <th></th>\n",
       "      <th>Timestamp</th>\n",
       "      <th>Date</th>\n",
       "      <th>Symbol</th>\n",
       "      <th>Open</th>\n",
       "      <th>High</th>\n",
       "      <th>Low</th>\n",
       "      <th>Close</th>\n",
       "      <th>Volume</th>\n",
       "    </tr>\n",
       "  </thead>\n",
       "  <tbody>\n",
       "    <tr>\n",
       "      <th>0</th>\n",
       "      <td>1451606340</td>\n",
       "      <td>2015-12-31 23:59:00</td>\n",
       "      <td>BTCUSD</td>\n",
       "      <td>429.95</td>\n",
       "      <td>429.95</td>\n",
       "      <td>429.95</td>\n",
       "      <td>429.95</td>\n",
       "      <td>0.000000</td>\n",
       "    </tr>\n",
       "    <tr>\n",
       "      <th>1</th>\n",
       "      <td>1451606280</td>\n",
       "      <td>2015-12-31 23:58:00</td>\n",
       "      <td>BTCUSD</td>\n",
       "      <td>429.95</td>\n",
       "      <td>429.95</td>\n",
       "      <td>429.95</td>\n",
       "      <td>429.95</td>\n",
       "      <td>0.000000</td>\n",
       "    </tr>\n",
       "    <tr>\n",
       "      <th>2</th>\n",
       "      <td>1451606220</td>\n",
       "      <td>2015-12-31 23:57:00</td>\n",
       "      <td>BTCUSD</td>\n",
       "      <td>429.95</td>\n",
       "      <td>429.95</td>\n",
       "      <td>429.95</td>\n",
       "      <td>429.95</td>\n",
       "      <td>0.000000</td>\n",
       "    </tr>\n",
       "    <tr>\n",
       "      <th>3</th>\n",
       "      <td>1451606160</td>\n",
       "      <td>2015-12-31 23:56:00</td>\n",
       "      <td>BTCUSD</td>\n",
       "      <td>429.95</td>\n",
       "      <td>429.95</td>\n",
       "      <td>429.95</td>\n",
       "      <td>429.95</td>\n",
       "      <td>0.000000</td>\n",
       "    </tr>\n",
       "    <tr>\n",
       "      <th>4</th>\n",
       "      <td>1451606100</td>\n",
       "      <td>2015-12-31 23:55:00</td>\n",
       "      <td>BTCUSD</td>\n",
       "      <td>429.95</td>\n",
       "      <td>429.95</td>\n",
       "      <td>429.95</td>\n",
       "      <td>429.95</td>\n",
       "      <td>0.000000</td>\n",
       "    </tr>\n",
       "    <tr>\n",
       "      <th>...</th>\n",
       "      <td>...</td>\n",
       "      <td>...</td>\n",
       "      <td>...</td>\n",
       "      <td>...</td>\n",
       "      <td>...</td>\n",
       "      <td>...</td>\n",
       "      <td>...</td>\n",
       "      <td>...</td>\n",
       "    </tr>\n",
       "    <tr>\n",
       "      <th>3050922</th>\n",
       "      <td>1609459440000</td>\n",
       "      <td>2021-01-01 00:04:00</td>\n",
       "      <td>BTCUSD</td>\n",
       "      <td>29056.21</td>\n",
       "      <td>29056.21</td>\n",
       "      <td>29046.04</td>\n",
       "      <td>29048.46</td>\n",
       "      <td>0.032502</td>\n",
       "    </tr>\n",
       "    <tr>\n",
       "      <th>3050923</th>\n",
       "      <td>1609459380000</td>\n",
       "      <td>2021-01-01 00:03:00</td>\n",
       "      <td>BTCUSD</td>\n",
       "      <td>29057.27</td>\n",
       "      <td>29057.27</td>\n",
       "      <td>29028.69</td>\n",
       "      <td>29056.21</td>\n",
       "      <td>0.049909</td>\n",
       "    </tr>\n",
       "    <tr>\n",
       "      <th>3050924</th>\n",
       "      <td>1609459320000</td>\n",
       "      <td>2021-01-01 00:02:00</td>\n",
       "      <td>BTCUSD</td>\n",
       "      <td>29085.38</td>\n",
       "      <td>29086.14</td>\n",
       "      <td>29043.25</td>\n",
       "      <td>29057.27</td>\n",
       "      <td>5.075271</td>\n",
       "    </tr>\n",
       "    <tr>\n",
       "      <th>3050925</th>\n",
       "      <td>1609459260000</td>\n",
       "      <td>2021-01-01 00:01:00</td>\n",
       "      <td>BTCUSD</td>\n",
       "      <td>29033.01</td>\n",
       "      <td>29086.14</td>\n",
       "      <td>29033.01</td>\n",
       "      <td>29085.38</td>\n",
       "      <td>1.451389</td>\n",
       "    </tr>\n",
       "    <tr>\n",
       "      <th>3050926</th>\n",
       "      <td>1609459200000</td>\n",
       "      <td>2021-01-01 00:00:00</td>\n",
       "      <td>BTCUSD</td>\n",
       "      <td>28979.74</td>\n",
       "      <td>29033.01</td>\n",
       "      <td>28956.18</td>\n",
       "      <td>29033.01</td>\n",
       "      <td>0.126441</td>\n",
       "    </tr>\n",
       "  </tbody>\n",
       "</table>\n",
       "<p>3050927 rows × 8 columns</p>\n",
       "</div>"
      ],
      "text/plain": [
       "             Timestamp                 Date  Symbol      Open      High  \\\n",
       "0           1451606340  2015-12-31 23:59:00  BTCUSD    429.95    429.95   \n",
       "1           1451606280  2015-12-31 23:58:00  BTCUSD    429.95    429.95   \n",
       "2           1451606220  2015-12-31 23:57:00  BTCUSD    429.95    429.95   \n",
       "3           1451606160  2015-12-31 23:56:00  BTCUSD    429.95    429.95   \n",
       "4           1451606100  2015-12-31 23:55:00  BTCUSD    429.95    429.95   \n",
       "...                ...                  ...     ...       ...       ...   \n",
       "3050922  1609459440000  2021-01-01 00:04:00  BTCUSD  29056.21  29056.21   \n",
       "3050923  1609459380000  2021-01-01 00:03:00  BTCUSD  29057.27  29057.27   \n",
       "3050924  1609459320000  2021-01-01 00:02:00  BTCUSD  29085.38  29086.14   \n",
       "3050925  1609459260000  2021-01-01 00:01:00  BTCUSD  29033.01  29086.14   \n",
       "3050926  1609459200000  2021-01-01 00:00:00  BTCUSD  28979.74  29033.01   \n",
       "\n",
       "              Low     Close    Volume  \n",
       "0          429.95    429.95  0.000000  \n",
       "1          429.95    429.95  0.000000  \n",
       "2          429.95    429.95  0.000000  \n",
       "3          429.95    429.95  0.000000  \n",
       "4          429.95    429.95  0.000000  \n",
       "...           ...       ...       ...  \n",
       "3050922  29046.04  29048.46  0.032502  \n",
       "3050923  29028.69  29056.21  0.049909  \n",
       "3050924  29043.25  29057.27  5.075271  \n",
       "3050925  29033.01  29085.38  1.451389  \n",
       "3050926  28956.18  29033.01  0.126441  \n",
       "\n",
       "[3050927 rows x 8 columns]"
      ]
     },
     "execution_count": 4,
     "metadata": {},
     "output_type": "execute_result"
    }
   ],
   "source": [
    "df"
   ]
  },
  {
   "cell_type": "code",
   "execution_count": 5,
   "id": "d317fd16",
   "metadata": {},
   "outputs": [
    {
     "name": "stdout",
     "output_type": "stream",
     "text": [
      "<class 'pandas.core.frame.DataFrame'>\n",
      "Int64Index: 3050927 entries, 1451606340 to 1609459200000\n",
      "Data columns (total 7 columns):\n",
      " #   Column  Dtype  \n",
      "---  ------  -----  \n",
      " 0   Date    object \n",
      " 1   Symbol  object \n",
      " 2   Open    float64\n",
      " 3   High    float64\n",
      " 4   Low     float64\n",
      " 5   Close   float64\n",
      " 6   Volume  float64\n",
      "dtypes: float64(5), object(2)\n",
      "memory usage: 186.2+ MB\n"
     ]
    }
   ],
   "source": [
    "df.set_index('Timestamp', inplace=True)\n",
    "df.info()"
   ]
  },
  {
   "cell_type": "code",
   "execution_count": 6,
   "id": "bfcd8fa0",
   "metadata": {},
   "outputs": [],
   "source": [
    "df.sort_index(inplace=True)"
   ]
  },
  {
   "cell_type": "code",
   "execution_count": 7,
   "id": "da11705d",
   "metadata": {},
   "outputs": [
    {
     "data": {
      "image/png": "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\n",
      "text/plain": [
       "<Figure size 432x288 with 1 Axes>"
      ]
     },
     "metadata": {
      "needs_background": "light"
     },
     "output_type": "display_data"
    }
   ],
   "source": [
    "data_close = df['Close']\n",
    "data_close = data_close.values.reshape(len(data_close), 1)\n",
    "plt.plot(data_close)\n",
    "plt.show()"
   ]
<<<<<<< HEAD
=======
  },
  {
   "cell_type": "code",
   "execution_count": null,
   "id": "68ac04a3",
   "metadata": {},
   "outputs": [],
   "source": [
    "len(data_close)"
   ]
  },
  {
   "cell_type": "markdown",
   "id": "a82eaefc",
   "metadata": {},
   "source": [
    "# Build model"
   ]
  },
  {
   "cell_type": "code",
   "execution_count": null,
   "id": "c13e32d3",
   "metadata": {},
   "outputs": [],
   "source": [
    "# initialise the forecasting model\n",
    "model = Prophet(daily_seasonality=False, weekly_seasonality=False, yearly_seasonality=True, seasonality_mode='multiplicative', growth='linear')"
   ]
  },
  {
   "cell_type": "code",
   "execution_count": null,
   "id": "44580b7d",
   "metadata": {},
   "outputs": [],
   "source": [
    "df = df.rename({'Date': 'ds', 'Close': 'y'}, axis='columns')\n",
    "df"
   ]
  },
  {
   "cell_type": "code",
   "execution_count": null,
   "id": "e59b5b89",
   "metadata": {},
   "outputs": [],
   "source": [
    "model.fit(df)\n",
    "future = model.make_future_dataframe(periods = 91)\n",
    "forecast = model.predict(future)"
   ]
  },
  {
   "cell_type": "code",
   "execution_count": null,
   "id": "8406a14c",
   "metadata": {},
   "outputs": [],
   "source": [
    "# plot the model forecast chart with component charts in trend and seasonality \n",
    "model.plot_components(forecast)\n",
    "model.plot(forecast)"
   ]
>>>>>>> d48624a63692d0db2368d38561dced9b4003f0f6
  }
 ],
 "metadata": {
  "kernelspec": {
   "display_name": "Python 3 (ipykernel)",
   "language": "python",
   "name": "python3"
  },
  "language_info": {
   "codemirror_mode": {
    "name": "ipython",
    "version": 3
   },
   "file_extension": ".py",
   "mimetype": "text/x-python",
   "name": "python",
   "nbconvert_exporter": "python",
   "pygments_lexer": "ipython3",
   "version": "3.9.0"
  }
 },
 "nbformat": 4,
 "nbformat_minor": 5
}
