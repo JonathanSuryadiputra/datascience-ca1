{
 "cells": [
  {
   "cell_type": "markdown",
   "id": "8028ca5f",
   "metadata": {},
   "source": [
    "# Predicting Crypto prices\n",
    "1. Get historic stock prices\n",
    "2. Extract prices to predict\n",
    "3. Normalise\n",
    "4. Create Time Series\n",
    "5. Build model\n",
    "6. Fit model\n",
    "7. Test and evaluate"
   ]
  },
  {
   "cell_type": "markdown",
   "id": "373fdc5d",
   "metadata": {},
   "source": [
    "# X and Y\n",
    "X = Goes back looking over a series of time e.g. past 7 minutes.<br>\n",
    "Y = The last nth of the series of time e.g. the price of BTC on the 7th minute of the past 7 minutes.<br>"
   ]
  },
  {
   "cell_type": "code",
   "execution_count": null,
   "id": "b69654c2",
   "metadata": {},
   "outputs": [],
   "source": [
    "# Example\n",
    "\"\"\"\n",
    "look_back = 3\n",
    "data = [1,2,4,5,7,8,9]\n",
    "\n",
    "   X      Y\n",
    "[1,2,4]->[5]\n",
    "[2,4,5]->[7]\n",
    "[4,5,7]->[8]\n",
    "[5,7,8]->[9]\n",
    "\"\"\""
   ]
  },
  {
   "cell_type": "markdown",
   "id": "76b94706",
   "metadata": {},
   "source": [
    "# Import dependencies"
   ]
  },
  {
   "cell_type": "code",
   "execution_count": null,
   "id": "d0f05025",
   "metadata": {},
   "outputs": [],
   "source": [
    "# install dependencies\n",
    "import pandas as pd\n",
    "import numpy as np\n",
    "import keras\n",
    "import tensorflow as tf\n",
    "from keras.preprocessing.sequence import TimeseriesGenerator"
   ]
  },
  {
   "cell_type": "markdown",
   "id": "5f84e265",
   "metadata": {},
   "source": [
    "# Load dataset"
   ]
  },
  {
   "cell_type": "code",
   "execution_count": null,
   "id": "f4629748",
   "metadata": {},
   "outputs": [],
   "source": [
    "# 1. Get historic stock prices\n",
    "def allData():\n",
    "    path = '../datasets/BTC/'\n",
    "    \n",
    "    ori_df = pd.read_csv(f\"{path}gemini_BTCUSD_2015_1min.csv\")\n",
    "    for item in range(2016, 2022):\n",
    "        df = pd.read_csv(f\"{path}/gemini_BTCUSD_{item}_1min.csv\")\n",
    "        new_df = pd.concat([ori_df, df], ignore_index=True)\n",
    "        ori_df = new_df\n",
    "\n",
    "    ori_df.rename({\"Unix Timestamp\": \"Timestamp\"}, axis=1, inplace=True)\n",
    "    combine_df = ori_df\n",
    "    combine_df.drop_duplicates(subset=[\"Timestamp\"], keep='first', inplace=True)\n",
    "    \n",
    "    return combine_df\n",
    "\n",
    "data = allData()"
   ]
  },
  {
   "cell_type": "markdown",
   "id": "2c905585",
   "metadata": {},
   "source": [
    "# Explore dataset"
   ]
  },
  {
   "cell_type": "code",
   "execution_count": null,
   "id": "dbd95fef",
   "metadata": {},
   "outputs": [],
   "source": [
    "data.head()"
   ]
  },
  {
   "cell_type": "code",
   "execution_count": null,
   "id": "c29d96c3",
   "metadata": {},
   "outputs": [],
   "source": [
    "data.tail()"
   ]
  },
  {
   "cell_type": "code",
   "execution_count": null,
   "id": "b9f6c231",
   "metadata": {},
   "outputs": [],
   "source": [
    "data.columns"
   ]
  },
  {
   "cell_type": "code",
   "execution_count": null,
   "id": "8416a0b4",
   "metadata": {},
   "outputs": [],
   "source": [
    "data = data.drop(columns=['Timestamp', 'Symbol', 'Open', 'High', 'Low', 'Volume'])"
   ]
  },
  {
   "cell_type": "code",
   "execution_count": null,
   "id": "bf77ee32",
   "metadata": {},
   "outputs": [],
   "source": [
    "data.shape"
   ]
  },
  {
   "cell_type": "code",
   "execution_count": null,
   "id": "d164287d",
   "metadata": {},
   "outputs": [],
   "source": [
    "data.describe()"
   ]
  },
  {
   "cell_type": "code",
   "execution_count": null,
   "id": "6f9268fa",
   "metadata": {},
   "outputs": [],
   "source": [
    "data.dtypes"
   ]
  },
  {
   "cell_type": "code",
   "execution_count": null,
   "id": "08a84f3d",
   "metadata": {},
   "outputs": [],
   "source": [
    "data['Date'] = pd.to_datetime(data['Date'])\n",
    "data.set_axis(data['Date'], inplace=True)\n",
    "data.set_index('Date', inplace=True)"
   ]
  },
  {
   "cell_type": "code",
   "execution_count": null,
   "id": "31dd2f9b",
   "metadata": {},
   "outputs": [],
   "source": [
    "data.sort_index(inplace=True)"
   ]
  },
  {
   "cell_type": "code",
   "execution_count": null,
   "id": "5875c7f7",
   "metadata": {},
   "outputs": [],
   "source": [
    "data.info()"
   ]
  },
  {
   "cell_type": "code",
   "execution_count": null,
   "id": "c59312cf",
   "metadata": {},
   "outputs": [],
   "source": [
    "data"
   ]
  },
  {
   "cell_type": "markdown",
   "id": "0e36775b",
   "metadata": {},
   "source": [
    "# Data visualisation"
   ]
  },
  {
   "cell_type": "code",
   "execution_count": null,
   "id": "5e06c6c1",
   "metadata": {},
   "outputs": [],
   "source": [
    "import matplotlib.pyplot as plt"
   ]
  },
  {
   "cell_type": "code",
   "execution_count": null,
   "id": "f3906ad3",
   "metadata": {},
   "outputs": [],
   "source": [
    "data['Close']"
   ]
  },
  {
   "cell_type": "code",
   "execution_count": null,
   "id": "de5e19b5",
   "metadata": {},
   "outputs": [],
   "source": [
    "data_close = data['Close'].values\n",
    "data_close"
   ]
  },
  {
   "cell_type": "code",
   "execution_count": null,
   "id": "28b5f23a",
   "metadata": {
    "scrolled": true
   },
   "outputs": [],
   "source": [
    "data_close = data_close.reshape((-1, 1))\n",
    "plt.plot(data_close)\n",
    "plt.show()"
   ]
  },
  {
   "cell_type": "markdown",
   "id": "d65e36e0",
   "metadata": {},
   "source": [
    "# Split data into train and test"
   ]
  },
  {
   "cell_type": "code",
   "execution_count": null,
   "id": "48a1380a",
   "metadata": {},
   "outputs": [],
   "source": [
    "train_size = int(len(data_close) * 0.8) # 80% of data will be for training\n",
    "\n",
    "data_train = data_close[:train_size]\n",
    "data_test = data_close[train_size:] # the rest will be for testing\n",
    "\n",
    "print('Train data size: ', len(data_train))\n",
    "print('Test data size: ', len(data_test))"
   ]
  },
  {
   "cell_type": "markdown",
   "id": "beb2b52d",
   "metadata": {},
   "source": [
    "# Create time series out of data"
   ]
  },
  {
   "cell_type": "code",
   "execution_count": null,
   "id": "12c2b700",
   "metadata": {},
   "outputs": [],
   "source": [
    "look_back = 15 # look back to the past 60 minutes (one hour) of the prices\n",
    "\n",
    "train_generator = TimeseriesGenerator(data_train, data_train, length=look_back, batch_size=64)     \n",
    "test_generator = TimeseriesGenerator(data_test, data_test, length=look_back, batch_size=1)"
   ]
  },
  {
   "cell_type": "markdown",
   "id": "9f88b2df",
   "metadata": {},
   "source": [
    "# Set up and build LSTM model"
   ]
  },
  {
   "cell_type": "code",
   "execution_count": null,
   "id": "4eb33ebd",
   "metadata": {},
   "outputs": [],
   "source": [
    "from keras.models import Sequential\n",
    "from keras.layers import LSTM, Dense, Dropout\n",
    "from keras.regularizers import L2"
   ]
  },
  {
   "cell_type": "code",
   "execution_count": null,
   "id": "5a4a6ee1",
   "metadata": {},
   "outputs": [],
   "source": [
    "# initialise model\n",
    "model = Sequential()\n",
    "# add layers\n",
    "model.add(LSTM(50, activation='relu', input_shape=(look_back, 1), recurrent_dropout=0.2))\n",
    "#model.add(Dropout(0.2, input_shape=(look_back, 1)))\n",
    "model.add(Dense(1))\n",
    "# compile model\n",
    "model.compile(loss='mse', optimizer='adam')"
   ]
  },
  {
   "cell_type": "code",
   "execution_count": null,
   "id": "44d7ebe5",
   "metadata": {},
   "outputs": [],
   "source": [
    "# fit the model\n",
    "num_epochs = 20\n",
    "model.fit(train_generator, epochs=num_epochs, verbose=1)"
   ]
  },
  {
   "cell_type": "code",
   "execution_count": null,
   "id": "6d283e1d",
   "metadata": {},
   "outputs": [],
   "source": [
    "prediction = model.predict(test_generator)\n",
    "\n",
    "data_train = data_train.reshape((-1))\n",
    "data_test = data_test.reshape((-1))\n",
    "prediction = prediction.reshape((-1))"
   ]
  },
  {
   "cell_type": "code",
   "execution_count": null,
   "id": "6f8e8b2f",
   "metadata": {},
   "outputs": [],
   "source": [
    "# Plot the predictions on a graph\n",
    "prediction_plot = np.empty_like(data_close.reshape((-1)))\n",
    "prediction_plot[:] = np.nan\n",
    "prediction_plot[(len(data_train) + look_back):] = prediction\n",
    "\n",
    "plt.plot(data_close)\n",
    "plt.plot(prediction_plot)\n",
    "plt.show()"
   ]
  },
  {
   "cell_type": "markdown",
   "id": "9585ec70",
   "metadata": {},
   "source": [
    "# Make forecast"
   ]
  },
  {
   "cell_type": "code",
   "execution_count": null,
   "id": "5ed6cae1",
   "metadata": {},
   "outputs": [],
   "source": [
    "data_close = data_close.reshape((-1))\n",
    "\n",
    "def predict(num_prediction, model):\n",
    "    prediction_list = data_close[-look_back:]\n",
    "    \n",
    "    for _ in range(num_prediction):\n",
    "        x = prediction_list[-look_back:]\n",
    "        x = x.reshape((1, look_back, 1))\n",
    "        out = model.predict(x)[0][0]\n",
    "        prediction_list = np.append(prediction_list, out)\n",
    "    prediction_list = prediction_list[look_back-1:]\n",
    "        \n",
    "    return prediction_list\n",
    "\n",
    "num_prediction = 100\n",
    "forecast = predict(num_prediction, model)"
   ]
  },
  {
   "cell_type": "code",
   "execution_count": null,
   "id": "27162e66",
   "metadata": {},
   "outputs": [],
   "source": [
    "forecast = forecast.reshape((-1))\n",
    "plt.plot(forecast)\n",
    "plt.show()"
   ]
  },
  {
   "cell_type": "code",
   "execution_count": null,
   "id": "d8d6b4a9",
   "metadata": {},
   "outputs": [],
   "source": [
    "data_forecast = np.append(data_close, forecast)"
   ]
  },
  {
   "cell_type": "code",
   "execution_count": null,
   "id": "e61b5ecb",
   "metadata": {},
   "outputs": [],
   "source": [
    "# Plot the predictions on a graph\n",
    "forecast_plot = np.empty_like(data_forecast)\n",
    "forecast_plot[:] = np.nan\n",
    "forecast_plot[len(data_close):] = forecast\n",
    "\n",
    "plt.plot(data_close)\n",
    "plt.plot(forecast_plot)\n",
    "plt.show()"
   ]
  }
 ],
 "metadata": {
  "kernelspec": {
   "display_name": "Python 3 (ipykernel)",
   "language": "python",
   "name": "python3"
  },
  "language_info": {
   "codemirror_mode": {
    "name": "ipython",
    "version": 3
   },
   "file_extension": ".py",
   "mimetype": "text/x-python",
   "name": "python",
   "nbconvert_exporter": "python",
   "pygments_lexer": "ipython3",
   "version": "3.10.1"
  }
 },
 "nbformat": 4,
 "nbformat_minor": 5
}
