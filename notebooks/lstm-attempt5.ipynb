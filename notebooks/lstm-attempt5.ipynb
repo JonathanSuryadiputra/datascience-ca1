{
 "cells": [
  {
   "cell_type": "markdown",
   "id": "8028ca5f",
   "metadata": {},
   "source": [
    "# Predicting BitCoin prices\n",
    "1. Get historic stock prices\n",
    "2. Extract prices to predict\n",
    "3. Normalise\n",
    "4. Create Time Series\n",
    "5. Build model\n",
    "6. Fit model\n",
    "7. Test and evaluate"
   ]
  },
  {
   "cell_type": "code",
   "execution_count": 1,
   "id": "f8782451",
   "metadata": {},
   "outputs": [],
   "source": [
    "# Change Keras backend\n",
    "from keras import backend as K\n",
    "import os\n",
    "os.environ['KERAS_BACKEND'] = \"cntk\""
   ]
  },
  {
   "cell_type": "code",
   "execution_count": 2,
   "id": "d0f05025",
   "metadata": {},
   "outputs": [],
   "source": [
    "# install dependencies\n",
    "import numpy as np\n",
    "import pandas as pd\n",
    "import matplotlib.pyplot as plt\n",
    "import math\n",
    "from keras.layers.core import Dense, Activation, Dropout\n",
    "from keras.layers.recurrent import LSTM\n",
    "from keras.models import Sequential\n",
    "from sklearn.model_selection import  train_test_split\n",
    "from sklearn.preprocessing import MinMaxScaler\n",
    "from sklearn.metrics import mean_squared_error"
   ]
  },
  {
   "cell_type": "code",
   "execution_count": 3,
   "id": "f4629748",
   "metadata": {},
   "outputs": [],
   "source": [
    "# 1. Get historic stock prices\n",
    "data = pd.read_csv(\"../datasets/BTC/gemini_BTCUSD_day.csv\")"
   ]
  },
  {
   "cell_type": "markdown",
   "id": "5f84e265",
   "metadata": {},
   "source": [
    "# Data review"
   ]
  },
  {
   "cell_type": "code",
   "execution_count": 4,
   "id": "dbd95fef",
   "metadata": {},
   "outputs": [
    {
     "data": {
      "text/html": [
       "<div>\n",
       "<style scoped>\n",
       "    .dataframe tbody tr th:only-of-type {\n",
       "        vertical-align: middle;\n",
       "    }\n",
       "\n",
       "    .dataframe tbody tr th {\n",
       "        vertical-align: top;\n",
       "    }\n",
       "\n",
       "    .dataframe thead th {\n",
       "        text-align: right;\n",
       "    }\n",
       "</style>\n",
       "<table border=\"1\" class=\"dataframe\">\n",
       "  <thead>\n",
       "    <tr style=\"text-align: right;\">\n",
       "      <th></th>\n",
       "      <th>Unix Timestamp</th>\n",
       "      <th>Date</th>\n",
       "      <th>Symbol</th>\n",
       "      <th>Open</th>\n",
       "      <th>High</th>\n",
       "      <th>Low</th>\n",
       "      <th>Close</th>\n",
       "      <th>Volume</th>\n",
       "    </tr>\n",
       "  </thead>\n",
       "  <tbody>\n",
       "    <tr>\n",
       "      <th>0</th>\n",
       "      <td>1.642390e+12</td>\n",
       "      <td>17/01/2022 04:00</td>\n",
       "      <td>BTCUSD</td>\n",
       "      <td>42655.12</td>\n",
       "      <td>42976.61</td>\n",
       "      <td>41559.11</td>\n",
       "      <td>42236.96</td>\n",
       "      <td>556.178715</td>\n",
       "    </tr>\n",
       "    <tr>\n",
       "      <th>1</th>\n",
       "      <td>1.642310e+12</td>\n",
       "      <td>16/01/2022 04:00</td>\n",
       "      <td>BTCUSD</td>\n",
       "      <td>43022.38</td>\n",
       "      <td>43499.99</td>\n",
       "      <td>42583.00</td>\n",
       "      <td>42655.12</td>\n",
       "      <td>622.078099</td>\n",
       "    </tr>\n",
       "    <tr>\n",
       "      <th>2</th>\n",
       "      <td>1.642220e+12</td>\n",
       "      <td>15/01/2022 04:00</td>\n",
       "      <td>BTCUSD</td>\n",
       "      <td>42947.72</td>\n",
       "      <td>43811.44</td>\n",
       "      <td>42590.52</td>\n",
       "      <td>43022.38</td>\n",
       "      <td>850.111677</td>\n",
       "    </tr>\n",
       "    <tr>\n",
       "      <th>3</th>\n",
       "      <td>1.642130e+12</td>\n",
       "      <td>14/01/2022 04:00</td>\n",
       "      <td>BTCUSD</td>\n",
       "      <td>42679.68</td>\n",
       "      <td>43462.53</td>\n",
       "      <td>41789.82</td>\n",
       "      <td>42947.72</td>\n",
       "      <td>800.802511</td>\n",
       "    </tr>\n",
       "    <tr>\n",
       "      <th>4</th>\n",
       "      <td>1.642050e+12</td>\n",
       "      <td>13/01/2022 04:00</td>\n",
       "      <td>BTCUSD</td>\n",
       "      <td>43525.85</td>\n",
       "      <td>44443.94</td>\n",
       "      <td>42326.63</td>\n",
       "      <td>42679.68</td>\n",
       "      <td>1120.790154</td>\n",
       "    </tr>\n",
       "  </tbody>\n",
       "</table>\n",
       "</div>"
      ],
      "text/plain": [
       "   Unix Timestamp              Date  Symbol      Open      High       Low  \\\n",
       "0    1.642390e+12  17/01/2022 04:00  BTCUSD  42655.12  42976.61  41559.11   \n",
       "1    1.642310e+12  16/01/2022 04:00  BTCUSD  43022.38  43499.99  42583.00   \n",
       "2    1.642220e+12  15/01/2022 04:00  BTCUSD  42947.72  43811.44  42590.52   \n",
       "3    1.642130e+12  14/01/2022 04:00  BTCUSD  42679.68  43462.53  41789.82   \n",
       "4    1.642050e+12  13/01/2022 04:00  BTCUSD  43525.85  44443.94  42326.63   \n",
       "\n",
       "      Close       Volume  \n",
       "0  42236.96   556.178715  \n",
       "1  42655.12   622.078099  \n",
       "2  43022.38   850.111677  \n",
       "3  42947.72   800.802511  \n",
       "4  42679.68  1120.790154  "
      ]
     },
     "execution_count": 4,
     "metadata": {},
     "output_type": "execute_result"
    }
   ],
   "source": [
    "data.head()"
   ]
  },
  {
   "cell_type": "code",
   "execution_count": 5,
   "id": "c29d96c3",
   "metadata": {},
   "outputs": [
    {
     "data": {
      "text/html": [
       "<div>\n",
       "<style scoped>\n",
       "    .dataframe tbody tr th:only-of-type {\n",
       "        vertical-align: middle;\n",
       "    }\n",
       "\n",
       "    .dataframe tbody tr th {\n",
       "        vertical-align: top;\n",
       "    }\n",
       "\n",
       "    .dataframe thead th {\n",
       "        text-align: right;\n",
       "    }\n",
       "</style>\n",
       "<table border=\"1\" class=\"dataframe\">\n",
       "  <thead>\n",
       "    <tr style=\"text-align: right;\">\n",
       "      <th></th>\n",
       "      <th>Unix Timestamp</th>\n",
       "      <th>Date</th>\n",
       "      <th>Symbol</th>\n",
       "      <th>Open</th>\n",
       "      <th>High</th>\n",
       "      <th>Low</th>\n",
       "      <th>Close</th>\n",
       "      <th>Volume</th>\n",
       "    </tr>\n",
       "  </thead>\n",
       "  <tbody>\n",
       "    <tr>\n",
       "      <th>2289</th>\n",
       "      <td>1.444622e+09</td>\n",
       "      <td>12/10/2015 04:00</td>\n",
       "      <td>BTCUSD</td>\n",
       "      <td>248.98</td>\n",
       "      <td>248.98</td>\n",
       "      <td>245.75</td>\n",
       "      <td>245.75</td>\n",
       "      <td>71.047743</td>\n",
       "    </tr>\n",
       "    <tr>\n",
       "      <th>2290</th>\n",
       "      <td>1.444536e+09</td>\n",
       "      <td>11/10/2015 04:00</td>\n",
       "      <td>BTCUSD</td>\n",
       "      <td>246.30</td>\n",
       "      <td>249.50</td>\n",
       "      <td>245.96</td>\n",
       "      <td>248.98</td>\n",
       "      <td>22.747091</td>\n",
       "    </tr>\n",
       "    <tr>\n",
       "      <th>2291</th>\n",
       "      <td>1.444450e+09</td>\n",
       "      <td>10/10/2015 04:00</td>\n",
       "      <td>BTCUSD</td>\n",
       "      <td>245.51</td>\n",
       "      <td>246.30</td>\n",
       "      <td>244.60</td>\n",
       "      <td>246.30</td>\n",
       "      <td>30.870549</td>\n",
       "    </tr>\n",
       "    <tr>\n",
       "      <th>2292</th>\n",
       "      <td>1.444363e+09</td>\n",
       "      <td>09/10/2015 04:00</td>\n",
       "      <td>BTCUSD</td>\n",
       "      <td>243.60</td>\n",
       "      <td>249.97</td>\n",
       "      <td>243.60</td>\n",
       "      <td>245.51</td>\n",
       "      <td>61.587068</td>\n",
       "    </tr>\n",
       "    <tr>\n",
       "      <th>2293</th>\n",
       "      <td>1.444277e+09</td>\n",
       "      <td>08/10/2015 04:00</td>\n",
       "      <td>BTCUSD</td>\n",
       "      <td>0.00</td>\n",
       "      <td>245.00</td>\n",
       "      <td>0.00</td>\n",
       "      <td>243.60</td>\n",
       "      <td>34.754703</td>\n",
       "    </tr>\n",
       "  </tbody>\n",
       "</table>\n",
       "</div>"
      ],
      "text/plain": [
       "      Unix Timestamp              Date  Symbol    Open    High     Low  \\\n",
       "2289    1.444622e+09  12/10/2015 04:00  BTCUSD  248.98  248.98  245.75   \n",
       "2290    1.444536e+09  11/10/2015 04:00  BTCUSD  246.30  249.50  245.96   \n",
       "2291    1.444450e+09  10/10/2015 04:00  BTCUSD  245.51  246.30  244.60   \n",
       "2292    1.444363e+09  09/10/2015 04:00  BTCUSD  243.60  249.97  243.60   \n",
       "2293    1.444277e+09  08/10/2015 04:00  BTCUSD    0.00  245.00    0.00   \n",
       "\n",
       "       Close     Volume  \n",
       "2289  245.75  71.047743  \n",
       "2290  248.98  22.747091  \n",
       "2291  246.30  30.870549  \n",
       "2292  245.51  61.587068  \n",
       "2293  243.60  34.754703  "
      ]
     },
     "execution_count": 5,
     "metadata": {},
     "output_type": "execute_result"
    }
   ],
   "source": [
    "data.tail()"
   ]
  },
  {
   "cell_type": "code",
   "execution_count": 6,
   "id": "b9f6c231",
   "metadata": {},
   "outputs": [
    {
     "data": {
      "text/plain": [
       "Index(['Unix Timestamp', 'Date', 'Symbol', 'Open', 'High', 'Low', 'Close',\n",
       "       'Volume'],\n",
       "      dtype='object')"
      ]
     },
     "execution_count": 6,
     "metadata": {},
     "output_type": "execute_result"
    }
   ],
   "source": [
    "data.columns"
   ]
  },
  {
   "cell_type": "code",
   "execution_count": 7,
   "id": "bf77ee32",
   "metadata": {},
   "outputs": [
    {
     "data": {
      "text/plain": [
       "(2294, 8)"
      ]
     },
     "execution_count": 7,
     "metadata": {},
     "output_type": "execute_result"
    }
   ],
   "source": [
    "data.shape"
   ]
  },
  {
   "cell_type": "code",
   "execution_count": 8,
   "id": "d164287d",
   "metadata": {},
   "outputs": [
    {
     "data": {
      "text/html": [
       "<div>\n",
       "<style scoped>\n",
       "    .dataframe tbody tr th:only-of-type {\n",
       "        vertical-align: middle;\n",
       "    }\n",
       "\n",
       "    .dataframe tbody tr th {\n",
       "        vertical-align: top;\n",
       "    }\n",
       "\n",
       "    .dataframe thead th {\n",
       "        text-align: right;\n",
       "    }\n",
       "</style>\n",
       "<table border=\"1\" class=\"dataframe\">\n",
       "  <thead>\n",
       "    <tr style=\"text-align: right;\">\n",
       "      <th></th>\n",
       "      <th>Unix Timestamp</th>\n",
       "      <th>Open</th>\n",
       "      <th>High</th>\n",
       "      <th>Low</th>\n",
       "      <th>Close</th>\n",
       "      <th>Volume</th>\n",
       "    </tr>\n",
       "  </thead>\n",
       "  <tbody>\n",
       "    <tr>\n",
       "      <th>count</th>\n",
       "      <td>2.294000e+03</td>\n",
       "      <td>2294.000000</td>\n",
       "      <td>2294.000000</td>\n",
       "      <td>2294.000000</td>\n",
       "      <td>2294.000000</td>\n",
       "      <td>2294.000000</td>\n",
       "    </tr>\n",
       "    <tr>\n",
       "      <th>mean</th>\n",
       "      <td>1.024187e+12</td>\n",
       "      <td>12722.012114</td>\n",
       "      <td>13108.516923</td>\n",
       "      <td>12303.776343</td>\n",
       "      <td>12740.362232</td>\n",
       "      <td>3295.914739</td>\n",
       "    </tr>\n",
       "    <tr>\n",
       "      <th>std</th>\n",
       "      <td>7.534501e+11</td>\n",
       "      <td>16478.841063</td>\n",
       "      <td>16964.858246</td>\n",
       "      <td>15924.984388</td>\n",
       "      <td>16488.219110</td>\n",
       "      <td>3943.861293</td>\n",
       "    </tr>\n",
       "    <tr>\n",
       "      <th>min</th>\n",
       "      <td>1.444277e+09</td>\n",
       "      <td>0.000000</td>\n",
       "      <td>245.000000</td>\n",
       "      <td>0.000000</td>\n",
       "      <td>243.600000</td>\n",
       "      <td>0.000000</td>\n",
       "    </tr>\n",
       "    <tr>\n",
       "      <th>25%</th>\n",
       "      <td>1.493806e+09</td>\n",
       "      <td>1483.927500</td>\n",
       "      <td>1595.432500</td>\n",
       "      <td>1452.495000</td>\n",
       "      <td>1532.860000</td>\n",
       "      <td>1085.154706</td>\n",
       "    </tr>\n",
       "    <tr>\n",
       "      <th>50%</th>\n",
       "      <td>1.543335e+12</td>\n",
       "      <td>7184.905000</td>\n",
       "      <td>7370.310000</td>\n",
       "      <td>7027.920000</td>\n",
       "      <td>7184.905000</td>\n",
       "      <td>1996.688422</td>\n",
       "    </tr>\n",
       "    <tr>\n",
       "      <th>75%</th>\n",
       "      <td>1.592860e+12</td>\n",
       "      <td>11262.255000</td>\n",
       "      <td>11540.385000</td>\n",
       "      <td>10814.762500</td>\n",
       "      <td>11279.122500</td>\n",
       "      <td>3823.033654</td>\n",
       "    </tr>\n",
       "    <tr>\n",
       "      <th>max</th>\n",
       "      <td>1.642390e+12</td>\n",
       "      <td>68525.750000</td>\n",
       "      <td>69000.000000</td>\n",
       "      <td>66262.480000</td>\n",
       "      <td>68525.750000</td>\n",
       "      <td>54142.433520</td>\n",
       "    </tr>\n",
       "  </tbody>\n",
       "</table>\n",
       "</div>"
      ],
      "text/plain": [
       "       Unix Timestamp          Open          High           Low         Close  \\\n",
       "count    2.294000e+03   2294.000000   2294.000000   2294.000000   2294.000000   \n",
       "mean     1.024187e+12  12722.012114  13108.516923  12303.776343  12740.362232   \n",
       "std      7.534501e+11  16478.841063  16964.858246  15924.984388  16488.219110   \n",
       "min      1.444277e+09      0.000000    245.000000      0.000000    243.600000   \n",
       "25%      1.493806e+09   1483.927500   1595.432500   1452.495000   1532.860000   \n",
       "50%      1.543335e+12   7184.905000   7370.310000   7027.920000   7184.905000   \n",
       "75%      1.592860e+12  11262.255000  11540.385000  10814.762500  11279.122500   \n",
       "max      1.642390e+12  68525.750000  69000.000000  66262.480000  68525.750000   \n",
       "\n",
       "             Volume  \n",
       "count   2294.000000  \n",
       "mean    3295.914739  \n",
       "std     3943.861293  \n",
       "min        0.000000  \n",
       "25%     1085.154706  \n",
       "50%     1996.688422  \n",
       "75%     3823.033654  \n",
       "max    54142.433520  "
      ]
     },
     "execution_count": 8,
     "metadata": {},
     "output_type": "execute_result"
    }
   ],
   "source": [
    "data.describe()"
   ]
  },
  {
   "cell_type": "code",
   "execution_count": 9,
   "id": "6f9268fa",
   "metadata": {},
   "outputs": [
    {
     "data": {
      "text/plain": [
       "Unix Timestamp    float64\n",
       "Date               object\n",
       "Symbol             object\n",
       "Open              float64\n",
       "High              float64\n",
       "Low               float64\n",
       "Close             float64\n",
       "Volume            float64\n",
       "dtype: object"
      ]
     },
     "execution_count": 9,
     "metadata": {},
     "output_type": "execute_result"
    }
   ],
   "source": [
    "data.dtypes"
   ]
  },
  {
   "cell_type": "code",
   "execution_count": 10,
   "id": "08a84f3d",
   "metadata": {},
   "outputs": [
    {
     "name": "stdout",
     "output_type": "stream",
     "text": [
      "<class 'pandas.core.frame.DataFrame'>\n",
      "Float64Index: 2294 entries, 1642390000000.0 to 1444276800.0\n",
      "Data columns (total 7 columns):\n",
      " #   Column  Non-Null Count  Dtype  \n",
      "---  ------  --------------  -----  \n",
      " 0   Date    2294 non-null   object \n",
      " 1   Symbol  2294 non-null   object \n",
      " 2   Open    2294 non-null   float64\n",
      " 3   High    2294 non-null   float64\n",
      " 4   Low     2294 non-null   float64\n",
      " 5   Close   2294 non-null   float64\n",
      " 6   Volume  2294 non-null   float64\n",
      "dtypes: float64(5), object(2)\n",
      "memory usage: 143.4+ KB\n"
     ]
    }
   ],
   "source": [
    "data.set_index('Unix Timestamp', inplace=True)\n",
    "data.info()"
   ]
  },
  {
   "cell_type": "code",
   "execution_count": 11,
   "id": "31dd2f9b",
   "metadata": {},
   "outputs": [],
   "source": [
    "data.sort_index(inplace=True)"
   ]
  },
  {
   "cell_type": "code",
   "execution_count": 12,
   "id": "28b5f23a",
   "metadata": {},
   "outputs": [
    {
     "data": {
      "image/png": "[encoded data removed]",
      "text/plain": [
       "<Figure size 432x288 with 1 Axes>"
      ]
     },
     "metadata": {
      "needs_background": "light"
     },
     "output_type": "display_data"
    }
   ],
   "source": [
    "data_close = data['Close']\n",
    "data_close = data_close.values.reshape(len(data_close), 1)\n",
    "plt.plot(data_close)\n",
    "plt.show()"
   ]
  },
  {
   "cell_type": "code",
   "execution_count": 13,
   "id": "bc8ae7f5",
   "metadata": {},
   "outputs": [],
   "source": [
    "scaler = MinMaxScaler(feature_range=(0,1))"
   ]
  },
  {
   "cell_type": "code",
   "execution_count": 14,
   "id": "2ff19af5",
   "metadata": {},
   "outputs": [
    {
     "data": {
      "text/plain": [
       "array([[0.00000000e+00],\n",
       "       [2.79721714e-05],\n",
       "       [3.95418129e-05],\n",
       "       ...,\n",
       "       [6.26500191e-01],\n",
       "       [6.21121625e-01],\n",
       "       [6.14997624e-01]])"
      ]
     },
     "execution_count": 14,
     "metadata": {},
     "output_type": "execute_result"
    }
   ],
   "source": [
    "data_close = scaler.fit_transform(data_close)\n",
    "data_close"
   ]
  },
  {
   "cell_type": "code",
   "execution_count": 15,
   "id": "88ec16fc",
   "metadata": {},
   "outputs": [
    {
     "name": "stdout",
     "output_type": "stream",
     "text": [
      "Split data into train and test:  1605 689\n"
     ]
    }
   ],
   "source": [
    "# split data into train and test\n",
    "train_size = int(len(data_close)*0.7)\n",
    "test_size = len(data_close) - train_size\n",
    "\n",
    "data_train, data_test = data_close[0:train_size, :], data_close[train_size:len(data_close), :]\n",
    "print('Split data into train and test: ', len(data_train), len(data_test))"
   ]
  },
  {
   "cell_type": "code",
   "execution_count": 16,
   "id": "b8290fd5",
   "metadata": {},
   "outputs": [],
   "source": [
    "# need to now convert the data into time series looking back over a period of days...e.g. use last 7 days to predict price\n",
    "def create_ts(ds, series):\n",
    "    X, Y =[], []\n",
    "    for i in range(len(ds)-series - 1):\n",
    "        item = ds[i:(i+series), 0]\n",
    "        X.append(item)\n",
    "        Y.append(ds[i+series, 0])\n",
    "    return np.array(X), np.array(Y)\n",
    "\n",
    "series = 7\n",
    "\n",
    "trainX, trainY = create_ts(data_train, series)\n",
    "testX, testY = create_ts(data_test, series)"
   ]
  },
  {
   "cell_type": "code",
   "execution_count": 17,
   "id": "15ba7715",
   "metadata": {},
   "outputs": [
    {
     "data": {
      "text/plain": [
       "array([[0.00000000e+00, 2.79721714e-05, 3.95418129e-05, ...,\n",
       "        3.14869992e-05, 1.08373858e-04, 1.60949824e-04],\n",
       "       [2.79721714e-05, 3.95418129e-05, 7.87907235e-05, ...,\n",
       "        1.08373858e-04, 1.60949824e-04, 1.99027125e-04],\n",
       "       [3.95418129e-05, 7.87907235e-05, 3.14869992e-05, ...,\n",
       "        1.60949824e-04, 1.99027125e-04, 3.86631060e-04],\n",
       "       ...,\n",
       "       [1.45340034e-01, 1.36685063e-01, 1.38761301e-01, ...,\n",
       "        1.39916801e-01, 1.39757902e-01, 1.36910745e-01],\n",
       "       [1.36685063e-01, 1.38761301e-01, 1.38276987e-01, ...,\n",
       "        1.39757902e-01, 1.36910745e-01, 1.30435260e-01],\n",
       "       [1.38761301e-01, 1.38276987e-01, 1.39916801e-01, ...,\n",
       "        1.36910745e-01, 1.30435260e-01, 1.24299542e-01]])"
      ]
     },
     "execution_count": 17,
     "metadata": {},
     "output_type": "execute_result"
    }
   ],
   "source": [
    "trainX"
   ]
  },
  {
   "cell_type": "code",
   "execution_count": 18,
   "id": "b41c1c69",
   "metadata": {},
   "outputs": [
    {
     "data": {
      "text/plain": [
       "array([0.00000000e+00, 2.79721714e-05, 3.95418129e-05, 7.87907235e-05,\n",
       "       3.14869992e-05, 1.08373858e-04, 1.60949824e-04])"
      ]
     },
     "execution_count": 18,
     "metadata": {},
     "output_type": "execute_result"
    }
   ],
   "source": [
    "trainX[0]"
   ]
  },
  {
   "cell_type": "code",
   "execution_count": 24,
   "id": "288e14ff",
   "metadata": {},
   "outputs": [
    {
     "data": {
      "text/plain": [
       "array([[ 257.19,  270.  ,  269.26, ..., 9150.  , 8731.04, 8846.  ]])"
      ]
     },
     "execution_count": 24,
     "metadata": {},
     "output_type": "execute_result"
    }
   ],
   "source": [
    "trainY"
   ]
  },
  {
   "cell_type": "code",
   "execution_count": 26,
   "id": "fa4d62c2",
   "metadata": {},
   "outputs": [
    {
     "data": {
      "text/plain": [
       "array([ 257.19,  270.  ,  269.26, ..., 9150.  , 8731.04, 8846.  ])"
      ]
     },
     "execution_count": 26,
     "metadata": {},
     "output_type": "execute_result"
    }
   ],
   "source": [
    "trainY[0]"
   ]
  },
  {
   "cell_type": "code",
   "execution_count": 19,
   "id": "8da6cc4e",
   "metadata": {},
   "outputs": [],
   "source": [
    "# reshape into  LSTM format - samples, steps, features\n",
    "trainX = np.reshape(trainX, (trainX.shape[0], trainX.shape[1], 1))\n",
    "testX = np.reshape(testX, (testX.shape[0], testX.shape[1], 1))"
   ]
  },
  {
   "cell_type": "code",
   "execution_count": 20,
   "id": "87bd8996",
   "metadata": {},
   "outputs": [
    {
     "name": "stdout",
     "output_type": "stream",
     "text": [
      "Epoch 1/100\n",
      "50/50 [==============================] - 2s 5ms/step - loss: 9.0344e-04\n",
      "Epoch 2/100\n",
      "50/50 [==============================] - 0s 4ms/step - loss: 3.1255e-04\n",
      "Epoch 3/100\n",
      "50/50 [==============================] - 0s 4ms/step - loss: 6.8288e-05\n",
      "Epoch 4/100\n",
      "50/50 [==============================] - 0s 5ms/step - loss: 4.4146e-05\n",
      "Epoch 5/100\n",
      "50/50 [==============================] - 0s 4ms/step - loss: 4.4720e-05\n",
      "Epoch 6/100\n",
      "50/50 [==============================] - 0s 4ms/step - loss: 4.4150e-05\n",
      "Epoch 7/100\n",
      "50/50 [==============================] - 0s 5ms/step - loss: 4.4562e-05\n",
      "Epoch 8/100\n",
      "50/50 [==============================] - 0s 5ms/step - loss: 4.3981e-05\n",
      "Epoch 9/100\n",
      "50/50 [==============================] - 0s 4ms/step - loss: 4.5403e-05\n",
      "Epoch 10/100\n",
      "50/50 [==============================] - 0s 6ms/step - loss: 4.3671e-05\n",
      "Epoch 11/100\n",
      "50/50 [==============================] - 0s 5ms/step - loss: 4.4659e-05\n",
      "Epoch 12/100\n",
      "50/50 [==============================] - 0s 4ms/step - loss: 4.3756e-05\n",
      "Epoch 13/100\n",
      "50/50 [==============================] - 0s 3ms/step - loss: 4.3235e-05\n",
      "Epoch 14/100\n",
      "50/50 [==============================] - 0s 3ms/step - loss: 4.3706e-05\n",
      "Epoch 15/100\n",
      "50/50 [==============================] - 0s 4ms/step - loss: 4.2813e-05\n",
      "Epoch 16/100\n",
      "50/50 [==============================] - 0s 3ms/step - loss: 4.3076e-05\n",
      "Epoch 17/100\n",
      "50/50 [==============================] - 0s 3ms/step - loss: 4.2927e-05\n",
      "Epoch 18/100\n",
      "50/50 [==============================] - 0s 4ms/step - loss: 4.2874e-05\n",
      "Epoch 19/100\n",
      "50/50 [==============================] - 0s 4ms/step - loss: 4.3906e-05\n",
      "Epoch 20/100\n",
      "50/50 [==============================] - 0s 5ms/step - loss: 4.2864e-05\n",
      "Epoch 21/100\n",
      "50/50 [==============================] - 0s 4ms/step - loss: 4.2486e-05\n",
      "Epoch 22/100\n",
      "50/50 [==============================] - 0s 4ms/step - loss: 4.2808e-05\n",
      "Epoch 23/100\n",
      "50/50 [==============================] - 0s 5ms/step - loss: 4.4806e-05\n",
      "Epoch 24/100\n",
      "50/50 [==============================] - 0s 6ms/step - loss: 4.3933e-05\n",
      "Epoch 25/100\n",
      "50/50 [==============================] - 0s 6ms/step - loss: 4.3668e-05\n",
      "Epoch 26/100\n",
      "50/50 [==============================] - 0s 6ms/step - loss: 4.3176e-05\n",
      "Epoch 27/100\n",
      "50/50 [==============================] - 0s 4ms/step - loss: 4.3101e-05\n",
      "Epoch 28/100\n",
      "50/50 [==============================] - 0s 3ms/step - loss: 4.1919e-05\n",
      "Epoch 29/100\n",
      "50/50 [==============================] - 0s 3ms/step - loss: 4.2344e-05\n",
      "Epoch 30/100\n",
      "50/50 [==============================] - 0s 4ms/step - loss: 4.2134e-05\n",
      "Epoch 31/100\n",
      "50/50 [==============================] - 0s 4ms/step - loss: 4.0802e-05\n",
      "Epoch 32/100\n",
      "50/50 [==============================] - 0s 5ms/step - loss: 4.0993e-05\n",
      "Epoch 33/100\n",
      "50/50 [==============================] - 0s 5ms/step - loss: 4.0285e-05\n",
      "Epoch 34/100\n",
      "50/50 [==============================] - 0s 5ms/step - loss: 4.0299e-05\n",
      "Epoch 35/100\n",
      "50/50 [==============================] - 0s 5ms/step - loss: 4.0803e-05\n",
      "Epoch 36/100\n",
      "50/50 [==============================] - 0s 4ms/step - loss: 4.0499e-05\n",
      "Epoch 37/100\n",
      "50/50 [==============================] - 0s 4ms/step - loss: 4.0844e-05\n",
      "Epoch 38/100\n",
      "50/50 [==============================] - 0s 4ms/step - loss: 3.9807e-05\n",
      "Epoch 39/100\n",
      "50/50 [==============================] - 0s 4ms/step - loss: 3.9964e-05\n",
      "Epoch 40/100\n",
      "50/50 [==============================] - 0s 4ms/step - loss: 3.9392e-05\n",
      "Epoch 41/100\n",
      "50/50 [==============================] - 0s 4ms/step - loss: 3.9418e-05\n",
      "Epoch 42/100\n",
      "50/50 [==============================] - 0s 4ms/step - loss: 3.9614e-05\n",
      "Epoch 43/100\n",
      "50/50 [==============================] - 0s 4ms/step - loss: 3.8717e-05\n",
      "Epoch 44/100\n",
      "50/50 [==============================] - 0s 3ms/step - loss: 3.9137e-05\n",
      "Epoch 45/100\n",
      "50/50 [==============================] - 0s 4ms/step - loss: 3.9323e-05\n",
      "Epoch 46/100\n",
      "50/50 [==============================] - 0s 4ms/step - loss: 3.8443e-05\n",
      "Epoch 47/100\n",
      "50/50 [==============================] - 0s 4ms/step - loss: 3.8472e-05\n",
      "Epoch 48/100\n",
      "50/50 [==============================] - 0s 4ms/step - loss: 3.7985e-05\n",
      "Epoch 49/100\n",
      "50/50 [==============================] - 0s 4ms/step - loss: 3.8394e-05\n",
      "Epoch 50/100\n",
      "50/50 [==============================] - 0s 4ms/step - loss: 3.8168e-05\n",
      "Epoch 51/100\n",
      "50/50 [==============================] - 0s 4ms/step - loss: 3.7750e-05\n",
      "Epoch 52/100\n",
      "50/50 [==============================] - 0s 5ms/step - loss: 3.8234e-05\n",
      "Epoch 53/100\n",
      "50/50 [==============================] - 0s 4ms/step - loss: 3.8546e-05\n",
      "Epoch 54/100\n",
      "50/50 [==============================] - 0s 4ms/step - loss: 3.7579e-05\n",
      "Epoch 55/100\n",
      "50/50 [==============================] - 0s 4ms/step - loss: 3.7326e-05\n",
      "Epoch 56/100\n",
      "50/50 [==============================] - 0s 5ms/step - loss: 3.6196e-05\n",
      "Epoch 57/100\n",
      "50/50 [==============================] - 0s 5ms/step - loss: 3.7107e-05\n",
      "Epoch 58/100\n",
      "50/50 [==============================] - 0s 5ms/step - loss: 3.7243e-05\n",
      "Epoch 59/100\n",
      "50/50 [==============================] - 0s 4ms/step - loss: 3.6052e-05\n",
      "Epoch 60/100\n",
      "50/50 [==============================] - 0s 4ms/step - loss: 3.5845e-05\n",
      "Epoch 61/100\n",
      "50/50 [==============================] - 0s 3ms/step - loss: 3.5887e-05\n",
      "Epoch 62/100\n",
      "50/50 [==============================] - 0s 4ms/step - loss: 3.6615e-05\n",
      "Epoch 63/100\n",
      "50/50 [==============================] - 0s 3ms/step - loss: 3.5441e-05\n",
      "Epoch 64/100\n",
      "50/50 [==============================] - 0s 4ms/step - loss: 3.5742e-05\n",
      "Epoch 65/100\n",
      "50/50 [==============================] - 0s 4ms/step - loss: 3.5604e-05\n",
      "Epoch 66/100\n",
      "50/50 [==============================] - 0s 5ms/step - loss: 3.5625e-05\n",
      "Epoch 67/100\n",
      "50/50 [==============================] - 0s 4ms/step - loss: 3.4963e-05\n",
      "Epoch 68/100\n",
      "50/50 [==============================] - 0s 4ms/step - loss: 3.5693e-05\n",
      "Epoch 69/100\n",
      "50/50 [==============================] - 0s 4ms/step - loss: 3.4932e-05\n",
      "Epoch 70/100\n",
      "50/50 [==============================] - 0s 4ms/step - loss: 3.4736e-05\n",
      "Epoch 71/100\n",
      "50/50 [==============================] - 0s 4ms/step - loss: 3.4582e-05\n",
      "Epoch 72/100\n",
      "50/50 [==============================] - 0s 3ms/step - loss: 3.3538e-05\n",
      "Epoch 73/100\n",
      "50/50 [==============================] - 0s 4ms/step - loss: 3.3487e-05\n",
      "Epoch 74/100\n",
      "50/50 [==============================] - 0s 4ms/step - loss: 3.4095e-05\n",
      "Epoch 75/100\n",
      "50/50 [==============================] - 0s 3ms/step - loss: 3.3297e-05\n",
      "Epoch 76/100\n",
      "50/50 [==============================] - 0s 4ms/step - loss: 3.3476e-05\n",
      "Epoch 77/100\n",
      "50/50 [==============================] - 0s 4ms/step - loss: 3.3207e-05\n",
      "Epoch 78/100\n",
      "50/50 [==============================] - 0s 4ms/step - loss: 3.2121e-05\n",
      "Epoch 79/100\n",
      "50/50 [==============================] - 0s 4ms/step - loss: 3.2402e-05\n",
      "Epoch 80/100\n",
      "50/50 [==============================] - 0s 4ms/step - loss: 3.2159e-05\n",
      "Epoch 81/100\n",
      "50/50 [==============================] - 0s 4ms/step - loss: 3.2216e-05\n",
      "Epoch 82/100\n",
      "50/50 [==============================] - 0s 3ms/step - loss: 3.1776e-05\n",
      "Epoch 83/100\n",
      "50/50 [==============================] - 0s 4ms/step - loss: 3.3066e-05\n",
      "Epoch 84/100\n",
      "50/50 [==============================] - 0s 3ms/step - loss: 3.1567e-05\n",
      "Epoch 85/100\n",
      "50/50 [==============================] - 0s 4ms/step - loss: 3.1717e-05\n",
      "Epoch 86/100\n",
      "50/50 [==============================] - 0s 4ms/step - loss: 3.2062e-05\n",
      "Epoch 87/100\n",
      "50/50 [==============================] - 0s 4ms/step - loss: 3.2470e-05\n",
      "Epoch 88/100\n",
      "50/50 [==============================] - 0s 3ms/step - loss: 3.1136e-05\n",
      "Epoch 89/100\n",
      "50/50 [==============================] - 0s 4ms/step - loss: 3.0518e-05\n",
      "Epoch 90/100\n",
      "50/50 [==============================] - 0s 3ms/step - loss: 3.1409e-05\n",
      "Epoch 91/100\n",
      "50/50 [==============================] - 0s 3ms/step - loss: 3.1720e-05\n",
      "Epoch 92/100\n",
      "50/50 [==============================] - 0s 3ms/step - loss: 3.1522e-05\n",
      "Epoch 93/100\n",
      "50/50 [==============================] - 0s 4ms/step - loss: 3.1419e-05\n",
      "Epoch 94/100\n",
      "50/50 [==============================] - 0s 4ms/step - loss: 3.1873e-05\n",
      "Epoch 95/100\n",
      "50/50 [==============================] - 0s 3ms/step - loss: 3.0303e-05\n",
      "Epoch 96/100\n",
      "50/50 [==============================] - 0s 3ms/step - loss: 2.9950e-05\n",
      "Epoch 97/100\n"
     ]
    },
    {
     "name": "stdout",
     "output_type": "stream",
     "text": [
      "50/50 [==============================] - 0s 4ms/step - loss: 2.9291e-05\n",
      "Epoch 98/100\n",
      "50/50 [==============================] - 0s 3ms/step - loss: 2.8534e-05\n",
      "Epoch 99/100\n",
      "50/50 [==============================] - 0s 3ms/step - loss: 2.9512e-05\n",
      "Epoch 100/100\n",
      "50/50 [==============================] - 0s 3ms/step - loss: 2.8747e-05\n"
     ]
    },
    {
     "data": {
      "text/plain": [
       "<keras.callbacks.History at 0x1ceace6a080>"
      ]
     },
     "execution_count": 20,
     "metadata": {},
     "output_type": "execute_result"
    }
   ],
   "source": [
    "# build the model\n",
    "model = Sequential()\n",
    "model.add(LSTM(4, input_shape=(series, 1)))\n",
    "model.add(Dense(1))\n",
    "model.compile(loss='mse', optimizer='adam')\n",
    "# fit the model\n",
    "model.fit(trainX, trainY, epochs=100, batch_size=32)"
   ]
  },
  {
   "cell_type": "code",
   "execution_count": 21,
   "id": "84ec19d5",
   "metadata": {},
   "outputs": [],
   "source": [
    "# test the model out\n",
    "trainPredictions = model.predict(trainX)\n",
    "testPredictions = model.predict(testX)\n",
    "\n",
    "# unscale predictions\n",
    "trainPredictions = scaler.inverse_transform(trainPredictions)\n",
    "testPredictions = scaler.inverse_transform(testPredictions)\n",
    "trainY = scaler.inverse_transform([trainY])\n",
    "testY = scaler.inverse_transform([testY])"
   ]
  },
  {
   "cell_type": "code",
   "execution_count": 22,
   "id": "5ad9709a",
   "metadata": {},
   "outputs": [
    {
     "name": "stdout",
     "output_type": "stream",
     "text": [
      "Train score: %.2f rmse 359.53528491686234\n",
      "Test score: %.2f rmse 3769.7538161935463\n"
     ]
    }
   ],
   "source": [
    "# Calculate the root mean squared error\n",
    "trainScore = math.sqrt(mean_squared_error(trainY[0], trainPredictions[:, 0]))\n",
    "testScore = math.sqrt(mean_squared_error(testY[0], testPredictions[:, 0]))\n",
    "print('Train score: %.2f rmse', trainScore)\n",
    "print('Test score: %.2f rmse', testScore)"
   ]
  },
  {
   "cell_type": "code",
   "execution_count": 23,
   "id": "954c9442",
   "metadata": {},
   "outputs": [
    {
     "data": {
      "image/png": "[encoded data removed]",
      "text/plain": [
       "<Figure size 432x288 with 1 Axes>"
      ]
     },
     "metadata": {
      "needs_background": "light"
     },
     "output_type": "display_data"
    }
   ],
   "source": [
    "# Plot the predictions on a graph\n",
    "train_plot = np.empty_like(data_close)\n",
    "train_plot[:,:] = np.nan\n",
    "train_plot[series:len(trainPredictions)+series, :] = trainPredictions\n",
    "\n",
    "test_plot = np.empty_like(data_close)\n",
    "test_plot[:,:] = np.nan\n",
    "test_plot[len(trainPredictions)+(series*2)+1:len(data_close)-1, :] = testPredictions\n",
    "\n",
    "plt.plot(scaler.inverse_transform(data_close))\n",
    "plt.plot(train_plot)\n",
    "plt.plot(test_plot)\n",
    "plt.show()"
   ]
  }
 ],
 "metadata": {
  "kernelspec": {
   "display_name": "Python 3 (ipykernel)",
   "language": "python",
   "name": "python3"
  },
  "language_info": {
   "codemirror_mode": {
    "name": "ipython",
    "version": 3
   },
   "file_extension": ".py",
   "mimetype": "text/x-python",
   "name": "python",
   "nbconvert_exporter": "python",
   "pygments_lexer": "ipython3",
   "version": "3.10.1"
  }
 },
 "nbformat": 4,
 "nbformat_minor": 5
}
