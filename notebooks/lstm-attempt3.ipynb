{
 "cells": [
  {
   "cell_type": "markdown",
   "id": "146a37c4",
   "metadata": {},
   "source": [
    "# Details\n",
    "<b>Model:</b> LSTM RNN Approach <br>\n",
    "<b>Dataset:</b> BTC 2015-2021 Daily Price <br>\n",
    "<b>Accuracy:</b> "
   ]
  },
  {
   "cell_type": "markdown",
   "id": "8473e118",
   "metadata": {},
   "source": [
    "# Import dependencies"
   ]
  },
  {
   "cell_type": "code",
   "execution_count": 1,
   "id": "d2a74887",
   "metadata": {},
   "outputs": [],
   "source": [
    "# Change Keras backend\n",
    "from keras import backend as K\n",
    "import os\n",
    "os.environ['KERAS_BACKEND'] = \"cntk\""
   ]
  },
  {
   "cell_type": "code",
   "execution_count": 18,
   "id": "9748c231",
   "metadata": {},
   "outputs": [],
   "source": [
    "# install dependencies\n",
    "import numpy as np\n",
    "import pandas as pd\n",
    "import matplotlib.pyplot as plt\n",
    "import math\n",
    "from keras.layers.core import Dense, Activation, Dropout\n",
    "from keras.layers.recurrent import LSTM\n",
    "from keras.models import Sequential\n",
    "from sklearn.model_selection import  train_test_split\n",
    "from sklearn.preprocessing import MinMaxScaler\n",
    "from sklearn.metrics import mean_squared_error"
   ]
  },
  {
   "cell_type": "markdown",
   "id": "fd92c432",
   "metadata": {},
   "source": [
    "# Combine and explore dataset"
   ]
  },
  {
   "cell_type": "code",
   "execution_count": 3,
   "id": "ea128dff",
   "metadata": {},
   "outputs": [],
   "source": [
    "df = pd.read_csv(\"../datasets/BTC/gemini_BTCUSD_day.csv\")"
   ]
  },
  {
   "cell_type": "code",
   "execution_count": 4,
   "id": "893c1b88",
   "metadata": {},
   "outputs": [
    {
     "data": {
      "text/html": [
       "<div>\n",
       "<style scoped>\n",
       "    .dataframe tbody tr th:only-of-type {\n",
       "        vertical-align: middle;\n",
       "    }\n",
       "\n",
       "    .dataframe tbody tr th {\n",
       "        vertical-align: top;\n",
       "    }\n",
       "\n",
       "    .dataframe thead th {\n",
       "        text-align: right;\n",
       "    }\n",
       "</style>\n",
       "<table border=\"1\" class=\"dataframe\">\n",
       "  <thead>\n",
       "    <tr style=\"text-align: right;\">\n",
       "      <th></th>\n",
       "      <th>Unix Timestamp</th>\n",
       "      <th>Date</th>\n",
       "      <th>Symbol</th>\n",
       "      <th>Open</th>\n",
       "      <th>High</th>\n",
       "      <th>Low</th>\n",
       "      <th>Close</th>\n",
       "      <th>Volume</th>\n",
       "    </tr>\n",
       "  </thead>\n",
       "  <tbody>\n",
       "    <tr>\n",
       "      <th>0</th>\n",
       "      <td>1.642390e+12</td>\n",
       "      <td>17/01/2022 04:00</td>\n",
       "      <td>BTCUSD</td>\n",
       "      <td>42655.12</td>\n",
       "      <td>42976.61</td>\n",
       "      <td>41559.11</td>\n",
       "      <td>42236.96</td>\n",
       "      <td>556.178715</td>\n",
       "    </tr>\n",
       "    <tr>\n",
       "      <th>1</th>\n",
       "      <td>1.642310e+12</td>\n",
       "      <td>16/01/2022 04:00</td>\n",
       "      <td>BTCUSD</td>\n",
       "      <td>43022.38</td>\n",
       "      <td>43499.99</td>\n",
       "      <td>42583.00</td>\n",
       "      <td>42655.12</td>\n",
       "      <td>622.078099</td>\n",
       "    </tr>\n",
       "    <tr>\n",
       "      <th>2</th>\n",
       "      <td>1.642220e+12</td>\n",
       "      <td>15/01/2022 04:00</td>\n",
       "      <td>BTCUSD</td>\n",
       "      <td>42947.72</td>\n",
       "      <td>43811.44</td>\n",
       "      <td>42590.52</td>\n",
       "      <td>43022.38</td>\n",
       "      <td>850.111677</td>\n",
       "    </tr>\n",
       "    <tr>\n",
       "      <th>3</th>\n",
       "      <td>1.642130e+12</td>\n",
       "      <td>14/01/2022 04:00</td>\n",
       "      <td>BTCUSD</td>\n",
       "      <td>42679.68</td>\n",
       "      <td>43462.53</td>\n",
       "      <td>41789.82</td>\n",
       "      <td>42947.72</td>\n",
       "      <td>800.802511</td>\n",
       "    </tr>\n",
       "    <tr>\n",
       "      <th>4</th>\n",
       "      <td>1.642050e+12</td>\n",
       "      <td>13/01/2022 04:00</td>\n",
       "      <td>BTCUSD</td>\n",
       "      <td>43525.85</td>\n",
       "      <td>44443.94</td>\n",
       "      <td>42326.63</td>\n",
       "      <td>42679.68</td>\n",
       "      <td>1120.790154</td>\n",
       "    </tr>\n",
       "    <tr>\n",
       "      <th>...</th>\n",
       "      <td>...</td>\n",
       "      <td>...</td>\n",
       "      <td>...</td>\n",
       "      <td>...</td>\n",
       "      <td>...</td>\n",
       "      <td>...</td>\n",
       "      <td>...</td>\n",
       "      <td>...</td>\n",
       "    </tr>\n",
       "    <tr>\n",
       "      <th>2289</th>\n",
       "      <td>1.444622e+09</td>\n",
       "      <td>12/10/2015 04:00</td>\n",
       "      <td>BTCUSD</td>\n",
       "      <td>248.98</td>\n",
       "      <td>248.98</td>\n",
       "      <td>245.75</td>\n",
       "      <td>245.75</td>\n",
       "      <td>71.047743</td>\n",
       "    </tr>\n",
       "    <tr>\n",
       "      <th>2290</th>\n",
       "      <td>1.444536e+09</td>\n",
       "      <td>11/10/2015 04:00</td>\n",
       "      <td>BTCUSD</td>\n",
       "      <td>246.30</td>\n",
       "      <td>249.50</td>\n",
       "      <td>245.96</td>\n",
       "      <td>248.98</td>\n",
       "      <td>22.747091</td>\n",
       "    </tr>\n",
       "    <tr>\n",
       "      <th>2291</th>\n",
       "      <td>1.444450e+09</td>\n",
       "      <td>10/10/2015 04:00</td>\n",
       "      <td>BTCUSD</td>\n",
       "      <td>245.51</td>\n",
       "      <td>246.30</td>\n",
       "      <td>244.60</td>\n",
       "      <td>246.30</td>\n",
       "      <td>30.870549</td>\n",
       "    </tr>\n",
       "    <tr>\n",
       "      <th>2292</th>\n",
       "      <td>1.444363e+09</td>\n",
       "      <td>09/10/2015 04:00</td>\n",
       "      <td>BTCUSD</td>\n",
       "      <td>243.60</td>\n",
       "      <td>249.97</td>\n",
       "      <td>243.60</td>\n",
       "      <td>245.51</td>\n",
       "      <td>61.587068</td>\n",
       "    </tr>\n",
       "    <tr>\n",
       "      <th>2293</th>\n",
       "      <td>1.444277e+09</td>\n",
       "      <td>08/10/2015 04:00</td>\n",
       "      <td>BTCUSD</td>\n",
       "      <td>0.00</td>\n",
       "      <td>245.00</td>\n",
       "      <td>0.00</td>\n",
       "      <td>243.60</td>\n",
       "      <td>34.754703</td>\n",
       "    </tr>\n",
       "  </tbody>\n",
       "</table>\n",
       "<p>2294 rows × 8 columns</p>\n",
       "</div>"
      ],
      "text/plain": [
       "      Unix Timestamp              Date  Symbol      Open      High       Low  \\\n",
       "0       1.642390e+12  17/01/2022 04:00  BTCUSD  42655.12  42976.61  41559.11   \n",
       "1       1.642310e+12  16/01/2022 04:00  BTCUSD  43022.38  43499.99  42583.00   \n",
       "2       1.642220e+12  15/01/2022 04:00  BTCUSD  42947.72  43811.44  42590.52   \n",
       "3       1.642130e+12  14/01/2022 04:00  BTCUSD  42679.68  43462.53  41789.82   \n",
       "4       1.642050e+12  13/01/2022 04:00  BTCUSD  43525.85  44443.94  42326.63   \n",
       "...              ...               ...     ...       ...       ...       ...   \n",
       "2289    1.444622e+09  12/10/2015 04:00  BTCUSD    248.98    248.98    245.75   \n",
       "2290    1.444536e+09  11/10/2015 04:00  BTCUSD    246.30    249.50    245.96   \n",
       "2291    1.444450e+09  10/10/2015 04:00  BTCUSD    245.51    246.30    244.60   \n",
       "2292    1.444363e+09  09/10/2015 04:00  BTCUSD    243.60    249.97    243.60   \n",
       "2293    1.444277e+09  08/10/2015 04:00  BTCUSD      0.00    245.00      0.00   \n",
       "\n",
       "         Close       Volume  \n",
       "0     42236.96   556.178715  \n",
       "1     42655.12   622.078099  \n",
       "2     43022.38   850.111677  \n",
       "3     42947.72   800.802511  \n",
       "4     42679.68  1120.790154  \n",
       "...        ...          ...  \n",
       "2289    245.75    71.047743  \n",
       "2290    248.98    22.747091  \n",
       "2291    246.30    30.870549  \n",
       "2292    245.51    61.587068  \n",
       "2293    243.60    34.754703  \n",
       "\n",
       "[2294 rows x 8 columns]"
      ]
     },
     "execution_count": 4,
     "metadata": {},
     "output_type": "execute_result"
    }
   ],
   "source": [
    "df"
   ]
  },
  {
   "cell_type": "code",
   "execution_count": 5,
   "id": "352dc607",
   "metadata": {},
   "outputs": [],
   "source": [
    "df.rename({\"Unix Timestamp\": \"Timestamp\"}, axis=1, inplace=True)"
   ]
  },
  {
   "cell_type": "code",
   "execution_count": 6,
   "id": "fed90e1c",
   "metadata": {
    "scrolled": true
   },
   "outputs": [
    {
     "name": "stdout",
     "output_type": "stream",
     "text": [
      "<class 'pandas.core.frame.DataFrame'>\n",
      "Float64Index: 2294 entries, 1642390000000.0 to 1444276800.0\n",
      "Data columns (total 7 columns):\n",
      " #   Column  Non-Null Count  Dtype  \n",
      "---  ------  --------------  -----  \n",
      " 0   Date    2294 non-null   object \n",
      " 1   Symbol  2294 non-null   object \n",
      " 2   Open    2294 non-null   float64\n",
      " 3   High    2294 non-null   float64\n",
      " 4   Low     2294 non-null   float64\n",
      " 5   Close   2294 non-null   float64\n",
      " 6   Volume  2294 non-null   float64\n",
      "dtypes: float64(5), object(2)\n",
      "memory usage: 143.4+ KB\n"
     ]
    }
   ],
   "source": [
    "df.set_index('Timestamp', inplace=True)\n",
    "df.info()"
   ]
  },
  {
   "cell_type": "code",
   "execution_count": 7,
   "id": "a1773461",
   "metadata": {},
   "outputs": [],
   "source": [
    "df.sort_index(inplace=True)"
   ]
  },
  {
   "cell_type": "code",
   "execution_count": 8,
   "id": "3f4a8db0",
   "metadata": {},
   "outputs": [
    {
     "data": {
      "image/png": "[encoded data removed]",
      "text/plain": [
       "<Figure size 432x288 with 1 Axes>"
      ]
     },
     "metadata": {
      "needs_background": "light"
     },
     "output_type": "display_data"
    }
   ],
   "source": [
    "data_close = df['Close']\n",
    "data_close = data_close.values.reshape(len(data_close), 1)\n",
    "plt.plot(data_close)\n",
    "plt.show()"
   ]
  },
  {
   "cell_type": "code",
   "execution_count": 9,
   "id": "326a069b",
   "metadata": {},
   "outputs": [
    {
     "data": {
      "text/plain": [
       "2294"
      ]
     },
     "execution_count": 9,
     "metadata": {},
     "output_type": "execute_result"
    }
   ],
   "source": [
    "len(data_close)"
   ]
  },
  {
   "cell_type": "markdown",
   "id": "09969774",
   "metadata": {},
   "source": [
    "# Scale dataset"
   ]
  },
  {
   "cell_type": "code",
   "execution_count": 10,
   "id": "15c808f1",
   "metadata": {},
   "outputs": [],
   "source": [
    "scaler = MinMaxScaler(feature_range=(0,1))"
   ]
  },
  {
   "cell_type": "code",
   "execution_count": 11,
   "id": "01d332bc",
   "metadata": {},
   "outputs": [
    {
     "data": {
      "text/plain": [
       "array([[0.00000000e+00],\n",
       "       [2.79721714e-05],\n",
       "       [3.95418129e-05],\n",
       "       ...,\n",
       "       [6.26500191e-01],\n",
       "       [6.21121625e-01],\n",
       "       [6.14997624e-01]])"
      ]
     },
     "execution_count": 11,
     "metadata": {},
     "output_type": "execute_result"
    }
   ],
   "source": [
    "scaled = scaler.fit_transform(data_close)\n",
    "scaled"
   ]
  },
  {
   "cell_type": "markdown",
   "id": "e33fb0c6",
   "metadata": {},
   "source": [
    "# Split dataset to training and testing"
   ]
  },
  {
   "cell_type": "code",
   "execution_count": 12,
   "id": "80859a2c",
   "metadata": {},
   "outputs": [
    {
     "name": "stdout",
     "output_type": "stream",
     "text": [
      "Split data into train and test:  1605 689\n"
     ]
    }
   ],
   "source": [
    "# split data into train and test\n",
    "train_size = int(len(data_close)*0.7) # 70% of the data will be for training\n",
    "test_size = len(data_close) - train_size # the rest of the data will be for testing (100-70)%\n",
    "\n",
    "data_train, data_test = data_close[0:train_size, :], data_close[train_size:len(data_close), :]\n",
    "print('Split data into train and test: ', len(data_train), len(data_test))"
   ]
  },
  {
   "cell_type": "markdown",
   "id": "2c325b0b",
   "metadata": {},
   "source": [
    "# Convert to Time Series, reshape to LSTM and build model"
   ]
  },
  {
   "cell_type": "code",
   "execution_count": 13,
   "id": "a27a2583",
   "metadata": {},
   "outputs": [],
   "source": [
    "# need to now convert the data into time series looking back over a period of days...e.g. use last 7 days to predict price\n",
    "def create_ts(ds, series):\n",
    "    X, Y =[], []\n",
    "    for i in range(len(ds)-series - 1):\n",
    "        item = ds[i:(i+series), 0]\n",
    "        X.append(item)\n",
    "        Y.append(ds[i+series, 0])\n",
    "    return np.array(X), np.array(Y)\n",
    "\n",
    "series = 1\n",
    "\n",
    "trainX, trainY = create_ts(data_train, series)\n",
    "testX, testY = create_ts(data_test, series)"
   ]
  },
  {
   "cell_type": "code",
   "execution_count": 14,
   "id": "081d0511",
   "metadata": {},
   "outputs": [],
   "source": [
    "# reshape into  LSTM format - samples, steps, features\n",
    "trainX = np.reshape(trainX, (trainX.shape[0], trainX.shape[1], 1))\n",
    "testX = np.reshape(testX, (testX.shape[0], testX.shape[1], 1))"
   ]
  },
  {
   "cell_type": "code",
   "execution_count": 15,
   "id": "144c0e6e",
   "metadata": {
    "scrolled": true
   },
   "outputs": [
    {
     "name": "stdout",
     "output_type": "stream",
     "text": [
      "Epoch 1/100\n",
      "201/201 [==============================] - 2s 2ms/step - loss: 38335080.0000\n",
      "Epoch 2/100\n",
      "201/201 [==============================] - 1s 3ms/step - loss: 38335084.0000\n",
      "Epoch 3/100\n",
      "201/201 [==============================] - 1s 4ms/step - loss: 38335076.0000\n",
      "Epoch 4/100\n",
      "201/201 [==============================] - 1s 4ms/step - loss: 38335084.0000\n",
      "Epoch 5/100\n",
      "201/201 [==============================] - 1s 4ms/step - loss: 38335072.0000\n",
      "Epoch 6/100\n",
      "201/201 [==============================] - 1s 4ms/step - loss: 38335068.0000\n",
      "Epoch 7/100\n",
      "201/201 [==============================] - 1s 4ms/step - loss: 38335076.0000\n",
      "Epoch 8/100\n",
      "201/201 [==============================] - 1s 4ms/step - loss: 38335072.0000\n",
      "Epoch 9/100\n",
      "201/201 [==============================] - 1s 4ms/step - loss: 38335080.0000\n",
      "Epoch 10/100\n",
      "201/201 [==============================] - 1s 4ms/step - loss: 38335068.0000\n",
      "Epoch 11/100\n",
      "201/201 [==============================] - 1s 4ms/step - loss: 38335076.0000\n",
      "Epoch 12/100\n",
      "201/201 [==============================] - 1s 4ms/step - loss: 38335088.0000\n",
      "Epoch 13/100\n",
      "201/201 [==============================] - 1s 4ms/step - loss: 38335084.0000\n",
      "Epoch 14/100\n",
      "201/201 [==============================] - 1s 4ms/step - loss: 38335076.0000\n",
      "Epoch 15/100\n",
      "201/201 [==============================] - 1s 4ms/step - loss: 38335088.0000\n",
      "Epoch 16/100\n",
      "201/201 [==============================] - 1s 4ms/step - loss: 38335076.0000\n",
      "Epoch 17/100\n",
      "201/201 [==============================] - 1s 3ms/step - loss: 38335076.0000\n",
      "Epoch 18/100\n",
      "201/201 [==============================] - 1s 3ms/step - loss: 38335084.0000\n",
      "Epoch 19/100\n",
      "201/201 [==============================] - 1s 3ms/step - loss: 38335076.0000\n",
      "Epoch 20/100\n",
      "201/201 [==============================] - 1s 3ms/step - loss: 38335084.0000\n",
      "Epoch 21/100\n",
      "201/201 [==============================] - 1s 4ms/step - loss: 38335092.0000\n",
      "Epoch 22/100\n",
      "201/201 [==============================] - 1s 3ms/step - loss: 38335068.0000\n",
      "Epoch 23/100\n",
      "201/201 [==============================] - 1s 4ms/step - loss: 38335076.0000\n",
      "Epoch 24/100\n",
      "201/201 [==============================] - 1s 4ms/step - loss: 38335088.0000\n",
      "Epoch 25/100\n",
      "201/201 [==============================] - 1s 4ms/step - loss: 38335068.0000\n",
      "Epoch 26/100\n",
      "201/201 [==============================] - 1s 4ms/step - loss: 38335072.0000\n",
      "Epoch 27/100\n",
      "201/201 [==============================] - 1s 4ms/step - loss: 38335088.0000\n",
      "Epoch 28/100\n",
      "201/201 [==============================] - 1s 4ms/step - loss: 38335084.0000\n",
      "Epoch 29/100\n",
      "201/201 [==============================] - 1s 4ms/step - loss: 38335084.0000\n",
      "Epoch 30/100\n",
      "201/201 [==============================] - 1s 3ms/step - loss: 38335076.0000\n",
      "Epoch 31/100\n",
      "201/201 [==============================] - 1s 4ms/step - loss: 38335068.0000\n",
      "Epoch 32/100\n",
      "201/201 [==============================] - 1s 4ms/step - loss: 38335080.0000\n",
      "Epoch 33/100\n",
      "201/201 [==============================] - 1s 4ms/step - loss: 38335080.0000\n",
      "Epoch 34/100\n",
      "201/201 [==============================] - 1s 3ms/step - loss: 38335080.0000\n",
      "Epoch 35/100\n",
      "201/201 [==============================] - 1s 4ms/step - loss: 38335076.0000\n",
      "Epoch 36/100\n",
      "201/201 [==============================] - 1s 4ms/step - loss: 38335092.0000\n",
      "Epoch 37/100\n",
      "201/201 [==============================] - 1s 3ms/step - loss: 38335088.0000\n",
      "Epoch 38/100\n",
      "201/201 [==============================] - 1s 3ms/step - loss: 38335084.0000\n",
      "Epoch 39/100\n",
      "201/201 [==============================] - 1s 3ms/step - loss: 38335080.0000\n",
      "Epoch 40/100\n",
      "201/201 [==============================] - 1s 4ms/step - loss: 38335080.0000\n",
      "Epoch 41/100\n",
      "201/201 [==============================] - 1s 4ms/step - loss: 38335084.0000\n",
      "Epoch 42/100\n",
      "201/201 [==============================] - 1s 4ms/step - loss: 38335084.0000\n",
      "Epoch 43/100\n",
      "201/201 [==============================] - 1s 4ms/step - loss: 38335076.0000\n",
      "Epoch 44/100\n",
      "201/201 [==============================] - 1s 4ms/step - loss: 38335076.0000\n",
      "Epoch 45/100\n",
      "201/201 [==============================] - 1s 3ms/step - loss: 38335068.0000\n",
      "Epoch 46/100\n",
      "201/201 [==============================] - 1s 4ms/step - loss: 38335076.0000\n",
      "Epoch 47/100\n",
      "201/201 [==============================] - 1s 4ms/step - loss: 38335084.0000\n",
      "Epoch 48/100\n",
      "201/201 [==============================] - 1s 3ms/step - loss: 38335084.0000\n",
      "Epoch 49/100\n",
      "201/201 [==============================] - 1s 3ms/step - loss: 38335076.0000\n",
      "Epoch 50/100\n",
      "201/201 [==============================] - 1s 3ms/step - loss: 38335092.0000\n",
      "Epoch 51/100\n",
      "201/201 [==============================] - 1s 3ms/step - loss: 38335088.0000\n",
      "Epoch 52/100\n",
      "201/201 [==============================] - 1s 4ms/step - loss: 38335088.0000\n",
      "Epoch 53/100\n",
      "201/201 [==============================] - 1s 3ms/step - loss: 38335084.0000\n",
      "Epoch 54/100\n",
      "201/201 [==============================] - 1s 3ms/step - loss: 38335084.0000\n",
      "Epoch 55/100\n",
      "201/201 [==============================] - 1s 3ms/step - loss: 38335076.0000\n",
      "Epoch 56/100\n",
      "201/201 [==============================] - 1s 3ms/step - loss: 38335080.0000\n",
      "Epoch 57/100\n",
      "201/201 [==============================] - 1s 4ms/step - loss: 38335096.0000\n",
      "Epoch 58/100\n",
      "201/201 [==============================] - 1s 3ms/step - loss: 38335080.0000\n",
      "Epoch 59/100\n",
      "201/201 [==============================] - 1s 4ms/step - loss: 38335088.0000\n",
      "Epoch 60/100\n",
      "201/201 [==============================] - 1s 3ms/step - loss: 38335068.0000\n",
      "Epoch 61/100\n",
      "201/201 [==============================] - 1s 3ms/step - loss: 38335084.0000\n",
      "Epoch 62/100\n",
      "201/201 [==============================] - 1s 3ms/step - loss: 38335064.0000\n",
      "Epoch 63/100\n",
      "201/201 [==============================] - 1s 4ms/step - loss: 38335072.0000\n",
      "Epoch 64/100\n",
      "201/201 [==============================] - 1s 4ms/step - loss: 38335076.0000\n",
      "Epoch 65/100\n",
      "201/201 [==============================] - 1s 4ms/step - loss: 38335076.0000\n",
      "Epoch 66/100\n",
      "201/201 [==============================] - 1s 4ms/step - loss: 38335076.0000\n",
      "Epoch 67/100\n",
      "201/201 [==============================] - 1s 4ms/step - loss: 38335092.0000\n",
      "Epoch 68/100\n",
      "201/201 [==============================] - 1s 3ms/step - loss: 38335088.0000\n",
      "Epoch 69/100\n",
      "201/201 [==============================] - 1s 3ms/step - loss: 38335056.0000\n",
      "Epoch 70/100\n",
      "201/201 [==============================] - 1s 3ms/step - loss: 38335080.0000\n",
      "Epoch 71/100\n",
      "201/201 [==============================] - 1s 3ms/step - loss: 38335084.0000\n",
      "Epoch 72/100\n",
      "201/201 [==============================] - 1s 4ms/step - loss: 38335076.0000\n",
      "Epoch 73/100\n",
      "201/201 [==============================] - 1s 3ms/step - loss: 38335076.0000\n",
      "Epoch 74/100\n",
      "201/201 [==============================] - 1s 3ms/step - loss: 38335072.0000\n",
      "Epoch 75/100\n",
      "201/201 [==============================] - 1s 3ms/step - loss: 38335068.0000\n",
      "Epoch 76/100\n",
      "201/201 [==============================] - 1s 3ms/step - loss: 38335076.0000\n",
      "Epoch 77/100\n",
      "201/201 [==============================] - 1s 3ms/step - loss: 38335084.0000\n",
      "Epoch 78/100\n",
      "201/201 [==============================] - 1s 3ms/step - loss: 38335076.0000\n",
      "Epoch 79/100\n",
      "201/201 [==============================] - 1s 3ms/step - loss: 38335076.0000\n",
      "Epoch 80/100\n",
      "201/201 [==============================] - 1s 3ms/step - loss: 38335076.0000\n",
      "Epoch 81/100\n",
      "201/201 [==============================] - 1s 3ms/step - loss: 38335076.0000\n",
      "Epoch 82/100\n",
      "201/201 [==============================] - 1s 3ms/step - loss: 38335080.0000\n",
      "Epoch 83/100\n",
      "201/201 [==============================] - 1s 4ms/step - loss: 38335084.0000\n",
      "Epoch 84/100\n",
      "201/201 [==============================] - 1s 4ms/step - loss: 38335064.0000\n",
      "Epoch 85/100\n",
      "201/201 [==============================] - 1s 3ms/step - loss: 38335080.0000\n",
      "Epoch 86/100\n",
      "201/201 [==============================] - 1s 4ms/step - loss: 38335096.0000\n",
      "Epoch 87/100\n",
      "201/201 [==============================] - 1s 3ms/step - loss: 38335072.0000\n",
      "Epoch 88/100\n",
      "201/201 [==============================] - 1s 4ms/step - loss: 38335076.0000\n",
      "Epoch 89/100\n",
      "201/201 [==============================] - 1s 4ms/step - loss: 38335080.0000\n",
      "Epoch 90/100\n",
      "201/201 [==============================] - 1s 4ms/step - loss: 38335096.0000\n",
      "Epoch 91/100\n",
      "201/201 [==============================] - 1s 3ms/step - loss: 38335088.0000\n",
      "Epoch 92/100\n"
     ]
    },
    {
     "name": "stdout",
     "output_type": "stream",
     "text": [
      "201/201 [==============================] - 1s 3ms/step - loss: 38335080.0000\n",
      "Epoch 93/100\n",
      "201/201 [==============================] - 1s 3ms/step - loss: 38335080.0000\n",
      "Epoch 94/100\n",
      "201/201 [==============================] - 1s 3ms/step - loss: 38335080.0000\n",
      "Epoch 95/100\n",
      "201/201 [==============================] - 1s 3ms/step - loss: 38335092.0000\n",
      "Epoch 96/100\n",
      "201/201 [==============================] - 1s 3ms/step - loss: 38335084.0000\n",
      "Epoch 97/100\n",
      "201/201 [==============================] - 1s 3ms/step - loss: 38335072.0000\n",
      "Epoch 98/100\n",
      "201/201 [==============================] - 1s 3ms/step - loss: 38335076.0000\n",
      "Epoch 99/100\n",
      "201/201 [==============================] - 1s 3ms/step - loss: 38335072.0000\n",
      "Epoch 100/100\n",
      "201/201 [==============================] - 1s 4ms/step - loss: 38335084.0000\n"
     ]
    },
    {
     "data": {
      "text/plain": [
       "<keras.callbacks.History at 0x1dc4afb0fa0>"
      ]
     },
     "execution_count": 15,
     "metadata": {},
     "output_type": "execute_result"
    }
   ],
   "source": [
    "# build the model\n",
    "model = Sequential()\n",
    "model.add(LSTM(4, input_shape=(series, 1)))\n",
    "model.add(Dense(1, activation='relu'))\n",
    "model.compile(loss='mse', optimizer='adam')\n",
    "# fit the model\n",
    "model.fit(trainX, trainY, epochs=100, batch_size=8)"
   ]
  },
  {
   "cell_type": "code",
   "execution_count": 16,
   "id": "7621fdc3",
   "metadata": {},
   "outputs": [],
   "source": [
    "# test this model out\n",
    "trainPredictions = model.predict(trainX)\n",
    "testPredictions = model.predict(testX)\n",
    "\n",
    "# unscale predictions\n",
    "trainPredictions = scaler.inverse_transform(trainPredictions)\n",
    "testPredictions = scaler.inverse_transform(testPredictions)\n",
    "trainY = scaler.inverse_transform([trainY])\n",
    "testY = scaler.inverse_transform([testY])"
   ]
  },
  {
   "cell_type": "code",
   "execution_count": 19,
   "id": "7d6f60fa",
   "metadata": {},
   "outputs": [
    {
     "name": "stdout",
     "output_type": "stream",
     "text": [
      "Train score: %.2f rmse 422771178.64862984\n",
      "Test score: %.2f rmse 2515461475.2393165\n"
     ]
    }
   ],
   "source": [
    "# lets calculate the root mean squared error\n",
    "trainScore = math.sqrt(mean_squared_error(trainY[0], trainPredictions[:, 0]))\n",
    "testScore = math.sqrt(mean_squared_error(testY[0], testPredictions[:, 0]))\n",
    "print('Train score: %.2f rmse', trainScore)\n",
    "print('Test score: %.2f rmse', testScore)"
   ]
  },
  {
   "cell_type": "code",
   "execution_count": 20,
   "id": "7b8cc01d",
   "metadata": {},
   "outputs": [
    {
     "data": {
      "image/png": "[encoded data removed]",
      "text/plain": [
       "<Figure size 432x288 with 1 Axes>"
      ]
     },
     "metadata": {
      "needs_background": "light"
     },
     "output_type": "display_data"
    }
   ],
   "source": [
    "# lets plot the predictions on a graph and see how well it did\n",
    "train_plot = np.empty_like(data_close)\n",
    "train_plot[:,:] = np.nan\n",
    "train_plot[series:len(trainPredictions)+series, :] = trainPredictions\n",
    "\n",
    "test_plot = np.empty_like(data_close)\n",
    "test_plot[:,:] = np.nan\n",
    "test_plot[len(trainPredictions)+(series*2)+1:len(data_close)-1, :] = testPredictions\n",
    "\n",
    "# plot on graph\n",
    "plt.plot(scaler.inverse_transform(data_close))\n",
    "plt.plot(train_plot)\n",
    "plt.plot(test_plot)\n",
    "plt.show()"
   ]
  },
  {
   "cell_type": "code",
   "execution_count": null,
   "id": "2a25b165",
   "metadata": {},
   "outputs": [],
   "source": []
  }
 ],
 "metadata": {
  "kernelspec": {
   "display_name": "Python 3 (ipykernel)",
   "language": "python",
   "name": "python3"
  },
  "language_info": {
   "codemirror_mode": {
    "name": "ipython",
    "version": 3
   },
   "file_extension": ".py",
   "mimetype": "text/x-python",
   "name": "python",
   "nbconvert_exporter": "python",
   "pygments_lexer": "ipython3",
   "version": "3.10.1"
  }
 },
 "nbformat": 4,
 "nbformat_minor": 5
}
