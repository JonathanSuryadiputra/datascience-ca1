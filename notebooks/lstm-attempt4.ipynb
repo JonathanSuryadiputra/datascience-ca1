{
 "cells": [
  {
   "cell_type": "markdown",
   "id": "8028ca5f",
   "metadata": {},
   "source": [
    "# Predicting BitCoin prices\n",
    "1. Get historic stock prices\n",
    "2. Extract prices to predict\n",
    "3. Normalise\n",
    "4. Create Time Series\n",
    "5. Build model\n",
    "6. Fit model\n",
    "7. Test and evaluate"
   ]
  },
  {
   "cell_type": "code",
   "execution_count": 1,
   "id": "f8782451",
   "metadata": {},
   "outputs": [],
   "source": [
    "# Change Keras backend\n",
    "from keras import backend as K\n",
    "import os\n",
    "os.environ['KERAS_BACKEND'] = \"cntk\""
   ]
  },
  {
   "cell_type": "code",
   "execution_count": 2,
   "id": "d0f05025",
   "metadata": {},
   "outputs": [],
   "source": [
    "# install dependencies\n",
    "import numpy as np\n",
    "import pandas as pd\n",
    "import matplotlib.pyplot as plt\n",
    "import math\n",
    "from keras.layers.core import Dense, Activation, Dropout\n",
    "from keras.layers.recurrent import LSTM\n",
    "from keras.models import Sequential\n",
    "from sklearn.model_selection import  train_test_split\n",
    "from sklearn.preprocessing import MinMaxScaler\n",
    "from sklearn.metrics import mean_squared_error"
   ]
  },
  {
   "cell_type": "code",
   "execution_count": 3,
   "id": "f4629748",
   "metadata": {},
   "outputs": [],
   "source": [
    "# 1. Get historic stock prices\n",
    "data = pd.read_csv(\"../datasets/BTC/gemini_BTCUSD_2021_1min.csv\")"
   ]
  },
  {
   "cell_type": "markdown",
   "id": "5f84e265",
   "metadata": {},
   "source": [
    "# Data review"
   ]
  },
  {
   "cell_type": "code",
   "execution_count": 4,
   "id": "dbd95fef",
   "metadata": {},
   "outputs": [
    {
     "data": {
      "text/html": [
       "<div>\n",
       "<style scoped>\n",
       "    .dataframe tbody tr th:only-of-type {\n",
       "        vertical-align: middle;\n",
       "    }\n",
       "\n",
       "    .dataframe tbody tr th {\n",
       "        vertical-align: top;\n",
       "    }\n",
       "\n",
       "    .dataframe thead th {\n",
       "        text-align: right;\n",
       "    }\n",
       "</style>\n",
       "<table border=\"1\" class=\"dataframe\">\n",
       "  <thead>\n",
       "    <tr style=\"text-align: right;\">\n",
       "      <th></th>\n",
       "      <th>Unix Timestamp</th>\n",
       "      <th>Date</th>\n",
       "      <th>Symbol</th>\n",
       "      <th>Open</th>\n",
       "      <th>High</th>\n",
       "      <th>Low</th>\n",
       "      <th>Close</th>\n",
       "      <th>Volume</th>\n",
       "    </tr>\n",
       "  </thead>\n",
       "  <tbody>\n",
       "    <tr>\n",
       "      <th>0</th>\n",
       "      <td>1633651440000</td>\n",
       "      <td>2021-10-08 00:04:00</td>\n",
       "      <td>BTCUSD</td>\n",
       "      <td>53744.05</td>\n",
       "      <td>53860.19</td>\n",
       "      <td>53744.05</td>\n",
       "      <td>53823.93</td>\n",
       "      <td>0.221051</td>\n",
       "    </tr>\n",
       "    <tr>\n",
       "      <th>1</th>\n",
       "      <td>1633651380000</td>\n",
       "      <td>2021-10-08 00:03:00</td>\n",
       "      <td>BTCUSD</td>\n",
       "      <td>53779.86</td>\n",
       "      <td>53780.74</td>\n",
       "      <td>53744.05</td>\n",
       "      <td>53744.05</td>\n",
       "      <td>0.140769</td>\n",
       "    </tr>\n",
       "    <tr>\n",
       "      <th>2</th>\n",
       "      <td>1633651320000</td>\n",
       "      <td>2021-10-08 00:02:00</td>\n",
       "      <td>BTCUSD</td>\n",
       "      <td>53857.19</td>\n",
       "      <td>53873.51</td>\n",
       "      <td>53779.86</td>\n",
       "      <td>53779.86</td>\n",
       "      <td>1.228199</td>\n",
       "    </tr>\n",
       "    <tr>\n",
       "      <th>3</th>\n",
       "      <td>1633651260000</td>\n",
       "      <td>2021-10-08 00:01:00</td>\n",
       "      <td>BTCUSD</td>\n",
       "      <td>53841.33</td>\n",
       "      <td>53857.19</td>\n",
       "      <td>53815.24</td>\n",
       "      <td>53857.19</td>\n",
       "      <td>1.203427</td>\n",
       "    </tr>\n",
       "    <tr>\n",
       "      <th>4</th>\n",
       "      <td>1633651200000</td>\n",
       "      <td>2021-10-08 00:00:00</td>\n",
       "      <td>BTCUSD</td>\n",
       "      <td>53791.32</td>\n",
       "      <td>53841.33</td>\n",
       "      <td>53789.36</td>\n",
       "      <td>53841.33</td>\n",
       "      <td>0.349098</td>\n",
       "    </tr>\n",
       "  </tbody>\n",
       "</table>\n",
       "</div>"
      ],
      "text/plain": [
       "   Unix Timestamp                 Date  Symbol      Open      High       Low  \\\n",
       "0   1633651440000  2021-10-08 00:04:00  BTCUSD  53744.05  53860.19  53744.05   \n",
       "1   1633651380000  2021-10-08 00:03:00  BTCUSD  53779.86  53780.74  53744.05   \n",
       "2   1633651320000  2021-10-08 00:02:00  BTCUSD  53857.19  53873.51  53779.86   \n",
       "3   1633651260000  2021-10-08 00:01:00  BTCUSD  53841.33  53857.19  53815.24   \n",
       "4   1633651200000  2021-10-08 00:00:00  BTCUSD  53791.32  53841.33  53789.36   \n",
       "\n",
       "      Close    Volume  \n",
       "0  53823.93  0.221051  \n",
       "1  53744.05  0.140769  \n",
       "2  53779.86  1.228199  \n",
       "3  53857.19  1.203427  \n",
       "4  53841.33  0.349098  "
      ]
     },
     "execution_count": 4,
     "metadata": {},
     "output_type": "execute_result"
    }
   ],
   "source": [
    "data.head()"
   ]
  },
  {
   "cell_type": "code",
   "execution_count": 5,
   "id": "c29d96c3",
   "metadata": {},
   "outputs": [
    {
     "data": {
      "text/html": [
       "<div>\n",
       "<style scoped>\n",
       "    .dataframe tbody tr th:only-of-type {\n",
       "        vertical-align: middle;\n",
       "    }\n",
       "\n",
       "    .dataframe tbody tr th {\n",
       "        vertical-align: top;\n",
       "    }\n",
       "\n",
       "    .dataframe thead th {\n",
       "        text-align: right;\n",
       "    }\n",
       "</style>\n",
       "<table border=\"1\" class=\"dataframe\">\n",
       "  <thead>\n",
       "    <tr style=\"text-align: right;\">\n",
       "      <th></th>\n",
       "      <th>Unix Timestamp</th>\n",
       "      <th>Date</th>\n",
       "      <th>Symbol</th>\n",
       "      <th>Open</th>\n",
       "      <th>High</th>\n",
       "      <th>Low</th>\n",
       "      <th>Close</th>\n",
       "      <th>Volume</th>\n",
       "    </tr>\n",
       "  </thead>\n",
       "  <tbody>\n",
       "    <tr>\n",
       "      <th>401636</th>\n",
       "      <td>1609459440000</td>\n",
       "      <td>2021-01-01 00:04:00</td>\n",
       "      <td>BTCUSD</td>\n",
       "      <td>29056.21</td>\n",
       "      <td>29056.21</td>\n",
       "      <td>29046.04</td>\n",
       "      <td>29048.46</td>\n",
       "      <td>0.032502</td>\n",
       "    </tr>\n",
       "    <tr>\n",
       "      <th>401637</th>\n",
       "      <td>1609459380000</td>\n",
       "      <td>2021-01-01 00:03:00</td>\n",
       "      <td>BTCUSD</td>\n",
       "      <td>29057.27</td>\n",
       "      <td>29057.27</td>\n",
       "      <td>29028.69</td>\n",
       "      <td>29056.21</td>\n",
       "      <td>0.049909</td>\n",
       "    </tr>\n",
       "    <tr>\n",
       "      <th>401638</th>\n",
       "      <td>1609459320000</td>\n",
       "      <td>2021-01-01 00:02:00</td>\n",
       "      <td>BTCUSD</td>\n",
       "      <td>29085.38</td>\n",
       "      <td>29086.14</td>\n",
       "      <td>29043.25</td>\n",
       "      <td>29057.27</td>\n",
       "      <td>5.075271</td>\n",
       "    </tr>\n",
       "    <tr>\n",
       "      <th>401639</th>\n",
       "      <td>1609459260000</td>\n",
       "      <td>2021-01-01 00:01:00</td>\n",
       "      <td>BTCUSD</td>\n",
       "      <td>29033.01</td>\n",
       "      <td>29086.14</td>\n",
       "      <td>29033.01</td>\n",
       "      <td>29085.38</td>\n",
       "      <td>1.451389</td>\n",
       "    </tr>\n",
       "    <tr>\n",
       "      <th>401640</th>\n",
       "      <td>1609459200000</td>\n",
       "      <td>2021-01-01 00:00:00</td>\n",
       "      <td>BTCUSD</td>\n",
       "      <td>28979.74</td>\n",
       "      <td>29033.01</td>\n",
       "      <td>28956.18</td>\n",
       "      <td>29033.01</td>\n",
       "      <td>0.126441</td>\n",
       "    </tr>\n",
       "  </tbody>\n",
       "</table>\n",
       "</div>"
      ],
      "text/plain": [
       "        Unix Timestamp                 Date  Symbol      Open      High  \\\n",
       "401636   1609459440000  2021-01-01 00:04:00  BTCUSD  29056.21  29056.21   \n",
       "401637   1609459380000  2021-01-01 00:03:00  BTCUSD  29057.27  29057.27   \n",
       "401638   1609459320000  2021-01-01 00:02:00  BTCUSD  29085.38  29086.14   \n",
       "401639   1609459260000  2021-01-01 00:01:00  BTCUSD  29033.01  29086.14   \n",
       "401640   1609459200000  2021-01-01 00:00:00  BTCUSD  28979.74  29033.01   \n",
       "\n",
       "             Low     Close    Volume  \n",
       "401636  29046.04  29048.46  0.032502  \n",
       "401637  29028.69  29056.21  0.049909  \n",
       "401638  29043.25  29057.27  5.075271  \n",
       "401639  29033.01  29085.38  1.451389  \n",
       "401640  28956.18  29033.01  0.126441  "
      ]
     },
     "execution_count": 5,
     "metadata": {},
     "output_type": "execute_result"
    }
   ],
   "source": [
    "data.tail()"
   ]
  },
  {
   "cell_type": "code",
   "execution_count": 6,
   "id": "b9f6c231",
   "metadata": {},
   "outputs": [
    {
     "data": {
      "text/plain": [
       "Index(['Unix Timestamp', 'Date', 'Symbol', 'Open', 'High', 'Low', 'Close',\n",
       "       'Volume'],\n",
       "      dtype='object')"
      ]
     },
     "execution_count": 6,
     "metadata": {},
     "output_type": "execute_result"
    }
   ],
   "source": [
    "data.columns"
   ]
  },
  {
   "cell_type": "code",
   "execution_count": 7,
   "id": "bf77ee32",
   "metadata": {},
   "outputs": [
    {
     "data": {
      "text/plain": [
       "(401641, 8)"
      ]
     },
     "execution_count": 7,
     "metadata": {},
     "output_type": "execute_result"
    }
   ],
   "source": [
    "data.shape"
   ]
  },
  {
   "cell_type": "code",
   "execution_count": 8,
   "id": "d164287d",
   "metadata": {},
   "outputs": [
    {
     "data": {
      "text/html": [
       "<div>\n",
       "<style scoped>\n",
       "    .dataframe tbody tr th:only-of-type {\n",
       "        vertical-align: middle;\n",
       "    }\n",
       "\n",
       "    .dataframe tbody tr th {\n",
       "        vertical-align: top;\n",
       "    }\n",
       "\n",
       "    .dataframe thead th {\n",
       "        text-align: right;\n",
       "    }\n",
       "</style>\n",
       "<table border=\"1\" class=\"dataframe\">\n",
       "  <thead>\n",
       "    <tr style=\"text-align: right;\">\n",
       "      <th></th>\n",
       "      <th>Unix Timestamp</th>\n",
       "      <th>Open</th>\n",
       "      <th>High</th>\n",
       "      <th>Low</th>\n",
       "      <th>Close</th>\n",
       "      <th>Volume</th>\n",
       "    </tr>\n",
       "  </thead>\n",
       "  <tbody>\n",
       "    <tr>\n",
       "      <th>count</th>\n",
       "      <td>4.016410e+05</td>\n",
       "      <td>401641.000000</td>\n",
       "      <td>401641.000000</td>\n",
       "      <td>401641.000000</td>\n",
       "      <td>401641.000000</td>\n",
       "      <td>401641.000000</td>\n",
       "    </tr>\n",
       "    <tr>\n",
       "      <th>mean</th>\n",
       "      <td>1.621544e+12</td>\n",
       "      <td>44691.293977</td>\n",
       "      <td>44722.838424</td>\n",
       "      <td>44658.745469</td>\n",
       "      <td>44691.352793</td>\n",
       "      <td>1.678176</td>\n",
       "    </tr>\n",
       "    <tr>\n",
       "      <th>std</th>\n",
       "      <td>6.993811e+09</td>\n",
       "      <td>9049.033934</td>\n",
       "      <td>9049.989958</td>\n",
       "      <td>9047.992737</td>\n",
       "      <td>9049.014770</td>\n",
       "      <td>5.121604</td>\n",
       "    </tr>\n",
       "    <tr>\n",
       "      <th>min</th>\n",
       "      <td>1.609459e+12</td>\n",
       "      <td>27953.320000</td>\n",
       "      <td>28334.810000</td>\n",
       "      <td>27632.340000</td>\n",
       "      <td>27953.320000</td>\n",
       "      <td>0.000000</td>\n",
       "    </tr>\n",
       "    <tr>\n",
       "      <th>25%</th>\n",
       "      <td>1.615485e+12</td>\n",
       "      <td>36218.210000</td>\n",
       "      <td>36250.180000</td>\n",
       "      <td>36188.600000</td>\n",
       "      <td>36218.290000</td>\n",
       "      <td>0.090221</td>\n",
       "    </tr>\n",
       "    <tr>\n",
       "      <th>50%</th>\n",
       "      <td>1.621511e+12</td>\n",
       "      <td>45300.100000</td>\n",
       "      <td>45324.400000</td>\n",
       "      <td>45274.000000</td>\n",
       "      <td>45300.220000</td>\n",
       "      <td>0.396313</td>\n",
       "    </tr>\n",
       "    <tr>\n",
       "      <th>75%</th>\n",
       "      <td>1.627624e+12</td>\n",
       "      <td>51626.460000</td>\n",
       "      <td>51660.320000</td>\n",
       "      <td>51591.070000</td>\n",
       "      <td>51626.650000</td>\n",
       "      <td>1.424703</td>\n",
       "    </tr>\n",
       "    <tr>\n",
       "      <th>max</th>\n",
       "      <td>1.633651e+12</td>\n",
       "      <td>64890.000000</td>\n",
       "      <td>64900.000000</td>\n",
       "      <td>64775.620000</td>\n",
       "      <td>64890.000000</td>\n",
       "      <td>517.386068</td>\n",
       "    </tr>\n",
       "  </tbody>\n",
       "</table>\n",
       "</div>"
      ],
      "text/plain": [
       "       Unix Timestamp           Open           High            Low  \\\n",
       "count    4.016410e+05  401641.000000  401641.000000  401641.000000   \n",
       "mean     1.621544e+12   44691.293977   44722.838424   44658.745469   \n",
       "std      6.993811e+09    9049.033934    9049.989958    9047.992737   \n",
       "min      1.609459e+12   27953.320000   28334.810000   27632.340000   \n",
       "25%      1.615485e+12   36218.210000   36250.180000   36188.600000   \n",
       "50%      1.621511e+12   45300.100000   45324.400000   45274.000000   \n",
       "75%      1.627624e+12   51626.460000   51660.320000   51591.070000   \n",
       "max      1.633651e+12   64890.000000   64900.000000   64775.620000   \n",
       "\n",
       "               Close         Volume  \n",
       "count  401641.000000  401641.000000  \n",
       "mean    44691.352793       1.678176  \n",
       "std      9049.014770       5.121604  \n",
       "min     27953.320000       0.000000  \n",
       "25%     36218.290000       0.090221  \n",
       "50%     45300.220000       0.396313  \n",
       "75%     51626.650000       1.424703  \n",
       "max     64890.000000     517.386068  "
      ]
     },
     "execution_count": 8,
     "metadata": {},
     "output_type": "execute_result"
    }
   ],
   "source": [
    "data.describe()"
   ]
  },
  {
   "cell_type": "code",
   "execution_count": 9,
   "id": "6f9268fa",
   "metadata": {},
   "outputs": [
    {
     "data": {
      "text/plain": [
       "Unix Timestamp      int64\n",
       "Date               object\n",
       "Symbol             object\n",
       "Open              float64\n",
       "High              float64\n",
       "Low               float64\n",
       "Close             float64\n",
       "Volume            float64\n",
       "dtype: object"
      ]
     },
     "execution_count": 9,
     "metadata": {},
     "output_type": "execute_result"
    }
   ],
   "source": [
    "data.dtypes"
   ]
  },
  {
   "cell_type": "code",
   "execution_count": 10,
   "id": "08a84f3d",
   "metadata": {},
   "outputs": [
    {
     "name": "stdout",
     "output_type": "stream",
     "text": [
      "<class 'pandas.core.frame.DataFrame'>\n",
      "Int64Index: 401641 entries, 1633651440000 to 1609459200000\n",
      "Data columns (total 7 columns):\n",
      " #   Column  Non-Null Count   Dtype  \n",
      "---  ------  --------------   -----  \n",
      " 0   Date    401641 non-null  object \n",
      " 1   Symbol  401641 non-null  object \n",
      " 2   Open    401641 non-null  float64\n",
      " 3   High    401641 non-null  float64\n",
      " 4   Low     401641 non-null  float64\n",
      " 5   Close   401641 non-null  float64\n",
      " 6   Volume  401641 non-null  float64\n",
      "dtypes: float64(5), object(2)\n",
      "memory usage: 24.5+ MB\n"
     ]
    }
   ],
   "source": [
    "data.set_index('Unix Timestamp', inplace=True)\n",
    "data.info()"
   ]
  },
  {
   "cell_type": "code",
   "execution_count": 11,
   "id": "31dd2f9b",
   "metadata": {},
   "outputs": [],
   "source": [
    "data.sort_index(inplace=True)"
   ]
  },
  {
   "cell_type": "code",
   "execution_count": 12,
   "id": "28b5f23a",
   "metadata": {},
   "outputs": [
    {
     "data": {
      "image/png": "[encoded data removed]",
      "text/plain": [
       "<Figure size 432x288 with 1 Axes>"
      ]
     },
     "metadata": {
      "needs_background": "light"
     },
     "output_type": "display_data"
    }
   ],
   "source": [
    "data_close = data['Close']\n",
    "data_close = data_close.values.reshape(len(data_close), 1)\n",
    "plt.plot(data_close)\n",
    "plt.show()"
   ]
  },
  {
   "cell_type": "code",
   "execution_count": 13,
   "id": "bc8ae7f5",
   "metadata": {},
   "outputs": [],
   "source": [
    "scaler = MinMaxScaler(feature_range=(0,1))"
   ]
  },
  {
   "cell_type": "code",
   "execution_count": 14,
   "id": "2ff19af5",
   "metadata": {},
   "outputs": [
    {
     "data": {
      "text/plain": [
       "array([[0.02923084],\n",
       "       [0.03064867],\n",
       "       [0.02988763],\n",
       "       ...,\n",
       "       [0.69921119],\n",
       "       [0.69824169],\n",
       "       [0.70040431]])"
      ]
     },
     "execution_count": 14,
     "metadata": {},
     "output_type": "execute_result"
    }
   ],
   "source": [
    "data_close = scaler.fit_transform(data_close)\n",
    "data_close"
   ]
  },
  {
   "cell_type": "code",
   "execution_count": 15,
   "id": "88ec16fc",
   "metadata": {},
   "outputs": [
    {
     "name": "stdout",
     "output_type": "stream",
     "text": [
      "Split data into train and test:  281148 120493\n"
     ]
    }
   ],
   "source": [
    "# split data into train and test\n",
    "train_size = int(len(data_close)*0.7)\n",
    "test_size = len(data_close) - train_size\n",
    "\n",
    "data_train, data_test = data_close[0:train_size, :], data_close[train_size:len(data_close), :]\n",
    "print('Split data into train and test: ', len(data_train), len(data_test))"
   ]
  },
  {
   "cell_type": "code",
   "execution_count": 16,
   "id": "b8290fd5",
   "metadata": {},
   "outputs": [],
   "source": [
    "# need to now convert the data into time series looking back over a period of days...e.g. use last 7 days to predict price\n",
    "def create_ts(ds, series):\n",
    "    X, Y =[], []\n",
    "    for i in range(len(ds)-series - 1):\n",
    "        item = ds[i:(i+series), 0]\n",
    "        X.append(item)\n",
    "        Y.append(ds[i+series, 0])\n",
    "    return np.array(X), np.array(Y)\n",
    "\n",
    "series = 7\n",
    "\n",
    "trainX, trainY = create_ts(data_train, series)\n",
    "testX, testY = create_ts(data_test, series)"
   ]
  },
  {
   "cell_type": "code",
   "execution_count": 17,
   "id": "15ba7715",
   "metadata": {},
   "outputs": [
    {
     "data": {
      "text/plain": [
       "array([[0.02923084, 0.03064867, 0.02988763, ..., 0.02964912, 0.02846899,\n",
       "        0.02853532],\n",
       "       [0.03064867, 0.02988763, 0.02985894, ..., 0.02846899, 0.02853532,\n",
       "        0.02842784],\n",
       "       [0.02988763, 0.02985894, 0.02964912, ..., 0.02853532, 0.02842784,\n",
       "        0.02655815],\n",
       "       ...,\n",
       "       [0.09931753, 0.09954279, 0.09941446, ..., 0.0990866 , 0.09946481,\n",
       "        0.09992939],\n",
       "       [0.09954279, 0.09941446, 0.0990866 , ..., 0.09946481, 0.09992939,\n",
       "        0.09940363],\n",
       "       [0.09941446, 0.0990866 , 0.0990866 , ..., 0.09992939, 0.09940363,\n",
       "        0.09859359]])"
      ]
     },
     "execution_count": 17,
     "metadata": {},
     "output_type": "execute_result"
    }
   ],
   "source": [
    "trainX"
   ]
  },
  {
   "cell_type": "code",
   "execution_count": 18,
   "id": "b41c1c69",
   "metadata": {},
   "outputs": [
    {
     "data": {
      "text/plain": [
       "array([0.02923084, 0.03064867, 0.02988763, 0.02985894, 0.02964912,\n",
       "       0.02846899, 0.02853532])"
      ]
     },
     "execution_count": 18,
     "metadata": {},
     "output_type": "execute_result"
    }
   ],
   "source": [
    "trainX[0]"
   ]
  },
  {
   "cell_type": "code",
   "execution_count": 19,
   "id": "8da6cc4e",
   "metadata": {},
   "outputs": [],
   "source": [
    "# reshape into  LSTM format - samples, steps, features\n",
    "trainX = np.reshape(trainX, (trainX.shape[0], trainX.shape[1], 1))\n",
    "testX = np.reshape(testX, (testX.shape[0], testX.shape[1], 1))"
   ]
  },
  {
   "cell_type": "code",
   "execution_count": 20,
   "id": "87bd8996",
   "metadata": {},
   "outputs": [
    {
     "name": "stdout",
     "output_type": "stream",
     "text": [
      "Epoch 1/2\n",
      "8786/8786 [==============================] - 79s 9ms/step - loss: 0.0034\n",
      "Epoch 2/2\n",
      "8786/8786 [==============================] - 75s 9ms/step - loss: 9.0044e-06\n"
     ]
    },
    {
     "data": {
      "text/plain": [
       "<keras.callbacks.History at 0x15fb17c3b50>"
      ]
     },
     "execution_count": 20,
     "metadata": {},
     "output_type": "execute_result"
    }
   ],
   "source": [
    "# build the model\n",
    "model = Sequential()\n",
    "model.add(LSTM(4, input_shape=(series, 1)))\n",
    "model.add(Dense(1))\n",
    "model.compile(loss='mse', optimizer='adam')\n",
    "# fit the model\n",
    "model.fit(trainX, trainY, epochs=2, batch_size=32)"
   ]
  },
  {
   "cell_type": "code",
   "execution_count": 21,
   "id": "84ec19d5",
   "metadata": {},
   "outputs": [],
   "source": [
    "# test this model out\n",
    "trainPredictions = model.predict(trainX)\n",
    "testPredictions = model.predict(testX)\n",
    "\n",
    "# unscale predictions\n",
    "trainPredictions = scaler.inverse_transform(trainPredictions)\n",
    "testPredictions = scaler.inverse_transform(testPredictions)\n",
    "trainY = scaler.inverse_transform([trainY])\n",
    "testY = scaler.inverse_transform([testY])"
   ]
  },
  {
   "cell_type": "code",
   "execution_count": 22,
   "id": "5ad9709a",
   "metadata": {},
   "outputs": [
    {
     "data": {
      "text/plain": [
       "\"\\ntrainScore = math.sqrt(mean_squared_error(trainY[0], trainPredictions[:, 0]))\\ntestScore = math.sqrt(mean_squared_error(testY[0], testPredictions[:, 0]))\\nprint('Train score: %.2f rmse', trainScore)\\nprint('Test score: %.2f rmse', testScore)\\n\""
      ]
     },
     "execution_count": 22,
     "metadata": {},
     "output_type": "execute_result"
    }
   ],
   "source": [
    "# lets calculate the root mean squared error\n",
    "\"\"\"\n",
    "trainScore = math.sqrt(mean_squared_error(trainY[0], trainPredictions[:, 0]))\n",
    "testScore = math.sqrt(mean_squared_error(testY[0], testPredictions[:, 0]))\n",
    "print('Train score: %.2f rmse', trainScore)\n",
    "print('Test score: %.2f rmse', testScore)\n",
    "\"\"\""
   ]
  },
  {
   "cell_type": "code",
   "execution_count": 23,
   "id": "954c9442",
   "metadata": {},
   "outputs": [
    {
     "data": {
      "image/png": "[encoded data removed]",
      "text/plain": [
       "<Figure size 432x288 with 1 Axes>"
      ]
     },
     "metadata": {
      "needs_background": "light"
     },
     "output_type": "display_data"
    }
   ],
   "source": [
    "# lets plot the predictions on a graph and see how well it did\n",
    "train_plot = np.empty_like(data_close)\n",
    "train_plot[:,:] = np.nan\n",
    "train_plot[series:len(trainPredictions)+series, :] = trainPredictions\n",
    "\n",
    "test_plot = np.empty_like(data_close)\n",
    "test_plot[:,:] = np.nan\n",
    "test_plot[len(trainPredictions)+(series*2)+1:len(data_close)-1, :] = testPredictions\n",
    "\n",
    "# plot on graph\n",
    "plt.plot(scaler.inverse_transform(data_close))\n",
    "plt.plot(train_plot)\n",
    "plt.plot(test_plot)\n",
    "plt.show()"
   ]
  },
  {
   "cell_type": "code",
   "execution_count": null,
   "id": "6295d3ff",
   "metadata": {},
   "outputs": [],
   "source": []
  }
 ],
 "metadata": {
  "kernelspec": {
   "display_name": "Python 3 (ipykernel)",
   "language": "python",
   "name": "python3"
  },
  "language_info": {
   "codemirror_mode": {
    "name": "ipython",
    "version": 3
   },
   "file_extension": ".py",
   "mimetype": "text/x-python",
   "name": "python",
   "nbconvert_exporter": "python",
   "pygments_lexer": "ipython3",
   "version": "3.10.1"
  }
 },
 "nbformat": 4,
 "nbformat_minor": 5
}
